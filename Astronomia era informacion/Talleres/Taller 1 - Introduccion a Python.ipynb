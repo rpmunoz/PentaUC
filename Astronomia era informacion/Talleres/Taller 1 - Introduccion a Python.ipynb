{
 "cells": [
  {
   "cell_type": "code",
   "execution_count": null,
   "metadata": {
    "collapsed": true
   },
   "outputs": [],
   "source": [
    "# Taller 1 - Introducción a Python"
   ]
  },
  {
   "cell_type": "markdown",
   "metadata": {},
   "source": [
    "Bienvenidos al taller n°1 del curso Astronomía en la era de la información. En él aprenderemos lo básico de variables y visualización de datos.  "
   ]
  },
  {
   "cell_type": "markdown",
   "metadata": {},
   "source": [
    "En el lenguaje Python, así como en la mayoría de lenguajes de programación, hay distintos tipos de variables: números enteros (\"ints\", del inglés integer, o entero), números racionales (\"float\", del inglés floating point, punto flotante), palabras y cadenas de caracteres (\"strings\" o cadenas), entre otras. Nosotros usaremos principalmente números, tanto int como float."
   ]
  },
  {
   "cell_type": "markdown",
   "metadata": {},
   "source": [
    "En la siguientes líneas vamos a \"declarar\" una variable, o sea, asignarle un valor, y luego realizaremos operaciones básicas. Las líneas que comienzan con \"#\" Python las considera como comentarios, y no las ejecuta, pero están ahí para hacer más legible el código. El comando *print* permite mostrar en pantalla tanto texto como valores de variables, siempre y cuando los elementos a mostrar estén separados por comas. El texto en Python siempre se representa con comillas, simples o dobles."
   ]
  },
  {
   "cell_type": "code",
   "execution_count": null,
   "metadata": {
    "collapsed": false
   },
   "outputs": [],
   "source": [
    "# primero inicializamos las variables a y b\n",
    "a = 2\n",
    "b = 3.5"
   ]
  },
  {
   "cell_type": "code",
   "execution_count": null,
   "metadata": {
    "collapsed": false
   },
   "outputs": [],
   "source": [
    "# verificamos los valores y aplicamos operaciones simples\n",
    "print \"a = \",a\n",
    "print \"b = \",b"
   ]
  },
  {
   "cell_type": "code",
   "execution_count": null,
   "metadata": {
    "collapsed": false
   },
   "outputs": [],
   "source": [
    "c = a + b\n",
    "print \"suma de a + b = \",c\n",
    "d = a * b\n",
    "print \"multiplicación de a + b = \",d\n",
    "e = a ** b\n",
    "# el signo \"**\" representa \"elevar a\"\n",
    "print \"a elevado a b = \",e\n",
    "f = b / a\n",
    "print \"b dividido por a = \",f"
   ]
  },
  {
   "cell_type": "markdown",
   "metadata": {},
   "source": [
    "Otro tipo de variable muy importante son los arreglos, que pueden ser visto como una cadena de variables. Los arreglos se declaran por medio de corchetes, y sus elementos deben ir separados por comas. Por ejemplo, creemos el arreglo con los dígitos del 0 al 9:"
   ]
  },
  {
   "cell_type": "code",
   "execution_count": null,
   "metadata": {
    "collapsed": false
   },
   "outputs": [],
   "source": [
    "a = [0,1,2,3,4,5,6,7,8,9]\n",
    "print a"
   ]
  },
  {
   "cell_type": "markdown",
   "metadata": {},
   "source": [
    "En vez de usar líneas de código como la anterior, o más largas, podemos usar funciones. Una función es una línea de texto que ejecuta código más largo \"detrás de la cortina\". Una manera rápida de crear arreglos es por medio de la función *range*, que acá usamos para generar el arreglo *a* más rápida y brevemente. En los siguientes ejemplos se muestra como usar esta función para crear listas de números equidistantes:"
   ]
  },
  {
   "cell_type": "code",
   "execution_count": null,
   "metadata": {
    "collapsed": false
   },
   "outputs": [],
   "source": [
    "a=range(10)\n",
    "b=range(9,20)\n",
    "c=range(-5,15,2)\n",
    "print a\n",
    "print b\n",
    "print c"
   ]
  },
  {
   "cell_type": "markdown",
   "metadata": {},
   "source": [
    "Vemos que escribiendo *range(10)* el resultado es el mismo que *[0,1,2,3,4,5,6,7,8,9]*, pero fuimos mucho más breves. La función *range* es muy útil, pero no muy versátil. ¿Qué pasa si queremos crear números espaciados por 0.1?"
   ]
  },
  {
   "cell_type": "code",
   "execution_count": null,
   "metadata": {
    "collapsed": false
   },
   "outputs": [],
   "source": [
    "a=range(1,10,0.1)"
   ]
  },
  {
   "cell_type": "markdown",
   "metadata": {},
   "source": [
    "Vemos que Python lanza un error: la función *range* no puede correr cuando alguno de sus _argumentos_ (valor que define lo que una función va a hacer) no es entero. Para hacer esto, necesitamos usar pedazos de código que no están incluidos por defecto en Python, los llamados *paquetes*. La siguiente línea importa uno de los paquetes más famosos y usados de Python: *NumPy*, que es muy útil para hacer cálculos rápidos, sobre todo con arreglos. Lo que la siguiente línea hace es decir que usaremos todo lo incluido en el paquete numpy bajo el \"alias\" *np*, para escribir menos en nuestros códigos."
   ]
  },
  {
   "cell_type": "code",
   "execution_count": null,
   "metadata": {
    "collapsed": true
   },
   "outputs": [],
   "source": [
    "import numpy as np"
   ]
  },
  {
   "cell_type": "markdown",
   "metadata": {},
   "source": [
    "La función *arange* de numpy nos permite hacer lo mismo que *range*, pero puede recibir números no enteros en cualquiera de sus argumentos. Como esta función está dentro del paquete numpy, debemos llamarla antecediendo \"np.\" (o cualquier alias que hayamos usado) a su nombre. Veamos algunos ejemplos:"
   ]
  },
  {
   "cell_type": "code",
   "execution_count": null,
   "metadata": {
    "collapsed": false
   },
   "outputs": [],
   "source": [
    "a=np.arange(1,10,0.1)\n",
    "b=np.arange(-5,2,1.2)\n",
    "print a,b"
   ]
  },
  {
   "cell_type": "markdown",
   "metadata": {},
   "source": [
    "Importante recordar: Al igual que *range*, la función *arange* no llega hasta el valor \"final\" dado como argumento en la función."
   ]
  },
  {
   "cell_type": "markdown",
   "metadata": {},
   "source": [
    "El paquete numpy contiene todas las operaciones matemáticas que nosotros necesitamos para el curso y para la vida. Cuando estas operaciones son aplicadas a un arreglo, se aplican a todos los elementos de un arreglo. A continuación, algunos ejemplos:"
   ]
  },
  {
   "cell_type": "code",
   "execution_count": null,
   "metadata": {
    "collapsed": false
   },
   "outputs": [],
   "source": [
    "a=np.arange(0,10,0.5)\n",
    "b=np.sin(a) # seno de a\n",
    "print b\n",
    "c=np.sqrt(a) # raíz de a, del inglés \"square root\"\n",
    "print c\n",
    "d=np.power(a,2) # elevar cada elemento del arreglo a, a la segunda potencia\n",
    "print d"
   ]
  },
  {
   "cell_type": "markdown",
   "metadata": {},
   "source": [
    "Escribir *np.sqrt(a)* es mucho más breve que la alternativa: calcular una a una las raíces cuadradas de cada elemento de *a*. No se preocupe de entender el siguiente código, sólo note que es bastante más complicado que hacerlo con numpy, y se llega al mismo resultado:"
   ]
  },
  {
   "cell_type": "code",
   "execution_count": null,
   "metadata": {
    "collapsed": false
   },
   "outputs": [],
   "source": [
    "c2 = []\n",
    "for el in a:\n",
    "    c2.append(el**0.5)\n",
    "print \"manera larga = \",c2\n",
    "print \"con numpy = \",c"
   ]
  },
  {
   "cell_type": "markdown",
   "metadata": {},
   "source": [
    "La única diferencia es el número de decimales que se muestran."
   ]
  },
  {
   "cell_type": "markdown",
   "metadata": {},
   "source": [
    "¿Cómo verificar gráficamente si numpy está haciendo bien las cosas? Existe otro paquete de python que permite hacer visualización de datos, *matplotlib*. Estos dos paquetes permiten hacer maravillas. La siguiente línea importa el paquete matplotlib.pyplot (parte dedicada a graficar) con el alias *plt*, mientras que la segunda permite ver las figuras graficadas dentro de este mismo navegador, en vez de abrirlas en otra ventana."
   ]
  },
  {
   "cell_type": "code",
   "execution_count": null,
   "metadata": {
    "collapsed": false
   },
   "outputs": [],
   "source": [
    "import matplotlib.pyplot as plt\n",
    "%matplotlib inline"
   ]
  },
  {
   "cell_type": "markdown",
   "metadata": {},
   "source": [
    "Para graficar en las dos dimensiones de un plano cartesiano, sólo necesitamos decirle a la función *plot* de matplotlib los valores de x e y que queremos graficar, muy intuitivo. Por supuesto, estos dos arreglos deben tener la misma dimensión, o sea, el mismo número de elementos. Una vez que el gráfico se genera, no se muestra automáticamente. Para eso, usamos la función *show* de matplotlib, como muestra el siguiente ejemplo. Como se imaginarán, todos los nombres de funciones están basados en palabras en inglés: plot significa \"graficar\", show significa \"mostrar\"."
   ]
  },
  {
   "cell_type": "code",
   "execution_count": null,
   "metadata": {
    "collapsed": false
   },
   "outputs": [],
   "source": [
    "plt.plot(a,b) # en azul\n",
    "plt.plot(a,c) # en verde\n",
    "plt.plot(a,d) # en rojo\n",
    "plt.show()"
   ]
  },
  {
   "cell_type": "markdown",
   "metadata": {
    "collapsed": true
   },
   "source": [
    "## Ejercicio 1\n",
    "Genere un arreglo *x* con números desde el -5 hasta el 10 con separación de 0.2, y un arreglo *y* desde 0 a 15, con separación de 0.2, y grafique *x* vérsus *y*. ¿Qué espera obtener?"
   ]
  },
  {
   "cell_type": "code",
   "execution_count": null,
   "metadata": {
    "collapsed": false
   },
   "outputs": [],
   "source": [
    "# escriba el código acá\n"
   ]
  },
  {
   "cell_type": "markdown",
   "metadata": {},
   "source": [
    "## Ejercicio 2\n",
    "A continuación, están definidos dos arreglos que contienen información de los ocho planetas del Sistema Solar, desde Mercurio, hasta Neptuno, además de incluir información de Plutón (ahora considerado planetoide en vez de planeta). El primero, *p*, contiene el periodo de cada planeta en años, mientras que el segundo, *a*, contiene el tamaño de la órbita en unidades astronómicas. Con estos datos, usted construirá un gráfico en dos dimensiones, como los de los ejemplos superiores, con los que comprobará experimentalmente la 3era ley de Kepler, cuya forma matemática dice $p = a^k$, con $k$ una constante (no necesariamente entera) que ud. debe determinar tras ensayo y error. Para eso, grafique los arreglos entregados, junto con una curva de la forma $y=x^k$ para distinto valores de $k$, y vea cuál es la que más se acerca. ¿Cuál es el valor de $k$ que usted obtiene?"
   ]
  },
  {
   "cell_type": "code",
   "execution_count": null,
   "metadata": {
    "collapsed": false
   },
   "outputs": [],
   "source": [
    "p = np.array([0.214,0.615,1,1.88,11.9,29.4,83.7,163.7,247.9])\n",
    "a = np.array([0.387,0.723,1,1.52,5.2,9.58,19.2,30.05,39.48])\n",
    "# escriba acá el resto del código\n"
   ]
  },
  {
   "cell_type": "markdown",
   "metadata": {},
   "source": [
    "## Ejercicio propuesto 1\n",
    "En el caso de que ud. conozca ya la forma matemática de la 3era ley de Kepler, realice el gráfico de todas maneras, pero antes de la línea *plt.show()*, introduzca las líneas que se entregan acá abajo. ¿Qué hacen esas líneas? ¿Qué obtiene? ¿Por qué ocurre eso?"
   ]
  },
  {
   "cell_type": "code",
   "execution_count": null,
   "metadata": {
    "collapsed": false
   },
   "outputs": [],
   "source": [
    "# introduzca estas líneas en el código de la pregunta anterior\n",
    "plt.xscale('log')\n",
    "plt.yscale('log')\n"
   ]
  },
  {
   "cell_type": "code",
   "execution_count": null,
   "metadata": {
    "collapsed": true
   },
   "outputs": [],
   "source": []
  }
 ],
 "metadata": {
  "kernelspec": {
   "display_name": "Python 2",
   "language": "python",
   "name": "python2"
  },
  "language_info": {
   "codemirror_mode": {
    "name": "ipython",
    "version": 2
   },
   "file_extension": ".py",
   "mimetype": "text/x-python",
   "name": "python",
   "nbconvert_exporter": "python",
   "pygments_lexer": "ipython2",
   "version": "2.7.10"
  }
 },
 "nbformat": 4,
 "nbformat_minor": 0
}
