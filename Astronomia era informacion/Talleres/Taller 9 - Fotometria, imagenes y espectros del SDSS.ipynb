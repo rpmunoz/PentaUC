{
 "cells": [
  {
   "cell_type": "code",
   "execution_count": null,
   "metadata": {
    "collapsed": false
   },
   "outputs": [],
   "source": [
    "import numpy as np\n",
    "import pandas as pd\n",
    "import matplotlib.pyplot as plt\n",
    "\n",
    "from sdss_tools import sdss_jpg, sdss_fits, sdss_spectra, sdss_template\n",
    "\n",
    "from astropy import units as u\n",
    "from astropy.coordinates import SkyCoord, Angle\n",
    "from astroquery.sdss import SDSS\n",
    "\n",
    "from astroML.plotting import setup_text_plots\n",
    "setup_text_plots(usetex=True,fontsize=18)\n",
    "\n",
    "%matplotlib inline"
   ]
  },
  {
   "cell_type": "markdown",
   "metadata": {},
   "source": [
    "##Introduccion\n",
    "\n",
    "En este tallere aprenderemos a descargar catalogos, imagenes y espectros del Sloan Digital Sky Survey (SDSS). El SDSS es un survey astronómico que cubre gran parte del cielo y que ha producido una gran cantidad de datos de las estrellas y galaxias que habitan en el Universo.\n",
    "\n",
    "Más info en el link http://www.sdss.org/surveys/\n",
    "Video del SDSS en https://www.youtube.com/watch?v=UD6cOMpJlZU\n",
    "\n",
    "El SDSS survey ha permitido que cualquier persona interesada en la Astronomia pueda visitar el sitio web y explorar las imagenes y catalogos del survey. Un ejemplo muy exitoso del uso de los datos del SDSS es el sitio web llamado Galaxy Zoo (https://www.galaxyzoo.org/?lang=es), el cual invitó a la gente de todo el mundo a revisar las galaxias detectadas por el SDSS y clasificarlas morfologicamente"
   ]
  },
  {
   "cell_type": "markdown",
   "metadata": {},
   "source": [
    "##Parte 1\n",
    "\n",
    "Partiremos descargando un catalogo de galaxias elipticas de Galaxy Zoo y analizando los datos. Ejecute el siguiente codigo para descargar los datos"
   ]
  },
  {
   "cell_type": "code",
   "execution_count": null,
   "metadata": {
    "collapsed": false
   },
   "outputs": [],
   "source": [
    "# Ejecute\n",
    "cat_url='https://raw.githubusercontent.com/rpmunoz/PentaUC/master/Astronomia%20era%20informacion/data/SDSS_galaxyzoo_elipticas.csv'\n",
    "cat_galaxyzoo=pd.read_csv(cat_url,header=0,sep=',')\n",
    "cat_galaxyzoo.head()"
   ]
  },
  {
   "cell_type": "markdown",
   "metadata": {},
   "source": [
    "**Ejercicio**\n",
    "\n",
    "El catalogo de galaxy zoo contiene el ID y las coordenadas de las galaxias clasificadas como elipticas. Además, contiene el número de personas que votaron y clasificaron estas galaxias como elipticas. Haga un histograma que muestre la distribucion del numero de votos y use al menos 10 bines.\n",
    "\n",
    "¿En torno a que valor se concentra el numero de votaciones?"
   ]
  },
  {
   "cell_type": "code",
   "execution_count": null,
   "metadata": {
    "collapsed": false
   },
   "outputs": [],
   "source": [
    "# Su codigo y respuesta aqui\n"
   ]
  },
  {
   "cell_type": "markdown",
   "metadata": {},
   "source": [
    "Como pueden apreciar, la tabla de galaxy zoo solo contiene coordenadas y votos de las galaxias. ¿Qué sucede con la informacion fotométrica y espectroscópica de estas galaxias? Esta información no se encuentra en el catalogo y es por ello que debemos usar query_region.\n",
    "\n",
    "Para hacer consultas, lo primero es definir en que coordenadas del cielo estamos buscando un objeto. Para ello se usa la funcion SkyCoord."
   ]
  },
  {
   "cell_type": "code",
   "execution_count": null,
   "metadata": {
    "collapsed": false
   },
   "outputs": [],
   "source": [
    "# Ejecute aqui\n",
    "ra=180.\n",
    "dec=0.\n",
    "coo=SkyCoord(ra, dec, unit=(u.deg,u.deg))\n",
    "print coo"
   ]
  },
  {
   "cell_type": "markdown",
   "metadata": {},
   "source": [
    "Para hacer una consulta si existe o no un objeto en esa posicion se usa la funcion query_region de astroquery\n",
    "Ejecute el siguiente codigo"
   ]
  },
  {
   "cell_type": "code",
   "execution_count": null,
   "metadata": {
    "collapsed": false
   },
   "outputs": [],
   "source": [
    "# Ejecute aqui\n",
    "result = SDSS.query_region(coo, spectro=True, photoobj_fields=['ra','dec','u','g','r','i','z'], specobj_fields=['z'], radius=2*u.arcsec)\n",
    "print result"
   ]
  },
  {
   "cell_type": "markdown",
   "metadata": {},
   "source": [
    "**Pregunta**\n",
    "¿Cual fue el resultado? ¿Encontramos alguna galaxia en esa posicion?"
   ]
  },
  {
   "cell_type": "markdown",
   "metadata": {},
   "source": [
    "**Ejercicio**\n",
    "\n",
    "Complete el siguiente codigo para consultar los datos del primer objeto de nuestra tabla de galaxyzoo. ¿Aparece algun valor en la tabla al hacer print result?"
   ]
  },
  {
   "cell_type": "code",
   "execution_count": null,
   "metadata": {
    "collapsed": false
   },
   "outputs": [],
   "source": [
    "# Complete donde aparecen ...\n",
    "coo=SkyCoord(cat_galaxyzoo['ra'][...], cat_galaxyzoo['dec'][...], unit=(u.deg,u.deg))\n",
    "result = SDSS.query_region(coo, spectro=True, photoobj_fields=['ra','dec','u','g','r','i','z'], specobj_fields=['z'], radius=2*u.arcsec)\n",
    "print result"
   ]
  },
  {
   "cell_type": "markdown",
   "metadata": {},
   "source": [
    "** Ejercicio **\n",
    "\n",
    "Ahora haremos la consulta de todos los objetos que estan en nuestro catalogo cat_galaxyzoo. Complete el siguiente codigo. ¿Aparecen los resultados para todas las galaxias? "
   ]
  },
  {
   "cell_type": "code",
   "execution_count": null,
   "metadata": {
    "collapsed": false
   },
   "outputs": [],
   "source": [
    "# Complete donde aparecen ...\n",
    "coo=SkyCoord(cat_galaxyzoo[...], cat_galaxyzoo[...], unit=(u.deg,u.deg))\n",
    "\n",
    "for i in range(len(coo)):\n",
    "    print 'Processing galaxy ', i+1\n",
    "    result = SDSS.query_region(..., spectro=True, photoobj_fields=['ra','dec','u','g','r','i','z'], specobj_fields=['z'], radius=2*u.arcsec)\n",
    "    if i==0:\n",
    "        sdss_data=result\n",
    "    else:\n",
    "        sdss_data.add_row(np.array(result)[0])\n",
    "\n",
    "print sdss_data"
   ]
  },
  {
   "cell_type": "markdown",
   "metadata": {},
   "source": [
    "Nuestro nuevo catalogo ya no se muestra de forma tan bonita y aparece como una matriz con muchos numeros. Para arreglarla, usamos la funcion DataFrame de pandas. Ejcute el sigiuiente codigo"
   ]
  },
  {
   "cell_type": "code",
   "execution_count": null,
   "metadata": {
    "collapsed": false
   },
   "outputs": [],
   "source": [
    "# Ejecute aqui\n",
    "cat_sdss_elipticas=pd.DataFrame(np.array(sdss_data))\n",
    "cat_sdss_elipticas.head()"
   ]
  },
  {
   "cell_type": "markdown",
   "metadata": {},
   "source": [
    "##Parte 2\n",
    "\n",
    "Ahor comenzaremos a descargar imagenes jpeg de nuestras galaxias de galaxy zoo. Para ello nos conectaremos al servidor de SDSS y usaremos la funcion sdss_jpg.\n",
    "\n",
    "El siguiente codigo descargamos la imagen de las priemras dos galaxias"
   ]
  },
  {
   "cell_type": "code",
   "execution_count": null,
   "metadata": {
    "collapsed": false
   },
   "outputs": [],
   "source": [
    "# Ejecute\n",
    "sdss_jpg(coo[0:2])"
   ]
  },
  {
   "cell_type": "markdown",
   "metadata": {},
   "source": [
    "**Ejercicio**\n",
    "\n",
    "Descague las images jpeg para las primeras 10 imagenes de la lista. ¿Que tipo morfologico son las galaxias?"
   ]
  },
  {
   "cell_type": "code",
   "execution_count": null,
   "metadata": {
    "collapsed": false
   },
   "outputs": [],
   "source": [
    "# Complete su codigo aqui\n",
    "sdss_jpg(...)"
   ]
  },
  {
   "cell_type": "markdown",
   "metadata": {},
   "source": [
    "Los astronomos en la vida real no toman imagenes a colores y mas bien toman imagenes en blanco y negro. El tipo de archivo que usamos se llama fits.\n",
    "\n",
    "Usaremos la funcion sdss_fits para descargar las imagenes de las priemras dos galaxias"
   ]
  },
  {
   "cell_type": "code",
   "execution_count": null,
   "metadata": {
    "collapsed": false
   },
   "outputs": [],
   "source": [
    "#Ejecute aqui\n",
    "sdss_fits(coo[0:2])"
   ]
  },
  {
   "cell_type": "markdown",
   "metadata": {},
   "source": [
    "**Ejercicio**\n",
    "\n",
    "Descague las images fits para las primeras 10 imagenes de la lista. ¿Son iguales o distitnas las imagenes fits y jpeg?"
   ]
  },
  {
   "cell_type": "code",
   "execution_count": null,
   "metadata": {
    "collapsed": false
   },
   "outputs": [],
   "source": [
    "# Complete el codigo aqui\n",
    "sdss_fits(...)"
   ]
  },
  {
   "cell_type": "markdown",
   "metadata": {},
   "source": [
    "##Parte 3\n",
    "\n",
    "Ahora comenzaremos a descargar espectros de nuestras galaxias de galaxyzoo. El espectro es la firma que poseen las galaxias.\n",
    "\n",
    "El siguiente codigo descargamos el espectro de una tipica galaxia eliptica"
   ]
  },
  {
   "cell_type": "code",
   "execution_count": null,
   "metadata": {
    "collapsed": false
   },
   "outputs": [],
   "source": [
    "sdss_template(tipo='eliptica')"
   ]
  },
  {
   "cell_type": "markdown",
   "metadata": {},
   "source": [
    "Ahora descargaremos el espectro de las primeras dos galaxias"
   ]
  },
  {
   "cell_type": "code",
   "execution_count": null,
   "metadata": {
    "collapsed": false
   },
   "outputs": [],
   "source": [
    "#Ejecute aqui\n",
    "sdss_spectra(coo[0:2], redshift=[0.,0.])"
   ]
  },
  {
   "cell_type": "markdown",
   "metadata": {},
   "source": [
    "**Ejercicio**\n",
    "\n",
    "Comience a cambiar los valores de la variable redshift y trate de recuperar el grafico de sdss_template."
   ]
  },
  {
   "cell_type": "code",
   "execution_count": null,
   "metadata": {
    "collapsed": true
   },
   "outputs": [],
   "source": [
    "#Complete aqui donde aparecen los ...\n",
    "sdss_spectra(coo[0:2], redshift=[...,...])"
   ]
  },
  {
   "cell_type": "markdown",
   "metadata": {},
   "source": [
    "**Ejercicio**\n",
    "\n",
    "Ahora descagaremos los espectros para las priemras 10 galaxias. Complete el codigo y determine el redshift de cada una"
   ]
  },
  {
   "cell_type": "code",
   "execution_count": null,
   "metadata": {
    "collapsed": false
   },
   "outputs": [],
   "source": [
    "#Complete aqui donde aparecen los ...\n",
    "sdss_spectra(..., redshift=[...])"
   ]
  },
  {
   "cell_type": "markdown",
   "metadata": {},
   "source": [
    "##Parte 4\n",
    "\n",
    "\n",
    "### Repita el mismo procedimiento anterior, pero esta vez usando las galaxias espirales"
   ]
  },
  {
   "cell_type": "code",
   "execution_count": null,
   "metadata": {
    "collapsed": false
   },
   "outputs": [],
   "source": [
    "cat_url='https://raw.githubusercontent.com/rpmunoz/PentaUC/master/Astronomia%20era%20informacion/data/SDSS_galaxyzoo_espirales.csv'\n",
    "cat_galaxyzoo=pd.read_csv(cat_url,header=0,sep=',')\n",
    "cat_galaxyzoo.head()"
   ]
  },
  {
   "cell_type": "code",
   "execution_count": null,
   "metadata": {
    "collapsed": true
   },
   "outputs": [],
   "source": [
    "coo=SkyCoord(cat_galaxyzoo['ra'], cat_galaxyzoo['dec'], unit=(u.deg,u.deg))\n",
    "for i in range(len(coo)):\n",
    "    print 'Processing galaxy ', i\n",
    "    result = SDSS.query_region(coo[i], spectro=True, photoobj_fields=['ra','dec','u','g','r','i','z'], radius=2*u.arcsec)\n",
    "    if i==0:\n",
    "        sdss_data=result\n",
    "    else:\n",
    "        sdss_data.add_row(np.array(result)[0])\n",
    "\n",
    "cat_sdss_espirales=pd.DataFrame(np.array(sdss_data))\n",
    "cat_sdss_espirales"
   ]
  },
  {
   "cell_type": "markdown",
   "metadata": {},
   "source": [
    "## Apendices\n",
    "\n",
    "Descargar el catalogo completo de Galaxy zoo"
   ]
  },
  {
   "cell_type": "code",
   "execution_count": null,
   "metadata": {
    "collapsed": false
   },
   "outputs": [],
   "source": [
    "import requests, zipfile, StringIO"
   ]
  },
  {
   "cell_type": "code",
   "execution_count": null,
   "metadata": {
    "collapsed": false
   },
   "outputs": [],
   "source": [
    "cat_url='http://galaxy-zoo-1.s3.amazonaws.com/GalaxyZoo1_DR_table2.csv.zip'\n",
    "\n",
    "r = requests.get(cat_url)\n",
    "z = zipfile.ZipFile(StringIO.StringIO(r.content))\n",
    "\n",
    "cat_file='GalaxyZoo1_DR_table2.csv'\n",
    "cat_data=pd.read_csv(z.open(cat_file))\n",
    "cat_data.head()"
   ]
  },
  {
   "cell_type": "code",
   "execution_count": null,
   "metadata": {
    "collapsed": false
   },
   "outputs": [],
   "source": [
    "cat_data=cat_data.sort_values('P_EL_DEBIASED',ascending=0)\n",
    "cat_elliptical=cat_data[cat_data['ELLIPTICAL']==1][0:100]\n",
    "cat_elliptical['ra']=Angle(cat_elliptical['RA'], unit=u.hourangle).degree\n",
    "cat_elliptical['dec']=Angle(cat_elliptical['DEC'], unit=u.degree).degree\n",
    "cat_elliptical=cat_elliptical.rename(columns = {'OBJID':'ID','NVOTE':'votos'})\n",
    "cat_elliptical=cat_elliptical[['ID','ra','dec','votos']].reset_index(drop=True)\n",
    "\n",
    "cat_elliptical.to_csv('../data/SDSS_galaxyzoo_elipticas.csv',index=False)"
   ]
  },
  {
   "cell_type": "code",
   "execution_count": null,
   "metadata": {
    "collapsed": true
   },
   "outputs": [],
   "source": [
    "cat_data=cat_data.sort_values('P_CS_DEBIASED',ascending=0)\n",
    "cat_spiral=cat_data[cat_data['SPIRAL']==1][0:100]\n",
    "cat_spiral['ra']=Angle(cat_spiral['RA'], unit=u.hourangle).degree\n",
    "cat_spiral['dec']=Angle(cat_spiral['DEC'], unit=u.degree).degree\n",
    "cat_spiral=cat_spiral.rename(columns = {'OBJID':'ID','NVOTE':'votos'})\n",
    "cat_spiral=cat_spiral[['ID','ra','dec','votos']].reset_index(drop=True)\n",
    "\n",
    "cat_spiral.to_csv('../data/SDSS_galaxyzoo_espirales.csv',index=False)"
   ]
  },
  {
   "cell_type": "code",
   "execution_count": null,
   "metadata": {
    "collapsed": true
   },
   "outputs": [],
   "source": []
  }
 ],
 "metadata": {
  "kernelspec": {
   "display_name": "Python 2",
   "language": "python",
   "name": "python2"
  },
  "language_info": {
   "codemirror_mode": {
    "name": "ipython",
    "version": 2
   },
   "file_extension": ".py",
   "mimetype": "text/x-python",
   "name": "python",
   "nbconvert_exporter": "python",
   "pygments_lexer": "ipython2",
   "version": "2.7.10"
  }
 },
 "nbformat": 4,
 "nbformat_minor": 0
}
