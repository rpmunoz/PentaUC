{
 "cells": [
  {
   "cell_type": "code",
   "execution_count": null,
   "metadata": {
    "collapsed": false
   },
   "outputs": [],
   "source": [
    "import requests\n",
    "import numpy as np\n",
    "import pandas as pd\n",
    "import matplotlib.pyplot as plt\n",
    "from astropy.io import fits\n",
    "from astropy import units as u\n",
    "from astropy.table import Table\n",
    "from astropy.coordinates import SkyCoord, Angle\n",
    "\n",
    "import astroquery\n",
    "from astroquery.sdss import SDSS\n",
    "\n",
    "%matplotlib inline\n",
    "print astroquery.__version__\n",
    "print pd.__version__"
   ]
  },
  {
   "cell_type": "markdown",
   "metadata": {},
   "source": [
    "### Primero analizamos las galaxias elipticas de GalaxyZOO"
   ]
  },
  {
   "cell_type": "code",
   "execution_count": null,
   "metadata": {
    "collapsed": false
   },
   "outputs": [],
   "source": [
    "cat_url='https://raw.githubusercontent.com/rpmunoz/PentaUC/master/Astronomia%20era%20informacion/data/SDSS_galaxyzoo_elipticas.csv'\n",
    "cat_galaxyzoo=pd.read_csv(cat_url,header=0,sep=',')\n",
    "cat_galaxyzoo.head()"
   ]
  },
  {
   "cell_type": "code",
   "execution_count": null,
   "metadata": {
    "collapsed": true
   },
   "outputs": [],
   "source": [
    "coo=SkyCoord(cat_galaxyzoo['ra'], cat_galaxyzoo['dec'], unit=(u.deg,u.deg))\n",
    "for i in range(len(coo)):\n",
    "    print 'Processing galaxy ', i, ' - Coo: ', coo[i]\n",
    "    result = SDSS.query_region(coo[i], spectro=True, photoobj_fields=['ra','dec','u','g','r','i','z'], radius=2*u.arcsec)\n",
    "    if i==0:\n",
    "        sdss_data=result\n",
    "    else:\n",
    "        sdss_data.add_row(np.array(result)[0])\n",
    "\n",
    "cat_sdss_elipticas=pd.DataFrame(np.array(sdss_data))\n",
    "cat_sdss_elipticas"
   ]
  },
  {
   "cell_type": "markdown",
   "metadata": {},
   "source": [
    "### Luego analizamos las galaxias espirales de GalaxyZOO"
   ]
  },
  {
   "cell_type": "code",
   "execution_count": null,
   "metadata": {
    "collapsed": false
   },
   "outputs": [],
   "source": [
    "cat_url='https://raw.githubusercontent.com/rpmunoz/PentaUC/master/Astronomia%20era%20informacion/data/SDSS_galaxyzoo_espirales.csv'\n",
    "cat_galaxyzoo=pd.read_csv(cat_url,header=0,sep=',')\n",
    "cat_galaxyzoo.head()"
   ]
  },
  {
   "cell_type": "code",
   "execution_count": null,
   "metadata": {
    "collapsed": true
   },
   "outputs": [],
   "source": [
    "coo=SkyCoord(cat_galaxyzoo['ra'], cat_galaxyzoo['dec'], unit=(u.deg,u.deg))\n",
    "for i in range(len(coo)):\n",
    "    print 'Processing galaxy ', i, ' - Coo: ', coo[i]\n",
    "    result = SDSS.query_region(coo[i], spectro=True, photoobj_fields=['ra','dec','u','g','r','i','z'], radius=2*u.arcsec)\n",
    "    if i==0:\n",
    "        sdss_data=result\n",
    "    else:\n",
    "        sdss_data.add_row(np.array(result)[0])\n",
    "\n",
    "cat_sdss_espirales=pd.DataFrame(np.array(sdss_data))\n",
    "cat_sdss_espirales"
   ]
  },
  {
   "cell_type": "markdown",
   "metadata": {},
   "source": [
    "## Apendices\n",
    "\n",
    "Descargar el catalogo completo de Galaxy zoo"
   ]
  },
  {
   "cell_type": "code",
   "execution_count": null,
   "metadata": {
    "collapsed": false
   },
   "outputs": [],
   "source": [
    "import requests, zipfile, StringIO"
   ]
  },
  {
   "cell_type": "code",
   "execution_count": null,
   "metadata": {
    "collapsed": false
   },
   "outputs": [],
   "source": [
    "cat_url='http://galaxy-zoo-1.s3.amazonaws.com/GalaxyZoo1_DR_table2.csv.zip'\n",
    "\n",
    "r = requests.get(cat_url)\n",
    "z = zipfile.ZipFile(StringIO.StringIO(r.content))\n",
    "\n",
    "cat_file='GalaxyZoo1_DR_table2.csv'\n",
    "cat_data=pd.read_csv(z.open(cat_file))\n",
    "cat_data.head()"
   ]
  },
  {
   "cell_type": "code",
   "execution_count": null,
   "metadata": {
    "collapsed": false
   },
   "outputs": [],
   "source": [
    "cat_data=cat_data.sort_values('P_EL_DEBIASED',ascending=0)\n",
    "cat_elliptical=cat_data[cat_data['ELLIPTICAL']==1][0:100]\n",
    "cat_elliptical['ra']=Angle(cat_elliptical['RA'], unit=u.hourangle).degree\n",
    "cat_elliptical['dec']=Angle(cat_elliptical['DEC'], unit=u.degree).degree\n",
    "cat_elliptical=cat_elliptical.rename(columns = {'OBJID':'ID','NVOTE':'votos'})\n",
    "cat_elliptical=cat_elliptical[['ID','ra','dec','votos']].reset_index(drop=True)\n",
    "\n",
    "cat_elliptical.to_csv('../data/SDSS_galaxyzoo_elipticas.csv',index=False)"
   ]
  },
  {
   "cell_type": "code",
   "execution_count": null,
   "metadata": {
    "collapsed": true
   },
   "outputs": [],
   "source": [
    "cat_data=cat_data.sort_values('P_CS_DEBIASED',ascending=0)\n",
    "cat_spiral=cat_data[cat_data['SPIRAL']==1][0:100]\n",
    "cat_spiral['ra']=Angle(cat_spiral['RA'], unit=u.hourangle).degree\n",
    "cat_spiral['dec']=Angle(cat_spiral['DEC'], unit=u.degree).degree\n",
    "cat_spiral=cat_spiral.rename(columns = {'OBJID':'ID','NVOTE':'votos'})\n",
    "cat_spiral=cat_spiral[['ID','ra','dec','votos']].reset_index(drop=True)\n",
    "\n",
    "cat_spiral.to_csv('../data/SDSS_galaxyzoo_espirales.csv',index=False)"
   ]
  },
  {
   "cell_type": "code",
   "execution_count": null,
   "metadata": {
    "collapsed": true
   },
   "outputs": [],
   "source": []
  }
 ],
 "metadata": {
  "kernelspec": {
   "display_name": "Python 2",
   "language": "python",
   "name": "python2"
  },
  "language_info": {
   "codemirror_mode": {
    "name": "ipython",
    "version": 2
   },
   "file_extension": ".py",
   "mimetype": "text/x-python",
   "name": "python",
   "nbconvert_exporter": "python",
   "pygments_lexer": "ipython2",
   "version": "2.7.10"
  }
 },
 "nbformat": 4,
 "nbformat_minor": 0
}
