{
 "cells": [
  {
   "cell_type": "markdown",
   "metadata": {},
   "source": [
    "Bienvenidos al taller 6 del curso Astronomía en la Era de la Información.\n",
    "\n",
    "Hoy aprenderemos otra herramienta imprescindible a la hora de programar: **control de flujo/condicionalidad**. Esto nos permite controlar lo que queremos qué haga el código asumiendo que tenemos algunos datos con los que queremos trabajar y otros no.\n",
    "\n",
    "Como utilizaremos ciclos, vistos en la clase pasada, partiremos con un ejemplo de estos"
   ]
  },
  {
   "cell_type": "code",
   "execution_count": null,
   "metadata": {
    "collapsed": true
   },
   "outputs": [],
   "source": [
    "import numpy as np\n",
    "import matplotlib.pyplot as plt\n",
    "import pandas as pd\n",
    "%matplotlib inline"
   ]
  },
  {
   "cell_type": "code",
   "execution_count": null,
   "metadata": {
    "collapsed": false,
    "scrolled": true
   },
   "outputs": [],
   "source": [
    "arreglo = np.arange(1.1,20,0.5)\n",
    "for elemento in arreglo:\n",
    "    print \"elemento es \",elemento\n",
    "    print \"elemento al cuadrado es \",elemento**2"
   ]
  },
  {
   "cell_type": "markdown",
   "metadata": {},
   "source": [
    "Para entender cómo funciona la condicionalidad, generamos otro arreglo con números del 0 al 99 y agregamos dentro del ciclo _for_ una condición que hace que se impriman sólo los pares."
   ]
  },
  {
   "cell_type": "code",
   "execution_count": null,
   "metadata": {
    "collapsed": false,
    "scrolled": true
   },
   "outputs": [],
   "source": [
    "arreglo=np.arange(100)\n",
    "for numero in arreglo:\n",
    "    if numero%2 == 0: # ojo con qué hace %!! el resultado es el \"resto\" de la división\n",
    "        print numero"
   ]
  },
  {
   "cell_type": "markdown",
   "metadata": {},
   "source": [
    "¿Cómo funciona el _if_? Simplemente es _si se cumple la condición, se hace lo de dentro del ciclo_. Pruebe cambiando el código para que imprima sólo los números divisibles por 7. Importante: recuerde qué significa _if_ en inglés. Si no sabe, ¡busque o pregúntele a un compañero! Así es mucho más fácil entender. Note también que se define similarmente a un *for*: con dos puntos y sangría.\n",
    "\n",
    "Una condición puede ser compuesta por dos o más condiciones. En el siguiente código se muestra cómo imprimir los números divisibles por 2 **y** por 7, y luego los divisibles por 2 **o** por 7. Nuevamente usamos palabras en inglés."
   ]
  },
  {
   "cell_type": "code",
   "execution_count": null,
   "metadata": {
    "collapsed": false,
    "scrolled": true
   },
   "outputs": [],
   "source": [
    "print \"Divisibles por 2 y por 7\"\n",
    "for numero in arreglo:\n",
    "    if numero%2 == 0 and numero%7 == 0: \n",
    "        print numero\n",
    "print \"Divisibles por 2 o por 7\"\n",
    "for numero in arreglo:\n",
    "    if numero%2 == 0 or numero%7 == 0: \n",
    "        print numero"
   ]
  },
  {
   "cell_type": "markdown",
   "metadata": {},
   "source": [
    "## Ejercicio 1\n",
    "Genere un arreglo de 1000 números, y muestre sólo los números divisibles por 3, 5, y 7."
   ]
  },
  {
   "cell_type": "code",
   "execution_count": null,
   "metadata": {
    "collapsed": false
   },
   "outputs": [],
   "source": [
    "# escriba su código acá"
   ]
  },
  {
   "cell_type": "markdown",
   "metadata": {
    "collapsed": true
   },
   "source": [
    "Los condicionales también los puede definir como que **no** se cumpla cierta condición. Acá un ejemplo, que imprime los números pares **no** divisibles por 7."
   ]
  },
  {
   "cell_type": "code",
   "execution_count": null,
   "metadata": {
    "collapsed": false,
    "scrolled": true
   },
   "outputs": [],
   "source": [
    "arreglo = np.arange(100)\n",
    "for numero in arreglo:\n",
    "    if numero%2 == 0 and not numero%7 == 0:\n",
    "        print numero"
   ]
  },
  {
   "cell_type": "markdown",
   "metadata": {},
   "source": [
    "La condicionalidad también puede usar mayor, menor, mayor igual, y menor igual"
   ]
  },
  {
   "cell_type": "code",
   "execution_count": null,
   "metadata": {
    "collapsed": false,
    "scrolled": false
   },
   "outputs": [],
   "source": [
    "arreglo = np.arange(100)\n",
    "for numero in arreglo:\n",
    "    if numero%13 == 0 and numero <= 70:\n",
    "        print numero"
   ]
  },
  {
   "cell_type": "markdown",
   "metadata": {
    "collapsed": true
   },
   "source": [
    "## Ejercicio 2\n",
    "Genere un arreglo de 1000 números, y muestre sólo los números divisibles por 4, 5, pero no por 6."
   ]
  },
  {
   "cell_type": "code",
   "execution_count": null,
   "metadata": {
    "collapsed": false
   },
   "outputs": [],
   "source": [
    "# escriba su código acá"
   ]
  },
  {
   "cell_type": "markdown",
   "metadata": {
    "collapsed": true
   },
   "source": [
    "A continuación, trabajaremos con datos astronómicos reales, del grupo local de galaxias. Partiremos cargándolo, como es usual, con *pandas*. Las columnas del catálogo son:\n",
    "* Nombre: nombre de la galaxia\n",
    "* l, b: coordenadas en el cielo de las galaxias\n",
    "* dist, derr: distancia a la galaxia y error de medición de esta, en miles de años luz\n",
    "* diam: diámetro de la galaxia, en miles de años luz\n",
    "* tipo: tipo morfológico de la galaxia. Acá sólo hacemos diferencia entre galaxia gigante (\"Gig\") o satélite (\"Sat\")\n",
    "* desc: año de descubrimiento de la galaxia. Un valor cero indica que se conoce desde la prehistoria o que no se tiene seguridad del año\n",
    "\n",
    "Usaremos algunas de estas columnas en lo que sigue."
   ]
  },
  {
   "cell_type": "code",
   "execution_count": null,
   "metadata": {
    "collapsed": false,
    "scrolled": false
   },
   "outputs": [],
   "source": [
    "cat_url='https://github.com/rpmunoz/PentaUC/raw/e67af6ea859b99f371b63eebc231f677c7dd91fb/Astronomia%20era%20informacion/data/localgroup.csv'\n",
    "grupolocal=pd.read_csv(cat_url,header=0,sep=',')\n",
    "grupolocal.head()"
   ]
  },
  {
   "cell_type": "markdown",
   "metadata": {},
   "source": [
    "El siguiente es un código que recorre toda la tabla, y, si la galaxia es de tipo \"Sat\", imprime el nombre. Para recorrer la tabla, se debe hacer fila por fila, lo que logramos con las funciones *range* y *len* que hemos aprendido a usar (no podemos hacer *for elemento in tabla* con las tablas de *pandas*). Note también que para acceder al elemento de la posición *i*, es necesario usar *grupolocal.iloc[i]* (como en el taller evaluado, cuando tuvo que definir los catálogos de galaxias elípticas y espirales), y al elegir una fila, el atributo de esa fila (en este caso, el tipo y el nombre) se debe indicar dentro de corchetes y comillas (simples o dobles, a Python no le importa)"
   ]
  },
  {
   "cell_type": "code",
   "execution_count": null,
   "metadata": {
    "collapsed": false,
    "scrolled": true
   },
   "outputs": [],
   "source": [
    "for i in range(len(grupolocal)): \n",
    "    if grupolocal.iloc[i]['tipo'] == \"Sat\":\n",
    "        print grupolocal.iloc[i]['nombre']"
   ]
  },
  {
   "cell_type": "markdown",
   "metadata": {},
   "source": [
    "# Ejercicio 3\n",
    "Modifique el código de abajo para que muestre el nombre y el tamaño de todas las **galaxias satélites** que estén a **más de 2 millones** de años luz"
   ]
  },
  {
   "cell_type": "code",
   "execution_count": null,
   "metadata": {
    "collapsed": false
   },
   "outputs": [],
   "source": [
    "for i in range(len(grupolocal)):\n",
    "    if grupolocal.iloc[i]['tipo'] == \"Sat\" and :\n",
    "        print grupolocal.iloc[i]['nombre']"
   ]
  },
  {
   "cell_type": "markdown",
   "metadata": {},
   "source": [
    "Vamos ahora a graficar las galaxias con sus coordenadas en el cielo (si va muy rápido, al final podemos repetir este proceso con la proyección Mollweide). Para eso usaremos la función *scatter* de *matplotlib*, y le agregaremos en el eje de color la distancia a la que está la galaxia."
   ]
  },
  {
   "cell_type": "code",
   "execution_count": null,
   "metadata": {
    "collapsed": false
   },
   "outputs": [],
   "source": [
    "plt.scatter(grupolocal['l'],grupolocal['b'],c=grupolocal['dist'],cmap='jet',edgecolors='none')\n",
    "cbar=plt.colorbar(label='Distancia (kly)')\n",
    "plt.xlabel('l')\n",
    "plt.ylabel('b')"
   ]
  },
  {
   "cell_type": "markdown",
   "metadata": {},
   "source": [
    "Piense un momento en las estructuras que se forman en este gráfico y el color asociado a estas. ¿Algo le llama la atención? En el siguiente ejercicio estudiaremos cuál es el motivo por el que las observamos."
   ]
  },
  {
   "cell_type": "markdown",
   "metadata": {},
   "source": [
    "# Ejercicio 4\n",
    "El siguiente código debería graficar, una por una, todas las galaxias en un gráfico similar al de arriba, sin colores, con la diferencia de que si es una galaxia gigante, la marca con una estrella negra e imprime su nombre. El gráfico debería verse así:\n",
    "![PlotT6](https://github.com/rpmunoz/PentaUC/raw/master/Astronomia%20era%20informacion/data/plotT6.png)\n",
    "Lamentablemente, el código pasó por etapas muy agitadas de su vida y se le anduvieron cruzando las instrucciones, por lo que es su deber arreglarlo, cambiando pocos elementos del código que se presenta abajo. Esto le entregará respuestas a las interrogantes originadas en lo de más arriba."
   ]
  },
  {
   "cell_type": "code",
   "execution_count": null,
   "metadata": {
    "collapsed": false
   },
   "outputs": [],
   "source": [
    "# mutatis mutandis\n",
    "for i in range(len(grupolocal)):\n",
    "    if grupolocal.iloc[i]['tipo'] == \"Sat\":\n",
    "        plt.scatter(grupolocal.iloc[i]['l'],grupolocal.iloc[i]['b'],edgecolors='none', label=grupolocal.iloc[i]['nombre'])\n",
    "    if grupolocal.iloc[i]['tipo'] == \"Sat\" and grupolocal.iloc[i]['dist']<0:\n",
    "        plt.scatter(grupolocal.iloc[i]['l'],grupolocal.iloc[i]['b'],c='black',marker='*',s=200)\n",
    "plt.xlabel('l')\n",
    "plt.ylabel('b')\n",
    "plt.legend(loc='best')"
   ]
  },
  {
   "cell_type": "markdown",
   "metadata": {},
   "source": [
    "# Ejercicio propuesto\n",
    "Repetir los últimos gráficos con la proyección Mollweide que se ha visto en talleres anteriores."
   ]
  },
  {
   "cell_type": "code",
   "execution_count": null,
   "metadata": {
    "collapsed": true
   },
   "outputs": [],
   "source": []
  }
 ],
 "metadata": {
  "kernelspec": {
   "display_name": "Python 2",
   "language": "python",
   "name": "python2"
  },
  "language_info": {
   "codemirror_mode": {
    "name": "ipython",
    "version": 2
   },
   "file_extension": ".py",
   "mimetype": "text/x-python",
   "name": "python",
   "nbconvert_exporter": "python",
   "pygments_lexer": "ipython2",
   "version": "2.7.6"
  }
 },
 "nbformat": 4,
 "nbformat_minor": 0
}
