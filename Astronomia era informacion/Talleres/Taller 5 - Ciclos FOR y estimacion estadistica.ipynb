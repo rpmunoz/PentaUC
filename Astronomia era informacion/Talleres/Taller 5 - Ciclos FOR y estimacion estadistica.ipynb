{
 "cells": [
  {
   "cell_type": "markdown",
   "metadata": {},
   "source": [
    "Bienvenidos al taller 5 del curso Astronomía en la Era de la Información.\n",
    "\n",
    "Hoy aprenderemos una herramienta imprescindible a la hora de programar: **ciclos**. Partiremos con un ejemplo con el que ustedes se cabecearon bastante en el taller anterior: calcular un promedio. Primero inicializamos los paquetes que usaremos hoy, luego definimos un arreglo, y calculamos el promedio."
   ]
  },
  {
   "cell_type": "code",
   "execution_count": null,
   "metadata": {
    "collapsed": true
   },
   "outputs": [],
   "source": [
    "import numpy as np\n",
    "import matplotlib.pyplot as plt\n",
    "%matplotlib inline"
   ]
  },
  {
   "cell_type": "code",
   "execution_count": null,
   "metadata": {
    "collapsed": false
   },
   "outputs": [],
   "source": [
    "arreglo=np.arange(1,87)\n",
    "print arreglo\n",
    "print \"promedio: \", np.mean(arreglo)"
   ]
  },
  {
   "cell_type": "markdown",
   "metadata": {},
   "source": [
    "Vemos que numpy nos permite calcular rápidamente el promedio. ¿Pero qué hacer sin numpy? Una posible solución, que fue aplicada por un par de compañeros el taller pasado, es sumar a mano todos los valores y luego dividir por el total. Ojo con las cosas nuevas que hay en esta celda, ¡trate de entenderlas antes de que las expliquemos!"
   ]
  },
  {
   "cell_type": "code",
   "execution_count": null,
   "metadata": {
    "collapsed": false
   },
   "outputs": [],
   "source": [
    "total = arreglo[0] + arreglo[1] + arreglo[2] + arreglo[3] + arreglo[4] + arreglo[5] + arreglo[6] + arreglo[7] + arreglo[8] + arreglo[9] + arreglo[10] + arreglo[11] + arreglo[12] + arreglo[13] + arreglo[14] + arreglo[15] + arreglo[16] + arreglo[17] + arreglo[18] + arreglo[19] + arreglo[20] + arreglo[21] + arreglo[22] + arreglo[23] + arreglo[24] + arreglo[25] + arreglo[26] + arreglo[27] + arreglo[28] + arreglo[29] + arreglo[30] + arreglo[31] + arreglo[32] + arreglo[33] + arreglo[34] + arreglo[35] + arreglo[36] + arreglo[37] + arreglo[38] + arreglo[39] + arreglo[40] + arreglo[41] + arreglo[42] + arreglo[43] + arreglo[44] + arreglo[45] + arreglo[46] + arreglo[47] + arreglo[48] + arreglo[49] + arreglo[50] + arreglo[51] + arreglo[52] + arreglo[53] + arreglo[54] + arreglo[55] + arreglo[56] + arreglo[57] + arreglo[58] + arreglo[59] + arreglo[60] + arreglo[61] + arreglo[62] + arreglo[63] + arreglo[64] + arreglo[65] + arreglo[66] + arreglo[67] + arreglo[68] + arreglo[69] + arreglo[70] + arreglo[71] + arreglo[72] + arreglo[73] + arreglo[74] + arreglo[75] + arreglo[76] + arreglo[77] + arreglo[78] + arreglo[79] + arreglo[80] + arreglo[81] + arreglo[82] + arreglo[83] + arreglo[84] + arreglo[85]\n",
    "n = len(arreglo)\n",
    "promedio = total/n\n",
    "print promedio"
   ]
  },
  {
   "cell_type": "markdown",
   "metadata": {},
   "source": [
    "¿Qué cosas nuevas identifica? Pregunte en este momento si no entiende.\n",
    "\n",
    "Larga y tediosamente, llegamos (casi) al mismo valor. ¿Por qué la diferencia? (ya lo vimos en un taller!) Cambie lo necesario y llegue al valor adecuado.\n",
    "\n",
    "En este trozo de código usamos la definición de promedio, $$\\bar{x} = \\frac{1}{n}\\times \\sum_{i=0}^n x_i $$, donde la suma la calculamos al definir la variable _total_ y el número de elementos es la variable _n_.\n",
    "\n",
    "¿Podemos simplificar la respuesta? ¡Sí!, con un ciclo: un proceso que se repite cuantas veces queramos. Piénselo primero, y luego baje hasta la celda donde está programado el ciclo."
   ]
  },
  {
   "cell_type": "code",
   "execution_count": null,
   "metadata": {
    "collapsed": true
   },
   "outputs": [],
   "source": [
    "# acá no está"
   ]
  },
  {
   "cell_type": "code",
   "execution_count": null,
   "metadata": {
    "collapsed": true
   },
   "outputs": [],
   "source": [
    ""
   ]
  },
  {
   "cell_type": "code",
   "execution_count": null,
   "metadata": {
    "collapsed": true
   },
   "outputs": [],
   "source": [
    ""
   ]
  },
  {
   "cell_type": "code",
   "execution_count": null,
   "metadata": {
    "collapsed": true
   },
   "outputs": [],
   "source": [
    "# más abajo"
   ]
  },
  {
   "cell_type": "code",
   "execution_count": null,
   "metadata": {
    "collapsed": true
   },
   "outputs": [],
   "source": [
    ""
   ]
  },
  {
   "cell_type": "code",
   "execution_count": null,
   "metadata": {
    "collapsed": true
   },
   "outputs": [],
   "source": [
    ""
   ]
  },
  {
   "cell_type": "code",
   "execution_count": null,
   "metadata": {
    "collapsed": false
   },
   "outputs": [],
   "source": [
    "#respuesta:\n",
    "total = 0.0\n",
    "for i in range(len(arreglo)):\n",
    "    total=total+arreglo[i]\n",
    "promedio = total/len(arreglo)\n",
    "print promedio"
   ]
  },
  {
   "cell_type": "markdown",
   "metadata": {},
   "source": [
    "Recuerde qué hace la función _range_ para entender el código. Le será útil saber que _for_ en inglés sgnifica \"para/para cada\". \n",
    "\n",
    "Otro ejemplo: la suma de los primeros 100 números al cuadrado:"
   ]
  },
  {
   "cell_type": "code",
   "execution_count": null,
   "metadata": {
    "collapsed": false
   },
   "outputs": [],
   "source": [
    "total = 0\n",
    "for i in range(100):\n",
    "    total = total + i**2\n",
    "print total"
   ]
  },
  {
   "cell_type": "markdown",
   "metadata": {},
   "source": [
    "### Ejercicio 1: \n",
    "Agregue al código de más arriba en el que calculamos el promedio, una línea que imprima el valor de la variable _total_ en cada ciclo y vea explícitamente cómo funciona. Fíjese muy bien en que un ciclo se define con los dos puntos y todo lo que está en el ciclo debe ir con sangría (separado del borde)\n",
    "\n",
    "### Ejercicio 2:\n",
    "Modifique el código de abajo para que calcule la suma de los elementos del arreglo, multiplicados por la posición del mismo, o sea: (elemento 1)\\*0 + (elemento 2)\\*1 + ..., etc."
   ]
  },
  {
   "cell_type": "code",
   "execution_count": null,
   "metadata": {
    "collapsed": false
   },
   "outputs": [],
   "source": [
    "# mutatis mutandis\n",
    "total = 0.0\n",
    "for i in range(len(arreglo)):\n",
    "    total=total+arreglo[i]\n",
    "print total"
   ]
  },
  {
   "cell_type": "markdown",
   "metadata": {
    "collapsed": true
   },
   "source": [
    "Como verá, los ciclos _for_ son útiles a la hora de calcular sumatorias. Otro indicador estadístico que implica utilizar una sumatoria es la desviación estándar, que, como debe recordar, su fórmula es $$\\sigma = \\sqrt{\\frac{1}{n}\\times\\sum_{i=0}^n \\left(x_i-\\bar{x}\\right)^2} $$\n",
    "La desviación estándar nos dice qué tan agrupados alrededor del promedio se encuentran los datos analizados. En el siguiente ejemplo, ud. verá dos sets de datos con el mismo promedio, pero distinta desviación estándar. Fíjese más en los gráficos que en el código; si quiere entenderlo, bienvenido sea"
   ]
  },
  {
   "cell_type": "code",
   "execution_count": null,
   "metadata": {
    "collapsed": false
   },
   "outputs": [],
   "source": [
    "import scipy.stats as st\n",
    "uni = st.uniform(loc=10,scale=20)\n",
    "uni_rvs=uni.rvs(size=50000)\n",
    "normal = st.norm(loc=20,scale=10)\n",
    "normal_rvs=normal.rvs(size=50000)\n",
    "plt.figure(211)\n",
    "plt.hist(uni_rvs)\n",
    "plt.figure(212)\n",
    "plt.hist(normal_rvs)\n",
    "print \"promedio uniforme = \", np.mean(uni_rvs)\n",
    "print \"promedio normal = \", np.mean(normal_rvs)"
   ]
  },
  {
   "cell_type": "code",
   "execution_count": null,
   "metadata": {
    "collapsed": false
   },
   "outputs": [],
   "source": [
    "# calculamos desviación estándar\n",
    "std_norm = 0.0\n",
    "std_uni = 0.0\n",
    "prom_norm = np.mean(normal_rvs)\n",
    "prom_uni = np.mean(uni_rvs)\n",
    "for i in range(50000): #cada set de datos tiene 50000 elementos\n",
    "    std_norm = std_norm + (prom_norm - normal_rvs[i])**2\n",
    "    std_uni = std_uni + (prom_uni - uni_rvs[i])**2\n",
    "std_norm = np.sqrt(std_norm/len(normal_rvs))\n",
    "std_uni = np.sqrt(std_uni/len(uni_rvs))\n",
    "print \"Desviación estándar uniforme = \", std_uni\n",
    "print \"Desviación estándar gaussiana = \", std_norm"
   ]
  },
  {
   "cell_type": "markdown",
   "metadata": {},
   "source": [
    "### Ejercicio 3:\n",
    "\n",
    "A continuación se le presentan a ud. 4 celdas de código que respectivamente: \n",
    "\n",
    "1) cargan datos, usando pandas, de dos catálogos de galaxias: uno de espirales y otro de elípticas;\n",
    "\n",
    "2) calculan el promedio del redshift de esas galaxias;\n",
    "\n",
    "3) calculan la desviación estándar del redshift; \n",
    "\n",
    "4) grafican la distribución de ambos valores.\n",
    "\n",
    "Cada celda, de todos modos, tiene un error. Su deber es encontrar los errores para que los códigos corran perfectamente. Python expresa los errores en inglés, pero no tema usar algún traductor online para saber qué dice. Además, el error dice en qué línea falló el programa, lo que debería facilitarle más aún la vida."
   ]
  },
  {
   "cell_type": "code",
   "execution_count": null,
   "metadata": {
    "collapsed": false
   },
   "outputs": [],
   "source": [
    "import pandas as pnd\n",
    "cat_spirals=pd.read_csv('t5_latetype.csv',header=0,sep=',')\n",
    "cat_ellipticals=pd.read_csv('t5_earlytype.csv',header=0,sep=',')\n",
    "print cat_spirals.head()\n",
    "print cat_ellipticals.head()"
   ]
  },
  {
   "cell_type": "code",
   "execution_count": null,
   "metadata": {
    "collapsed": false
   },
   "outputs": [],
   "source": [
    "total_spirals = 0.0\n",
    "for i in range(len(cat_spirals['z'])):\n",
    "    total_spirals=total_spirals+cat_spirals['z'][i]\n",
    "prom_espiral = total_spirals/len(cat_spirals['z'])\n",
    "print \"Promedio espirales = \", prom_espiral\n",
    "total_elip = 0.0\n",
    "for i in range(len(cat_ellipticals['z']))\n",
    "    total_elip=total_elip+cat_ellipticals['z'][i]\n",
    "prom_elip = total_elip/len(cat_ellipticals['z'])\n",
    "print \"Promedio elípticas = \", prom_elip"
   ]
  },
  {
   "cell_type": "code",
   "execution_count": null,
   "metadata": {
    "collapsed": false
   },
   "outputs": [],
   "source": [
    "std_espiral = 0.0\n",
    "for i in range(len(cat_spirals['z'])):\n",
    "    std_espiral = std_espiral+ (prom_espiral - cat_spirals['z'][i])**2\n",
    "std_espiral = np.sqrt(std_espiral/len(cat_spirals['z']))\n",
    "std_elip = 0.0\n",
    "for i in range(len(cat_ellipticals['z'])):\n",
    "    std_elip = std_elip+ (prom_elip - cat_ellipticals['z'][i])**2\n",
    "std_elip = sqrt(std_elip/len(cat_ellipticals['z']))\n",
    "print \"Desviación estándar espirales = \", std_espiral\n",
    "print \"Desviación estándar elípticas = \", std_elip"
   ]
  },
  {
   "cell_type": "code",
   "execution_count": null,
   "metadata": {
    "collapsed": false
   },
   "outputs": [],
   "source": [
    "plt.hist(cat_spirals['z'],bins=20,label='Espirales',histtype='step',lw=4)\n",
    "plt.hist(cat_ellipticals['z'],bins='20',label='Elipticas',histtype='step',lw=4)\n",
    "plt.xlabel('Redshift')\n",
    "plt.legend(loc='best')"
   ]
  },
  {
   "cell_type": "markdown",
   "metadata": {
    "collapsed": true
   },
   "source": [
    "Los valores a los que debería llegar:\n",
    "\n",
    "Promedio espirales =  0.747273684211\n",
    "\n",
    "Promedio elípticas =  0.913966101695\n",
    "\n",
    "Desviación estándar espirales =  0.492205721691\n",
    "\n",
    "Desviación estándar elípticas =  0.712795664877\n"
   ]
  },
  {
   "cell_type": "code",
   "execution_count": null,
   "metadata": {
    "collapsed": true
   },
   "outputs": [],
   "source": [
    ""
   ]
  }
 ],
 "metadata": {
  "kernelspec": {
   "display_name": "Python 2",
   "language": "python",
   "name": "python2"
  },
  "language_info": {
   "codemirror_mode": {
    "name": "ipython",
    "version": 2.0
   },
   "file_extension": ".py",
   "mimetype": "text/x-python",
   "name": "python",
   "nbconvert_exporter": "python",
   "pygments_lexer": "ipython2",
   "version": "2.7.6"
  }
 },
 "nbformat": 4,
 "nbformat_minor": 0
}