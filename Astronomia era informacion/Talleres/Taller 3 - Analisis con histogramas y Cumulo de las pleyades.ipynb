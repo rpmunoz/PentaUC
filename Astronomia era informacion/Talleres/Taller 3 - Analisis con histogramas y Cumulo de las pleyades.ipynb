{
 "cells": [
  {
   "cell_type": "markdown",
   "metadata": {},
   "source": [
    "# Taller 3 - Gráficos más avanzados"
   ]
  },
  {
   "cell_type": "markdown",
   "metadata": {},
   "source": [
    "Nombre: "
   ]
  },
  {
   "cell_type": "markdown",
   "metadata": {},
   "source": [
    "Bienvenidos al taller n° 3 del curso Astronomía en la era de la información. En él aplicaremos lo aprendido en talleres anteriores desarrollando gráficos avanzados y estudiando la información en ellos.\n",
    "\n",
    "Por si quedan dudas, los otros notebooks están disponibles para que vea alguna instrucción, de haberla olvidado.\n"
   ]
  },
  {
   "cell_type": "markdown",
   "metadata": {},
   "source": [
    "Acorde a lo visto en clases, hoy trabajaremos con datos de estrellas, tanto reales, como simulados. Pero antes, para introducir el concepto básico de **histograma**, usaremos datos reales del Servicio Médico Legal, en particular, de su registro de atención ciudadana 2012. Este es un archivo que se encuentra disponible abiertamente online, y lo abriremos con el paquete de Python *pandas*, utilizado ya en el taller anterior.\n",
    "\n"
   ]
  },
  {
   "cell_type": "code",
   "execution_count": null,
   "metadata": {
    "collapsed": true
   },
   "outputs": [],
   "source": [
    "# importamos pandas (de pasada importamos los otros paquetes que usaremos más abajo) y abrimos el archivo\n",
    "import pandas as pd\n",
    "import numpy as np\n",
    "import matplotlib.pyplot as plt\n",
    "%matplotlib inline"
   ]
  },
  {
   "cell_type": "code",
   "execution_count": null,
   "metadata": {
    "collapsed": true
   },
   "outputs": [],
   "source": [
    "# abrimos el archivo que se encuentra online\n",
    "data_dir='https://raw.githubusercontent.com/rpmunoz/PentaUC/master/Astronomia%20era%20informacion/data/RegistroEstad%C3%ADsticoDeAtencionesCiudadanas-SML.csv'\n",
    "tabla_SML=pd.read_csv(data_dir,header=0,sep=',')"
   ]
  },
  {
   "cell_type": "code",
   "execution_count": null,
   "metadata": {
    "collapsed": false
   },
   "outputs": [],
   "source": [
    "# la siguiente línea se incluye porque no todos los valores de edad son números, algunos son \"no informa edad\"\n",
    "tabla_SML['Edad']=pd.to_numeric(tabla_SML['Edad'],errors='coerce')"
   ]
  },
  {
   "cell_type": "markdown",
   "metadata": {},
   "source": [
    "¿Qué es un histograma? Es una de las maneras en las que podemos estudiar cómo una **cantidad está distribuida**. Dicho de otro modo, nos dice cuáles son los valores más y menos comunes de cierta cantidad, y desde ahí nosotros podemos sacar conclusiones. La mayoría de las veces los histogramas se hacen con cantidades numéricas, como va a ser el caso durante nuestros talleres, pero en otras disciplinas se pueden hacer por fecha u algún otro criterio."
   ]
  },
  {
   "cell_type": "markdown",
   "metadata": {},
   "source": [
    "Veamos qué columnas tiene nuestra tabla, con un comando tan simple como el siguiente:"
   ]
  },
  {
   "cell_type": "code",
   "execution_count": null,
   "metadata": {
    "collapsed": false
   },
   "outputs": [],
   "source": [
    "tabla_SML.columns"
   ]
  },
  {
   "cell_type": "markdown",
   "metadata": {},
   "source": [
    "Los nombres de las columnas, como aparece arriba, son 'Mes', 'Edad', etc. ¿Cuáles de esas columnas tienen valor numérico? Claramente la columna n°5, 'Edad'. Podemos darle un vistazo a los datos accediendo a esa columna de la siguiente manera:"
   ]
  },
  {
   "cell_type": "code",
   "execution_count": null,
   "metadata": {
    "collapsed": false
   },
   "outputs": [],
   "source": [
    "tabla_SML['Edad']"
   ]
  },
  {
   "cell_type": "markdown",
   "metadata": {},
   "source": [
    "Es muy difícil ver la distribución de las edades así, ¿no? Por lo mismo usaremos el histograma. La construcción del histograma es muy simple: sólo debemos tomar la cantidad que nos interesa graficar, y le agregamos \"*.hist*\"."
   ]
  },
  {
   "cell_type": "code",
   "execution_count": null,
   "metadata": {
    "collapsed": false
   },
   "outputs": [],
   "source": [
    "tabla_SML['Edad'].hist()\n",
    "plt.xlabel('Edad')"
   ]
  },
  {
   "cell_type": "markdown",
   "metadata": {},
   "source": [
    "Felicitaciones, ¡ha construido su primer histograma! Ahora queda preguntarse cosas como \"¿por qué las edades siguen esta distribución?\", \"¿qué factores pueden cambiar la forma del histograma?\", entre otras. "
   ]
  },
  {
   "cell_type": "markdown",
   "metadata": {},
   "source": [
    "Un histograma tiene algunas variables que pueden cambiar la construcción de este, y la principal es el número de \"bins\". Esto se puede cambiar fácilmente como lo vemos abajo:"
   ]
  },
  {
   "cell_type": "code",
   "execution_count": null,
   "metadata": {
    "collapsed": false
   },
   "outputs": [],
   "source": [
    "plt.figure(221)\n",
    "tabla_SML['Edad'].hist(bins=20)\n",
    "plt.xlabel('Edad')\n",
    "plt.title('20 bins')\n",
    "plt.figure(222)\n",
    "tabla_SML['Edad'].hist(bins=100)\n",
    "plt.xlabel('Edad')\n",
    "plt.title('100 bins')\n",
    "plt.figure(223)\n",
    "tabla_SML['Edad'].hist(bins=400)\n",
    "plt.xlabel('Edad')\n",
    "plt.title('400 bins')\n",
    "plt.figure(224)\n",
    "tabla_SML['Edad'].hist(bins=5)\n",
    "plt.xlabel('Edad')\n",
    "plt.title('5 bins')\n",
    "# el valor por defecto es bins=10"
   ]
  },
  {
   "cell_type": "markdown",
   "metadata": {},
   "source": [
    "¿Cuáles de los histogramas de arriba no tiene sentido realizar, ya sea porque no dan información útil, o porque no agregan nada nuevo?"
   ]
  },
  {
   "cell_type": "markdown",
   "metadata": {
    "collapsed": false
   },
   "source": [
    "# Ejercicio 1\n",
    "\n",
    "Complete el siguiente código que carga una tabla con información de datos reales de estrellas de un cúmulo abierto llamado \"Pléyades\", muestre las columnas de la tabla, y realice un histograma de la masa (en inglés *Mass*) de las estrellas."
   ]
  },
  {
   "cell_type": "code",
   "execution_count": null,
   "metadata": {
    "collapsed": false
   },
   "outputs": [],
   "source": [
    "data_dir='https://raw.githubusercontent.com/rpmunoz/PentaUC/master/Astronomia%20era%20informacion/data/pleiades.csv'\n",
    "tabla_pleyades=\n",
    "# complete ud. el código"
   ]
  },
  {
   "cell_type": "markdown",
   "metadata": {
    "collapsed": true
   },
   "source": [
    "¿Qué otro tipo de gráficos conocen que no son histogramas?\n",
    "\n",
    "*pandas* permite realizar gráficos 2-D en un plano cartesiano, de una manera similar a como lo hacíamos antes con *plt.plot()*. Abajo puede ver el ejemplo:"
   ]
  },
  {
   "cell_type": "code",
   "execution_count": null,
   "metadata": {
    "collapsed": false
   },
   "outputs": [],
   "source": [
    "tabla_pleyades.plot.scatter(x='xpos',y='ypos')\n"
   ]
  },
  {
   "cell_type": "markdown",
   "metadata": {},
   "source": [
    "Como las Pléyades son un cúmulo, lo que se acaba de graficar es la posición de cada uno de sus miembros observados con respecto al centro del cúmulo. Pero por supuesto esto está lejos de ser lo más interesante que podemos graficar!\n",
    "\n",
    "\n",
    "Antes de continuar, hablaremos de un concepto fundamental que estudiaremos un poco más en profundidad, que son las correlaciones. Una correlación es, como el nombre lo sugiere, una relación aparente entre dos cantidades (aparente porque no todas las correlaciones tienen una causalidad detrás). Estas relaciones pueden expresarse con una ecuación, como la relación entre el tamaño de la órbita y el periodo orbital de los planetas alrededor del Sol, que vimos en el taller 1 (tercera ley de Kepler). Claramente, el gráfico de arriba no muestra correlación alguna.\n",
    "\n",
    "Es importante hacer énfasis en lo de que no hay causalidad detrás. Acá hay un ejemplo muy claro:\n",
    "\n",
    "\n",
    "![Correlación entre el número de piratas y el calentamiento global](http://www.smp.uk.com/sites/default/files/blog_Correlation_Causation_img1.png)"
   ]
  },
  {
   "cell_type": "markdown",
   "metadata": {},
   "source": [
    "# Ejercicio 2\n",
    "\n",
    "Realice distintas combinaciones de columnas de la tabla *tabla_pleyades* y grafíquelas usando *tabla_pleyades.plot.scatter()* como fue usado más arriba. Intente encontrar correlaciones entre las distintas cantidades expresadas en las columnas. Recuerde la materia vista en la clase!!"
   ]
  },
  {
   "cell_type": "code",
   "execution_count": null,
   "metadata": {
    "collapsed": true
   },
   "outputs": [],
   "source": [
    "# escriba el código acá"
   ]
  },
  {
   "cell_type": "markdown",
   "metadata": {},
   "source": [
    "Las correlaciones que usted observa son debido a las leyes físicas que fueron mencionadas en clases. Descubrir las ecuaciones que expresan estas correlaciones quedarán para un taller futuro."
   ]
  },
  {
   "cell_type": "markdown",
   "metadata": {},
   "source": [
    "Ahora le agregaremos una dimensión extra a los gráficos: un eje de color. Lo que hacemos es colorear cada punto en el gráfico con un color, y el color está asignado a los valores de otra cantidad:"
   ]
  },
  {
   "cell_type": "code",
   "execution_count": null,
   "metadata": {
    "collapsed": false
   },
   "outputs": [],
   "source": [
    "tabla_pleyades.plot.scatter(x='xpos',y='ypos',c='Dist',colormap='jet')"
   ]
  },
  {
   "cell_type": "markdown",
   "metadata": {},
   "source": [
    "En este caso, se puede ver que la cantidad \"*Dist*\" aumenta desde la posición (0,0), radialmente hacia afuera. El significado físico detrás de esta correlación entre la posición en el gráfico y el color es muy simple: *Dist* no es más que la distancia de cada estrella al centro del cúmulo. Es por eso que aumenta hacia afuera!\n",
    "\n",
    "De hecho, lo podemos corroborar: calculamos la distancia utilizando la técnica aprendida en el taller 2 (coordenadas polares) y la comparamos con el valor dado en la tabla calculando la diferencia porcentual (la diferencia dividida por uno de los valores). Para terminar de convencerlos del poder del histograma, también se incluye el histograma de esas diferencias. Nuevamente, es más fácil revisar éste, que ver los 150+ valores uno por uno."
   ]
  },
  {
   "cell_type": "code",
   "execution_count": null,
   "metadata": {
    "collapsed": false
   },
   "outputs": [],
   "source": [
    "dist=np.sqrt(tabla_pleyades['xpos']**2+tabla_pleyades['ypos']**2)\n",
    "difpor=(dist-tabla_pleyades['Dist'])/dist\n",
    "print difpor\n",
    "difpor.hist(bins=20)"
   ]
  },
  {
   "cell_type": "markdown",
   "metadata": {},
   "source": [
    "Sin embargo, hay otras correlaciones que son más físicas que pueden hacerse claras en un gráfico con eje de color, que es lo que haremos en el siguiente ejercicio."
   ]
  },
  {
   "cell_type": "markdown",
   "metadata": {},
   "source": [
    "# Ejercicio 3\n",
    "Si todo salió bien en el ejercicio anterior, ud. habrá encontrado (al menos) dos correlaciones, las cuales comparten una cantidad. Con esa cantidad y las dos que correlacionan con ella, construya un gráfico con eje de color que muestre las dos correlaciones."
   ]
  },
  {
   "cell_type": "code",
   "execution_count": null,
   "metadata": {
    "collapsed": true
   },
   "outputs": [],
   "source": [
    "# escriba el código acá"
   ]
  },
  {
   "cell_type": "code",
   "execution_count": null,
   "metadata": {
    "collapsed": true
   },
   "outputs": [],
   "source": []
  }
 ],
 "metadata": {
  "kernelspec": {
   "display_name": "Python 2",
   "language": "python",
   "name": "python2"
  },
  "language_info": {
   "codemirror_mode": {
    "name": "ipython",
    "version": 2
   },
   "file_extension": ".py",
   "mimetype": "text/x-python",
   "name": "python",
   "nbconvert_exporter": "python",
   "pygments_lexer": "ipython2",
   "version": "2.7.6"
  }
 },
 "nbformat": 4,
 "nbformat_minor": 0
}
