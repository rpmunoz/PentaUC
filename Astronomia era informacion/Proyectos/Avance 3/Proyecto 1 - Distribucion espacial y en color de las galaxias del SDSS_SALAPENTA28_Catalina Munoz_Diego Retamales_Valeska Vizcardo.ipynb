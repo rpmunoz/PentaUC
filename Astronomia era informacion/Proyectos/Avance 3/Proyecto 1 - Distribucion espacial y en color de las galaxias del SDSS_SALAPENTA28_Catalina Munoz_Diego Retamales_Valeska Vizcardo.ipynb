{
 "cells": [
  {
   "cell_type": "markdown",
   "metadata": {},
   "source": [
    "# Proyecto muestra aprendizaje n° 1: galaxias, sus colores, y su distribución en el espacio\n",
    "---\n",
    "En este taller trabajaremos utilizando un catálogo de galaxias que tiene información de su posición en el cielo, su magnitud (que tan brillante es) en cinco filtros distintos, y su redshift o corrimiento hacia el rojo. Recordemos los conceptos básicos que nos ayudarán a entender las cantidades de cada columna:\n",
    "\n",
    "   - **ra, dec**: posición en el cielo de las galaxias, en un sistema de coordenadas análogo al de latitud y longitud sobre la Tierra.\n",
    "   \n",
    "   - **u, g, r, i, z**: sistema de filtros usado por el Sloan Digital Sky Survey, que capturan luz de distintas regiones del espectro electromagnético como se muestra en el diagrama de abajo. La curva para cada filtro muestra su eficiencia en función de la longitud de onda. Dos magnitudes se pueden restar una de la otra para formar un color, como, por ejemplo, **g-r**. Por los general los colores se calculan con dos magnitudes contiguas y siguiendo el orden: u-g, g-r, etc. El valor de un color está relacionado con el color que nosotros vemos: a menor número, más azul.\n",
    "   <img src=\"http://www.astroml.org/_images/plot_sdss_filters_1.png\",width=600,height=600>\n",
    "   \n",
    "   - **redshift**: corrimiento hacia el rojo por efecto Doppler, medido con el espectro la mayoría de las veces.\n",
    "   \n",
    "Es importante recordar que el redshift entrega información de la velocidad con la que se mueve la galaxia con respecto a nosotros en la línea de visión, y, por Ley de Hubble, se puede transformar a distancia. La velocidad se obtiene usando la ecuación $ v = cz $ (taller 8), donde $v$ es la velocidad de la galaxia, $c$ es la velocidad de la luz (300000 km/s), y $z$ es el redshift observado. Una vez obtenida la velocidad, utilizamos la forma matemática de la Ley de Hubble, $v=H_0*d$, donde $H_0\\approx70$ km/(s\\*Mpc) es la constante de Hubble, y 1 Mpc = $10^6$ pc $\\approx3*10^{22}$ m.\n",
    "\n",
    "---\n",
    "### Objetivos del proyecto:\n",
    "\n",
    "Esperamos que con este proyecto tanto los alumnos como los espectadores comprendan la distribución de las estrellas en el espacio, y cómo varía esta distribución si es que cambiamos las propiedades fundamentales de las galaxias. Para esto, se espera que se desarrollen las líneas de investigación descritas más abajo\n",
    "\n",
    "---\n",
    "\n",
    "# Posibles líneas de desarrollo de este taller:\n",
    "\n",
    "   ## 1. Distribución de color y magnitud de galaxias observadas\n",
    "   ¿Hay más galaxias rojas que azules? ¿más galaxias brillantes que débiles? ¿cuáles son los colores y las magnitudes promedio y sus desviaciones estándar?(referencia: talleres 3 & 5)\n",
    "   ## 2. Diagramas color-magnitud y color-color de galaxias\n",
    "   ¿Hay relaciones entre estas cantidades? Las galaxias más brillantes, ¿son más azules o más rojas? (referencia: taller 3)\n",
    "   ## 3. Distribución de redshift y distancia de galaxias observadas \n",
    "   ¿Hay más galaxias más cerca o más lejos? ¿cuál es su distancia promedio y la desviación estándar? (referencia: taller 3 & 5)\n",
    "   ## 4. Distribuciones de color, magnitud, diagramas color-color y color-magnitud para distintos intervalos de redshift\n",
    "   ¿Cambian las condiciones de las galaxias si es que están más cerca o más lejos? (referencia: taller 8)\n",
    "   ## 5. Distribución 3D de las galaxias, estudiada con mapas del cielo para distintos intervalos de redshift/distancia\n",
    "   ¿Cambia su distribución en el cielo?; (referencia: taller 8)\n",
    "   ## 6. Distribución 3D de las galaxias en distintos intervalos de color o magnitud\n",
    "   ¿Cambian la distribución en el cielo para distintos intervalos de color?; (referencia: taller 8)\n",
    "   ## 7. Mostrar imágenes y espectros de galaxias que use\n",
    "   ¿Cómo parece visualmente que varían las imágenes y los espectros de las galaxias si cambia el redshift, la magnitud, y el color de éstas? (referencia: taller 9 & 10)\n",
    "   ## 8. Cualquier otra relación/pregunta que se les ocurra\n",
    "\n",
    "---\n",
    "   \n",
    "Su grupo deberá entregar semana a semana un archivo donde muestre su progreso. Esperamos que estos archivos **no muestren sólo código**, sino que también expliquen con celdas de texto qué es lo que hace el código y la razón física detrás de las relaciones, distribuciones, y números que muestre. Recuerde que este trabajo puede ser expuesto en la muestra de aprendizaje, donde tendrá que mostrarlo a personas que puede que no tengan conocimiento de astronomía o programación.\n",
    "\n",
    "Para entregar el archivo, utilizaremos el sistema de Dropbox que hemos usado en los otros talleres evaluados. Para eso, es fundamental que ingrese en la celda de abajo los nombres de los integrantes del grupo, y al final, luego de guardar, ejecute las dos últimas celdas.\n"
   ]
  },
  {
   "cell_type": "code",
   "execution_count": 2,
   "metadata": {
    "collapsed": true
   },
   "outputs": [],
   "source": [
    "integrante1 = 'Catalina Munoz'\n",
    "integrante2 = 'Diego Retamales'\n",
    "integrante3 = 'Valeska Vizcardo'"
   ]
  },
  {
   "cell_type": "code",
   "execution_count": 3,
   "metadata": {
    "collapsed": false
   },
   "outputs": [
    {
     "name": "stderr",
     "output_type": "stream",
     "text": [
      "C:\\Anaconda2\\lib\\site-packages\\astroquery\\sdss\\__init__.py:28: UserWarning: Experimental: SDSS has not yet been refactored to have its API match the rest of astroquery (but it's nearly there).\n",
      "  warnings.warn(\"Experimental: SDSS has not yet been refactored to have its API \"\n"
     ]
    }
   ],
   "source": [
    "import matplotlib.pyplot as plt\n",
    "from matplotlib import rc\n",
    "import numpy as np\n",
    "import pandas as pd\n",
    "from sdss_tools import sdss_jpg, sdss_fits, sdss_spectra, sdss_template\n",
    "\n",
    "from astropy import units as u\n",
    "from astropy.coordinates import SkyCoord, Angle\n",
    "from astroquery.sdss import SDSS\n",
    "\n",
    "rc('font', size=14)\n",
    "rc('axes', labelsize=22)\n",
    "%matplotlib inline"
   ]
  },
  {
   "cell_type": "markdown",
   "metadata": {
    "collapsed": true
   },
   "source": [
    "La siguiente celda de código carga el catálogo que usted usará en este proyecto"
   ]
  },
  {
   "cell_type": "code",
   "execution_count": 4,
   "metadata": {
    "collapsed": false
   },
   "outputs": [
    {
     "data": {
      "text/html": [
       "<div>\n",
       "<table border=\"1\" class=\"dataframe\">\n",
       "  <thead>\n",
       "    <tr style=\"text-align: right;\">\n",
       "      <th></th>\n",
       "      <th>ra</th>\n",
       "      <th>dec</th>\n",
       "      <th>redshift</th>\n",
       "      <th>u</th>\n",
       "      <th>g</th>\n",
       "      <th>r</th>\n",
       "      <th>i</th>\n",
       "      <th>z</th>\n",
       "    </tr>\n",
       "  </thead>\n",
       "  <tbody>\n",
       "    <tr>\n",
       "      <th>0</th>\n",
       "      <td>146.714191</td>\n",
       "      <td>-1.041276</td>\n",
       "      <td>0.021222</td>\n",
       "      <td>17.150417</td>\n",
       "      <td>15.497092</td>\n",
       "      <td>14.674012</td>\n",
       "      <td>14.234288</td>\n",
       "      <td>13.907544</td>\n",
       "    </tr>\n",
       "    <tr>\n",
       "      <th>1</th>\n",
       "      <td>146.744142</td>\n",
       "      <td>-0.652220</td>\n",
       "      <td>0.203783</td>\n",
       "      <td>21.334766</td>\n",
       "      <td>19.131100</td>\n",
       "      <td>17.710718</td>\n",
       "      <td>17.149128</td>\n",
       "      <td>16.756086</td>\n",
       "    </tr>\n",
       "    <tr>\n",
       "      <th>2</th>\n",
       "      <td>146.628573</td>\n",
       "      <td>-0.765147</td>\n",
       "      <td>0.064656</td>\n",
       "      <td>19.509130</td>\n",
       "      <td>17.592752</td>\n",
       "      <td>16.673574</td>\n",
       "      <td>16.205244</td>\n",
       "      <td>15.837440</td>\n",
       "    </tr>\n",
       "    <tr>\n",
       "      <th>3</th>\n",
       "      <td>146.631673</td>\n",
       "      <td>-0.988261</td>\n",
       "      <td>0.052654</td>\n",
       "      <td>19.489283</td>\n",
       "      <td>18.323746</td>\n",
       "      <td>17.839603</td>\n",
       "      <td>17.526131</td>\n",
       "      <td>17.422728</td>\n",
       "    </tr>\n",
       "    <tr>\n",
       "      <th>4</th>\n",
       "      <td>146.919416</td>\n",
       "      <td>-0.990517</td>\n",
       "      <td>0.213861</td>\n",
       "      <td>20.432014</td>\n",
       "      <td>18.648922</td>\n",
       "      <td>17.465515</td>\n",
       "      <td>16.998659</td>\n",
       "      <td>16.670509</td>\n",
       "    </tr>\n",
       "  </tbody>\n",
       "</table>\n",
       "</div>"
      ],
      "text/plain": [
       "           ra       dec  redshift          u          g          r          i  \\\n",
       "0  146.714191 -1.041276  0.021222  17.150417  15.497092  14.674012  14.234288   \n",
       "1  146.744142 -0.652220  0.203783  21.334766  19.131100  17.710718  17.149128   \n",
       "2  146.628573 -0.765147  0.064656  19.509130  17.592752  16.673574  16.205244   \n",
       "3  146.631673 -0.988261  0.052654  19.489283  18.323746  17.839603  17.526131   \n",
       "4  146.919416 -0.990517  0.213861  20.432014  18.648922  17.465515  16.998659   \n",
       "\n",
       "           z  \n",
       "0  13.907544  \n",
       "1  16.756086  \n",
       "2  15.837440  \n",
       "3  17.422728  \n",
       "4  16.670509  "
      ]
     },
     "execution_count": 4,
     "metadata": {},
     "output_type": "execute_result"
    }
   ],
   "source": [
    "data=pd.read_csv('SDSSspecgalsDR8.csv')\n",
    "data.head()"
   ]
  },
  {
   "cell_type": "markdown",
   "metadata": {
    "collapsed": true
   },
   "source": [
    "**Parte 1**"
   ]
  },
  {
   "cell_type": "code",
   "execution_count": 5,
   "metadata": {
    "collapsed": false
   },
   "outputs": [
    {
     "data": {
      "text/plain": [
       "661598"
      ]
     },
     "execution_count": 5,
     "metadata": {},
     "output_type": "execute_result"
    }
   ],
   "source": [
    "len(data)"
   ]
  },
  {
   "cell_type": "code",
   "execution_count": 6,
   "metadata": {
    "collapsed": false
   },
   "outputs": [
    {
     "data": {
      "text/plain": [
       "<matplotlib.axes._subplots.AxesSubplot at 0xad4e978>"
      ]
     },
     "execution_count": 6,
     "metadata": {},
     "output_type": "execute_result"
    },
    {
     "data": {
      "image/png": "[encoded data removed]",
      "text/plain": [
       "<matplotlib.figure.Figure at 0xac9eb70>"
      ]
     },
     "metadata": {},
     "output_type": "display_data"
    }
   ],
   "source": [
    "data.plot.scatter(x='ra',y='dec')"
   ]
  },
  {
   "cell_type": "code",
   "execution_count": 7,
   "metadata": {
    "collapsed": false,
    "scrolled": true
   },
   "outputs": [
    {
     "name": "stdout",
     "output_type": "stream",
     "text": [
      "0.87991311269\n"
     ]
    }
   ],
   "source": [
    "g = data['g']\n",
    "r = data['r']\n",
    "print np.mean(g-r)"
   ]
  },
  {
   "cell_type": "code",
   "execution_count": 8,
   "metadata": {
    "collapsed": false
   },
   "outputs": [
    {
     "name": "stdout",
     "output_type": "stream",
     "text": [
      "1.68387589644\n"
     ]
    }
   ],
   "source": [
    "u = data['u']\n",
    "g = data['g']\n",
    "print np.mean(u-g)"
   ]
  },
  {
   "cell_type": "code",
   "execution_count": 9,
   "metadata": {
    "collapsed": false
   },
   "outputs": [
    {
     "name": "stdout",
     "output_type": "stream",
     "text": [
      "0.417554304692\n"
     ]
    }
   ],
   "source": [
    "r = data['r']\n",
    "i = data['i']\n",
    "print np.mean(r-i)"
   ]
  },
  {
   "cell_type": "code",
   "execution_count": 10,
   "metadata": {
    "collapsed": false
   },
   "outputs": [
    {
     "name": "stdout",
     "output_type": "stream",
     "text": [
      "0.300008309814\n"
     ]
    }
   ],
   "source": [
    "i = data['i']\n",
    "z = data['z']\n",
    "print np.mean(i-z)"
   ]
  },
  {
   "cell_type": "code",
   "execution_count": 11,
   "metadata": {
    "collapsed": true
   },
   "outputs": [],
   "source": [
    "#Calculamos los colores utilizando dos magnitudes contiguas. A menor número el color será más azul y siendo mayor, este será rojo.\n",
    "#Dentro del catálogo, encontramos mayor cantidad de galaxias azules."
   ]
  },
  {
   "cell_type": "code",
   "execution_count": 12,
   "metadata": {
    "collapsed": false
   },
   "outputs": [
    {
     "data": {
      "text/plain": [
       "0.27618615120644596"
      ]
     },
     "execution_count": 12,
     "metadata": {},
     "output_type": "execute_result"
    }
   ],
   "source": [
    "np.std(g-r)"
   ]
  },
  {
   "cell_type": "code",
   "execution_count": 13,
   "metadata": {
    "collapsed": false
   },
   "outputs": [
    {
     "data": {
      "text/plain": [
       "(array([  1.00000000e+00,   0.00000000e+00,   0.00000000e+00,\n",
       "          0.00000000e+00,   0.00000000e+00,   0.00000000e+00,\n",
       "          0.00000000e+00,   0.00000000e+00,   0.00000000e+00,\n",
       "          2.00000000e+00,   2.00000000e+00,   0.00000000e+00,\n",
       "          3.00000000e+00,   3.00000000e+00,   0.00000000e+00,\n",
       "          2.00000000e+00,   3.00000000e+00,   9.00000000e+00,\n",
       "          5.00000000e+00,   7.00000000e+00,   1.20000000e+01,\n",
       "          2.00000000e+01,   4.10000000e+01,   3.80000000e+01,\n",
       "          1.30000000e+02,   4.08000000e+02,   1.30600000e+03,\n",
       "          3.71700000e+03,   7.68700000e+03,   1.23430000e+04,\n",
       "          1.64250000e+04,   1.96590000e+04,   2.18010000e+04,\n",
       "          2.42010000e+04,   2.68450000e+04,   2.92630000e+04,\n",
       "          3.23850000e+04,   3.71950000e+04,   4.55050000e+04,\n",
       "          5.43070000e+04,   5.79030000e+04,   5.41520000e+04,\n",
       "          4.69140000e+04,   3.94750000e+04,   3.10910000e+04,\n",
       "          2.36340000e+04,   1.79790000e+04,   1.39240000e+04,\n",
       "          1.08120000e+04,   8.23200000e+03,   6.72700000e+03,\n",
       "          5.62000000e+03,   4.34900000e+03,   2.89900000e+03,\n",
       "          1.76500000e+03,   9.50000000e+02,   5.94000000e+02,\n",
       "          4.22000000e+02,   2.36000000e+02,   1.42000000e+02,\n",
       "          4.80000000e+01,   2.60000000e+01,   1.10000000e+01,\n",
       "          1.00000000e+01,   1.00000000e+01,   8.00000000e+00,\n",
       "          5.00000000e+00,   3.00000000e+00,   9.00000000e+00,\n",
       "          5.00000000e+00,   3.00000000e+00,   5.00000000e+00,\n",
       "          2.00000000e+00,   4.00000000e+00,   4.00000000e+00,\n",
       "          5.00000000e+00,   4.00000000e+00,   3.00000000e+00,\n",
       "          3.00000000e+00,   4.00000000e+00,   1.00000000e+00,\n",
       "          4.00000000e+00,   1.00000000e+00,   2.00000000e+00,\n",
       "          0.00000000e+00,   2.00000000e+00,   3.00000000e+00,\n",
       "          2.00000000e+00,   5.00000000e+00,   2.00000000e+00,\n",
       "          4.00000000e+00,   3.00000000e+00,   1.00000000e+00,\n",
       "          3.00000000e+00,   5.00000000e+00,   5.00000000e+00,\n",
       "          4.00000000e+00,   9.00000000e+00,   6.00000000e+00,\n",
       "          6.00000000e+00,   1.00000000e+01,   1.00000000e+01,\n",
       "          1.00000000e+01,   1.10000000e+01,   8.00000000e+00,\n",
       "          6.00000000e+00,   7.00000000e+00,   9.00000000e+00,\n",
       "          6.00000000e+00,   8.00000000e+00,   7.00000000e+00,\n",
       "          5.00000000e+00,   5.00000000e+00,   5.00000000e+00,\n",
       "          6.00000000e+00,   3.00000000e+00,   4.00000000e+00,\n",
       "          4.00000000e+00,   4.00000000e+00,   4.00000000e+00,\n",
       "          5.00000000e+00,   4.00000000e+00,   3.00000000e+00,\n",
       "          3.00000000e+00,   5.00000000e+00,   3.00000000e+00,\n",
       "          5.00000000e+00,   5.00000000e+00,   2.00000000e+00,\n",
       "          5.00000000e+00,   2.00000000e+00,   1.00000000e+00,\n",
       "          1.00000000e+00,   0.00000000e+00,   2.00000000e+00,\n",
       "          4.00000000e+00,   1.00000000e+00,   1.00000000e+00,\n",
       "          0.00000000e+00,   2.00000000e+00,   2.00000000e+00,\n",
       "          0.00000000e+00,   2.00000000e+00,   1.00000000e+00,\n",
       "          0.00000000e+00,   1.00000000e+00,   1.00000000e+00,\n",
       "          0.00000000e+00,   1.00000000e+00,   1.00000000e+00,\n",
       "          1.00000000e+00,   0.00000000e+00,   0.00000000e+00,\n",
       "          1.00000000e+00,   1.00000000e+00,   1.00000000e+00,\n",
       "          0.00000000e+00,   0.00000000e+00,   0.00000000e+00,\n",
       "          0.00000000e+00,   1.00000000e+00,   0.00000000e+00,\n",
       "          0.00000000e+00,   0.00000000e+00,   0.00000000e+00,\n",
       "          0.00000000e+00,   0.00000000e+00,   0.00000000e+00,\n",
       "          0.00000000e+00,   1.00000000e+00,   1.00000000e+00,\n",
       "          1.00000000e+00,   0.00000000e+00,   0.00000000e+00,\n",
       "          0.00000000e+00,   0.00000000e+00,   0.00000000e+00,\n",
       "          1.00000000e+00,   0.00000000e+00,   0.00000000e+00,\n",
       "          0.00000000e+00,   2.00000000e+00,   0.00000000e+00,\n",
       "          0.00000000e+00,   3.00000000e+00,   0.00000000e+00,\n",
       "          0.00000000e+00,   0.00000000e+00,   0.00000000e+00,\n",
       "          0.00000000e+00,   2.00000000e+00,   0.00000000e+00,\n",
       "          0.00000000e+00,   0.00000000e+00,   1.00000000e+00,\n",
       "          0.00000000e+00,   0.00000000e+00,   0.00000000e+00,\n",
       "          0.00000000e+00,   1.00000000e+00]),\n",
       " array([-1.05040073, -1.0018263 , -0.95325187, -0.90467743, -0.856103  ,\n",
       "        -0.80752857, -0.75895413, -0.7103797 , -0.66180527, -0.61323083,\n",
       "        -0.5646564 , -0.51608197, -0.46750753, -0.4189331 , -0.37035867,\n",
       "        -0.32178423, -0.2732098 , -0.22463537, -0.17606093, -0.1274865 ,\n",
       "        -0.07891207, -0.03033763,  0.0182368 ,  0.06681123,  0.11538567,\n",
       "         0.1639601 ,  0.21253453,  0.26110897,  0.3096834 ,  0.35825783,\n",
       "         0.40683227,  0.4554067 ,  0.50398113,  0.55255557,  0.60113   ,\n",
       "         0.64970443,  0.69827887,  0.7468533 ,  0.79542773,  0.84400217,\n",
       "         0.8925766 ,  0.94115103,  0.98972547,  1.0382999 ,  1.08687433,\n",
       "         1.13544877,  1.1840232 ,  1.23259763,  1.28117207,  1.3297465 ,\n",
       "         1.37832093,  1.42689537,  1.4754698 ,  1.52404423,  1.57261867,\n",
       "         1.6211931 ,  1.66976753,  1.71834197,  1.7669164 ,  1.81549083,\n",
       "         1.86406527,  1.9126397 ,  1.96121413,  2.00978857,  2.058363  ,\n",
       "         2.10693743,  2.15551187,  2.2040863 ,  2.25266073,  2.30123517,\n",
       "         2.3498096 ,  2.39838403,  2.44695847,  2.4955329 ,  2.54410733,\n",
       "         2.59268177,  2.6412562 ,  2.68983063,  2.73840507,  2.7869795 ,\n",
       "         2.83555393,  2.88412837,  2.9327028 ,  2.98127723,  3.02985167,\n",
       "         3.0784261 ,  3.12700053,  3.17557497,  3.2241494 ,  3.27272383,\n",
       "         3.32129827,  3.3698727 ,  3.41844713,  3.46702157,  3.515596  ,\n",
       "         3.56417043,  3.61274487,  3.6613193 ,  3.70989373,  3.75846817,\n",
       "         3.8070426 ,  3.85561703,  3.90419147,  3.9527659 ,  4.00134033,\n",
       "         4.04991477,  4.0984892 ,  4.14706363,  4.19563807,  4.2442125 ,\n",
       "         4.29278693,  4.34136137,  4.3899358 ,  4.43851023,  4.48708467,\n",
       "         4.5356591 ,  4.58423353,  4.63280797,  4.6813824 ,  4.72995683,\n",
       "         4.77853127,  4.8271057 ,  4.87568013,  4.92425457,  4.972829  ,\n",
       "         5.02140343,  5.06997787,  5.1185523 ,  5.16712673,  5.21570117,\n",
       "         5.2642756 ,  5.31285003,  5.36142447,  5.4099989 ,  5.45857333,\n",
       "         5.50714777,  5.5557222 ,  5.60429663,  5.65287107,  5.7014455 ,\n",
       "         5.75001993,  5.79859437,  5.8471688 ,  5.89574323,  5.94431767,\n",
       "         5.9928921 ,  6.04146653,  6.09004097,  6.1386154 ,  6.18718983,\n",
       "         6.23576427,  6.2843387 ,  6.33291313,  6.38148757,  6.430062  ,\n",
       "         6.47863643,  6.52721087,  6.5757853 ,  6.62435973,  6.67293416,\n",
       "         6.7215086 ,  6.77008303,  6.81865746,  6.8672319 ,  6.91580633,\n",
       "         6.96438076,  7.0129552 ,  7.06152963,  7.11010406,  7.1586785 ,\n",
       "         7.20725293,  7.25582736,  7.3044018 ,  7.35297623,  7.40155066,\n",
       "         7.4501251 ,  7.49869953,  7.54727396,  7.5958484 ,  7.64442283,\n",
       "         7.69299726,  7.7415717 ,  7.79014613,  7.83872056,  7.887295  ,\n",
       "         7.93586943,  7.98444386,  8.0330183 ,  8.08159273,  8.13016716,\n",
       "         8.1787416 ,  8.22731603,  8.27589046,  8.3244649 ,  8.37303933,\n",
       "         8.42161376,  8.4701882 ,  8.51876263,  8.56733706,  8.6159115 ,\n",
       "         8.66448593]),\n",
       " <a list of 200 Patch objects>)"
      ]
     },
     "execution_count": 13,
     "metadata": {},
     "output_type": "execute_result"
    },
    {
     "data": {
      "image/png": "[encoded data removed]",
      "text/plain": [
       "<matplotlib.figure.Figure at 0x99a85c0>"
      ]
     },
     "metadata": {},
     "output_type": "display_data"
    }
   ],
   "source": [
    "plt.hist(g-r, bins=200)"
   ]
  },
  {
   "cell_type": "code",
   "execution_count": 14,
   "metadata": {
    "collapsed": false
   },
   "outputs": [
    {
     "data": {
      "text/plain": [
       "0.4023295924252722"
      ]
     },
     "execution_count": 14,
     "metadata": {},
     "output_type": "execute_result"
    }
   ],
   "source": [
    "np.std(u-g)"
   ]
  },
  {
   "cell_type": "code",
   "execution_count": 15,
   "metadata": {
    "collapsed": false
   },
   "outputs": [
    {
     "data": {
      "text/plain": [
       "(array([  1.00000000e+00,   0.00000000e+00,   0.00000000e+00,\n",
       "          0.00000000e+00,   0.00000000e+00,   0.00000000e+00,\n",
       "          0.00000000e+00,   0.00000000e+00,   0.00000000e+00,\n",
       "          1.00000000e+00,   0.00000000e+00,   1.00000000e+00,\n",
       "          0.00000000e+00,   2.00000000e+00,   0.00000000e+00,\n",
       "          0.00000000e+00,   0.00000000e+00,   0.00000000e+00,\n",
       "          0.00000000e+00,   1.00000000e+00,   0.00000000e+00,\n",
       "          0.00000000e+00,   0.00000000e+00,   1.00000000e+00,\n",
       "          0.00000000e+00,   1.00000000e+00,   0.00000000e+00,\n",
       "          0.00000000e+00,   0.00000000e+00,   0.00000000e+00,\n",
       "          0.00000000e+00,   1.00000000e+00,   0.00000000e+00,\n",
       "          0.00000000e+00,   0.00000000e+00,   0.00000000e+00,\n",
       "          1.00000000e+00,   0.00000000e+00,   0.00000000e+00,\n",
       "          1.00000000e+00,   0.00000000e+00,   1.00000000e+00,\n",
       "          0.00000000e+00,   2.00000000e+00,   1.00000000e+00,\n",
       "          1.00000000e+00,   2.00000000e+00,   0.00000000e+00,\n",
       "          2.00000000e+00,   0.00000000e+00,   2.00000000e+00,\n",
       "          0.00000000e+00,   2.00000000e+00,   2.00000000e+00,\n",
       "          1.00000000e+00,   2.00000000e+00,   1.00000000e+00,\n",
       "          3.00000000e+00,   4.00000000e+00,   2.00000000e+00,\n",
       "          0.00000000e+00,   3.00000000e+00,   3.00000000e+00,\n",
       "          2.00000000e+00,   2.00000000e+00,   6.00000000e+00,\n",
       "          1.00000000e+00,   3.00000000e+00,   2.00000000e+00,\n",
       "          4.00000000e+00,   1.00000000e+00,   1.00000000e+00,\n",
       "          2.00000000e+00,   3.00000000e+00,   0.00000000e+00,\n",
       "          2.00000000e+00,   1.00000000e+00,   2.00000000e+00,\n",
       "          2.00000000e+00,   2.00000000e+00,   3.00000000e+00,\n",
       "          5.00000000e+00,   5.00000000e+00,   2.00000000e+00,\n",
       "          3.00000000e+00,   2.00000000e+00,   3.00000000e+00,\n",
       "          6.00000000e+00,   5.00000000e+00,   7.00000000e+00,\n",
       "          6.00000000e+00,   6.00000000e+00,   5.00000000e+00,\n",
       "          4.00000000e+00,   8.00000000e+00,   3.00000000e+00,\n",
       "          8.00000000e+00,   6.00000000e+00,   8.00000000e+00,\n",
       "          9.00000000e+00,   5.00000000e+00,   1.00000000e+01,\n",
       "          6.00000000e+00,   9.00000000e+00,   5.00000000e+00,\n",
       "          1.20000000e+01,   2.20000000e+01,   3.20000000e+01,\n",
       "          5.30000000e+01,   7.50000000e+01,   6.40000000e+01,\n",
       "          8.80000000e+01,   9.40000000e+01,   1.08000000e+02,\n",
       "          1.05000000e+02,   1.17000000e+02,   1.67000000e+02,\n",
       "          1.74000000e+02,   2.71000000e+02,   4.80000000e+02,\n",
       "          1.08600000e+03,   2.71500000e+03,   6.11400000e+03,\n",
       "          1.13250000e+04,   1.75090000e+04,   2.37750000e+04,\n",
       "          2.76420000e+04,   2.93270000e+04,   2.94440000e+04,\n",
       "          2.84710000e+04,   2.63710000e+04,   2.50890000e+04,\n",
       "          2.40680000e+04,   2.49210000e+04,   2.77030000e+04,\n",
       "          3.28490000e+04,   4.07620000e+04,   4.88290000e+04,\n",
       "          5.37290000e+04,   4.94350000e+04,   3.82670000e+04,\n",
       "          2.66800000e+04,   1.78660000e+04,   1.21550000e+04,\n",
       "          8.08500000e+03,   5.55100000e+03,   4.14000000e+03,\n",
       "          2.99200000e+03,   2.19100000e+03,   1.70600000e+03,\n",
       "          1.41900000e+03,   1.11300000e+03,   9.07000000e+02,\n",
       "          7.45000000e+02,   5.77000000e+02,   5.50000000e+02,\n",
       "          3.94000000e+02,   3.60000000e+02,   2.47000000e+02,\n",
       "          2.43000000e+02,   2.01000000e+02,   1.69000000e+02,\n",
       "          1.71000000e+02,   1.39000000e+02,   1.11000000e+02,\n",
       "          9.80000000e+01,   1.11000000e+02,   1.02000000e+02,\n",
       "          1.10000000e+02,   9.30000000e+01,   7.20000000e+01,\n",
       "          7.50000000e+01,   6.60000000e+01,   7.20000000e+01,\n",
       "          6.50000000e+01,   5.90000000e+01,   5.20000000e+01,\n",
       "          5.30000000e+01,   4.00000000e+01,   4.40000000e+01,\n",
       "          4.40000000e+01,   3.60000000e+01,   3.00000000e+01,\n",
       "          2.40000000e+01,   2.40000000e+01,   1.40000000e+01,\n",
       "          1.10000000e+01,   1.30000000e+01,   9.00000000e+00,\n",
       "          9.00000000e+00,   1.20000000e+01,   8.00000000e+00,\n",
       "          1.20000000e+01,   5.00000000e+00,   6.00000000e+00,\n",
       "          1.00000000e+00,   1.00000000e+00,   1.00000000e+00,\n",
       "          0.00000000e+00,   1.00000000e+00]),\n",
       " array([-6.39672279, -6.33677534, -6.27682789, -6.21688044, -6.15693298,\n",
       "        -6.09698553, -6.03703808, -5.97709063, -5.91714317, -5.85719572,\n",
       "        -5.79724827, -5.73730082, -5.67735336, -5.61740591, -5.55745846,\n",
       "        -5.49751101, -5.43756355, -5.3776161 , -5.31766865, -5.2577212 ,\n",
       "        -5.19777374, -5.13782629, -5.07787884, -5.01793139, -4.95798393,\n",
       "        -4.89803648, -4.83808903, -4.77814157, -4.71819412, -4.65824667,\n",
       "        -4.59829922, -4.53835176, -4.47840431, -4.41845686, -4.35850941,\n",
       "        -4.29856195, -4.2386145 , -4.17866705, -4.1187196 , -4.05877214,\n",
       "        -3.99882469, -3.93887724, -3.87892979, -3.81898233, -3.75903488,\n",
       "        -3.69908743, -3.63913998, -3.57919252, -3.51924507, -3.45929762,\n",
       "        -3.39935017, -3.33940271, -3.27945526, -3.21950781, -3.15956036,\n",
       "        -3.0996129 , -3.03966545, -2.979718  , -2.91977055, -2.85982309,\n",
       "        -2.79987564, -2.73992819, -2.67998074, -2.62003328, -2.56008583,\n",
       "        -2.50013838, -2.44019093, -2.38024347, -2.32029602, -2.26034857,\n",
       "        -2.20040112, -2.14045366, -2.08050621, -2.02055876, -1.96061131,\n",
       "        -1.90066385, -1.8407164 , -1.78076895, -1.7208215 , -1.66087404,\n",
       "        -1.60092659, -1.54097914, -1.48103168, -1.42108423, -1.36113678,\n",
       "        -1.30118933, -1.24124187, -1.18129442, -1.12134697, -1.06139952,\n",
       "        -1.00145206, -0.94150461, -0.88155716, -0.82160971, -0.76166225,\n",
       "        -0.7017148 , -0.64176735, -0.5818199 , -0.52187244, -0.46192499,\n",
       "        -0.40197754, -0.34203009, -0.28208263, -0.22213518, -0.16218773,\n",
       "        -0.10224028, -0.04229282,  0.01765463,  0.07760208,  0.13754953,\n",
       "         0.19749699,  0.25744444,  0.31739189,  0.37733934,  0.4372868 ,\n",
       "         0.49723425,  0.5571817 ,  0.61712915,  0.67707661,  0.73702406,\n",
       "         0.79697151,  0.85691896,  0.91686642,  0.97681387,  1.03676132,\n",
       "         1.09670877,  1.15665623,  1.21660368,  1.27655113,  1.33649858,\n",
       "         1.39644604,  1.45639349,  1.51634094,  1.57628839,  1.63623585,\n",
       "         1.6961833 ,  1.75613075,  1.81607821,  1.87602566,  1.93597311,\n",
       "         1.99592056,  2.05586802,  2.11581547,  2.17576292,  2.23571037,\n",
       "         2.29565783,  2.35560528,  2.41555273,  2.47550018,  2.53544764,\n",
       "         2.59539509,  2.65534254,  2.71528999,  2.77523745,  2.8351849 ,\n",
       "         2.89513235,  2.9550798 ,  3.01502726,  3.07497471,  3.13492216,\n",
       "         3.19486961,  3.25481707,  3.31476452,  3.37471197,  3.43465942,\n",
       "         3.49460688,  3.55455433,  3.61450178,  3.67444923,  3.73439669,\n",
       "         3.79434414,  3.85429159,  3.91423904,  3.9741865 ,  4.03413395,\n",
       "         4.0940814 ,  4.15402885,  4.21397631,  4.27392376,  4.33387121,\n",
       "         4.39381866,  4.45376612,  4.51371357,  4.57366102,  4.63360847,\n",
       "         4.69355593,  4.75350338,  4.81345083,  4.87339828,  4.93334574,\n",
       "         4.99329319,  5.05324064,  5.1131881 ,  5.17313555,  5.233083  ,\n",
       "         5.29303045,  5.35297791,  5.41292536,  5.47287281,  5.53282026,\n",
       "         5.59276772]),\n",
       " <a list of 200 Patch objects>)"
      ]
     },
     "execution_count": 15,
     "metadata": {},
     "output_type": "execute_result"
    },
    {
     "data": {
      "image/png": "[encoded data removed]",
      "text/plain": [
       "<matplotlib.figure.Figure at 0xaeb22e8>"
      ]
     },
     "metadata": {},
     "output_type": "display_data"
    }
   ],
   "source": [
    "plt.hist(u-g,bins=200)"
   ]
  },
  {
   "cell_type": "code",
   "execution_count": 16,
   "metadata": {
    "collapsed": false
   },
   "outputs": [
    {
     "data": {
      "text/plain": [
       "0.13265735116254213"
      ]
     },
     "execution_count": 16,
     "metadata": {},
     "output_type": "execute_result"
    }
   ],
   "source": [
    "np.std(r-i)"
   ]
  },
  {
   "cell_type": "code",
   "execution_count": 17,
   "metadata": {
    "collapsed": false
   },
   "outputs": [
    {
     "data": {
      "text/plain": [
       "(array([  1.00000000e+00,   0.00000000e+00,   0.00000000e+00,\n",
       "          0.00000000e+00,   0.00000000e+00,   0.00000000e+00,\n",
       "          0.00000000e+00,   0.00000000e+00,   0.00000000e+00,\n",
       "          0.00000000e+00,   0.00000000e+00,   0.00000000e+00,\n",
       "          0.00000000e+00,   0.00000000e+00,   0.00000000e+00,\n",
       "          0.00000000e+00,   0.00000000e+00,   0.00000000e+00,\n",
       "          0.00000000e+00,   0.00000000e+00,   0.00000000e+00,\n",
       "          0.00000000e+00,   0.00000000e+00,   0.00000000e+00,\n",
       "          0.00000000e+00,   0.00000000e+00,   0.00000000e+00,\n",
       "          0.00000000e+00,   0.00000000e+00,   0.00000000e+00,\n",
       "          0.00000000e+00,   0.00000000e+00,   0.00000000e+00,\n",
       "          0.00000000e+00,   0.00000000e+00,   0.00000000e+00,\n",
       "          0.00000000e+00,   1.00000000e+00,   0.00000000e+00,\n",
       "          0.00000000e+00,   0.00000000e+00,   0.00000000e+00,\n",
       "          0.00000000e+00,   1.00000000e+00,   0.00000000e+00,\n",
       "          3.00000000e+00,   1.00000000e+00,   1.00000000e+00,\n",
       "          0.00000000e+00,   0.00000000e+00,   1.00000000e+00,\n",
       "          1.00000000e+00,   2.00000000e+00,   2.00000000e+00,\n",
       "          4.00000000e+00,   1.00000000e+00,   0.00000000e+00,\n",
       "          2.00000000e+00,   1.00000000e+00,   1.00000000e+00,\n",
       "          1.00000000e+00,   2.00000000e+00,   3.00000000e+00,\n",
       "          5.00000000e+00,   4.00000000e+00,   5.00000000e+00,\n",
       "          1.00000000e+00,   5.00000000e+00,   3.00000000e+00,\n",
       "          8.00000000e+00,   3.00000000e+00,   6.00000000e+00,\n",
       "          7.00000000e+00,   2.00000000e+00,   4.00000000e+00,\n",
       "          6.00000000e+00,   2.00000000e+00,   0.00000000e+00,\n",
       "          1.00000000e+00,   1.00000000e+00,   1.00000000e+00,\n",
       "          0.00000000e+00,   0.00000000e+00,   0.00000000e+00,\n",
       "          0.00000000e+00,   0.00000000e+00,   0.00000000e+00,\n",
       "          0.00000000e+00,   1.00000000e+00,   1.00000000e+00,\n",
       "          0.00000000e+00,   0.00000000e+00,   1.00000000e+00,\n",
       "          1.00000000e+00,   0.00000000e+00,   0.00000000e+00,\n",
       "          0.00000000e+00,   0.00000000e+00,   1.00000000e+00,\n",
       "          1.00000000e+00,   1.00000000e+00,   1.00000000e+00,\n",
       "          0.00000000e+00,   1.00000000e+00,   0.00000000e+00,\n",
       "          2.00000000e+00,   0.00000000e+00,   0.00000000e+00,\n",
       "          0.00000000e+00,   3.00000000e+00,   1.00000000e+00,\n",
       "          4.00000000e+00,   2.00000000e+00,   0.00000000e+00,\n",
       "          2.00000000e+00,   1.00000000e+00,   3.00000000e+00,\n",
       "          0.00000000e+00,   3.00000000e+00,   6.00000000e+00,\n",
       "          4.00000000e+00,   2.00000000e+00,   5.00000000e+00,\n",
       "          1.00000000e+00,   8.00000000e+00,   3.00000000e+00,\n",
       "          7.00000000e+00,   4.00000000e+00,   8.00000000e+00,\n",
       "          2.00000000e+00,   5.00000000e+00,   2.00000000e+00,\n",
       "          4.00000000e+00,   3.00000000e+00,   6.00000000e+00,\n",
       "          6.00000000e+00,   6.00000000e+00,   4.00000000e+00,\n",
       "          4.00000000e+00,   1.00000000e+00,   5.00000000e+00,\n",
       "          4.00000000e+00,   4.00000000e+00,   7.00000000e+00,\n",
       "          8.00000000e+00,   2.00000000e+00,   3.00000000e+00,\n",
       "          7.00000000e+00,   3.00000000e+00,   3.00000000e+00,\n",
       "          5.00000000e+00,   4.00000000e+00,   3.00000000e+00,\n",
       "          5.00000000e+00,   4.00000000e+00,   4.00000000e+00,\n",
       "          2.00000000e+00,   6.00000000e+00,   8.00000000e+00,\n",
       "          7.00000000e+00,   4.00000000e+00,   9.00000000e+00,\n",
       "          9.00000000e+00,   1.00000000e+01,   9.00000000e+00,\n",
       "          1.50000000e+01,   1.40000000e+01,   1.50000000e+01,\n",
       "          3.20000000e+01,   3.60000000e+01,   3.40000000e+01,\n",
       "          6.00000000e+01,   1.28000000e+02,   2.66000000e+02,\n",
       "          1.25700000e+03,   8.12600000e+03,   2.70860000e+04,\n",
       "          6.17970000e+04,   1.62823000e+05,   2.57299000e+05,\n",
       "          1.14945000e+05,   2.42310000e+04,   2.66100000e+03,\n",
       "          2.46000000e+02,   7.70000000e+01,   3.40000000e+01,\n",
       "          2.00000000e+01,   1.30000000e+01,   1.10000000e+01,\n",
       "          5.00000000e+00,   7.00000000e+00,   1.00000000e+00,\n",
       "          4.00000000e+00,   0.00000000e+00,   2.00000000e+00,\n",
       "          1.00000000e+00,   1.00000000e+00,   1.00000000e+00,\n",
       "          0.00000000e+00,   1.00000000e+00]),\n",
       " array([-11.41454506, -11.34848334, -11.28242162, -11.2163599 ,\n",
       "        -11.15029818, -11.08423645, -11.01817473, -10.95211301,\n",
       "        -10.88605129, -10.81998957, -10.75392785, -10.68786613,\n",
       "        -10.62180441, -10.55574269, -10.48968097, -10.42361925,\n",
       "        -10.35755753, -10.2914958 , -10.22543408, -10.15937236,\n",
       "        -10.09331064, -10.02724892,  -9.9611872 ,  -9.89512548,\n",
       "         -9.82906376,  -9.76300204,  -9.69694032,  -9.6308786 ,\n",
       "         -9.56481688,  -9.49875515,  -9.43269343,  -9.36663171,\n",
       "         -9.30056999,  -9.23450827,  -9.16844655,  -9.10238483,\n",
       "         -9.03632311,  -8.97026139,  -8.90419967,  -8.83813795,\n",
       "         -8.77207623,  -8.7060145 ,  -8.63995278,  -8.57389106,\n",
       "         -8.50782934,  -8.44176762,  -8.3757059 ,  -8.30964418,\n",
       "         -8.24358246,  -8.17752074,  -8.11145902,  -8.0453973 ,\n",
       "         -7.97933558,  -7.91327385,  -7.84721213,  -7.78115041,\n",
       "         -7.71508869,  -7.64902697,  -7.58296525,  -7.51690353,\n",
       "         -7.45084181,  -7.38478009,  -7.31871837,  -7.25265665,\n",
       "         -7.18659492,  -7.1205332 ,  -7.05447148,  -6.98840976,\n",
       "         -6.92234804,  -6.85628632,  -6.7902246 ,  -6.72416288,\n",
       "         -6.65810116,  -6.59203944,  -6.52597772,  -6.459916  ,\n",
       "         -6.39385427,  -6.32779255,  -6.26173083,  -6.19566911,\n",
       "         -6.12960739,  -6.06354567,  -5.99748395,  -5.93142223,\n",
       "         -5.86536051,  -5.79929879,  -5.73323707,  -5.66717535,\n",
       "         -5.60111362,  -5.5350519 ,  -5.46899018,  -5.40292846,\n",
       "         -5.33686674,  -5.27080502,  -5.2047433 ,  -5.13868158,\n",
       "         -5.07261986,  -5.00655814,  -4.94049642,  -4.8744347 ,\n",
       "         -4.80837297,  -4.74231125,  -4.67624953,  -4.61018781,\n",
       "         -4.54412609,  -4.47806437,  -4.41200265,  -4.34594093,\n",
       "         -4.27987921,  -4.21381749,  -4.14775577,  -4.08169405,\n",
       "         -4.01563232,  -3.9495706 ,  -3.88350888,  -3.81744716,\n",
       "         -3.75138544,  -3.68532372,  -3.619262  ,  -3.55320028,\n",
       "         -3.48713856,  -3.42107684,  -3.35501512,  -3.28895339,\n",
       "         -3.22289167,  -3.15682995,  -3.09076823,  -3.02470651,\n",
       "         -2.95864479,  -2.89258307,  -2.82652135,  -2.76045963,\n",
       "         -2.69439791,  -2.62833619,  -2.56227447,  -2.49621274,\n",
       "         -2.43015102,  -2.3640893 ,  -2.29802758,  -2.23196586,\n",
       "         -2.16590414,  -2.09984242,  -2.0337807 ,  -1.96771898,\n",
       "         -1.90165726,  -1.83559554,  -1.76953382,  -1.70347209,\n",
       "         -1.63741037,  -1.57134865,  -1.50528693,  -1.43922521,\n",
       "         -1.37316349,  -1.30710177,  -1.24104005,  -1.17497833,\n",
       "         -1.10891661,  -1.04285489,  -0.97679317,  -0.91073144,\n",
       "         -0.84466972,  -0.778608  ,  -0.71254628,  -0.64648456,\n",
       "         -0.58042284,  -0.51436112,  -0.4482994 ,  -0.38223768,\n",
       "         -0.31617596,  -0.25011424,  -0.18405252,  -0.11799079,\n",
       "         -0.05192907,   0.01413265,   0.08019437,   0.14625609,\n",
       "          0.21231781,   0.27837953,   0.34444125,   0.41050297,\n",
       "          0.47656469,   0.54262641,   0.60868814,   0.67474986,\n",
       "          0.74081158,   0.8068733 ,   0.87293502,   0.93899674,\n",
       "          1.00505846,   1.07112018,   1.1371819 ,   1.20324362,\n",
       "          1.26930534,   1.33536706,   1.40142879,   1.46749051,\n",
       "          1.53355223,   1.59961395,   1.66567567,   1.73173739,   1.79779911]),\n",
       " <a list of 200 Patch objects>)"
      ]
     },
     "execution_count": 17,
     "metadata": {},
     "output_type": "execute_result"
    },
    {
     "data": {
      "image/png": "[encoded data removed]",
      "text/plain": [
       "<matplotlib.figure.Figure at 0x9868780>"
      ]
     },
     "metadata": {},
     "output_type": "display_data"
    }
   ],
   "source": [
    "plt.hist(r-i,bins=200)"
   ]
  },
  {
   "cell_type": "code",
   "execution_count": 18,
   "metadata": {
    "collapsed": false
   },
   "outputs": [
    {
     "data": {
      "text/plain": [
       "0.1549123550219257"
      ]
     },
     "execution_count": 18,
     "metadata": {},
     "output_type": "execute_result"
    }
   ],
   "source": [
    "np.std(i-z)"
   ]
  },
  {
   "cell_type": "code",
   "execution_count": 19,
   "metadata": {
    "collapsed": false
   },
   "outputs": [
    {
     "data": {
      "text/plain": [
       "(array([  1.00000000e+00,   0.00000000e+00,   0.00000000e+00,\n",
       "          0.00000000e+00,   0.00000000e+00,   0.00000000e+00,\n",
       "          1.00000000e+00,   0.00000000e+00,   1.00000000e+00,\n",
       "          0.00000000e+00,   0.00000000e+00,   0.00000000e+00,\n",
       "          0.00000000e+00,   0.00000000e+00,   0.00000000e+00,\n",
       "          0.00000000e+00,   1.00000000e+00,   0.00000000e+00,\n",
       "          0.00000000e+00,   0.00000000e+00,   1.00000000e+00,\n",
       "          1.00000000e+00,   2.00000000e+00,   0.00000000e+00,\n",
       "          1.00000000e+00,   2.00000000e+00,   1.00000000e+00,\n",
       "          2.00000000e+00,   3.00000000e+00,   1.00000000e+00,\n",
       "          3.00000000e+00,   1.00000000e+00,   2.00000000e+00,\n",
       "          2.00000000e+00,   3.00000000e+00,   1.00000000e+00,\n",
       "          4.00000000e+00,   5.00000000e+00,   3.00000000e+00,\n",
       "          5.00000000e+00,   3.00000000e+00,   5.00000000e+00,\n",
       "          3.00000000e+00,   1.00000000e+00,   3.00000000e+00,\n",
       "          3.00000000e+00,   1.00000000e+00,   6.00000000e+00,\n",
       "          0.00000000e+00,   1.00000000e+00,   2.00000000e+00,\n",
       "          1.00000000e+00,   2.00000000e+00,   1.00000000e+00,\n",
       "          4.00000000e+00,   2.00000000e+00,   2.00000000e+00,\n",
       "          1.00000000e+00,   0.00000000e+00,   2.00000000e+00,\n",
       "          2.00000000e+00,   5.00000000e+00,   4.00000000e+00,\n",
       "          5.00000000e+00,   9.00000000e+00,   5.00000000e+00,\n",
       "          8.00000000e+00,   6.00000000e+00,   8.00000000e+00,\n",
       "          4.00000000e+00,   8.00000000e+00,   6.00000000e+00,\n",
       "          9.00000000e+00,   1.20000000e+01,   1.00000000e+01,\n",
       "          7.00000000e+00,   8.00000000e+00,   9.00000000e+00,\n",
       "          1.40000000e+01,   6.00000000e+00,   1.30000000e+01,\n",
       "          5.00000000e+00,   9.00000000e+00,   7.00000000e+00,\n",
       "          6.00000000e+00,   1.50000000e+01,   1.20000000e+01,\n",
       "          1.80000000e+01,   1.20000000e+01,   1.80000000e+01,\n",
       "          1.90000000e+01,   3.50000000e+01,   3.70000000e+01,\n",
       "          6.00000000e+01,   7.70000000e+01,   1.44000000e+02,\n",
       "          2.64000000e+02,   1.01200000e+03,   6.52500000e+03,\n",
       "          4.10680000e+04,   1.08549000e+05,   2.95795000e+05,\n",
       "          1.98257000e+05,   8.36700000e+03,   4.37000000e+02,\n",
       "          1.26000000e+02,   8.10000000e+01,   3.90000000e+01,\n",
       "          4.30000000e+01,   1.70000000e+01,   1.50000000e+01,\n",
       "          1.10000000e+01,   8.00000000e+00,   8.00000000e+00,\n",
       "          1.10000000e+01,   8.00000000e+00,   6.00000000e+00,\n",
       "          5.00000000e+00,   4.00000000e+00,   9.00000000e+00,\n",
       "          2.00000000e+00,   4.00000000e+00,   2.00000000e+00,\n",
       "          2.00000000e+00,   2.00000000e+00,   5.00000000e+00,\n",
       "          4.00000000e+00,   6.00000000e+00,   6.00000000e+00,\n",
       "          3.00000000e+00,   6.00000000e+00,   4.00000000e+00,\n",
       "          4.00000000e+00,   6.00000000e+00,   5.00000000e+00,\n",
       "          9.00000000e+00,   1.00000000e+00,   4.00000000e+00,\n",
       "          8.00000000e+00,   5.00000000e+00,   3.00000000e+00,\n",
       "          4.00000000e+00,   5.00000000e+00,   4.00000000e+00,\n",
       "          5.00000000e+00,   2.00000000e+00,   2.00000000e+00,\n",
       "          1.00000000e+00,   1.00000000e+00,   4.00000000e+00,\n",
       "          1.00000000e+00,   2.00000000e+00,   0.00000000e+00,\n",
       "          0.00000000e+00,   0.00000000e+00,   2.00000000e+00,\n",
       "          0.00000000e+00,   1.00000000e+00,   0.00000000e+00,\n",
       "          0.00000000e+00,   0.00000000e+00,   0.00000000e+00,\n",
       "          1.00000000e+00,   0.00000000e+00,   0.00000000e+00,\n",
       "          0.00000000e+00,   0.00000000e+00,   0.00000000e+00,\n",
       "          1.00000000e+00,   0.00000000e+00,   2.00000000e+00,\n",
       "          0.00000000e+00,   1.00000000e+00,   2.00000000e+00,\n",
       "          5.00000000e+00,   6.00000000e+00,   6.00000000e+00,\n",
       "          6.00000000e+00,   5.00000000e+00,   7.00000000e+00,\n",
       "          7.00000000e+00,   6.00000000e+00,   3.00000000e+00,\n",
       "          3.00000000e+00,   2.00000000e+00,   3.00000000e+00,\n",
       "          4.00000000e+00,   3.00000000e+00,   2.00000000e+00,\n",
       "          1.00000000e+00,   2.00000000e+00,   1.00000000e+00,\n",
       "          0.00000000e+00,   1.00000000e+00,   2.00000000e+00,\n",
       "          2.00000000e+00,   0.00000000e+00,   1.00000000e+00,\n",
       "          0.00000000e+00,   1.00000000e+00]),\n",
       " array([-9.23151207, -9.13760507, -9.04369807, -8.94979107, -8.85588408,\n",
       "        -8.76197708, -8.66807008, -8.57416308, -8.48025608, -8.38634908,\n",
       "        -8.29244208, -8.19853508, -8.10462809, -8.01072109, -7.91681409,\n",
       "        -7.82290709, -7.72900009, -7.63509309, -7.54118609, -7.4472791 ,\n",
       "        -7.3533721 , -7.2594651 , -7.1655581 , -7.0716511 , -6.9777441 ,\n",
       "        -6.8838371 , -6.78993011, -6.69602311, -6.60211611, -6.50820911,\n",
       "        -6.41430211, -6.32039511, -6.22648811, -6.13258111, -6.03867412,\n",
       "        -5.94476712, -5.85086012, -5.75695312, -5.66304612, -5.56913912,\n",
       "        -5.47523212, -5.38132513, -5.28741813, -5.19351113, -5.09960413,\n",
       "        -5.00569713, -4.91179013, -4.81788313, -4.72397614, -4.63006914,\n",
       "        -4.53616214, -4.44225514, -4.34834814, -4.25444114, -4.16053414,\n",
       "        -4.06662714, -3.97272015, -3.87881315, -3.78490615, -3.69099915,\n",
       "        -3.59709215, -3.50318515, -3.40927815, -3.31537116, -3.22146416,\n",
       "        -3.12755716, -3.03365016, -2.93974316, -2.84583616, -2.75192916,\n",
       "        -2.65802217, -2.56411517, -2.47020817, -2.37630117, -2.28239417,\n",
       "        -2.18848717, -2.09458017, -2.00067317, -1.90676618, -1.81285918,\n",
       "        -1.71895218, -1.62504518, -1.53113818, -1.43723118, -1.34332418,\n",
       "        -1.24941719, -1.15551019, -1.06160319, -0.96769619, -0.87378919,\n",
       "        -0.77988219, -0.68597519, -0.5920682 , -0.4981612 , -0.4042542 ,\n",
       "        -0.3103472 , -0.2164402 , -0.1225332 , -0.0286262 ,  0.0652808 ,\n",
       "         0.15918779,  0.25309479,  0.34700179,  0.44090879,  0.53481579,\n",
       "         0.62872279,  0.72262979,  0.81653678,  0.91044378,  1.00435078,\n",
       "         1.09825778,  1.19216478,  1.28607178,  1.37997878,  1.47388577,\n",
       "         1.56779277,  1.66169977,  1.75560677,  1.84951377,  1.94342077,\n",
       "         2.03732777,  2.13123477,  2.22514176,  2.31904876,  2.41295576,\n",
       "         2.50686276,  2.60076976,  2.69467676,  2.78858376,  2.88249075,\n",
       "         2.97639775,  3.07030475,  3.16421175,  3.25811875,  3.35202575,\n",
       "         3.44593275,  3.53983974,  3.63374674,  3.72765374,  3.82156074,\n",
       "         3.91546774,  4.00937474,  4.10328174,  4.19718874,  4.29109573,\n",
       "         4.38500273,  4.47890973,  4.57281673,  4.66672373,  4.76063073,\n",
       "         4.85453773,  4.94844472,  5.04235172,  5.13625872,  5.23016572,\n",
       "         5.32407272,  5.41797972,  5.51188672,  5.60579371,  5.69970071,\n",
       "         5.79360771,  5.88751471,  5.98142171,  6.07532871,  6.16923571,\n",
       "         6.2631427 ,  6.3570497 ,  6.4509567 ,  6.5448637 ,  6.6387707 ,\n",
       "         6.7326777 ,  6.8265847 ,  6.9204917 ,  7.01439869,  7.10830569,\n",
       "         7.20221269,  7.29611969,  7.39002669,  7.48393369,  7.57784069,\n",
       "         7.67174768,  7.76565468,  7.85956168,  7.95346868,  8.04737568,\n",
       "         8.14128268,  8.23518968,  8.32909667,  8.42300367,  8.51691067,\n",
       "         8.61081767,  8.70472467,  8.79863167,  8.89253867,  8.98644567,\n",
       "         9.08035266,  9.17425966,  9.26816666,  9.36207366,  9.45598066,\n",
       "         9.54988766]),\n",
       " <a list of 200 Patch objects>)"
      ]
     },
     "execution_count": 19,
     "metadata": {},
     "output_type": "execute_result"
    },
    {
     "data": {
      "image/png": "[encoded data removed]",
      "text/plain": [
       "<matplotlib.figure.Figure at 0xec3c198>"
      ]
     },
     "metadata": {},
     "output_type": "display_data"
    }
   ],
   "source": [
    "plt.hist(i-z,bins=200)"
   ]
  },
  {
   "cell_type": "markdown",
   "metadata": {
    "collapsed": false
   },
   "source": [
    "**Parte 2**"
   ]
  },
  {
   "cell_type": "code",
   "execution_count": 20,
   "metadata": {
    "collapsed": false
   },
   "outputs": [
    {
     "data": {
      "text/plain": [
       "<matplotlib.text.Text at 0xf459748>"
      ]
     },
     "execution_count": 20,
     "metadata": {},
     "output_type": "execute_result"
    },
    {
     "data": {
      "image/png": "[encoded data removed]",
      "text/plain": [
       "<matplotlib.figure.Figure at 0x9886470>"
      ]
     },
     "metadata": {},
     "output_type": "display_data"
    }
   ],
   "source": [
    "g=data['g']\n",
    "r=data['r']\n",
    "plt.plot(g-r,r,'o',color='red')\n",
    "plt.xlabel('color g-r')\n",
    "plt.ylabel('magnitud r')"
   ]
  },
  {
   "cell_type": "code",
   "execution_count": 21,
   "metadata": {
    "collapsed": false
   },
   "outputs": [
    {
     "data": {
      "text/plain": [
       "<matplotlib.text.Text at 0xf7b82b0>"
      ]
     },
     "execution_count": 21,
     "metadata": {},
     "output_type": "execute_result"
    },
    {
     "data": {
      "image/png": "[encoded data removed]",
      "text/plain": [
       "<matplotlib.figure.Figure at 0xddb7a90>"
      ]
     },
     "metadata": {},
     "output_type": "display_data"
    }
   ],
   "source": [
    "g=data['g']\n",
    "u=data['u']\n",
    "plt.plot(u-g,g,'o',color='turquoise')\n",
    "plt.xlabel('color u-g')\n",
    "plt.ylabel('magnitud g')"
   ]
  },
  {
   "cell_type": "code",
   "execution_count": 22,
   "metadata": {
    "collapsed": false
   },
   "outputs": [
    {
     "data": {
      "text/plain": [
       "<matplotlib.text.Text at 0xdfc1c88>"
      ]
     },
     "execution_count": 22,
     "metadata": {},
     "output_type": "execute_result"
    },
    {
     "data": {
      "image/png": "[encoded data removed]",
      "text/plain": [
       "<matplotlib.figure.Figure at 0xdec7160>"
      ]
     },
     "metadata": {},
     "output_type": "display_data"
    }
   ],
   "source": [
    "i=data['i']\n",
    "r=data['r']\n",
    "plt.plot(r-i,i,'o',color='green')\n",
    "plt.xlabel('color r-i')\n",
    "plt.ylabel('magnitud i')"
   ]
  },
  {
   "cell_type": "code",
   "execution_count": 23,
   "metadata": {
    "collapsed": false
   },
   "outputs": [
    {
     "data": {
      "text/plain": [
       "<matplotlib.text.Text at 0xe0c3fd0>"
      ]
     },
     "execution_count": 23,
     "metadata": {},
     "output_type": "execute_result"
    },
    {
     "data": {
      "image/png": "[encoded data removed]",
      "text/plain": [
       "<matplotlib.figure.Figure at 0xb3717b8>"
      ]
     },
     "metadata": {},
     "output_type": "display_data"
    }
   ],
   "source": [
    "i=data['i']\n",
    "z=data['z']\n",
    "plt.plot(i-z,z,'o', color= 'purple')\n",
    "plt.xlabel('color i-z')\n",
    "plt.ylabel('magnitud z')"
   ]
  },
  {
   "cell_type": "code",
   "execution_count": 26,
   "metadata": {
    "collapsed": false
   },
   "outputs": [
    {
     "data": {
      "text/plain": [
       "<matplotlib.text.Text at 0xe5a1ac8>"
      ]
     },
     "execution_count": 26,
     "metadata": {},
     "output_type": "execute_result"
    },
    {
     "data": {
      "image/png": "[encoded data removed]",
      "text/plain": [
       "<matplotlib.figure.Figure at 0xe8bfda0>"
      ]
     },
     "metadata": {},
     "output_type": "display_data"
    }
   ],
   "source": [
    "g=data['g']\n",
    "r=data['r']\n",
    "u=data['u']\n",
    "plt.plot(g-r,u-g,'o',color='pink')\n",
    "plt.xlabel('color g-r')\n",
    "plt.ylabel('color u-g')"
   ]
  },
  {
   "cell_type": "code",
   "execution_count": 29,
   "metadata": {
    "collapsed": false
   },
   "outputs": [
    {
     "data": {
      "text/plain": [
       "<matplotlib.text.Text at 0x10ecfe48>"
      ]
     },
     "execution_count": 29,
     "metadata": {},
     "output_type": "execute_result"
    },
    {
     "data": {
      "image/png": "[encoded data removed]",
      "text/plain": [
       "<matplotlib.figure.Figure at 0x107c8f28>"
      ]
     },
     "metadata": {},
     "output_type": "display_data"
    }
   ],
   "source": [
    "i=data['i']\n",
    "r=data['r']\n",
    "g=data['g']\n",
    "u=data['u']\n",
    "plt.plot(r-i,u-g,'o',color='black')\n",
    "plt.xlabel('color r-i')\n",
    "plt.ylabel('color u-g')"
   ]
  },
  {
   "cell_type": "code",
   "execution_count": null,
   "metadata": {
    "collapsed": true
   },
   "outputs": [],
   "source": [
    "#     "
   ]
  },
  {
   "cell_type": "code",
   "execution_count": null,
   "metadata": {
    "collapsed": true
   },
   "outputs": [],
   "source": []
  },
  {
   "cell_type": "code",
   "execution_count": null,
   "metadata": {
    "collapsed": true
   },
   "outputs": [],
   "source": []
  },
  {
   "cell_type": "code",
   "execution_count": null,
   "metadata": {
    "collapsed": true
   },
   "outputs": [],
   "source": []
  },
  {
   "cell_type": "markdown",
   "metadata": {
    "collapsed": true
   },
   "source": []
  },
  {
   "cell_type": "markdown",
   "metadata": {
    "collapsed": false
   },
   "source": [
    "**Parte 3**"
   ]
  },
  {
   "cell_type": "code",
   "execution_count": 39,
   "metadata": {
    "collapsed": false
   },
   "outputs": [
    {
     "name": "stdout",
     "output_type": "stream",
     "text": [
      "0          6366.68355\n",
      "1         61134.99552\n",
      "2         19396.89516\n",
      "3         15796.27545\n",
      "4         64158.16695\n",
      "5         36381.14556\n",
      "6         29125.91322\n",
      "7         37976.96382\n",
      "8         19487.77065\n",
      "9         25287.61401\n",
      "10        26793.58944\n",
      "11        27180.50928\n",
      "12        27095.12115\n",
      "13        64700.81805\n",
      "14        40404.06345\n",
      "15        61217.20971\n",
      "16        40090.54899\n",
      "17        25258.97472\n",
      "18        39444.02040\n",
      "19        14425.74597\n",
      "20        19554.91527\n",
      "21        38222.72568\n",
      "22        42141.68787\n",
      "23        26778.84399\n",
      "24        19470.51735\n",
      "25        61751.48337\n",
      "26        34403.80320\n",
      "27        81358.60563\n",
      "28        37383.63237\n",
      "29        16964.38083\n",
      "             ...     \n",
      "661568     6199.25670\n",
      "661569    24537.77121\n",
      "661570    42502.98141\n",
      "661571    34412.83107\n",
      "661572    39300.11988\n",
      "661573    39362.85675\n",
      "661574    65866.37199\n",
      "661575    15642.53010\n",
      "661576    36032.41815\n",
      "661577    47073.82767\n",
      "661578    21963.46968\n",
      "661579    15729.47391\n",
      "661580     6290.77536\n",
      "661581    32224.90848\n",
      "661582     6345.04818\n",
      "661583    38020.10715\n",
      "661584    26267.55909\n",
      "661585    50098.37151\n",
      "661586     6297.50601\n",
      "661587    26213.95065\n",
      "661588    49624.59951\n",
      "661589    56445.67161\n",
      "661590    39226.22502\n",
      "661591    42923.57415\n",
      "661592    26316.96315\n",
      "661593    32293.17741\n",
      "661594    32377.70499\n",
      "661595    10624.63446\n",
      "661596    80076.22362\n",
      "661597    76325.75334\n",
      "Name: redshift, dtype: float64\n"
     ]
    }
   ],
   "source": [
    "velocidad = data['redshift']*300000\n",
    "print velocidad"
   ]
  },
  {
   "cell_type": "code",
   "execution_count": 35,
   "metadata": {
    "collapsed": false
   },
   "outputs": [
    {
     "data": {
      "text/html": [
       "<div>\n",
       "<table border=\"1\" class=\"dataframe\">\n",
       "  <thead>\n",
       "    <tr style=\"text-align: right;\">\n",
       "      <th></th>\n",
       "      <th>ra</th>\n",
       "      <th>dec</th>\n",
       "      <th>redshift</th>\n",
       "      <th>u</th>\n",
       "      <th>g</th>\n",
       "      <th>r</th>\n",
       "      <th>i</th>\n",
       "      <th>z</th>\n",
       "    </tr>\n",
       "  </thead>\n",
       "  <tbody>\n",
       "    <tr>\n",
       "      <th>0</th>\n",
       "      <td>146.714191</td>\n",
       "      <td>-1.041276</td>\n",
       "      <td>0.021222</td>\n",
       "      <td>17.150417</td>\n",
       "      <td>15.497092</td>\n",
       "      <td>14.674012</td>\n",
       "      <td>14.234288</td>\n",
       "      <td>13.907544</td>\n",
       "    </tr>\n",
       "    <tr>\n",
       "      <th>1</th>\n",
       "      <td>146.744142</td>\n",
       "      <td>-0.652220</td>\n",
       "      <td>0.203783</td>\n",
       "      <td>21.334766</td>\n",
       "      <td>19.131100</td>\n",
       "      <td>17.710718</td>\n",
       "      <td>17.149128</td>\n",
       "      <td>16.756086</td>\n",
       "    </tr>\n",
       "    <tr>\n",
       "      <th>2</th>\n",
       "      <td>146.628573</td>\n",
       "      <td>-0.765147</td>\n",
       "      <td>0.064656</td>\n",
       "      <td>19.509130</td>\n",
       "      <td>17.592752</td>\n",
       "      <td>16.673574</td>\n",
       "      <td>16.205244</td>\n",
       "      <td>15.837440</td>\n",
       "    </tr>\n",
       "    <tr>\n",
       "      <th>3</th>\n",
       "      <td>146.631673</td>\n",
       "      <td>-0.988261</td>\n",
       "      <td>0.052654</td>\n",
       "      <td>19.489283</td>\n",
       "      <td>18.323746</td>\n",
       "      <td>17.839603</td>\n",
       "      <td>17.526131</td>\n",
       "      <td>17.422728</td>\n",
       "    </tr>\n",
       "    <tr>\n",
       "      <th>4</th>\n",
       "      <td>146.919416</td>\n",
       "      <td>-0.990517</td>\n",
       "      <td>0.213861</td>\n",
       "      <td>20.432014</td>\n",
       "      <td>18.648922</td>\n",
       "      <td>17.465515</td>\n",
       "      <td>16.998659</td>\n",
       "      <td>16.670509</td>\n",
       "    </tr>\n",
       "  </tbody>\n",
       "</table>\n",
       "</div>"
      ],
      "text/plain": [
       "           ra       dec  redshift          u          g          r          i  \\\n",
       "0  146.714191 -1.041276  0.021222  17.150417  15.497092  14.674012  14.234288   \n",
       "1  146.744142 -0.652220  0.203783  21.334766  19.131100  17.710718  17.149128   \n",
       "2  146.628573 -0.765147  0.064656  19.509130  17.592752  16.673574  16.205244   \n",
       "3  146.631673 -0.988261  0.052654  19.489283  18.323746  17.839603  17.526131   \n",
       "4  146.919416 -0.990517  0.213861  20.432014  18.648922  17.465515  16.998659   \n",
       "\n",
       "           z  \n",
       "0  13.907544  \n",
       "1  16.756086  \n",
       "2  15.837440  \n",
       "3  17.422728  \n",
       "4  16.670509  "
      ]
     },
     "execution_count": 35,
     "metadata": {},
     "output_type": "execute_result"
    }
   ],
   "source": [
    "data=pd.read_csv('SDSSspecgalsDR8.csv')\n",
    "data.head()"
   ]
  },
  {
   "cell_type": "code",
   "execution_count": 41,
   "metadata": {
    "collapsed": false
   },
   "outputs": [
    {
     "name": "stdout",
     "output_type": "stream",
     "text": [
      "0           82.684202\n",
      "1          793.960981\n",
      "2          251.907729\n",
      "3          205.146434\n",
      "4          833.222947\n",
      "5          472.482410\n",
      "6          378.258613\n",
      "7          493.207322\n",
      "8          253.087931\n",
      "9          328.410572\n",
      "10         347.968694\n",
      "11         352.993627\n",
      "12         351.884690\n",
      "13         840.270364\n",
      "14         524.728097\n",
      "15         795.028698\n",
      "16         520.656480\n",
      "17         328.038633\n",
      "18         512.260005\n",
      "19         187.347350\n",
      "20         253.959939\n",
      "21         496.399035\n",
      "22         547.294648\n",
      "23         347.777195\n",
      "24         252.863862\n",
      "25         801.967316\n",
      "26         446.802639\n",
      "27        1056.605268\n",
      "28         485.501719\n",
      "29         220.316634\n",
      "             ...     \n",
      "661568      80.509827\n",
      "661569     318.672353\n",
      "661570     551.986772\n",
      "661571     446.919884\n",
      "661572     510.391167\n",
      "661573     511.205932\n",
      "661574     855.407428\n",
      "661575     203.149742\n",
      "661576     467.953482\n",
      "661577     611.348411\n",
      "661578     285.239866\n",
      "661579     204.278882\n",
      "661580      81.698381\n",
      "661581     418.505305\n",
      "661582      82.403223\n",
      "661583     493.767625\n",
      "661584     341.137131\n",
      "661585     650.628201\n",
      "661586      81.785792\n",
      "661587     340.440918\n",
      "661588     644.475318\n",
      "661589     733.060670\n",
      "661590     509.431494\n",
      "661591     557.449015\n",
      "661592     341.778742\n",
      "661593     419.391914\n",
      "661594     420.489675\n",
      "661595     137.982266\n",
      "661596    1039.950956\n",
      "661597     991.243550\n",
      "Name: redshift, dtype: float64\n"
     ]
    }
   ],
   "source": [
    "distancia=velocidad/77\n",
    "print distancia"
   ]
  },
  {
   "cell_type": "code",
   "execution_count": 43,
   "metadata": {
    "collapsed": false
   },
   "outputs": [
    {
     "data": {
      "text/plain": [
       "<matplotlib.axes._subplots.AxesSubplot at 0x21d3d828>"
      ]
     },
     "execution_count": 43,
     "metadata": {},
     "output_type": "execute_result"
    },
    {
     "data": {
      "image/png": "[encoded data removed]",
      "text/plain": [
       "<matplotlib.figure.Figure at 0x116735c0>"
      ]
     },
     "metadata": {},
     "output_type": "display_data"
    }
   ],
   "source": [
    "distancia.hist()"
   ]
  },
  {
   "cell_type": "markdown",
   "metadata": {
    "collapsed": true
   },
   "source": []
  },
  {
   "cell_type": "code",
   "execution_count": null,
   "metadata": {
    "collapsed": false
   },
   "outputs": [],
   "source": []
  },
  {
   "cell_type": "markdown",
   "metadata": {
    "collapsed": false
   },
   "source": [
    "**Parte 4**"
   ]
  },
  {
   "cell_type": "code",
   "execution_count": null,
   "metadata": {
    "collapsed": false
   },
   "outputs": [],
   "source": []
  },
  {
   "cell_type": "code",
   "execution_count": null,
   "metadata": {
    "collapsed": true
   },
   "outputs": [],
   "source": []
  },
  {
   "cell_type": "code",
   "execution_count": null,
   "metadata": {
    "collapsed": true
   },
   "outputs": [],
   "source": []
  },
  {
   "cell_type": "markdown",
   "metadata": {
    "collapsed": true
   },
   "source": []
  },
  {
   "cell_type": "markdown",
   "metadata": {
    "collapsed": false
   },
   "source": [
    "**Parte 5**"
   ]
  },
  {
   "cell_type": "code",
   "execution_count": null,
   "metadata": {
    "collapsed": false
   },
   "outputs": [],
   "source": []
  },
  {
   "cell_type": "code",
   "execution_count": null,
   "metadata": {
    "collapsed": true
   },
   "outputs": [],
   "source": []
  },
  {
   "cell_type": "code",
   "execution_count": null,
   "metadata": {
    "collapsed": true
   },
   "outputs": [],
   "source": []
  },
  {
   "cell_type": "markdown",
   "metadata": {
    "collapsed": true
   },
   "source": []
  },
  {
   "cell_type": "markdown",
   "metadata": {
    "collapsed": false
   },
   "source": [
    "**Parte 6**"
   ]
  },
  {
   "cell_type": "code",
   "execution_count": null,
   "metadata": {
    "collapsed": false
   },
   "outputs": [],
   "source": []
  },
  {
   "cell_type": "code",
   "execution_count": null,
   "metadata": {
    "collapsed": true
   },
   "outputs": [],
   "source": []
  },
  {
   "cell_type": "code",
   "execution_count": null,
   "metadata": {
    "collapsed": true
   },
   "outputs": [],
   "source": []
  },
  {
   "cell_type": "markdown",
   "metadata": {
    "collapsed": true
   },
   "source": []
  },
  {
   "cell_type": "markdown",
   "metadata": {},
   "source": [
    "**Parte 7**"
   ]
  },
  {
   "cell_type": "code",
   "execution_count": null,
   "metadata": {
    "collapsed": true
   },
   "outputs": [],
   "source": []
  },
  {
   "cell_type": "code",
   "execution_count": null,
   "metadata": {
    "collapsed": true
   },
   "outputs": [],
   "source": []
  },
  {
   "cell_type": "code",
   "execution_count": null,
   "metadata": {
    "collapsed": true
   },
   "outputs": [],
   "source": []
  },
  {
   "cell_type": "markdown",
   "metadata": {},
   "source": []
  },
  {
   "cell_type": "markdown",
   "metadata": {},
   "source": [
    "**Extras**"
   ]
  },
  {
   "cell_type": "code",
   "execution_count": null,
   "metadata": {
    "collapsed": true
   },
   "outputs": [],
   "source": []
  },
  {
   "cell_type": "code",
   "execution_count": null,
   "metadata": {
    "collapsed": true
   },
   "outputs": [],
   "source": []
  },
  {
   "cell_type": "markdown",
   "metadata": {},
   "source": []
  },
  {
   "cell_type": "markdown",
   "metadata": {
    "collapsed": true
   },
   "source": [
    "# Una vez terminada la sesion del taller, debera ejecutar las siguientes dos celdas para subir su trabajo al servidor donde quedara almacenada"
   ]
  },
  {
   "cell_type": "code",
   "execution_count": 48,
   "metadata": {
    "collapsed": false
   },
   "outputs": [
    {
     "data": {
      "application/javascript": [
       "var kernel = IPython.notebook.kernel;\n",
       "var thename = window.document.getElementById(\"notebook_name\").innerHTML;\n",
       "var command = \"notebook_file = \" + \"'\"+thename+\"'\";\n",
       "kernel.execute(command);"
      ],
      "text/plain": [
       "<IPython.core.display.Javascript object>"
      ]
     },
     "metadata": {},
     "output_type": "display_data"
    }
   ],
   "source": [
    "%%javascript\n",
    "var kernel = IPython.notebook.kernel;\n",
    "var thename = window.document.getElementById(\"notebook_name\").innerHTML;\n",
    "var command = \"notebook_file = \" + \"'\"+thename+\"'\";\n",
    "kernel.execute(command);"
   ]
  },
  {
   "cell_type": "code",
   "execution_count": null,
   "metadata": {
    "collapsed": false
   },
   "outputs": [
    {
     "data": {
      "application/javascript": [
       "IPython.notebook.save_checkpoint();"
      ],
      "text/plain": [
       "<IPython.core.display.Javascript object>"
      ]
     },
     "metadata": {},
     "output_type": "display_data"
    }
   ],
   "source": [
    "from IPython.display import display,Javascript,HTML\n",
    "import dropbox\n",
    "import socket\n",
    "import string\n",
    "\n",
    "# Get the hostname\n",
    "hostname=string.split(socket.gethostname(),'.')[0]\n",
    "\n",
    "# Save the notebook\n",
    "display(Javascript('IPython.notebook.save_checkpoint();'))\n",
    "\n",
    "try:\n",
    "    integrante_exist= (integrante1 != '' and integrante2!= '')\n",
    "except NameError:\n",
    "    display(HTML(\"<big><b><br>Los nombres de los integrantes no estan definidos. Revise la primera celda y escriba los nombres.</b></big>\"))\n",
    "else:\n",
    "    if integrante_exist:\n",
    "        output_file='/'+notebook_file+'_'+hostname+'_'+integrante1+'_'+integrante2+'_'+integrante3+'.ipynb'\n",
    "        \n",
    "        display(HTML(\"<big><b><br>Nombres de los integrantes:</b></big>\"))\n",
    "        display(HTML(\"<big>{}<br>{}</big>\".format(integrante1,integrante2,integrante3)))\n",
    "        display(HTML(\"<big><b><br>Nombre del archivo:</b></big>\"))\n",
    "        display(HTML(\"<big>{}</big>\".format(output_file)))\n",
    "\n",
    "        client=dropbox.client.DropboxClient('q96bL4l9oyAAAAAAAAAACEK7gCFwoO-PtZu5jJ6gynNwriiBjzTLsN0eV51YQhNe')\n",
    "\n",
    "        f = open(notebook_file+'.ipynb', 'rb')\n",
    "        response = client.put_file(output_file,f)\n",
    "        f.close()\n",
    "        display(HTML(\"<big><b><br>Registro del servidor de Dropbox:</b></big>\"))\n",
    "        print response\n",
    "    else:\n",
    "        display(HTML(\"<big><b><br>Los nombres de los integrantes no estan definidos. Revise la primera celda y escriba los nombres.</b></big>\"))"
   ]
  },
  {
   "cell_type": "code",
   "execution_count": null,
   "metadata": {
    "collapsed": true
   },
   "outputs": [],
   "source": []
  }
 ],
 "metadata": {
  "kernelspec": {
   "display_name": "Python 2",
   "language": "python",
   "name": "python2"
  },
  "language_info": {
   "codemirror_mode": {
    "name": "ipython",
    "version": 2
   },
   "file_extension": ".py",
   "mimetype": "text/x-python",
   "name": "python",
   "nbconvert_exporter": "python",
   "pygments_lexer": "ipython2",
   "version": "2.7.11"
  }
 },
 "nbformat": 4,
 "nbformat_minor": 0
}
