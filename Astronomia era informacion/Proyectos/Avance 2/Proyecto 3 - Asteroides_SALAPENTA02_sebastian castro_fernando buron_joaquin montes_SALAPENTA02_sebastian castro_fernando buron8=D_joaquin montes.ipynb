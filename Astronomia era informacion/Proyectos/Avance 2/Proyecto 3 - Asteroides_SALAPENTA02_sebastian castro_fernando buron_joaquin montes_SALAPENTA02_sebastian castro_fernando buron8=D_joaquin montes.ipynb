{
 "cells": [
  {
   "cell_type": "markdown",
   "metadata": {},
   "source": [
    "# Proyecto muestra aprendizaje 3: Distribución y caracterización de asteroides\n",
    "---\n",
    "\n",
    "![alt text](http://www.splung.com/cosmology/images/asteroidmovie.gif)\n",
    "\n",
    "## Objetivos\n",
    "En general cuando nos preguntan sobre el Sistema Solar pensamos exclusivamente en el Sol y los planetas que le orbitan. En realidad existen muchísimos objetos pequeños, los cuales son más difíciles de encontrar a pesar de su gran cantidad.\n",
    "\n",
    "En este proyecto van a descubrir un poco más de la estructura del cinturón de asteroides y sus cercanías. Podrán categorizar los asteroides y notar bastantes detalles que no estaban explícitos dentro de la noción que tenemos de cómo es esta zona.\n",
    "\n",
    "Vamos a trabajar con catálogos de objetos en el cinturón de asteroides. Este catálogo contiene las siguientes columnas:\n",
    "\n",
    "### Catálogo de asteroides (data)\n",
    "Contiene datos de más de 8000 objetos cercanos al cinturón de asteroides. Los parámetros $e$ y $sin\\_i$ están disponibles solo para 4200 objetos, tener ojo con eso.\n",
    "- **Nombre**: Nombre o denominación del asteroide.\n",
    "- **a**: Semi-eje mayor en UA, es decir, la mayor distancia medida desde el centro de la órbita, en Unidades Astronómicas. Esta distancia es aproximadamente igual a la distancia al Sol si es que la órbita es (casi) circular.\n",
    "- **mag_i, mag_z**: Magnitudes (brillo) en distintos filtros. Con estos vamos a construir colores y con ellos se pueden clasificar asteroides según su composición.\n",
    "- **color_a**: Color \"a\". La letra \"a\" es una denominación arbitraria para definir un color compuesto por una combinación de los filtros g, r, i. En la sección de clasificación se ven más detalles sobre cómo se hizo.\n",
    "- **X, Y, Z**: Posición del asteroide en coordenadas cartesianas con origen en el Sol. Las cantidades se encuentran en Unidades Astronómicas (UA).\n",
    "- **e**: Excentricidad. Es un parámetro que define la forma de la órbita de un cuerpo. Para efectos prácticos, nos indica qué tan alejado de una circunferencia está la órbita. En una circunferencia perfecta $e=0$, en una elipse $0<e<1$. Una parábola tiene $e=1$ y una hipérbola $e>1$.\n",
    "- **sin_i**: Nos indica qué tan inclinada está la órbita. Se entrega el valor del seno de la inclinación.\n",
    "\n",
    "### Catálogo de magnitud y albedo (data2)\n",
    "Contiene datos de magnitud y albedo para poco más de 2000 objetos, con el cual pueden estimar las dimensiones y volumen de los asteroides.\n",
    "- **Nombre**: Nombre del asteroide. Notar que en este catálogo, el nombre viene antecedido por un número. Este número proviene del catálogo de asteroides del Minor Planet Center, donde a estos se les designa simplemente un número entero. Como curiosidad, el catálogo también es denominado como catálogo de \"minor planets\", es decir, \"planetas menores\" (¿Por qué será?).\n",
    "- **H**: Magnitud absoluta del asteroide. Esta definición es un tanto diferente a la habitual, ya que los asteroides no emiten luz. En este caso corresponde al brillo en el filtro V que tendría un asteroide completamente iluminado a 1 UA del Sol y a 1 UA al mismo tiempo (¿Es esto geométrica o físicamente posible?).\n",
    "- **A**: Albedo. Corresponde a la fracción (o porcentaje) de radiación que se refleja con respecto a la que incide. Por ejemplo, la nieve refleja el 86% de la luz incidente, las nubes un 50% y los océanos un 10%. La Tierra tiene un albedo de 39% (0.38), Marte 15% (0.15) y la Luna 7% (0.07).\n",
    "\n",
    "### Catálogo de planetas (solarsys)\n",
    "Con el fin de que tengan más datos para realizar comparaciones y lo que se les ocurra, también tienen un catálogo con los datos de otros cuerpos del sistema solar.\n",
    "- **Nombre**: Nombre del planeta o planeta enano.\n",
    "- **m**: Masa en kilógramos.\n",
    "- **d**: Diámetro en kilómetros.\n",
    "- **rho**: Densidad media en kilómetros por metro cúbico.\n",
    "- **a**: Semi eje mayor en UA.\n",
    "- **e**: Excentricidad de la órbita.\n",
    "- **i**: Inclinación de la órbita en grados.\n",
    "- **alb**: Albedo del objeto.\n",
    "\n",
    "\n",
    "---\n",
    "\n",
    "## Clasificación\n",
    "Si bien existen muchas clases y subclases, nos enfocaremos en estas tres, pues utilizando los colores de los asteroides nos es posible realizar una primera (y simple) aproximación al tipo de asteroide del que se trata.\n",
    "\n",
    "- **Clase C**: Objetos con carbono como principal componente. Hygiea y Mathilde son dos ejemplos. Su densidad aproximada es $\\rho = 1380 \\text{ kg/m}^3$\n",
    "- **Clase S**: Formados principalmente por silicatos (roca). A esta clase pertenecen Eros y Gaspra. Su densidad es $\\rho = 2710 \\text{ kg/m}^3$\n",
    "- **Clase V**: Un tipo más raro, relativamente similar al tipo S, pero con mayor presencia de piroxeno. Se le llaman tipo \"V\" por el ejemplo clásico de esta clase, el asteroide Vesta. Su densidad aproximada es $\\rho = 5320 \\text{ kg/m}^3$\n",
    "\n",
    "Para clasificar haremos uso de un diagrama color-color, donde en el eje $x$ tenemos al color **col_a**, definido por la siguiente combinación de filtros g, r, i:\n",
    "$$ a = 0.89(g−r) + 0.45(r−i) − 0.57$$\n",
    "\n",
    "Mientras que en el eje $y$ tendremos el color **i-z**, el cual debemos confeccionar.\n",
    "\n",
    "Una vez observada la distribución de los puntos, podemos proceder a la clasificación utilizando las condiciones\n",
    "- **Clase C**: $ a < 0$\n",
    "- **Clase S**: $ i-z > -0.15\\quad \\wedge\\quad  a > 0 $\n",
    "- **Clase V**: $ i-z < -0.15\\quad \\wedge\\quad  a > 0 $"
   ]
  },
  {
   "cell_type": "markdown",
   "metadata": {},
   "source": [
    "---\n",
    "# Ideas para desarrollar el taller\n",
    "\n",
    "## 1. Examinar la distribución espacial\n",
    "¿Cómo se encuentran distribuídos los asteroides según sus posiciones? ¿Las clases encontradas anteriormente están todas mezcladas o están agrupadas? ¿Dónde se encuentran en comparación a los planetas?\n",
    "\n",
    "## 2. Distribuciones de los parámetros\n",
    "¿Qué pasa ahora con la distribución de cada uno de los parámetros? ¿Existen diferentes concentraciones o solo un grupo de asteroides? ¿Cómo son las órbitas según la excentricidad? ¿Están todas en un mismo plano o se orientan en todas direcciones? ¿Cuáles son los promedios y desviaciones estándar de lo que se encuentra?\n",
    "\n",
    "## 3. Resonancia\n",
    "Comparar los resultados obtenidos anteriormente con el semi eje mayor que tendrían diferentes cuerpos con período en resonancia con Júpiter. Recordemos que por la Tercera Ley de Kepler,\n",
    "\n",
    "$$ a = P^{2/3} $$\n",
    "\n",
    "En este caso el período de Júpiter es aproximadamente $11.865$ años, por lo que deben explorar períodos que estén en diferentes razones con el período de Júpiter, por ejemplo 3:1, 2:1, 5:3, 7:2, etc.\n",
    "\n",
    "## 4. Estimación de masas\n",
    "Para hacernos una idea de la masa de cada asteroide se suelen utilizar las cantidades de magnitud absoluta (H) y albedo (A). Con estas cantidades podemos calcular el diámetro (en kilómetros) del asteroide por\n",
    "\n",
    "$$ d = \\frac{1329}{\\sqrt{A}} 10^{-0.2H}$$\n",
    "\n",
    "Si aproximamos el volumen de los asteroides como el de una esfera, podemos utilizar los valores de densidad conocidos y tener una aproximación de la masa de estos con\n",
    "\n",
    "$$ m = V \\times \\rho $$\n",
    "\n",
    "¿Cuáles son los más masivos? ¿Y los más grandes? ¿Cómo se comparan los más masivos respecto al resto? ¿Está toda la masa distribuída por igual? ¿Cómo se compara el más masivo con la masa de la Tierra, de la Luna ($7.35\\times10^{22} \\text{ kg}$) y otros cuerpos?\n",
    "\n",
    "## 5. Otras preguntas o relaciones\n",
    "¿Existe otro tipo de correlaciones? ¿De distribuciones? ¿Correlacionan las clases encontradas con algún parámetro? ¿Se les ocurrió alguna para investigar? Cualquier interrogante que tengan durante el taller es altamente recomendable de desarrollar, pues puede existir mucha información \"oculta\" entre todos los datos que tienen."
   ]
  },
  {
   "cell_type": "markdown",
   "metadata": {},
   "source": [
    "---\n",
    "\n",
    "Su grupo deberá entregar semana a semana un archivo donde muestre su progreso. Esperamos que estos archivos no muestren **sólo código**, sino que también expliquen con celdas de texto qué es lo que hace el código y la razón física detrás de las relaciones, distribuciones, y números que muestre. Recuerde que este trabajo puede ser expuesto en la muestra de aprendizaje, donde tendrá que mostrarlo a personas que puede que no tengan conocimiento de astronomía o programación.\n",
    "\n",
    "Para entregar el archivo, utilizaremos el sistema de Dropbox que hemos usado en los otros talleres evaluados. Para eso, es fundamental que ingrese en la celda de abajo los nombres de los integrantes del grupo, y al final, luego de guardar, ejecute las dos últimas celdas."
   ]
  },
  {
   "cell_type": "code",
   "execution_count": 2,
   "metadata": {
    "collapsed": true
   },
   "outputs": [],
   "source": [
    "integrante1 = 'sebastian castro'\n",
    "integrante2 = 'fernando buron8=D'\n",
    "integrante3 = 'joaquin montes'"
   ]
  },
  {
   "cell_type": "code",
   "execution_count": 3,
   "metadata": {
    "collapsed": true
   },
   "outputs": [],
   "source": [
    "import pandas as pd\n",
    "import numpy as np\n",
    "import matplotlib.pyplot as plt\n",
    "from matplotlib import rc\n",
    "%matplotlib inline\n",
    "\n",
    "rc('font', size=14)\n",
    "rc('axes', labelsize=22)"
   ]
  },
  {
   "cell_type": "markdown",
   "metadata": {},
   "source": [
    "Estos son los catálogos que contienen todos los datos a usar"
   ]
  },
  {
   "cell_type": "code",
   "execution_count": 4,
   "metadata": {
    "collapsed": false
   },
   "outputs": [
    {
     "data": {
      "text/html": [
       "<div>\n",
       "<table border=\"1\" class=\"dataframe\">\n",
       "  <thead>\n",
       "    <tr style=\"text-align: right;\">\n",
       "      <th></th>\n",
       "      <th>Nombre</th>\n",
       "      <th>a</th>\n",
       "      <th>color_a</th>\n",
       "      <th>mag_i</th>\n",
       "      <th>mag_z</th>\n",
       "      <th>x</th>\n",
       "      <th>y</th>\n",
       "      <th>z</th>\n",
       "      <th>e</th>\n",
       "      <th>sin_i</th>\n",
       "    </tr>\n",
       "  </thead>\n",
       "  <tbody>\n",
       "    <tr>\n",
       "      <th>0</th>\n",
       "      <td>1989_SS</td>\n",
       "      <td>3.025812</td>\n",
       "      <td>0.05</td>\n",
       "      <td>17.10</td>\n",
       "      <td>17.05</td>\n",
       "      <td>1.214</td>\n",
       "      <td>-2.976</td>\n",
       "      <td>0.570</td>\n",
       "      <td>0.0856</td>\n",
       "      <td>0.2121</td>\n",
       "    </tr>\n",
       "    <tr>\n",
       "      <th>1</th>\n",
       "      <td>Helenos</td>\n",
       "      <td>5.297075</td>\n",
       "      <td>-0.01</td>\n",
       "      <td>17.79</td>\n",
       "      <td>17.67</td>\n",
       "      <td>1.329</td>\n",
       "      <td>5.143</td>\n",
       "      <td>-1.275</td>\n",
       "      <td>NaN</td>\n",
       "      <td>NaN</td>\n",
       "    </tr>\n",
       "    <tr>\n",
       "      <th>2</th>\n",
       "      <td>2003_YD179</td>\n",
       "      <td>5.300624</td>\n",
       "      <td>0.04</td>\n",
       "      <td>20.07</td>\n",
       "      <td>19.97</td>\n",
       "      <td>1.203</td>\n",
       "      <td>5.328</td>\n",
       "      <td>0.549</td>\n",
       "      <td>NaN</td>\n",
       "      <td>NaN</td>\n",
       "    </tr>\n",
       "    <tr>\n",
       "      <th>3</th>\n",
       "      <td>2007_EW43</td>\n",
       "      <td>5.162462</td>\n",
       "      <td>-0.05</td>\n",
       "      <td>20.21</td>\n",
       "      <td>20.41</td>\n",
       "      <td>1.908</td>\n",
       "      <td>5.004</td>\n",
       "      <td>-1.534</td>\n",
       "      <td>NaN</td>\n",
       "      <td>NaN</td>\n",
       "    </tr>\n",
       "    <tr>\n",
       "      <th>4</th>\n",
       "      <td>1989_UE5</td>\n",
       "      <td>5.170706</td>\n",
       "      <td>0.07</td>\n",
       "      <td>20.03</td>\n",
       "      <td>19.96</td>\n",
       "      <td>1.915</td>\n",
       "      <td>4.811</td>\n",
       "      <td>-1.037</td>\n",
       "      <td>NaN</td>\n",
       "      <td>NaN</td>\n",
       "    </tr>\n",
       "  </tbody>\n",
       "</table>\n",
       "</div>"
      ],
      "text/plain": [
       "       Nombre         a  color_a  mag_i  mag_z      x      y      z       e  \\\n",
       "0     1989_SS  3.025812     0.05  17.10  17.05  1.214 -2.976  0.570  0.0856   \n",
       "1     Helenos  5.297075    -0.01  17.79  17.67  1.329  5.143 -1.275     NaN   \n",
       "2  2003_YD179  5.300624     0.04  20.07  19.97  1.203  5.328  0.549     NaN   \n",
       "3   2007_EW43  5.162462    -0.05  20.21  20.41  1.908  5.004 -1.534     NaN   \n",
       "4    1989_UE5  5.170706     0.07  20.03  19.96  1.915  4.811 -1.037     NaN   \n",
       "\n",
       "    sin_i  \n",
       "0  0.2121  \n",
       "1     NaN  \n",
       "2     NaN  \n",
       "3     NaN  \n",
       "4     NaN  "
      ]
     },
     "execution_count": 4,
     "metadata": {},
     "output_type": "execute_result"
    }
   ],
   "source": [
    "url = 'https://github.com/rpmunoz/PentaUC/raw/master/Astronomia%20era%20informacion/data/P3asteroides.csv'\n",
    "data = pd.read_csv(url, sep=',', comment='#', header=0)\n",
    "data.head()"
   ]
  },
  {
   "cell_type": "code",
   "execution_count": 5,
   "metadata": {
    "collapsed": false
   },
   "outputs": [
    {
     "data": {
      "text/html": [
       "<div>\n",
       "<table border=\"1\" class=\"dataframe\">\n",
       "  <thead>\n",
       "    <tr style=\"text-align: right;\">\n",
       "      <th></th>\n",
       "      <th>Nombre</th>\n",
       "      <th>H</th>\n",
       "      <th>A</th>\n",
       "    </tr>\n",
       "  </thead>\n",
       "  <tbody>\n",
       "    <tr>\n",
       "      <th>0</th>\n",
       "      <td>1 Ceres</td>\n",
       "      <td>3.34</td>\n",
       "      <td>0.0900</td>\n",
       "    </tr>\n",
       "    <tr>\n",
       "      <th>1</th>\n",
       "      <td>2 Pallas</td>\n",
       "      <td>4.13</td>\n",
       "      <td>0.1587</td>\n",
       "    </tr>\n",
       "    <tr>\n",
       "      <th>2</th>\n",
       "      <td>3 Juno</td>\n",
       "      <td>5.33</td>\n",
       "      <td>0.2383</td>\n",
       "    </tr>\n",
       "    <tr>\n",
       "      <th>3</th>\n",
       "      <td>4 Vesta</td>\n",
       "      <td>3.20</td>\n",
       "      <td>0.4228</td>\n",
       "    </tr>\n",
       "    <tr>\n",
       "      <th>4</th>\n",
       "      <td>5 Astraea</td>\n",
       "      <td>6.85</td>\n",
       "      <td>0.2268</td>\n",
       "    </tr>\n",
       "  </tbody>\n",
       "</table>\n",
       "</div>"
      ],
      "text/plain": [
       "           Nombre     H       A\n",
       "0         1 Ceres  3.34  0.0900\n",
       "1        2 Pallas  4.13  0.1587\n",
       "2          3 Juno  5.33  0.2383\n",
       "3         4 Vesta  3.20  0.4228\n",
       "4       5 Astraea  6.85  0.2268"
      ]
     },
     "execution_count": 5,
     "metadata": {},
     "output_type": "execute_result"
    }
   ],
   "source": [
    "url = 'https://github.com/rpmunoz/PentaUC/raw/master/Astronomia%20era%20informacion/data/P3mag_hal.csv'\n",
    "data2 = pd.read_csv(url, sep=',', comment='#', header=0)\n",
    "data2.head()"
   ]
  },
  {
   "cell_type": "code",
   "execution_count": 6,
   "metadata": {
    "collapsed": false
   },
   "outputs": [
    {
     "data": {
      "text/html": [
       "<div>\n",
       "<table border=\"1\" class=\"dataframe\">\n",
       "  <thead>\n",
       "    <tr style=\"text-align: right;\">\n",
       "      <th></th>\n",
       "      <th>Nombre</th>\n",
       "      <th>masa</th>\n",
       "      <th>d</th>\n",
       "      <th>rho</th>\n",
       "      <th>a</th>\n",
       "      <th>e</th>\n",
       "      <th>i</th>\n",
       "      <th>alb</th>\n",
       "    </tr>\n",
       "  </thead>\n",
       "  <tbody>\n",
       "    <tr>\n",
       "      <th>0</th>\n",
       "      <td>Mercurio</td>\n",
       "      <td>3.300000e+23</td>\n",
       "      <td>4879</td>\n",
       "      <td>5427</td>\n",
       "      <td>0.387</td>\n",
       "      <td>0.205</td>\n",
       "      <td>7.0</td>\n",
       "      <td>0.10</td>\n",
       "    </tr>\n",
       "    <tr>\n",
       "      <th>1</th>\n",
       "      <td>Venus</td>\n",
       "      <td>4.860000e+24</td>\n",
       "      <td>12104</td>\n",
       "      <td>5243</td>\n",
       "      <td>0.723</td>\n",
       "      <td>0.007</td>\n",
       "      <td>3.4</td>\n",
       "      <td>0.65</td>\n",
       "    </tr>\n",
       "    <tr>\n",
       "      <th>2</th>\n",
       "      <td>Tierra</td>\n",
       "      <td>5.970000e+24</td>\n",
       "      <td>12756</td>\n",
       "      <td>5514</td>\n",
       "      <td>1.000</td>\n",
       "      <td>0.017</td>\n",
       "      <td>0.0</td>\n",
       "      <td>0.39</td>\n",
       "    </tr>\n",
       "    <tr>\n",
       "      <th>3</th>\n",
       "      <td>Marte</td>\n",
       "      <td>6.420000e+23</td>\n",
       "      <td>6792</td>\n",
       "      <td>3933</td>\n",
       "      <td>1.520</td>\n",
       "      <td>0.094</td>\n",
       "      <td>1.9</td>\n",
       "      <td>0.15</td>\n",
       "    </tr>\n",
       "    <tr>\n",
       "      <th>4</th>\n",
       "      <td>Jupiter</td>\n",
       "      <td>1.898000e+27</td>\n",
       "      <td>142984</td>\n",
       "      <td>1326</td>\n",
       "      <td>5.200</td>\n",
       "      <td>0.049</td>\n",
       "      <td>1.3</td>\n",
       "      <td>0.52</td>\n",
       "    </tr>\n",
       "  </tbody>\n",
       "</table>\n",
       "</div>"
      ],
      "text/plain": [
       "     Nombre          masa       d   rho      a      e    i   alb\n",
       "0  Mercurio  3.300000e+23    4879  5427  0.387  0.205  7.0  0.10\n",
       "1     Venus  4.860000e+24   12104  5243  0.723  0.007  3.4  0.65\n",
       "2    Tierra  5.970000e+24   12756  5514  1.000  0.017  0.0  0.39\n",
       "3     Marte  6.420000e+23    6792  3933  1.520  0.094  1.9  0.15\n",
       "4   Jupiter  1.898000e+27  142984  1326  5.200  0.049  1.3  0.52"
      ]
     },
     "execution_count": 6,
     "metadata": {},
     "output_type": "execute_result"
    }
   ],
   "source": [
    "url = 'https://github.com/rpmunoz/PentaUC/raw/master/Astronomia%20era%20informacion/data/P3solarsys.csv'\n",
    "solarsys = pd.read_csv(url, sep=',', comment='#', header=0)\n",
    "solarsys.head()"
   ]
  },
  {
   "cell_type": "markdown",
   "metadata": {},
   "source": [
    "### Parte 1"
   ]
  },
  {
   "cell_type": "code",
   "execution_count": null,
   "metadata": {
    "collapsed": false
   },
   "outputs": [],
   "source": []
  },
  {
   "cell_type": "code",
   "execution_count": null,
   "metadata": {
    "collapsed": true
   },
   "outputs": [],
   "source": []
  },
  {
   "cell_type": "code",
   "execution_count": null,
   "metadata": {
    "collapsed": true
   },
   "outputs": [],
   "source": []
  },
  {
   "cell_type": "markdown",
   "metadata": {},
   "source": [
    "### Parte 2"
   ]
  },
  {
   "cell_type": "code",
   "execution_count": null,
   "metadata": {
    "collapsed": true
   },
   "outputs": [],
   "source": []
  },
  {
   "cell_type": "code",
   "execution_count": null,
   "metadata": {
    "collapsed": true
   },
   "outputs": [],
   "source": []
  },
  {
   "cell_type": "code",
   "execution_count": null,
   "metadata": {
    "collapsed": true
   },
   "outputs": [],
   "source": []
  },
  {
   "cell_type": "markdown",
   "metadata": {},
   "source": [
    "### Parte 3"
   ]
  },
  {
   "cell_type": "code",
   "execution_count": null,
   "metadata": {
    "collapsed": true
   },
   "outputs": [],
   "source": []
  },
  {
   "cell_type": "code",
   "execution_count": null,
   "metadata": {
    "collapsed": true
   },
   "outputs": [],
   "source": []
  },
  {
   "cell_type": "code",
   "execution_count": null,
   "metadata": {
    "collapsed": true
   },
   "outputs": [],
   "source": []
  },
  {
   "cell_type": "markdown",
   "metadata": {},
   "source": [
    "### Parte 4"
   ]
  },
  {
   "cell_type": "code",
   "execution_count": 27,
   "metadata": {
    "collapsed": false
   },
   "outputs": [
    {
     "name": "stdout",
     "output_type": "stream",
     "text": [
      "0       116.041820\n",
      "1       622.582736\n",
      "2       623.834645\n",
      "3       576.314201\n",
      "4       579.079297\n",
      "5        56.065292\n",
      "6       118.929342\n",
      "7       126.610507\n",
      "8       127.636075\n",
      "9        85.880449\n",
      "10       60.523265\n",
      "11       57.248814\n",
      "12       79.864187\n",
      "13       55.353284\n",
      "14      119.656601\n",
      "15       61.288058\n",
      "16       51.753871\n",
      "17       89.270598\n",
      "18       73.495060\n",
      "19       53.331973\n",
      "20      128.379069\n",
      "21      112.227596\n",
      "22      262.881738\n",
      "23      258.438671\n",
      "24       73.625760\n",
      "25       79.096089\n",
      "26      163.523397\n",
      "27      102.261346\n",
      "28      107.449143\n",
      "29      133.088790\n",
      "           ...    \n",
      "8718    130.026317\n",
      "8719     73.506601\n",
      "8720    568.450933\n",
      "8721    133.764967\n",
      "8722    115.262920\n",
      "8723     87.069581\n",
      "8724    130.358304\n",
      "8725    126.486266\n",
      "8726     77.099902\n",
      "8727     45.740966\n",
      "8728     78.613010\n",
      "8729     74.989856\n",
      "8730     59.766641\n",
      "8731    134.510019\n",
      "8732     87.996154\n",
      "8733    133.968358\n",
      "8734    132.205519\n",
      "8735    116.207822\n",
      "8736    126.405907\n",
      "8737    100.078157\n",
      "8738     86.658950\n",
      "8739    116.181647\n",
      "8740     79.805266\n",
      "8741     56.312351\n",
      "8742     84.653352\n",
      "8743     50.009613\n",
      "8744     52.654065\n",
      "8745     79.861352\n",
      "8746    126.871809\n",
      "8747    100.207909\n",
      "Name: a, dtype: float64\n",
      "0       951.488900\n",
      "1       498.008227\n",
      "2       233.863777\n",
      "3       468.228119\n",
      "4       119.042888\n",
      "5       185.156356\n",
      "6       199.801568\n",
      "7       135.856237\n",
      "8       214.577399\n",
      "9       407.160279\n",
      "10      153.294692\n",
      "11      112.759366\n",
      "12      207.633778\n",
      "13      183.158222\n",
      "14      255.291669\n",
      "15      253.158298\n",
      "16       90.031175\n",
      "17      140.559425\n",
      "18      259.074172\n",
      "19      145.488726\n",
      "20       95.748597\n",
      "21      180.939666\n",
      "22      107.510370\n",
      "23      197.009686\n",
      "24       75.113672\n",
      "25       99.250619\n",
      "26      131.452083\n",
      "27      120.892351\n",
      "28      212.194848\n",
      "29       98.292317\n",
      "           ...    \n",
      "1996     13.544722\n",
      "1997     18.369631\n",
      "1998     27.101626\n",
      "1999     16.249259\n",
      "2000     11.601384\n",
      "2001     11.429747\n",
      "2002     20.048791\n",
      "2003     13.846772\n",
      "2004     30.221994\n",
      "2005     16.741013\n",
      "2006     22.598923\n",
      "2007      8.806363\n",
      "2008     14.486975\n",
      "2009     16.193119\n",
      "2010      8.903914\n",
      "2011      8.889759\n",
      "2012     23.908933\n",
      "2013     28.647662\n",
      "2014      8.194376\n",
      "2015     22.758560\n",
      "2016     12.101096\n",
      "2017     13.585293\n",
      "2018     21.576795\n",
      "2019     17.998508\n",
      "2020     22.499183\n",
      "2021     10.691107\n",
      "2022      9.614005\n",
      "2023     11.232788\n",
      "2024      5.561999\n",
      "2025     12.267851\n",
      "dtype: float64\n"
     ]
    }
   ],
   "source": [
    "d=1329/np.sqrt(data2[\"A\"]) * 10**(-0.2*data2[\"H\"])\n",
    "r=d/2\n",
    "pi=np.pi\n",
    "v=(data[ \"a\"])**3*(pi*4/3)\n",
    "\n",
    "\n",
    "print v\n",
    "print d\n",
    "\n",
    "\n"
   ]
  },
  {
   "cell_type": "code",
   "execution_count": 28,
   "metadata": {
    "collapsed": false
   },
   "outputs": [
    {
     "data": {
      "text/plain": [
       "<matplotlib.text.Text at 0xaf78748>"
      ]
     },
     "execution_count": 28,
     "metadata": {},
     "output_type": "execute_result"
    },
    {
     "data": {
      "image/png": "[encoded data removed]",
      "text/plain": [
       "<matplotlib.figure.Figure at 0xaf709b0>"
      ]
     },
     "metadata": {},
     "output_type": "display_data"
    }
   ],
   "source": [
    "plt.hist(m,bins=100)\n",
    "plt.xlabel(\"Masa(kg)\")\n",
    "plt.ylabel(\"Cantidad\")"
   ]
  },
  {
   "cell_type": "code",
   "execution_count": 29,
   "metadata": {
    "collapsed": false
   },
   "outputs": [
    {
     "data": {
      "text/plain": [
       "array([  25.14551572,   26.69983014,   26.89056476, ...,  642.49485889,\n",
       "        642.49631361,  643.91995703])"
      ]
     },
     "execution_count": 29,
     "metadata": {},
     "output_type": "execute_result"
    }
   ],
   "source": [
    "np.sort(m)"
   ]
  },
  {
   "cell_type": "markdown",
   "metadata": {},
   "source": [
    "### Parte 5"
   ]
  },
  {
   "cell_type": "code",
   "execution_count": null,
   "metadata": {
    "collapsed": true
   },
   "outputs": [],
   "source": []
  },
  {
   "cell_type": "code",
   "execution_count": null,
   "metadata": {
    "collapsed": true
   },
   "outputs": [],
   "source": []
  },
  {
   "cell_type": "code",
   "execution_count": null,
   "metadata": {
    "collapsed": true
   },
   "outputs": [],
   "source": []
  },
  {
   "cell_type": "markdown",
   "metadata": {},
   "source": [
    "### Extras 1"
   ]
  },
  {
   "cell_type": "code",
   "execution_count": null,
   "metadata": {
    "collapsed": true
   },
   "outputs": [],
   "source": []
  },
  {
   "cell_type": "code",
   "execution_count": null,
   "metadata": {
    "collapsed": true
   },
   "outputs": [],
   "source": []
  },
  {
   "cell_type": "code",
   "execution_count": null,
   "metadata": {
    "collapsed": true
   },
   "outputs": [],
   "source": []
  },
  {
   "cell_type": "markdown",
   "metadata": {},
   "source": [
    "### Extras 2"
   ]
  },
  {
   "cell_type": "code",
   "execution_count": null,
   "metadata": {
    "collapsed": true
   },
   "outputs": [],
   "source": []
  },
  {
   "cell_type": "code",
   "execution_count": null,
   "metadata": {
    "collapsed": true
   },
   "outputs": [],
   "source": []
  },
  {
   "cell_type": "code",
   "execution_count": null,
   "metadata": {
    "collapsed": true
   },
   "outputs": [],
   "source": []
  },
  {
   "cell_type": "markdown",
   "metadata": {},
   "source": [
    "# Una vez terminada la sesion del taller, debera ejecutar las siguientes dos celdas para subir su trabajo al servidor donde quedara almacenada"
   ]
  },
  {
   "cell_type": "code",
   "execution_count": 32,
   "metadata": {
    "collapsed": false
   },
   "outputs": [
    {
     "data": {
      "application/javascript": [
       "var kernel = IPython.notebook.kernel;\n",
       "var thename = window.document.getElementById(\"notebook_name\").innerHTML;\n",
       "var command = \"notebook_file = \" + \"'\"+thename+\"'\";\n",
       "kernel.execute(command);"
      ],
      "text/plain": [
       "<IPython.core.display.Javascript object>"
      ]
     },
     "metadata": {},
     "output_type": "display_data"
    }
   ],
   "source": [
    "%%javascript\n",
    "var kernel = IPython.notebook.kernel;\n",
    "var thename = window.document.getElementById(\"notebook_name\").innerHTML;\n",
    "var command = \"notebook_file = \" + \"'\"+thename+\"'\";\n",
    "kernel.execute(command);"
   ]
  },
  {
   "cell_type": "code",
   "execution_count": null,
   "metadata": {
    "collapsed": false
   },
   "outputs": [
    {
     "data": {
      "application/javascript": [
       "IPython.notebook.save_checkpoint();"
      ],
      "text/plain": [
       "<IPython.core.display.Javascript object>"
      ]
     },
     "metadata": {},
     "output_type": "display_data"
    }
   ],
   "source": [
    "from IPython.display import display,Javascript,HTML\n",
    "import dropbox\n",
    "import socket\n",
    "import string\n",
    "\n",
    "# Get the hostname\n",
    "hostname=string.split(socket.gethostname(),'.')[0]\n",
    "\n",
    "# Save the notebook\n",
    "display(Javascript('IPython.notebook.save_checkpoint();'))\n",
    "\n",
    "try:\n",
    "    integrante_exist= (integrante1 != '' and integrante2!= '')\n",
    "except NameError:\n",
    "    display(HTML(\"<big><b><br>Los nombres de los integrantes no estan definidos. Revise la primera celda y escriba los nombres.</b></big>\"))\n",
    "else:\n",
    "    if integrante_exist:\n",
    "        output_file='/'+notebook_file+'_'+hostname+'_'+integrante1+'_'+integrante2+'_'+integrante3+'.ipynb'\n",
    "        \n",
    "        display(HTML(\"<big><b><br>Nombres de los integrantes:</b></big>\"))\n",
    "        display(HTML(\"<big>{}<br>{}</big>\".format(integrante1,integrante2,integrante3)))\n",
    "        display(HTML(\"<big><b><br>Nombre del archivo:</b></big>\"))\n",
    "        display(HTML(\"<big>{}</big>\".format(output_file)))\n",
    "\n",
    "        client=dropbox.client.DropboxClient('q96bL4l9oyAAAAAAAAAACEK7gCFwoO-PtZu5jJ6gynNwriiBjzTLsN0eV51YQhNe')\n",
    "\n",
    "        f = open(notebook_file+'.ipynb', 'rb')\n",
    "        response = client.put_file(output_file,f)\n",
    "        f.close()\n",
    "        display(HTML(\"<big><b><br>Registro del servidor de Dropbox:</b></big>\"))\n",
    "        print response\n",
    "    else:\n",
    "        display(HTML(\"<big><b><br>Los nombres de los integrantes no estan definidos. Revise la primera celda y escriba los nombres.</b></big>\"))"
   ]
  },
  {
   "cell_type": "code",
   "execution_count": null,
   "metadata": {
    "collapsed": true
   },
   "outputs": [],
   "source": []
  },
  {
   "cell_type": "code",
   "execution_count": null,
   "metadata": {
    "collapsed": true
   },
   "outputs": [],
   "source": []
  },
  {
   "cell_type": "code",
   "execution_count": null,
   "metadata": {
    "collapsed": true
   },
   "outputs": [],
   "source": []
  },
  {
   "cell_type": "code",
   "execution_count": null,
   "metadata": {
    "collapsed": true
   },
   "outputs": [],
   "source": []
  },
  {
   "cell_type": "code",
   "execution_count": null,
   "metadata": {
    "collapsed": true
   },
   "outputs": [],
   "source": []
  },
  {
   "cell_type": "code",
   "execution_count": null,
   "metadata": {
    "collapsed": true
   },
   "outputs": [],
   "source": []
  },
  {
   "cell_type": "code",
   "execution_count": null,
   "metadata": {
    "collapsed": true
   },
   "outputs": [],
   "source": []
  },
  {
   "cell_type": "code",
   "execution_count": null,
   "metadata": {
    "collapsed": true
   },
   "outputs": [],
   "source": []
  },
  {
   "cell_type": "code",
   "execution_count": null,
   "metadata": {
    "collapsed": true
   },
   "outputs": [],
   "source": []
  },
  {
   "cell_type": "code",
   "execution_count": null,
   "metadata": {
    "collapsed": true
   },
   "outputs": [],
   "source": []
  }
 ],
 "metadata": {
  "kernelspec": {
   "display_name": "Python 2",
   "language": "python",
   "name": "python2"
  },
  "language_info": {
   "codemirror_mode": {
    "name": "ipython",
    "version": 2
   },
   "file_extension": ".py",
   "mimetype": "text/x-python",
   "name": "python",
   "nbconvert_exporter": "python",
   "pygments_lexer": "ipython2",
   "version": "2.7.11"
  }
 },
 "nbformat": 4,
 "nbformat_minor": 0
}
