{
 "cells": [
  {
   "cell_type": "markdown",
   "metadata": {},
   "source": [
    "# Proyecto muestra aprendizaje 4:  Estrellas y estructura de la galaxia\n",
    "---\n",
    "\n",
    "## Catálogos y conceptos importantes\n",
    "### Catálogo Hipparcos\n",
    "Contiene datos de más de 100 mil estrellas, observadas por el satélite Hipparcos. Su misión principal fue medir posiciones y paralajes con alta precisión. Las columnas de este catálogo son:\n",
    "- **ra, dec**: Corresponden a coordenadas en el cielo para ubicar objetos. En el caso de RA y DEC es análogo al sistema de latitud y longitud que usamos en la Tierra.\n",
    "- **Glat, Glon**: Latitud y longitud galácticas. Es un sistema de coordenadas similar al ecuatorial, pero orientamos el Ecuador en el plano galáctico y el origen se ubica en el Sol. \n",
    "- **V**: Magnitud en el filtro V, con el cual podemos estimar qué tan brillante es una estrella (en el espectro visible).\n",
    "- **B-V**: Color B-V, nos ayuda a estimar qué tan azul es una estrella. Mientras menor es este valor, la estrella es más azul.\n",
    "- **Plx**: Paralaje en miliarcosegundos. Esta cantidad nos permite calcular de forma directa la distancia en pársecs por medio de la ecuación\n",
    "$$ D = \\frac{1000}{\\text{Plx}} $$\n",
    "\n",
    "---\n",
    "\n",
    "\n",
    "\n",
    "## Desarrollo del Taller\n",
    "1. **Distribución de estrellas**: ¿Tienen las estrellas alguna distribución particular en el cielo? ¿Se puede identificar algún tipo de estructura? ¿En qué coordenadas es más evidente?\n",
    "- **Distribución según color**: ¿Las estrellas azules y rojas se encuentran por igual en la galaxia? ¿Existe alguna parte o dirección con mayor concentración de estrellas rojas o azules? Separar por rangos de color puede ser buena idea.\n",
    "- **Distancia**: Las estrellas de este catálogo, en general ¿Están cerca o lejos? Verificar distribución, promedio y desviación estándar.\n",
    "- **Encontrando las Híades**: Las Híades son el cúmulo abierto más cercano a la Tierra, a unos 151 años luz. El paralaje de estas estrellas se encuentra entre 20 y 25 miliarcosegundos. ¿Cómo se distribuyen las estrellas con ese paralaje? ¿Cómo se ve el diagrama color-magnitud de estas estrellas? ¿Cuáles son las coordenadas (en promedio) de solo las estrellas de este cúmulo?\n",
    "- **Cúmulos de estrellas**: Los catálogos oc.csv y gc.csv contienen datos de posiciones en RA DEC y GLAT GLON de algunos cúmulos abiertos y globulares, respectivamente. ¿Cómo se distribuyen dentro de la galaxia? Opt: Descargar imágenes de cúmulos para notar sus diferencias morfológicas.\n",
    "\n",
    "---\n",
    "\n",
    "### Continuación\n",
    "Aquí un par de ideas en mente que no desarrollé:\n",
    "- Ver diagramas color magnitud de cúmulos tanto abiertos como globulares y ver diferencias o similitudes. Identificar etapas evolutivas y etender de forma cualitativa por que uno es joven y el otro viejo. \n",
    "- Utilizar el dataset fetch_sdss_sspp de AstroML, que trae magnitudes PSF en ugriz, Fe/H, log g, alpha/Fe, velocidades radiales y Teff. Realizar, por ejemplo, cortes en magnitud (mas brillantes, mas debiles) y ver como distribuye la metalicidad, realizar graficos de dos cantidades para diferentes rangos de una tercera, etc.\n",
    "- Con las dos anteriores, no creo que haga falta más, pero encontré un par de catálogos más que no he revisado, uno es parte del SDSS pero cubre una pequeña parte del halo, pesa 70mb, trae ugriz y se puede calcular FeH (con las ecuaciones del apéndice de Ivezic 2008). El otro tiene estrellas de tipo solar que me pareció interesante porque trae metalicidad, edad, distancia y cubre buena parte del cielo (http://vizier.u-strasbg.fr/viz-bin/VizieR-3?-source=J/A%2bA/541/A40)\n",
    "\n"
   ]
  },
  {
   "cell_type": "markdown",
   "metadata": {},
   "source": [
    "#### Parte 1"
   ]
  },
  {
   "cell_type": "code",
   "execution_count": null,
   "metadata": {
    "collapsed": true
   },
   "outputs": [],
   "source": []
  },
  {
   "cell_type": "code",
   "execution_count": null,
   "metadata": {
    "collapsed": true
   },
   "outputs": [],
   "source": []
  },
  {
   "cell_type": "code",
   "execution_count": null,
   "metadata": {
    "collapsed": true
   },
   "outputs": [],
   "source": []
  }
 ],
 "metadata": {
  "kernelspec": {
   "display_name": "Python 3",
   "language": "python",
   "name": "python3"
  },
  "language_info": {
   "codemirror_mode": {
    "name": "ipython",
    "version": 3
   },
   "file_extension": ".py",
   "mimetype": "text/x-python",
   "name": "python",
   "nbconvert_exporter": "python",
   "pygments_lexer": "ipython3",
   "version": "3.5.1"
  }
 },
 "nbformat": 4,
 "nbformat_minor": 0
}
