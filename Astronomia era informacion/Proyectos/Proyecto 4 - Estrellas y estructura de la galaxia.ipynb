{
 "cells": [
  {
   "cell_type": "markdown",
   "metadata": {},
   "source": [
    "# Proyecto muestra aprendizaje 4:  Estrellas y estructura de la galaxia\n",
    "---\n",
    "## Objetivos\n",
    "En este proyecto van a descubrir y familiarizarse con conceptos de estructura galáctica y estudiar la forma de la Vía Láctea. Con las herramientas que han aprendido descubrirán por su propia cuenta cómo están distribuídas las estrellas y cómo se organizan, así como todas las características y diferencias entre cada una.\n",
    "\n",
    "\n",
    "## Catálogos y conceptos importantes\n",
    "En el taller tendrán dos catálogos a su disposición\n",
    "### Catálogo Hipparcos\n",
    "Contiene datos de más de 100 mil estrellas, observadas por el satélite Hipparcos. Su misión principal fue medir posiciones y paralajes con alta precisión. Las columnas de este catálogo son:\n",
    "- **ra, dec**: Corresponden a coordenadas en el cielo para ubicar objetos. En el caso de RA y DEC es análogo al sistema de latitud y longitud que usamos en la Tierra. Están medidas en grados.\n",
    "- **Glat, Glon**: Latitud y longitud galácticas. Es un sistema de coordenadas similar al ecuatorial, pero orientamos el Ecuador en el plano galáctico y el origen se ubica en el Sol. \n",
    "- **V**: Magnitud en el filtro V, con el cual podemos estimar qué tan brillante es una estrella (en el espectro visible).\n",
    "- **B-V**: Color B-V, nos ayuda a estimar qué tan azul es una estrella. Mientras menor es este valor, la estrella es más azul.\n",
    "- **Plx**: Paralaje en miliarcosegundos. Esta cantidad nos permite calcular de forma directa la distancia en pársecs por medio de la ecuación\n",
    "$$ D = \\frac{1000}{\\text{Plx}} $$\n",
    "\n",
    "### Catálogo de cúmulos\n",
    "Contiene datos de posiciones de algunos cúmulos, tanto globulares como abiertos.\n",
    "- **ra, dec**: Coordenadas ecuatoriales de los cúmulos en grados.\n",
    "- **GLAT, GLON**: Coordenadas galácticas de los cúmulos.\n",
    "\n",
    "### Catálogos fotométricos\n",
    "Las columnas corresponden a magnitudes en distintos filtros, de los cuales se pueden generar colores.\n",
    "\n",
    "---\n",
    "\n",
    "\n",
    "# Ideas para el Taller\n",
    "\n",
    "## 1. Distribución de estrellas\n",
    "¿Tienen las estrellas alguna distribución particular en el cielo? ¿Se puede identificar algún tipo de estructura? ¿En qué coordenadas es más evidente?\n",
    "\n",
    "## 2. Distribución según color\n",
    "¿Las estrellas azules y rojas se encuentran por igual en la galaxia? ¿Existe alguna parte o dirección con mayor concentración de estrellas rojas o azules?\n",
    "\n",
    "## 3. Distancia\n",
    "Las estrellas de este catálogo, en general ¿Están cerca o lejos? Verificar distribución, promedio y desviación estándar.\n",
    "\n",
    "## 4. Encontrando las Híades\n",
    "Las Híades son el cúmulo abierto más cercano a la Tierra, a unos 151 años luz. El paralaje de estas estrellas se encuentra entre 20 y 25 miliarcosegundos. ¿Cómo se distribuyen las estrellas con ese paralaje? ¿Cómo se ve el diagrama color-magnitud de estas estrellas? ¿Cuáles son las coordenadas (en promedio) de solo las estrellas de este cúmulo? ¿A qué distancia están estas estrellas?\n",
    "\n",
    "## 5. Cúmulos de estrellas\n",
    "Los catálogos \"oc\" y \"gc\" contienen datos de posiciones en RA DEC y GLAT GLON de algunos cúmulos abiertos y globulares, respectivamente. ¿Cómo se distribuyen dentro de la galaxia? ¿Cómo se ven sus imágenes? Encontrar las diferencias (y similitudes) que puedan.\n",
    "\n",
    "## 6. Diagramas de cúmulos\n",
    "Se les entregarán algunos catálogos fotométricos de algunos cúmulos, es decir con información sobre su brillo en diferentes filtros. ¿Cómo son los diagramas color magnitud? ¿Se parecen o son todos diferentes? ¿Cómo son los colores? ¿Y el brillo?\n",
    "\n",
    "## 7. Continuar explorando\n",
    "Pueden seguir investigando correlaciones, distribuciones o resolver interrogantes que hayan tenido en el camino. Dentro de todos los catálogos siempre hay algo de información \"oculta\" o líneas que no han sido mencionadas anteriormente. También si lo estiman necesario se les puede facilitar catálogos con otro tipo de parámetros para que sigan descubriendo detalles de la estructura de la galaxia."
   ]
  },
  {
   "cell_type": "markdown",
   "metadata": {},
   "source": [
    "---\n",
    "\n",
    "Su grupo deberá entregar semana a semana un archivo donde muestre su progreso. Esperamos que estos archivos no muestren **sólo código**, sino que también expliquen con celdas de texto qué es lo que hace el código y la razón física detrás de las relaciones, distribuciones, y números que muestre. Recuerde que este trabajo puede ser expuesto en la muestra de aprendizaje, donde tendrá que mostrarlo a personas que puede que no tengan conocimiento de astronomía o programación.\n",
    "\n",
    "Para entregar el archivo, utilizaremos el sistema de Dropbox que hemos usado en los otros talleres evaluados. Para eso, es fundamental que ingrese en la celda de abajo los nombres de los integrantes del grupo, y al final, luego de guardar, ejecute las dos últimas celdas."
   ]
  },
  {
   "cell_type": "code",
   "execution_count": null,
   "metadata": {
    "collapsed": true
   },
   "outputs": [],
   "source": [
    "integrante1 = ''\n",
    "integrante2 = ''\n",
    "integrante3 = ''"
   ]
  },
  {
   "cell_type": "code",
   "execution_count": null,
   "metadata": {
    "collapsed": true
   },
   "outputs": [],
   "source": [
    "import pandas as pd\n",
    "import numpy as np\n",
    "import matplotlib.pyplot as plt\n",
    "from matplotlib import rc\n",
    "%matplotlib inline\n",
    "\n",
    "rc('font', size=14)\n",
    "rc('axes', labelsize=22)"
   ]
  },
  {
   "cell_type": "markdown",
   "metadata": {},
   "source": [
    "Estos son los catálogos que contienen todos los datos a usar"
   ]
  },
  {
   "cell_type": "code",
   "execution_count": null,
   "metadata": {
    "collapsed": false
   },
   "outputs": [],
   "source": [
    "url = 'https://github.com/rpmunoz/PentaUC/raw/master/Astronomia%20era%20informacion/data/P4HIP.csv'\n",
    "data = pd.read_csv(url, sep=',', comment='#', header=0)\n",
    "data.head()\n",
    "\n",
    "url = 'https://github.com/rpmunoz/PentaUC/raw/master/Astronomia%20era%20informacion/data/P4gc.csv'\n",
    "gc = pd.read_csv(url, sep=',', comment='#', header=0)\n",
    "gc.head()\n",
    "\n",
    "url = 'https://github.com/rpmunoz/PentaUC/raw/master/Astronomia%20era%20informacion/data/P4oc.csv'\n",
    "oc = pd.read_csv(url, sep=',', comment='#', header=0)\n",
    "oc.head()"
   ]
  },
  {
   "cell_type": "markdown",
   "metadata": {},
   "source": [
    "### Parte 1"
   ]
  },
  {
   "cell_type": "code",
   "execution_count": null,
   "metadata": {
    "collapsed": true
   },
   "outputs": [],
   "source": []
  },
  {
   "cell_type": "code",
   "execution_count": null,
   "metadata": {
    "collapsed": true
   },
   "outputs": [],
   "source": []
  },
  {
   "cell_type": "code",
   "execution_count": null,
   "metadata": {
    "collapsed": true
   },
   "outputs": [],
   "source": []
  },
  {
   "cell_type": "markdown",
   "metadata": {},
   "source": [
    "### Parte 2"
   ]
  },
  {
   "cell_type": "code",
   "execution_count": null,
   "metadata": {
    "collapsed": true
   },
   "outputs": [],
   "source": []
  },
  {
   "cell_type": "code",
   "execution_count": null,
   "metadata": {
    "collapsed": true
   },
   "outputs": [],
   "source": []
  },
  {
   "cell_type": "code",
   "execution_count": null,
   "metadata": {
    "collapsed": true
   },
   "outputs": [],
   "source": []
  },
  {
   "cell_type": "markdown",
   "metadata": {},
   "source": [
    "### Parte 3"
   ]
  },
  {
   "cell_type": "code",
   "execution_count": null,
   "metadata": {
    "collapsed": true
   },
   "outputs": [],
   "source": []
  },
  {
   "cell_type": "code",
   "execution_count": null,
   "metadata": {
    "collapsed": true
   },
   "outputs": [],
   "source": []
  },
  {
   "cell_type": "code",
   "execution_count": null,
   "metadata": {
    "collapsed": true
   },
   "outputs": [],
   "source": []
  },
  {
   "cell_type": "markdown",
   "metadata": {},
   "source": [
    "### Parte 4"
   ]
  },
  {
   "cell_type": "code",
   "execution_count": null,
   "metadata": {
    "collapsed": true
   },
   "outputs": [],
   "source": []
  },
  {
   "cell_type": "code",
   "execution_count": null,
   "metadata": {
    "collapsed": true
   },
   "outputs": [],
   "source": []
  },
  {
   "cell_type": "code",
   "execution_count": null,
   "metadata": {
    "collapsed": true
   },
   "outputs": [],
   "source": []
  },
  {
   "cell_type": "markdown",
   "metadata": {},
   "source": [
    "### Parte 5"
   ]
  },
  {
   "cell_type": "code",
   "execution_count": null,
   "metadata": {
    "collapsed": true
   },
   "outputs": [],
   "source": []
  },
  {
   "cell_type": "code",
   "execution_count": null,
   "metadata": {
    "collapsed": true
   },
   "outputs": [],
   "source": []
  },
  {
   "cell_type": "code",
   "execution_count": null,
   "metadata": {
    "collapsed": true
   },
   "outputs": [],
   "source": []
  },
  {
   "cell_type": "markdown",
   "metadata": {},
   "source": [
    "### Parte 6"
   ]
  },
  {
   "cell_type": "code",
   "execution_count": null,
   "metadata": {
    "collapsed": true
   },
   "outputs": [],
   "source": []
  },
  {
   "cell_type": "code",
   "execution_count": null,
   "metadata": {
    "collapsed": true
   },
   "outputs": [],
   "source": []
  },
  {
   "cell_type": "code",
   "execution_count": null,
   "metadata": {
    "collapsed": true
   },
   "outputs": [],
   "source": []
  },
  {
   "cell_type": "markdown",
   "metadata": {},
   "source": [
    "### Extras 1"
   ]
  },
  {
   "cell_type": "code",
   "execution_count": null,
   "metadata": {
    "collapsed": true
   },
   "outputs": [],
   "source": []
  },
  {
   "cell_type": "code",
   "execution_count": null,
   "metadata": {
    "collapsed": true
   },
   "outputs": [],
   "source": []
  },
  {
   "cell_type": "code",
   "execution_count": null,
   "metadata": {
    "collapsed": true
   },
   "outputs": [],
   "source": []
  },
  {
   "cell_type": "markdown",
   "metadata": {},
   "source": [
    "### Extras 2"
   ]
  },
  {
   "cell_type": "code",
   "execution_count": null,
   "metadata": {
    "collapsed": true
   },
   "outputs": [],
   "source": []
  },
  {
   "cell_type": "code",
   "execution_count": null,
   "metadata": {
    "collapsed": true
   },
   "outputs": [],
   "source": []
  },
  {
   "cell_type": "code",
   "execution_count": null,
   "metadata": {
    "collapsed": true
   },
   "outputs": [],
   "source": []
  },
  {
   "cell_type": "markdown",
   "metadata": {},
   "source": [
    "# Una vez terminada la sesion del taller, debera ejecutar las siguientes dos celdas para subir su trabajo al servidor donde quedara almacenada"
   ]
  },
  {
   "cell_type": "code",
   "execution_count": null,
   "metadata": {
    "collapsed": true
   },
   "outputs": [],
   "source": [
    "%%javascript\n",
    "var kernel = IPython.notebook.kernel;\n",
    "var thename = window.document.getElementById(\"notebook_name\").innerHTML;\n",
    "var command = \"notebook_file = \" + \"'\"+thename+\"'\";\n",
    "kernel.execute(command);"
   ]
  },
  {
   "cell_type": "code",
   "execution_count": null,
   "metadata": {
    "collapsed": true
   },
   "outputs": [],
   "source": [
    "from IPython.display import display,Javascript,HTML\n",
    "import dropbox\n",
    "import socket\n",
    "import string\n",
    "\n",
    "# Get the hostname\n",
    "hostname=string.split(socket.gethostname(),'.')[0]\n",
    "\n",
    "# Save the notebook\n",
    "display(Javascript('IPython.notebook.save_checkpoint();'))\n",
    "\n",
    "try:\n",
    "    integrante_exist= (integrante1 != '' and integrante2!= '')\n",
    "except NameError:\n",
    "    display(HTML(\"<big><b><br>Los nombres de los integrantes no estan definidos. Revise la primera celda y escriba los nombres.</b></big>\"))\n",
    "else:\n",
    "    if integrante_exist:\n",
    "        output_file='/'+notebook_file+'_'+hostname+'_'+integrante1+'_'+integrante2+'_'+integrante3+'.ipynb'\n",
    "        \n",
    "        display(HTML(\"<big><b><br>Nombres de los integrantes:</b></big>\"))\n",
    "        display(HTML(\"<big>{}<br>{}</big>\".format(integrante1,integrante2,integrante3)))\n",
    "        display(HTML(\"<big><b><br>Nombre del archivo:</b></big>\"))\n",
    "        display(HTML(\"<big>{}</big>\".format(output_file)))\n",
    "\n",
    "        client=dropbox.client.DropboxClient('q96bL4l9oyAAAAAAAAAACEK7gCFwoO-PtZu5jJ6gynNwriiBjzTLsN0eV51YQhNe')\n",
    "\n",
    "        f = open(notebook_file+'.ipynb', 'rb')\n",
    "        response = client.put_file(output_file,f)\n",
    "        f.close()\n",
    "        display(HTML(\"<big><b><br>Registro del servidor de Dropbox:</b></big>\"))\n",
    "        print response\n",
    "    else:\n",
    "        display(HTML(\"<big><b><br>Los nombres de los integrantes no estan definidos. Revise la primera celda y escriba los nombres.</b></big>\"))"
   ]
  }
 ],
 "metadata": {
  "kernelspec": {
   "display_name": "Python 3",
   "language": "python",
   "name": "python3"
  },
  "language_info": {
   "codemirror_mode": {
    "name": "ipython",
    "version": 3
   },
   "file_extension": ".py",
   "mimetype": "text/x-python",
   "name": "python",
   "nbconvert_exporter": "python",
   "pygments_lexer": "ipython3",
   "version": "3.5.1"
  }
 },
 "nbformat": 4,
 "nbformat_minor": 0
}
