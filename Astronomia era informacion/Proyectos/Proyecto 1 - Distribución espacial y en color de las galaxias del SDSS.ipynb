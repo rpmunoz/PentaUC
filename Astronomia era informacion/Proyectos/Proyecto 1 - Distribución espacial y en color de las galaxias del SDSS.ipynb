{
 "cells": [
  {
   "cell_type": "markdown",
   "metadata": {},
   "source": [
    "# Proyector muestra aprendizaje n° 1: galaxias, sus colores, y su distribución en el espacio\n",
    "---\n",
    "En este taller trabajaremos utilizando un catálogo de galaxias que tiene información de su posición en el cielo, su magnitud (que tan brillante es) en cinco filtros distintos, y su redshift o corrimiento hacia el rojo. Recordemos los conceptos básicos que nos ayudarán a entender las cantidades de cada columna:\n",
    "\n",
    "   - ra, dec: posición en el cielo de las galaxias, en un sistema de coordenadas análogo al de latitud y longitud sobre la Tierra.\n",
    "   \n",
    "   - u, g, r, i, z: sistema de filtros usado por el Sloan Digital Sky Survey, que capturan luz de distintas regiones del espectro electromagnético como se muestra en el diagrama de abajo. La curva para cada filtro muestra su eficiencia en función de la longitud de onda. Dos magnitudes se pueden restar una de la otra para formar un color, como, por ejemplo, g-r.\n",
    "   <img src=\"http://www.astroml.org/_images/plot_sdss_filters_1.png\",width=600,height=600>\n",
    "   \n",
    "   - redshift: corrimiento hacia el rojo por efecto Doppler.\n",
    "   \n",
    "Es importante recordar que el redshift entrega información de la velocidad con la que se mueve la galaxia con respecto a nosotros en la línea de visión, y, por Ley de Hubble, se puede transformar a distancia. La velocidad se obtiene usando $ v = cz, $ donde $v$ es la velocidad de la galaxia, $c$ es la velocidad de la luz (300000 km/s), y $z$ es el redshift observado. Una vez obtenida la velocidad, utilizamos la forma matemática de la Ley de Hubble, $v=H_0*d$, donde $H_0\\approx70$ km/(s\\*Mpc) es la constante de Hubble, y 1 Mpc = $10^6$ pc $\\approx3*10^{22}$ m.\n",
    "\n",
    "---\n",
    "\n",
    "### Posibles líneas de desarrollo de este taller:\n",
    "\n",
    "   - Distribución de redshift de galaxias observadas;\n",
    "   - Distribución de color y magnitud de galaxias observadas; \n",
    "   - Diagramas color-magnitud y color-color de galaxias, tanto para la muestra completa, como para distintos intervalos de redshift: ¿cambia la forma de estos diagramas para distintos intervalos?;\n",
    "   - Distribución 3D de las galaxias: mapas del cielo para distintos intervalos de redshift: ¿cambia su distribución en el cielo?;\n",
    "   - Distribución espacial de las galaxias en distintos intervalos de color: ¿cambian la distribución en el cielo para distintos intervalos de color?;\n",
    "   - Mostrar imágenes y espectros de galaxias que use, y explicar cómo es que varían estos con el redshift y color\n",
    "   - Cualquier otra relación que se les ocurra.\n"
   ]
  },
  {
   "cell_type": "code",
   "execution_count": null,
   "metadata": {
    "collapsed": true
   },
   "outputs": [],
   "source": [
    "import matplotlib.pyplot as plt\n",
    "import numpy as np\n",
    "import pandas as pd\n",
    "%matplotlib inline"
   ]
  },
  {
   "cell_type": "code",
   "execution_count": null,
   "metadata": {
    "collapsed": false
   },
   "outputs": [],
   "source": [
    "data=pd.read_csv('../data/SDSSspecgalsDR8.csv')\n",
    "data.head()"
   ]
  },
  {
   "cell_type": "code",
   "execution_count": null,
   "metadata": {
    "collapsed": true
   },
   "outputs": [],
   "source": []
  },
  {
   "cell_type": "code",
   "execution_count": null,
   "metadata": {
    "collapsed": false
   },
   "outputs": [],
   "source": []
  },
  {
   "cell_type": "code",
   "execution_count": null,
   "metadata": {
    "collapsed": false
   },
   "outputs": [],
   "source": []
  },
  {
   "cell_type": "code",
   "execution_count": null,
   "metadata": {
    "collapsed": false
   },
   "outputs": [],
   "source": []
  },
  {
   "cell_type": "code",
   "execution_count": null,
   "metadata": {
    "collapsed": true
   },
   "outputs": [],
   "source": []
  }
 ],
 "metadata": {
  "kernelspec": {
   "display_name": "Python 2",
   "language": "python",
   "name": "python2"
  },
  "language_info": {
   "codemirror_mode": {
    "name": "ipython",
    "version": 2
   },
   "file_extension": ".py",
   "mimetype": "text/x-python",
   "name": "python",
   "nbconvert_exporter": "python",
   "pygments_lexer": "ipython2",
   "version": "2.7.6"
  }
 },
 "nbformat": 4,
 "nbformat_minor": 0
}
