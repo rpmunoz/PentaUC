{
 "cells": [
  {
   "cell_type": "markdown",
   "metadata": {},
   "source": [
    "# Proyecto muestra aprendizaje 3: Distribución y caracterización de asteroides\n",
    "---\n",
    "\n",
    "![alt text](http://www.splung.com/cosmology/images/asteroidmovie.gif)\n",
    "\n",
    "En este taller vamos a trabajar con catálogos de objetos en el cinturón de asteroides. Este catálogo contiene las siguientes columnas:\n",
    "\n",
    "### Catálogo de asteroides (data)\n",
    "Contiene datos de más de 8000 objetos cercanos al cinturón de asteroides. Los parámetros $e$ y $sin\\_i$ están disponibles solo para 4200 objetos, tener ojo con eso.\n",
    "- **Nombre**: Nombre o denominación del asteroide.\n",
    "- **a**: Semi-eje mayor en UA, es decir, la mayor distancia medida desde el centro de la órbita, en Unidades Astronómicas. Esta distancia es aproximadamente igual a la distancia al Sol si es que la órbita es (casi) circular.\n",
    "- **mag_i, mag_z**: Magnitudes (brillo) en distintos filtros. Con estos vamos a construir colores y con ellos se pueden clasificar asteroides según su composición.\n",
    "- **color_a**: Color \"a\". La letra \"a\" es una denominación arbitraria para definir un color compuesto por una combinación de los filtros g, r, i. En la sección de clasificación se ven más detalles sobre cómo se hizo.\n",
    "- **X, Y, Z**: Posición del asteroide en coordenadas cartesianas con origen en el Sol. Las cantidades se encuentran en Unidades Astronómicas (UA).\n",
    "- **e**: Excentricidad. Es un parámetro que define la forma de la órbita de un cuerpo. Para efectos prácticos, nos indica qué tan alejado de una circunferencia está la órbita. En una circunferencia perfecta $e=0$, en una elipse $0<e<1$. Una parábola tiene $e=1$ y una hipérbola $e>1$.\n",
    "- **sin_i**: Nos indica qué tan inclinada está la órbita. Se entrega el valor del seno de la inclinación.\n",
    "\n",
    "### Catálogo de magnitud y albedo (data2)\n",
    "Contiene datos de magnitud y albedo para poco más de 2000 objetos, con el cual pueden estimar las dimensiones y volumen de los asteroides.\n",
    "- **Nombre**: Nombre del asteroide. Notar que en este catálogo, el nombre viene antecedido por un número. Este número proviene del catálogo de asteroides del Minor Planet Center, donde a estos se les designa simplemente un número entero. Como curiosidad, el catálogo también es denominado como catálogo de \"minor planets\", es decir, \"planetas menores\" (¿Por qué será?).\n",
    "- **H**: Magnitud absoluta del asteroide. Esta definición es un tanto diferente a la habitual, ya que los asteroides no emiten luz. En este caso corresponde al brillo en el filtro V que tendría un asteroide completamente iluminado a 1 UA del Sol y a 1 UA al mismo tiempo (¿Es esto geométrica o físicamente posible?).\n",
    "- **A**: Albedo. Corresponde a la fracción (o porcentaje) de radiación que se refleja con respecto a la que incide. Por ejemplo, la nieve refleja el 86% de la luz incidente, las nubes un 50% y los océanos un 10%. La Tierra tiene un albedo de 39% (0.38), Marte 15% (0.15) y la Luna 7% (0.07).\n",
    "\n",
    "### Catálogo de planetas (solarsys)\n",
    "Con el fin de que tengan más datos para realizar comparaciones y lo que se les ocurra, también tienen un catálogo con los datos de otros cuerpos del sistema solar.\n",
    "- **Nombre**: Nombre del planeta o planeta enano.\n",
    "- **m**: Masa en kilógramos.\n",
    "- **d**: Diámetro en kilómetros.\n",
    "- **rho**: Densidad media en kilómetros por metro cúbico.\n",
    "- **a**: Semi eje mayor en UA.\n",
    "- **e**: Excentricidad de la órbita.\n",
    "- **i**: Inclinación de la órbita en grados.\n",
    "- **alb**: Albedo del objeto.\n",
    "\n",
    "\n",
    "---\n",
    "\n",
    "## Clasificación\n",
    "Si bien existen muchas clases y subclases, nos enfocaremos en estas tres, pues utilizando los colores de los asteroides nos es posible realizar una primera (y simple) aproximación al tipo de asteroide del que se trata.\n",
    "\n",
    "- **Clase C**: Objetos con carbono como principal componente. Hygiea y Mathilde son dos ejemplos. Su densidad aproximada es $\\rho = 1380 \\text{ kg/m}^3$\n",
    "- **Clase S**: Formados principalmente por silicatos (roca). A esta clase pertenecen Eros y Gaspra. Su densidad es $\\rho = 2710 \\text{ kg/m}^3$\n",
    "- **Clase V**: Un tipo más raro, relativamente similar al tipo S, pero con mayor presencia de piroxeno. Se le llaman tipo \"V\" por el ejemplo clásico de esta clase, el asteroide Vesta. Su densidad aproximada es $\\rho = 5320 \\text{ kg/m}^3$\n",
    "\n",
    "Para clasificar haremos uso de un diagrama color-color, donde en el eje $x$ tenemos al color **col_a**, definido por la siguiente combinación de filtros g, r, i:\n",
    "$$ a = 0.89(g−r) + 0.45(r−i) − 0.57$$\n",
    "\n",
    "Mientras que en el eje $y$ tendremos el color **i-z**, el cual debemos confeccionar.\n",
    "\n",
    "Una vez observada la distribución de los puntos, podemos proceder a la clasificación utilizando las condiciones\n",
    "- **Clase C**: $ a < 0$\n",
    "- **Clase S**: $ i-z > -0.15\\quad \\wedge\\quad  a > 0 $\n",
    "- **Clase V**: $ i-z < -0.15\\quad \\wedge\\quad  a > 0 $"
   ]
  },
  {
   "cell_type": "markdown",
   "metadata": {},
   "source": [
    "---\n",
    "# Ideas para desarrollar el taller\n",
    "\n",
    "## 1. Examinar la distribución espacial\n",
    "¿Cómo se encuentran distribuídos los asteroides según sus posiciones? ¿Las clases encontradas anteriormente están todas mezcladas o están agrupadas? ¿Dónde se encuentran en comparación a los planetas?\n",
    "\n",
    "## 2. Distribuciones de los parámetros\n",
    "¿Qué pasa ahora con la distribución de cada uno de los parámetros? ¿Existen diferentes concentraciones o solo un grupo de asteroides? ¿Cómo son las órbitas según la excentricidad? ¿Están todas en un mismo plano o se orientan en todas direcciones? ¿Cuáles son los promedios y desviaciones estándar de lo que se encuentra?\n",
    "\n",
    "## 3. Resonancia\n",
    "Comparar los resultados obtenidos anteriormente con el semi eje mayor que tendrían diferentes cuerpos con período en resonancia con Júpiter. Recordemos que por la Tercera Ley de Kepler,\n",
    "\n",
    "$$ a = P^{2/3} $$\n",
    "\n",
    "En este caso el período de Júpiter es aproximadamente $11.865$ años, por lo que deben explorar períodos que estén en diferentes razones con el período de Júpiter, por ejemplo 3:1, 2:1, 5:3, 7:2, etc.\n",
    "\n",
    "## 4. Estimación de masas\n",
    "Para hacernos una idea de la masa de cada asteroide se suelen utilizar las cantidades de magnitud absoluta (H) y albedo (A). Con estas cantidades podemos calcular el diámetro (en kilómetros) del asteroide por\n",
    "\n",
    "$$ d = \\frac{1329}{\\sqrt{A}} 10^{-0.2H}$$\n",
    "\n",
    "Si aproximamos el volumen de los asteroides como el de una esfera, podemos utilizar los valores de densidad conocidos y tener una aproximación de la masa de estos con\n",
    "\n",
    "$$ m = V \\times \\rho $$\n",
    "\n",
    "¿Cuáles son los más masivos? ¿Y los más grandes? ¿Cómo se comparan los más masivos respecto al resto? ¿Está toda la masa distribuída por igual? ¿Cómo se compara el más masivo con la masa de la Tierra, de la Luna ($7.35\\times10^{22} \\text{ kg}$) y otros cuerpos?\n",
    "\n",
    "## 5. Otras preguntas o relaciones\n",
    "¿Existe otro tipo de correlaciones? ¿De distribuciones? ¿Correlacionan las clases encontradas con algún parámetro? ¿Se les ocurrió alguna para investigar? Cualquier interrogante que tengan durante el taller es altamente recomendable de desarrollar, pues puede existir mucha información \"oculta\" entre todos los datos que tienen."
   ]
  },
  {
   "cell_type": "markdown",
   "metadata": {},
   "source": [
    "---\n",
    "\n",
    "Su grupo deberá entregar semana a semana un archivo donde muestre su progreso. Esperamos que estos archivos no muestren **sólo código**, sino que también expliquen con celdas de texto qué es lo que hace el código y la razón física detrás de las relaciones, distribuciones, y números que muestre. Recuerde que este trabajo puede ser expuesto en la muestra de aprendizaje, donde tendrá que mostrarlo a personas que puede que no tengan conocimiento de astronomía o programación.\n",
    "\n",
    "Para entregar el archivo, utilizaremos el sistema de Dropbox que hemos usado en los otros talleres evaluados. Para eso, es fundamental que ingrese en la celda de abajo los nombres de los integrantes del grupo, y al final, luego de guardar, ejecute las dos últimas celdas."
   ]
  },
  {
   "cell_type": "code",
   "execution_count": null,
   "metadata": {
    "collapsed": true
   },
   "outputs": [],
   "source": [
    "integrante1 = ''\n",
    "integrante2 = ''\n",
    "integrante3 = ''"
   ]
  },
  {
   "cell_type": "code",
   "execution_count": 2,
   "metadata": {
    "collapsed": true
   },
   "outputs": [],
   "source": [
    "import pandas as pd\n",
    "import numpy as np\n",
    "import matplotlib.pyplot as plt\n",
    "from matplotlib import rc\n",
    "%matplotlib inline\n",
    "\n",
    "rc('font', size=14)\n",
    "rc('axes', labelsize=22)"
   ]
  },
  {
   "cell_type": "markdown",
   "metadata": {},
   "source": [
    "Estos son los catálogos que contienen todos los datos a usar"
   ]
  },
  {
   "cell_type": "code",
   "execution_count": 9,
   "metadata": {
    "collapsed": false
   },
   "outputs": [
    {
     "data": {
      "text/html": [
       "<div>\n",
       "<table border=\"1\" class=\"dataframe\">\n",
       "  <thead>\n",
       "    <tr style=\"text-align: right;\">\n",
       "      <th></th>\n",
       "      <th>Nombre</th>\n",
       "      <th>m</th>\n",
       "      <th>d</th>\n",
       "      <th>rho</th>\n",
       "      <th>a</th>\n",
       "      <th>e</th>\n",
       "      <th>i</th>\n",
       "      <th>alb</th>\n",
       "    </tr>\n",
       "  </thead>\n",
       "  <tbody>\n",
       "    <tr>\n",
       "      <th>0</th>\n",
       "      <td>Mercurio</td>\n",
       "      <td>3.300000e+23</td>\n",
       "      <td>4879</td>\n",
       "      <td>5427</td>\n",
       "      <td>0.387</td>\n",
       "      <td>0.205</td>\n",
       "      <td>7.0</td>\n",
       "      <td>0.10</td>\n",
       "    </tr>\n",
       "    <tr>\n",
       "      <th>1</th>\n",
       "      <td>Venus</td>\n",
       "      <td>4.860000e+24</td>\n",
       "      <td>12104</td>\n",
       "      <td>5243</td>\n",
       "      <td>0.723</td>\n",
       "      <td>0.007</td>\n",
       "      <td>3.4</td>\n",
       "      <td>0.65</td>\n",
       "    </tr>\n",
       "    <tr>\n",
       "      <th>2</th>\n",
       "      <td>Tierra</td>\n",
       "      <td>5.970000e+24</td>\n",
       "      <td>12756</td>\n",
       "      <td>5514</td>\n",
       "      <td>1.000</td>\n",
       "      <td>0.017</td>\n",
       "      <td>0.0</td>\n",
       "      <td>0.39</td>\n",
       "    </tr>\n",
       "    <tr>\n",
       "      <th>3</th>\n",
       "      <td>Marte</td>\n",
       "      <td>6.420000e+23</td>\n",
       "      <td>6792</td>\n",
       "      <td>3933</td>\n",
       "      <td>1.520</td>\n",
       "      <td>0.094</td>\n",
       "      <td>1.9</td>\n",
       "      <td>0.15</td>\n",
       "    </tr>\n",
       "    <tr>\n",
       "      <th>4</th>\n",
       "      <td>Jupiter</td>\n",
       "      <td>1.898000e+27</td>\n",
       "      <td>142984</td>\n",
       "      <td>1326</td>\n",
       "      <td>5.200</td>\n",
       "      <td>0.049</td>\n",
       "      <td>1.3</td>\n",
       "      <td>0.52</td>\n",
       "    </tr>\n",
       "  </tbody>\n",
       "</table>\n",
       "</div>"
      ],
      "text/plain": [
       "     Nombre             m       d   rho      a      e    i   alb\n",
       "0  Mercurio  3.300000e+23    4879  5427  0.387  0.205  7.0  0.10\n",
       "1     Venus  4.860000e+24   12104  5243  0.723  0.007  3.4  0.65\n",
       "2    Tierra  5.970000e+24   12756  5514  1.000  0.017  0.0  0.39\n",
       "3     Marte  6.420000e+23    6792  3933  1.520  0.094  1.9  0.15\n",
       "4   Jupiter  1.898000e+27  142984  1326  5.200  0.049  1.3  0.52"
      ]
     },
     "execution_count": 9,
     "metadata": {},
     "output_type": "execute_result"
    }
   ],
   "source": [
    "url = 'https://github.com/rpmunoz/PentaUC/raw/master/Astronomia%20era%20informacion/data/P3asteroides.csv'\n",
    "data = pd.read_csv(url, sep=',', comment='#', header=0)\n",
    "data.head()\n",
    "\n",
    "url = 'https://github.com/rpmunoz/PentaUC/raw/master/Astronomia%20era%20informacion/data/P3alb_mag.csv'\n",
    "data2 = pd.read_csv(url, sep=',', comment='#', header=0)\n",
    "data2.head()\n",
    "\n",
    "url = 'https://github.com/rpmunoz/PentaUC/raw/master/Astronomia%20era%20informacion/data/P3solarsys.csv'\n",
    "solarsys = pd.read_csv(url, sep=',', comment='#', header=0)\n",
    "solarsys.head()"
   ]
  },
  {
   "cell_type": "markdown",
   "metadata": {},
   "source": [
    "### Parte 1"
   ]
  },
  {
   "cell_type": "code",
   "execution_count": null,
   "metadata": {
    "collapsed": true
   },
   "outputs": [],
   "source": []
  },
  {
   "cell_type": "code",
   "execution_count": null,
   "metadata": {
    "collapsed": true
   },
   "outputs": [],
   "source": []
  },
  {
   "cell_type": "code",
   "execution_count": null,
   "metadata": {
    "collapsed": true
   },
   "outputs": [],
   "source": []
  },
  {
   "cell_type": "markdown",
   "metadata": {},
   "source": [
    "### Parte 2"
   ]
  },
  {
   "cell_type": "code",
   "execution_count": null,
   "metadata": {
    "collapsed": true
   },
   "outputs": [],
   "source": []
  },
  {
   "cell_type": "code",
   "execution_count": null,
   "metadata": {
    "collapsed": true
   },
   "outputs": [],
   "source": []
  },
  {
   "cell_type": "code",
   "execution_count": null,
   "metadata": {
    "collapsed": true
   },
   "outputs": [],
   "source": []
  },
  {
   "cell_type": "markdown",
   "metadata": {},
   "source": [
    "### Parte 3"
   ]
  },
  {
   "cell_type": "code",
   "execution_count": null,
   "metadata": {
    "collapsed": true
   },
   "outputs": [],
   "source": []
  },
  {
   "cell_type": "code",
   "execution_count": null,
   "metadata": {
    "collapsed": true
   },
   "outputs": [],
   "source": []
  },
  {
   "cell_type": "code",
   "execution_count": null,
   "metadata": {
    "collapsed": true
   },
   "outputs": [],
   "source": []
  },
  {
   "cell_type": "markdown",
   "metadata": {},
   "source": [
    "### Parte 4"
   ]
  },
  {
   "cell_type": "code",
   "execution_count": null,
   "metadata": {
    "collapsed": true
   },
   "outputs": [],
   "source": []
  },
  {
   "cell_type": "code",
   "execution_count": null,
   "metadata": {
    "collapsed": true
   },
   "outputs": [],
   "source": []
  },
  {
   "cell_type": "code",
   "execution_count": null,
   "metadata": {
    "collapsed": true
   },
   "outputs": [],
   "source": []
  },
  {
   "cell_type": "markdown",
   "metadata": {},
   "source": [
    "### Parte 5"
   ]
  },
  {
   "cell_type": "code",
   "execution_count": null,
   "metadata": {
    "collapsed": true
   },
   "outputs": [],
   "source": []
  },
  {
   "cell_type": "code",
   "execution_count": null,
   "metadata": {
    "collapsed": true
   },
   "outputs": [],
   "source": []
  },
  {
   "cell_type": "code",
   "execution_count": null,
   "metadata": {
    "collapsed": true
   },
   "outputs": [],
   "source": []
  },
  {
   "cell_type": "markdown",
   "metadata": {},
   "source": [
    "### Extras 1"
   ]
  },
  {
   "cell_type": "code",
   "execution_count": null,
   "metadata": {
    "collapsed": true
   },
   "outputs": [],
   "source": []
  },
  {
   "cell_type": "code",
   "execution_count": null,
   "metadata": {
    "collapsed": true
   },
   "outputs": [],
   "source": []
  },
  {
   "cell_type": "code",
   "execution_count": null,
   "metadata": {
    "collapsed": true
   },
   "outputs": [],
   "source": []
  },
  {
   "cell_type": "markdown",
   "metadata": {},
   "source": [
    "### Extras 2"
   ]
  },
  {
   "cell_type": "code",
   "execution_count": null,
   "metadata": {
    "collapsed": true
   },
   "outputs": [],
   "source": []
  },
  {
   "cell_type": "code",
   "execution_count": null,
   "metadata": {
    "collapsed": true
   },
   "outputs": [],
   "source": []
  },
  {
   "cell_type": "code",
   "execution_count": null,
   "metadata": {
    "collapsed": true
   },
   "outputs": [],
   "source": []
  },
  {
   "cell_type": "markdown",
   "metadata": {},
   "source": [
    "# Una vez terminada la sesion del taller, debera ejecutar las siguientes dos celdas para subir su trabajo al servidor donde quedara almacenada"
   ]
  },
  {
   "cell_type": "code",
   "execution_count": null,
   "metadata": {
    "collapsed": true
   },
   "outputs": [],
   "source": [
    "%%javascript\n",
    "var kernel = IPython.notebook.kernel;\n",
    "var thename = window.document.getElementById(\"notebook_name\").innerHTML;\n",
    "var command = \"notebook_file = \" + \"'\"+thename+\"'\";\n",
    "kernel.execute(command);"
   ]
  },
  {
   "cell_type": "code",
   "execution_count": null,
   "metadata": {
    "collapsed": true
   },
   "outputs": [],
   "source": [
    "from IPython.display import display,Javascript,HTML\n",
    "import dropbox\n",
    "import socket\n",
    "import string\n",
    "\n",
    "# Get the hostname\n",
    "hostname=string.split(socket.gethostname(),'.')[0]\n",
    "\n",
    "# Save the notebook\n",
    "display(Javascript('IPython.notebook.save_checkpoint();'))\n",
    "\n",
    "try:\n",
    "    integrante_exist= (integrante1 != '' and integrante2!= '')\n",
    "except NameError:\n",
    "    display(HTML(\"<big><b><br>Los nombres de los integrantes no estan definidos. Revise la primera celda y escriba los nombres.</b></big>\"))\n",
    "else:\n",
    "    if integrante_exist:\n",
    "        output_file='/'+notebook_file+'_'+hostname+'_'+integrante1+'_'+integrante2+'_'+integrante3+'.ipynb'\n",
    "        \n",
    "        display(HTML(\"<big><b><br>Nombres de los integrantes:</b></big>\"))\n",
    "        display(HTML(\"<big>{}<br>{}</big>\".format(integrante1,integrante2,integrante3)))\n",
    "        display(HTML(\"<big><b><br>Nombre del archivo:</b></big>\"))\n",
    "        display(HTML(\"<big>{}</big>\".format(output_file)))\n",
    "\n",
    "        client=dropbox.client.DropboxClient('q96bL4l9oyAAAAAAAAAACEK7gCFwoO-PtZu5jJ6gynNwriiBjzTLsN0eV51YQhNe')\n",
    "\n",
    "        f = open(notebook_file+'.ipynb', 'rb')\n",
    "        response = client.put_file(output_file,f)\n",
    "        f.close()\n",
    "        display(HTML(\"<big><b><br>Registro del servidor de Dropbox:</b></big>\"))\n",
    "        print response\n",
    "    else:\n",
    "        display(HTML(\"<big><b><br>Los nombres de los integrantes no estan definidos. Revise la primera celda y escriba los nombres.</b></big>\"))"
   ]
  }
 ],
 "metadata": {
  "kernelspec": {
   "display_name": "Python 3",
   "language": "python",
   "name": "python3"
  },
  "language_info": {
   "codemirror_mode": {
    "name": "ipython",
    "version": 3
   },
   "file_extension": ".py",
   "mimetype": "text/x-python",
   "name": "python",
   "nbconvert_exporter": "python",
   "pygments_lexer": "ipython3",
   "version": "3.5.1"
  }
 },
 "nbformat": 4,
 "nbformat_minor": 0
}
