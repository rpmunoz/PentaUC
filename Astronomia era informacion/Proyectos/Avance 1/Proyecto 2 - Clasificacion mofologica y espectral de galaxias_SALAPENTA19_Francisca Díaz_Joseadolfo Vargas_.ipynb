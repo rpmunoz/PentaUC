{
 "cells": [
  {
   "cell_type": "markdown",
   "metadata": {},
   "source": [
    "#Proyecto 2: Clasificación morfológica y espectral de galaxias"
   ]
  },
  {
   "cell_type": "markdown",
   "metadata": {},
   "source": [
    "![alt text](https://raw.githubusercontent.com/rpmunoz/PentaUC/master/Astronomia%20era%20informacion/data/clasificacion_hubble.jpg)"
   ]
  },
  {
   "cell_type": "markdown",
   "metadata": {},
   "source": [
    "En este taller trabajaremos con un catálogo de galaxias del survey astronómico Sloan Digital Sky Survey (SDSS). El SDSS es un proyecto internacional que comenzó a ejecutarse el año 2000 y desde entonces ha producido catálogos que contiene cientos de miles de galaxias. Mas información del survey en el link http://www.sdss.org/surveys/\n",
    "\n",
    "El SDSS survey ha permitido que cualquier persona interesada en la Astronomia pueda visitar el sitio web y explorar las imagenes y catalogos del survey. Un ejemplo muy exitoso del uso de los datos del SDSS es el sitio web llamado Galaxy Zoo, el cual se puede visitar usando el siguiente link https://www.galaxyzoo.org/?lang=es\n",
    "\n",
    "##Objetivo\n",
    "\n",
    "Los alumnos deberán entender en qué consiste un sistema de clasificación y comprender la importancia de éste para ordenar y sistematizar el conocimiento. Deberán ser capaces de definir un sistema de clasificación de galaxias basado en información disponible en catálogos, imágenes y espectros de galaxias.\n",
    "\n",
    "La Clasificación es el ordenamiento o la disposición por clases. Básicamente, la clasificación implicará la búsqueda en un todo de todas aquellas cosas que guarden o compartan algún tipo de relación para así agruparlas. Generalmente, el objetivo primordial de la clasificación es encontrar el mejor ordenamiento posible, es decir, el más claro, para que, llegado el momento de la búsqueda de determinado elemento que ha sido clasificado, éste resulte más fácil de encontrar: ese es, primordialmente, el fin de toda clasificación.\n",
    "\n",
    "\n",
    "##Catálogo del SDSS con galaxias de diferentes tipos (data1)\n",
    "\n",
    "Contiene una lista 40 galaxias que fueron observadas en el SDSS. Estas galaxias están relativamente cercanas y se pueden distinguir de buena manera sus caracteristicas morfologicas. El catálogo contiene las siguientes columnas,\n",
    "\n",
    "- **ra**: Ascensión recta de la galaxia en unidades de grados\n",
    "- **dec**: Declinación recta de la galaxias en unidades de grados\n",
    "- **u**: Magnitud de la galaxias en el filtro u\n",
    "- **g**: Magnitud de la galaxias en el filtro g\n",
    "- **r**: Magnitud de la galaxias en el filtro r\n",
    "- **i**: Magnitud de la galaxias en el filtro i\n",
    "- **z**: Magnitud de la galaxias en el filtro z\n",
    "\n",
    "\n",
    "##Catálogo del SDSS con 10.000 galaxias (data2)\n",
    "\n",
    "Contiene una lista 10.000 galaxias que fueron observadas en el SDSS. Algunas de estas galaxias son cercanas y otras son muy lejanas. Contiene las mismas columnas que el catalogo data1, y solo aparecen estas nuevas columnas\n",
    "\n",
    "- **l_gal**: Longitud galactica medida en unidades de grados\n",
    "- **b_gal**: Latitud galactica medida en unidades de grados\n",
    "\n",
    "\n",
    "##Ideas para desarrollar el taller\n",
    "\n",
    "###1. Diseñar un sistema de clasificacion de tipos de galaxias usando imagenes\n",
    "**Usar data1**\n",
    "\n",
    "Desplegar imágenes JPG o FITS de las galaxias del catálogo data1. Inspeccionar cada uno de las imagens y definir que caracterísitcas diferencian unas de otras. Definir un criterio de clasificacón de galaxias basado solamente en el uso de imágenes y formas de las galaxias.\n",
    "- Defina cuales propiedades usará para construir sus sistema de clasifiación\n",
    "- Defina al menos tres categorías dentro de su sistema\n",
    "- Describa cada uno de las categorías\n",
    "- Asigne las galaxias del catálogo a cada uno de las categorías usando los números que aparecen en las imágenes\n",
    "\n",
    "Ver taller 4 y 9.\n",
    "\n",
    "###2. Diseñar un sistema de clasificacion de tipos de galaxias usando espectros \n",
    "**Usar data1**\n",
    "\n",
    "Desplegar espectros de las galaxias del catálogo data1. Inspeccionar cada uno de los espectros y definir que caracterísitcas diferencian unos de otros. Definir un sistema de clasificación de galaxias basado solamente en el uso de espectros y formas de los espectros.\n",
    "- Defina cuales propiedades usará para construir sus sistema de clasifiación\n",
    "- Defina al menos tres categorías dentro de su sistema\n",
    "- Describa cada uno de las categorías\n",
    "- Asigne las galaxias del catálogo a cada uno de las categorías usando los números que aparecen en las imágenes\n",
    "\n",
    "Ver taller 9\n",
    "\n",
    "###3. Diseñar un sistema de clasificacion usando de manera conjunta imagenes y espectros\n",
    "**Usar data1**\n",
    "\n",
    "Desplegar tanto imágenes como espectros de las galaxias del catálogo data1. Definir un sistema de clasificación que este basado tanto en la morfología de las galaxias como la forma de sus espectros.\n",
    "- Defina cuales propiedades usará para construir sus sistema de clasifiación\n",
    "- Defina al menos tres categorías dentro de su sistema. Puede basarser en las definidas en las partes 1 y 2.\n",
    "- Asigne las galaxias del catálogo a cada uno de las categorías usando los números que aparecen en las imágenes\n",
    "\n",
    "Ver taller 9\n",
    "\n",
    "###4. Analizar propiedades físicas de las galaxias y definir una clasificación cuantitativa\n",
    "**Usar data1**\n",
    "\n",
    "Hacer gráficos del tipo scatter e histogramas 2D usando la información como la magnitud y color de las galaxias. Deberá usar los valores disponibles en el catalogo data1 y calcular colores en base a las columnas de magnitud. Deberá ser capaz de distinguir diferentes secuencias de galaxias usando gráficos de puntos e histogramas.\n",
    "- Para cada uno de las categorías definidas en el punto anterior, defina el rango de valores en magnitud y color que le corresponden.\n",
    "\n",
    "Ver taller 4\n",
    "\n",
    "###5. Aplicar el criterio cuantitativo derivado en la pregunta 4 y clasificar galaxias de manera automatizada\n",
    "**Usar data2**\n",
    "\n",
    "En base al sistema de clasificacón desarrollado entre las partes 1 a la 4, definir los tipos de galaxias de sus sistema de clasificación y los rangos de valores en magnitud y color para cada tipo de galaxia. A esto último le llamaremos criterios. Use estos criterios para clasificar de manera automatizada las 10.000 galaxias del catalogo data2."
   ]
  },
  {
   "cell_type": "code",
   "execution_count": 1,
   "metadata": {
    "collapsed": true
   },
   "outputs": [],
   "source": [
    "integrante1 = 'Francisca Díaz'\n",
    "integrante2 = 'Joseadolfo Vargas'\n",
    "integrante3 = ''"
   ]
  },
  {
   "cell_type": "code",
   "execution_count": 6,
   "metadata": {
    "collapsed": false
   },
   "outputs": [],
   "source": [
    "import numpy as np\n",
    "import pandas as pd\n",
    "import matplotlib.pyplot as plt\n",
    "from matplotlib import rc\n",
    "import IPython.display\n",
    "%matplotlib inline\n",
    "\n",
    "from sdss_tools import sdss_jpg, sdss_fits, sdss_spectra, sdss_template\n",
    "\n",
    "from astropy import units as u\n",
    "from astropy.coordinates import SkyCoord, Angle\n",
    "from astroquery.sdss import SDSS\n",
    "\n",
    "rc('font', size=14)\n",
    "rc('axes', labelsize=22)"
   ]
  },
  {
   "cell_type": "code",
   "execution_count": 3,
   "metadata": {
    "collapsed": false
   },
   "outputs": [
    {
     "data": {
      "text/html": [
       "<div>\n",
       "<table border=\"1\" class=\"dataframe\">\n",
       "  <thead>\n",
       "    <tr style=\"text-align: right;\">\n",
       "      <th></th>\n",
       "      <th>ra</th>\n",
       "      <th>dec</th>\n",
       "      <th>u</th>\n",
       "      <th>g</th>\n",
       "      <th>r</th>\n",
       "      <th>i</th>\n",
       "      <th>z</th>\n",
       "    </tr>\n",
       "  </thead>\n",
       "  <tbody>\n",
       "    <tr>\n",
       "      <th>0</th>\n",
       "      <td>239.495541</td>\n",
       "      <td>22.325141</td>\n",
       "      <td>18.48617</td>\n",
       "      <td>17.00311</td>\n",
       "      <td>16.26324</td>\n",
       "      <td>15.88828</td>\n",
       "      <td>15.56575</td>\n",
       "    </tr>\n",
       "    <tr>\n",
       "      <th>1</th>\n",
       "      <td>206.784942</td>\n",
       "      <td>17.059916</td>\n",
       "      <td>18.68597</td>\n",
       "      <td>17.34896</td>\n",
       "      <td>16.78204</td>\n",
       "      <td>16.44462</td>\n",
       "      <td>16.24426</td>\n",
       "    </tr>\n",
       "    <tr>\n",
       "      <th>2</th>\n",
       "      <td>129.116325</td>\n",
       "      <td>10.645035</td>\n",
       "      <td>16.48803</td>\n",
       "      <td>14.97490</td>\n",
       "      <td>14.30069</td>\n",
       "      <td>13.93282</td>\n",
       "      <td>13.67800</td>\n",
       "    </tr>\n",
       "    <tr>\n",
       "      <th>3</th>\n",
       "      <td>14.070919</td>\n",
       "      <td>-0.953293</td>\n",
       "      <td>19.53343</td>\n",
       "      <td>17.36526</td>\n",
       "      <td>16.25612</td>\n",
       "      <td>15.81089</td>\n",
       "      <td>15.44900</td>\n",
       "    </tr>\n",
       "    <tr>\n",
       "      <th>4</th>\n",
       "      <td>206.697198</td>\n",
       "      <td>28.670485</td>\n",
       "      <td>19.56450</td>\n",
       "      <td>17.61060</td>\n",
       "      <td>17.05630</td>\n",
       "      <td>16.75068</td>\n",
       "      <td>16.55159</td>\n",
       "    </tr>\n",
       "  </tbody>\n",
       "</table>\n",
       "</div>"
      ],
      "text/plain": [
       "           ra        dec         u         g         r         i         z\n",
       "0  239.495541  22.325141  18.48617  17.00311  16.26324  15.88828  15.56575\n",
       "1  206.784942  17.059916  18.68597  17.34896  16.78204  16.44462  16.24426\n",
       "2  129.116325  10.645035  16.48803  14.97490  14.30069  13.93282  13.67800\n",
       "3   14.070919  -0.953293  19.53343  17.36526  16.25612  15.81089  15.44900\n",
       "4  206.697198  28.670485  19.56450  17.61060  17.05630  16.75068  16.55159"
      ]
     },
     "execution_count": 3,
     "metadata": {},
     "output_type": "execute_result"
    }
   ],
   "source": [
    "# Catalogo que contiene una muestra pequeña galaxias observadas en el SDSS y que fueron clasificadas en Galaxy Zoo\n",
    "\n",
    "url='https://raw.githubusercontent.com/rpmunoz/PentaUC/master/Astronomia%20era%20informacion/data/SDSS_galaxyzoo_sample_n40.csv'\n",
    "data1=pd.read_csv(url, sep=',', comment='#', header=0)\n",
    "data1.head()"
   ]
  },
  {
   "cell_type": "code",
   "execution_count": null,
   "metadata": {
    "collapsed": false
   },
   "outputs": [],
   "source": [
    "# Catalogo que contiene una muestra grande de galaxias observadas en el SDSS\n",
    "\n",
    "url='https://raw.githubusercontent.com/rpmunoz/PentaUC/master/Astronomia%20era%20informacion/data/SDSS_galaxias_colores.csv'\n",
    "data2=pd.read_csv(url, sep=',', comment='#', header=0)\n",
    "data2.head()"
   ]
  },
  {
   "cell_type": "markdown",
   "metadata": {},
   "source": [
    "### Parte 1"
   ]
  },
  {
   "cell_type": "code",
   "execution_count": 13,
   "metadata": {
    "collapsed": false
   },
   "outputs": [
    {
     "name": "stdout",
     "output_type": "stream",
     "text": [
      "Processing galaxy  0\n",
      "      ra           dec         u        g     ...    i        z         z1    \n",
      "------------- ------------- -------- -------- ... -------- -------- ----------\n",
      "239.495541301 22.3251406507 18.48617 17.00311 ... 15.88828 15.56575 0.07278193\n",
      "Processing galaxy  1\n",
      "      ra           dec         u        g     ...    i        z         z1    \n",
      "------------- ------------- -------- -------- ... -------- -------- ----------\n",
      "206.784941859 17.0599158574 18.68597 17.34896 ... 16.44462 16.24426 0.04057457\n",
      "Processing galaxy  2\n",
      "      ra           dec         u        g       r        i       z        z1    \n",
      "------------- ------------- -------- ------- -------- -------- ------ ----------\n",
      "129.116325227 10.6450353461 16.48803 14.9749 14.30069 13.93282 13.678 0.03039014\n",
      "Processing galaxy  3\n",
      "      ra            dec          u        g     ...    i       z        z1   \n",
      "------------- --------------- -------- -------- ... -------- ------ ---------\n",
      "14.0709188816 -0.953292558779 19.53343 17.36526 ... 15.81089 15.449 0.1402144\n",
      "Processing galaxy  4\n",
      "      ra          dec        u       g       r       i        z         z1    \n",
      "------------- ----------- ------- ------- ------- -------- -------- ----------\n",
      "206.697198184 28.67048485 19.5645 17.6106 17.0563 16.75068 16.55159 0.02677244\n",
      "Processing galaxy  5\n",
      "      ra           dec         u        g     ...    i        z         z1    \n",
      "------------- ------------- -------- -------- ... -------- -------- ----------\n",
      "169.475747468 12.0541969364 18.07752 16.80321 ... 15.81534 15.62578 0.08257159\n",
      "Processing galaxy  6\n",
      "      ra           dec         u        g     ...    i        z         z1    \n",
      "------------- ------------- -------- -------- ... -------- -------- ----------\n",
      "129.132480917 61.7119135971 24.24023 21.37953 ... 20.32306 19.88219 0.01142384\n",
      "Processing galaxy  7\n",
      "      ra           dec         u        g     ...    i        z         z1   \n",
      "------------- ------------- -------- -------- ... -------- -------- ---------\n",
      "135.105724369 39.0649238556 18.71307 17.34581 ... 16.49212 16.23943 0.0581985\n",
      "Processing galaxy  8\n",
      "      ra           dec         u        g     ...    i        z         z1    \n",
      "------------- ------------- -------- -------- ... -------- -------- ----------\n",
      "113.514381691 43.5447904791 18.93977 17.16514 ... 15.81387 15.44887 0.08229046\n",
      "Processing galaxy  9\n",
      "      ra           dec         u        g     ...    i        z         z1    \n",
      "------------- ------------- -------- -------- ... -------- -------- ----------\n",
      "128.043643023 45.4240692628 18.74235 17.43609 ... 16.49769 16.17703 0.05171547\n",
      "Processing galaxy  10\n",
      "      ra           dec         u        g    ...    i        z         z1    \n",
      "------------- ------------- -------- ------- ... -------- -------- ----------\n",
      "253.873126117 18.0492918464 19.97841 17.8823 ... 16.26999 15.76471 0.08233956\n",
      "Processing galaxy  11\n",
      "      ra           dec         u        g     ...    i        z         z1    \n",
      "------------- ------------- -------- -------- ... -------- -------- ----------\n",
      "254.083250849 38.4532238725 18.85232 17.80244 ... 17.31838 17.16658 0.03355949\n",
      "Processing galaxy  12\n",
      "      ra           dec         u        g    ...    i        z         z1    \n",
      "------------- ------------- -------- ------- ... -------- -------- ----------\n",
      "205.271673644 5.10579902092 16.41207 14.8844 ... 13.98832 13.76246 0.02333658\n",
      "Processing galaxy  13\n",
      "      ra           dec         u        g     ...    i        z         z1    \n",
      "------------- ------------- -------- -------- ... -------- -------- ----------\n",
      "216.846347101 20.0966342377 19.03483 17.12699 ... 15.72508 15.41013 0.07581664\n",
      "Processing galaxy  14\n",
      "      ra           dec         u        g     ...    i       z         z1    \n",
      "------------- ------------- -------- -------- ... ------- -------- ----------\n",
      "192.392158098 3.92309072603 19.23528 17.79279 ... 16.6523 16.35681 0.04725819\n",
      "Processing galaxy  15\n",
      "      ra          dec         u        g       r        i       z         z1    \n",
      "------------- ------------ -------- ------- -------- ------- -------- ----------\n",
      "120.553392078 28.873272911 18.80657 16.8124 15.79818 15.3319 14.94717 0.08106873\n",
      "Processing galaxy  16\n",
      "      ra           dec         u        g     ...    i        z         z1    \n",
      "------------- ------------- -------- -------- ... -------- -------- ----------\n",
      "253.901607181 39.3569305402 18.27208 17.19281 ... 16.49374 16.30873 0.03489669\n",
      "Processing galaxy  17\n",
      "      ra           dec          u        g     ...    i        z         z1   \n",
      "------------- -------------- -------- -------- ... -------- -------- ---------\n",
      "340.507241475 -8.77432845535 20.61075 18.81551 ... 17.42342 17.11345 0.1664263\n",
      "340.507241475 -8.77432845535 20.61075 18.81551 ... 17.42342 17.11345 0.1664572\n",
      "Processing galaxy  18\n",
      "      ra           dec         u        g     ...    i        z         z1   \n",
      "------------- ------------- -------- -------- ... -------- -------- ---------\n",
      "138.806220143 5.04772835457 18.79715 16.69322 ... 15.04926 14.66694 0.1435802\n",
      "Processing galaxy  19\n",
      "      ra          dec         u        g        r       i       z         z1   \n",
      "------------- ------------ -------- -------- -------- ------ -------- ---------\n",
      "223.806326101 10.907129703 19.28682 17.17159 16.07723 15.642 15.27517 0.1274066\n",
      "Processing galaxy  20\n",
      "      ra           dec         u        g     ...    i        z         z1    \n",
      "------------- ------------- -------- -------- ... -------- -------- ----------\n",
      "192.481420223 15.2776295989 19.22709 17.61836 ... 16.52717 16.27446 0.06818143\n",
      "Processing galaxy  21\n",
      "      ra           dec         u        g    ...    i        z         z1    \n",
      "------------- ------------- -------- ------- ... -------- -------- ----------\n",
      "181.423120995 27.2191869176 19.24873 18.1201 ... 17.06375 16.77132 0.08007366\n",
      "Processing galaxy  22\n",
      "     ra           dec         u        g        r        i       z        z1    \n",
      "------------ ------------- -------- -------- -------- -------- ------ ----------\n",
      "181.41225511 23.8103650279 19.52467 17.92687 17.19855 16.73728 16.473 0.08840595\n",
      "Processing galaxy  23\n",
      "      ra           dec         u        g     ...    i        z         z1    \n",
      "------------- ------------- -------- -------- ... -------- -------- ----------\n",
      "207.996551275 48.1247291187 17.96049 16.57199 ... 15.59467 15.36169 0.06437903\n",
      "Processing galaxy  24\n",
      "      ra           dec         u        g     ...    i        z         z1    \n",
      "------------- ------------- -------- -------- ... -------- -------- ----------\n",
      "138.357871656 52.9813126189 15.75001 13.81723 ... 12.62163 12.32539 0.02522517\n",
      "Processing galaxy  25\n",
      "      ra           dec         u        g     ...    i        z         z1    \n",
      "------------- ------------- -------- -------- ... -------- -------- ----------\n",
      "147.396157811 10.7395405544 18.92173 17.26895 ... 15.82721 15.39612 0.04073873\n",
      "147.396157811 10.7395405544 18.92173 17.26895 ... 15.82721 15.39612 0.04074416\n",
      "Processing galaxy  26\n",
      "      ra          dec         u        g     ...    i        z         z1    \n",
      "------------- ------------ -------- -------- ... -------- -------- ----------\n",
      "129.119374441 24.505913427 19.26199 17.65802 ... 16.63702 16.47721 0.07374334\n",
      "Processing galaxy  27\n",
      "      ra           dec         u        g       r       i        z        z1    \n",
      "------------- ------------- -------- -------- ------ -------- ------- ----------\n",
      "120.846227859 45.5310825107 18.11195 16.11806 15.151 14.69634 14.3422 0.06177348\n",
      "Processing galaxy  28\n",
      "      ra           dec         u        g       r       i        z         z1   \n",
      "------------- ------------- -------- ------- ------- -------- -------- ---------\n",
      "232.031097386 15.3024204165 20.60656 19.8295 19.7077 19.63553 19.31925 0.1314951\n",
      "Processing galaxy  29\n",
      "      ra           dec         u        g     ...    i        z        z1    \n",
      "------------- ------------- -------- -------- ... -------- ------- ----------\n",
      "212.261032986 3.19155359468 18.84701 17.26328 ... 16.15879 15.8353 0.08076794\n",
      "Processing galaxy  30\n",
      "      ra           dec         u        g     ...    i        z         z1    \n",
      "------------- ------------- -------- -------- ... -------- -------- ----------\n",
      "129.117914964 22.8474512285 16.98726 16.05581 ... 15.50432 15.38656 0.03834467\n",
      "Processing galaxy  31\n",
      "      ra           dec         u        g     ...    i        z         z1    \n",
      "------------- ------------- -------- -------- ... -------- -------- ----------\n",
      "240.162177817 54.9833429084 17.91389 16.39088 ... 15.36164 15.12499 0.04303656\n",
      "Processing galaxy  32\n",
      "      ra           dec         u       g     ...    i        z         z1   \n",
      "------------- ------------- ------- -------- ... -------- -------- ---------\n",
      "252.280494488 39.1589858265 19.9302 18.01861 ... 16.56365 16.23351 0.1353185\n",
      "Processing galaxy  33\n",
      "      ra           dec         u       g     ...    i        z         z1    \n",
      "------------- ------------- ------- -------- ... -------- -------- ----------\n",
      "190.897897407 27.8889728113 20.0477 18.27267 ... 17.03522 16.76416 0.08283002\n",
      "Processing galaxy  34\n",
      "      ra           dec         u       g     ...    i        z         z1    \n",
      "------------- ------------- ------- -------- ... -------- -------- ----------\n",
      "240.182097968 24.0544593579 18.5136 17.33195 ... 16.39634 16.16888 0.08787223\n",
      "Processing galaxy  35\n",
      "      ra           dec         u        g     ...    i        z         z1    \n",
      "------------- ------------- -------- -------- ... -------- -------- ----------\n",
      "169.454614788 16.1299552947 17.98539 16.65954 ... 15.59555 15.30979 0.06333685\n",
      "Processing galaxy  36\n",
      "      ra           dec         u        g     ...    i        z         z1   \n",
      "------------- ------------- -------- -------- ... -------- -------- ---------\n",
      "162.343668918 15.0603939134 19.89191 18.26566 ... 16.60344 16.29262 0.2101533\n",
      "Processing galaxy  37\n",
      "      ra          dec         u        g     ...    i        z         z1   \n",
      "------------- ------------ -------- -------- ... -------- -------- ---------\n",
      "189.083748684 42.591189976 19.23834 17.35057 ... 16.21512 15.88181 0.0697469\n",
      "Processing galaxy  38\n",
      "      ra           dec         u        g     ...    i        z         z1   \n",
      "------------- ------------- -------- -------- ... -------- -------- ---------\n",
      "150.171986912 45.4275327141 19.88002 18.12768 ... 16.82249 16.46602 0.1001627\n",
      "Processing galaxy  39\n",
      "      ra           dec         u        g     ...    i        z         z1    \n",
      "------------- ------------- -------- -------- ... -------- -------- ----------\n",
      "188.399264136 22.8011432715 17.38541 15.49598 ... 14.25571 13.94292 0.03702712\n",
      "      ra            dec          u        g     ...    i        z         z1    \n",
      "------------- --------------- -------- -------- ... -------- -------- ----------\n",
      "239.495541301   22.3251406507 18.48617 17.00311 ... 15.88828 15.56575 0.07278193\n",
      "206.784941859   17.0599158574 18.68597 17.34896 ... 16.44462 16.24426 0.04057457\n",
      "129.116325227   10.6450353461 16.48803  14.9749 ... 13.93282   13.678 0.03039014\n",
      "14.0709188816 -0.953292558779 19.53343 17.36526 ... 15.81089   15.449  0.1402144\n",
      "206.697198184     28.67048485  19.5645  17.6106 ... 16.75068 16.55159 0.02677244\n",
      "169.475747468   12.0541969364 18.07752 16.80321 ... 15.81534 15.62578 0.08257159\n",
      "129.132480917   61.7119135971 24.24023 21.37953 ... 20.32306 19.88219 0.01142384\n",
      "135.105724369   39.0649238556 18.71307 17.34581 ... 16.49212 16.23943  0.0581985\n",
      "113.514381691   43.5447904791 18.93977 17.16514 ... 15.81387 15.44887 0.08229046\n",
      "128.043643023   45.4240692628 18.74235 17.43609 ... 16.49769 16.17703 0.05171547\n",
      "          ...             ...      ...      ... ...      ...      ...        ...\n",
      "212.261032986   3.19155359468 18.84701 17.26328 ... 16.15879  15.8353 0.08076794\n",
      "129.117914964   22.8474512285 16.98726 16.05581 ... 15.50432 15.38656 0.03834467\n",
      "240.162177817   54.9833429084 17.91389 16.39088 ... 15.36164 15.12499 0.04303656\n",
      "252.280494488   39.1589858265  19.9302 18.01861 ... 16.56365 16.23351  0.1353185\n",
      "190.897897407   27.8889728113  20.0477 18.27267 ... 17.03522 16.76416 0.08283002\n",
      "240.182097968   24.0544593579  18.5136 17.33195 ... 16.39634 16.16888 0.08787223\n",
      "169.454614788   16.1299552947 17.98539 16.65954 ... 15.59555 15.30979 0.06333685\n",
      "162.343668918   15.0603939134 19.89191 18.26566 ... 16.60344 16.29262  0.2101533\n",
      "189.083748684    42.591189976 19.23834 17.35057 ... 16.21512 15.88181  0.0697469\n",
      "150.171986912   45.4275327141 19.88002 18.12768 ... 16.82249 16.46602  0.1001627\n",
      "188.399264136   22.8011432715 17.38541 15.49598 ... 14.25571 13.94292 0.03702712\n",
      "Length = 40 rows\n"
     ]
    }
   ],
   "source": [
    "coo=SkyCoord(data1['ra'], data1['dec'], unit=(u.deg,u.deg))\n",
    "\n",
    "#Aqui iremos enviando al servidor la coordenada de la galaxia una por una\n",
    "for i in range(len(coo)):\n",
    "    print 'Processing galaxy ', i\n",
    "    result = SDSS.query_region(coo[i], spectro=True, photoobj_fields=['ra','dec','u','g','r','i','z'], specobj_fields=['z'], radius=2*u.arcsec)\n",
    "    print result\n",
    "    if result != None:\n",
    "        if i==0:\n",
    "            sdss_data=result\n",
    "        else:          \n",
    "            sdss_data.add_row(np.array(result)[0])\n",
    "\n",
    "print sdss_data"
   ]
  },
  {
   "cell_type": "code",
   "execution_count": 14,
   "metadata": {
    "collapsed": false
   },
   "outputs": [
    {
     "data": {
      "text/html": [
       "<div>\n",
       "<table border=\"1\" class=\"dataframe\">\n",
       "  <thead>\n",
       "    <tr style=\"text-align: right;\">\n",
       "      <th></th>\n",
       "      <th>ra</th>\n",
       "      <th>dec</th>\n",
       "      <th>u</th>\n",
       "      <th>g</th>\n",
       "      <th>r</th>\n",
       "      <th>i</th>\n",
       "      <th>z</th>\n",
       "      <th>z1</th>\n",
       "    </tr>\n",
       "  </thead>\n",
       "  <tbody>\n",
       "    <tr>\n",
       "      <th>0</th>\n",
       "      <td>239.495541</td>\n",
       "      <td>22.325141</td>\n",
       "      <td>18.48617</td>\n",
       "      <td>17.00311</td>\n",
       "      <td>16.26324</td>\n",
       "      <td>15.88828</td>\n",
       "      <td>15.56575</td>\n",
       "      <td>0.072782</td>\n",
       "    </tr>\n",
       "    <tr>\n",
       "      <th>1</th>\n",
       "      <td>206.784942</td>\n",
       "      <td>17.059916</td>\n",
       "      <td>18.68597</td>\n",
       "      <td>17.34896</td>\n",
       "      <td>16.78204</td>\n",
       "      <td>16.44462</td>\n",
       "      <td>16.24426</td>\n",
       "      <td>0.040575</td>\n",
       "    </tr>\n",
       "    <tr>\n",
       "      <th>2</th>\n",
       "      <td>129.116325</td>\n",
       "      <td>10.645035</td>\n",
       "      <td>16.48803</td>\n",
       "      <td>14.97490</td>\n",
       "      <td>14.30069</td>\n",
       "      <td>13.93282</td>\n",
       "      <td>13.67800</td>\n",
       "      <td>0.030390</td>\n",
       "    </tr>\n",
       "    <tr>\n",
       "      <th>3</th>\n",
       "      <td>14.070919</td>\n",
       "      <td>-0.953293</td>\n",
       "      <td>19.53343</td>\n",
       "      <td>17.36526</td>\n",
       "      <td>16.25612</td>\n",
       "      <td>15.81089</td>\n",
       "      <td>15.44900</td>\n",
       "      <td>0.140214</td>\n",
       "    </tr>\n",
       "    <tr>\n",
       "      <th>4</th>\n",
       "      <td>206.697198</td>\n",
       "      <td>28.670485</td>\n",
       "      <td>19.56450</td>\n",
       "      <td>17.61060</td>\n",
       "      <td>17.05630</td>\n",
       "      <td>16.75068</td>\n",
       "      <td>16.55159</td>\n",
       "      <td>0.026772</td>\n",
       "    </tr>\n",
       "  </tbody>\n",
       "</table>\n",
       "</div>"
      ],
      "text/plain": [
       "           ra        dec         u         g         r         i         z  \\\n",
       "0  239.495541  22.325141  18.48617  17.00311  16.26324  15.88828  15.56575   \n",
       "1  206.784942  17.059916  18.68597  17.34896  16.78204  16.44462  16.24426   \n",
       "2  129.116325  10.645035  16.48803  14.97490  14.30069  13.93282  13.67800   \n",
       "3   14.070919  -0.953293  19.53343  17.36526  16.25612  15.81089  15.44900   \n",
       "4  206.697198  28.670485  19.56450  17.61060  17.05630  16.75068  16.55159   \n",
       "\n",
       "         z1  \n",
       "0  0.072782  \n",
       "1  0.040575  \n",
       "2  0.030390  \n",
       "3  0.140214  \n",
       "4  0.026772  "
      ]
     },
     "execution_count": 14,
     "metadata": {},
     "output_type": "execute_result"
    }
   ],
   "source": [
    "cat_sdss_elipticas=pd.DataFrame(np.array(sdss_data))\n",
    "cat_sdss_elipticas.head()"
   ]
  },
  {
   "cell_type": "code",
   "execution_count": 16,
   "metadata": {
    "collapsed": false
   },
   "outputs": [
    {
     "ename": "SyntaxError",
     "evalue": "invalid syntax (<ipython-input-16-99450b4cd1ce>, line 1)",
     "output_type": "error",
     "traceback": [
      "\u001b[1;36m  File \u001b[1;32m\"<ipython-input-16-99450b4cd1ce>\"\u001b[1;36m, line \u001b[1;32m1\u001b[0m\n\u001b[1;33m    sdss_jpg([0:40])\u001b[0m\n\u001b[1;37m               ^\u001b[0m\n\u001b[1;31mSyntaxError\u001b[0m\u001b[1;31m:\u001b[0m invalid syntax\n"
     ]
    }
   ],
   "source": [
    "sdss_jpg([0:40])"
   ]
  },
  {
   "cell_type": "markdown",
   "metadata": {},
   "source": [
    "### Parte 2"
   ]
  },
  {
   "cell_type": "code",
   "execution_count": null,
   "metadata": {
    "collapsed": true
   },
   "outputs": [],
   "source": []
  },
  {
   "cell_type": "code",
   "execution_count": null,
   "metadata": {
    "collapsed": true
   },
   "outputs": [],
   "source": []
  },
  {
   "cell_type": "markdown",
   "metadata": {},
   "source": [
    "### Parte 3"
   ]
  },
  {
   "cell_type": "code",
   "execution_count": null,
   "metadata": {
    "collapsed": true
   },
   "outputs": [],
   "source": []
  },
  {
   "cell_type": "code",
   "execution_count": null,
   "metadata": {
    "collapsed": true
   },
   "outputs": [],
   "source": []
  },
  {
   "cell_type": "markdown",
   "metadata": {},
   "source": [
    "### Parte 4"
   ]
  },
  {
   "cell_type": "code",
   "execution_count": null,
   "metadata": {
    "collapsed": true
   },
   "outputs": [],
   "source": []
  },
  {
   "cell_type": "code",
   "execution_count": null,
   "metadata": {
    "collapsed": true
   },
   "outputs": [],
   "source": []
  },
  {
   "cell_type": "markdown",
   "metadata": {},
   "source": [
    "### Parte 5"
   ]
  },
  {
   "cell_type": "code",
   "execution_count": null,
   "metadata": {
    "collapsed": true
   },
   "outputs": [],
   "source": []
  },
  {
   "cell_type": "code",
   "execution_count": null,
   "metadata": {
    "collapsed": true
   },
   "outputs": [],
   "source": []
  },
  {
   "cell_type": "markdown",
   "metadata": {},
   "source": [
    "# Una vez terminada la sesion del taller, debera ejecutar las siguientes dos celdas para subir su trabajo al servidor donde quedara almacenada"
   ]
  },
  {
   "cell_type": "code",
   "execution_count": 17,
   "metadata": {
    "collapsed": false
   },
   "outputs": [
    {
     "data": {
      "application/javascript": [
       "var kernel = IPython.notebook.kernel;\n",
       "var thename = window.document.getElementById(\"notebook_name\").innerHTML;\n",
       "var command = \"notebook_file = \" + \"'\"+thename+\"'\";\n",
       "kernel.execute(command);"
      ],
      "text/plain": [
       "<IPython.core.display.Javascript object>"
      ]
     },
     "metadata": {},
     "output_type": "display_data"
    }
   ],
   "source": [
    "%%javascript\n",
    "var kernel = IPython.notebook.kernel;\n",
    "var thename = window.document.getElementById(\"notebook_name\").innerHTML;\n",
    "var command = \"notebook_file = \" + \"'\"+thename+\"'\";\n",
    "kernel.execute(command);"
   ]
  },
  {
   "cell_type": "code",
   "execution_count": null,
   "metadata": {
    "collapsed": false
   },
   "outputs": [
    {
     "data": {
      "application/javascript": [
       "IPython.notebook.save_checkpoint();"
      ],
      "text/plain": [
       "<IPython.core.display.Javascript object>"
      ]
     },
     "metadata": {},
     "output_type": "display_data"
    }
   ],
   "source": [
    "from IPython.display import display,Javascript,HTML\n",
    "import dropbox\n",
    "import socket\n",
    "import string\n",
    "\n",
    "# Get the hostname\n",
    "hostname=string.split(socket.gethostname(),'.')[0]\n",
    "\n",
    "# Save the notebook\n",
    "display(Javascript('IPython.notebook.save_checkpoint();'))\n",
    "\n",
    "try:\n",
    "    integrante_exist= (integrante1 != '' and integrante2!= '')\n",
    "except NameError:\n",
    "    display(HTML(\"<big><b><br>Los nombres de los integrantes no estan definidos. Revise la primera celda y escriba los nombres.</b></big>\"))\n",
    "else:\n",
    "    if integrante_exist:\n",
    "        output_file='/'+notebook_file+'_'+hostname+'_'+integrante1+'_'+integrante2+'_'+integrante3+'.ipynb'\n",
    "        \n",
    "        display(HTML(\"<big><b><br>Nombres de los integrantes:</b></big>\"))\n",
    "        display(HTML(\"<big>{}<br>{}</big>\".format(integrante1,integrante2,integrante3)))\n",
    "        display(HTML(\"<big><b><br>Nombre del archivo:</b></big>\"))\n",
    "        display(HTML(\"<big>{}</big>\".format(output_file)))\n",
    "\n",
    "        client=dropbox.client.DropboxClient('q96bL4l9oyAAAAAAAAAACEK7gCFwoO-PtZu5jJ6gynNwriiBjzTLsN0eV51YQhNe')\n",
    "\n",
    "        f = open(notebook_file+'.ipynb', 'rb')\n",
    "        response = client.put_file(output_file,f)\n",
    "        f.close()\n",
    "        display(HTML(\"<big><b><br>Registro del servidor de Dropbox:</b></big>\"))\n",
    "        print response\n",
    "    else:\n",
    "        display(HTML(\"<big><b><br>Los nombres de los integrantes no estan definidos. Revise la primera celda y escriba los nombres.</b></big>\"))"
   ]
  },
  {
   "cell_type": "code",
   "execution_count": null,
   "metadata": {
    "collapsed": true
   },
   "outputs": [],
   "source": []
  }
 ],
 "metadata": {
  "kernelspec": {
   "display_name": "Python 2",
   "language": "python",
   "name": "python2"
  },
  "language_info": {
   "codemirror_mode": {
    "name": "ipython",
    "version": 2
   },
   "file_extension": ".py",
   "mimetype": "text/x-python",
   "name": "python",
   "nbconvert_exporter": "python",
   "pygments_lexer": "ipython2",
   "version": "2.7.11"
  }
 },
 "nbformat": 4,
 "nbformat_minor": 0
}
