{
 "cells": [
  {
   "cell_type": "markdown",
   "metadata": {},
   "source": [
    "#Proyecto 2: Clasificación morfológica y espectral de galaxias"
   ]
  },
  {
   "cell_type": "markdown",
   "metadata": {},
   "source": [
    "![alt text](https://raw.githubusercontent.com/rpmunoz/PentaUC/master/Astronomia%20era%20informacion/data/clasificacion_hubble.jpg)"
   ]
  },
  {
   "cell_type": "markdown",
   "metadata": {},
   "source": [
    "En este taller trabajaremos con un catálogo de galaxias del survey astronómico Sloan Digital Sky Survey (SDSS). El SDSS es un proyecto internacional que comenzó a ejecutarse el año 2000 y desde entonces ha producido catálogos que contiene cientos de miles de galaxias. Mas información del survey en el link http://www.sdss.org/surveys/\n",
    "\n",
    "El SDSS survey ha permitido que cualquier persona interesada en la Astronomia pueda visitar el sitio web y explorar las imagenes y catalogos del survey. Un ejemplo muy exitoso del uso de los datos del SDSS es el sitio web llamado Galaxy Zoo, el cual se puede visitar usando el siguiente link https://www.galaxyzoo.org/?lang=es\n",
    "\n",
    "##Objetivo\n",
    "\n",
    "Los alumnos deberán entender en qué consiste un sistema de clasificación y comprender la importancia de éste para ordenar y sistematizar el conocimiento. Deberán ser capaces de definir un sistema de clasificación de galaxias basado en información disponible en catálogos, imágenes y espectros de galaxias.\n",
    "\n",
    "\n",
    "##Catálogo del SDSS con galaxias de diferentes tipos (data1)\n",
    "\n",
    "Contiene una lista 40 galaxias que fueron observadas en el SDSS. Estas galaxias están relativamente cercanas y se pueden distinguir de buena manera sus caracteristicas morfologicas. El catálogo contiene las siguientes columnas,\n",
    "\n",
    "- **ra**: Ascensión recta de la galaxia en unidades de grados\n",
    "- **dec**: Declinación recta de la galaxias en unidades de grados\n",
    "- **u**: Magnitud de la galaxias en el filtro u\n",
    "- **g**: Magnitud de la galaxias en el filtro g\n",
    "- **r**: Magnitud de la galaxias en el filtro r\n",
    "- **i**: Magnitud de la galaxias en el filtro i\n",
    "- **z**: Magnitud de la galaxias en el filtro z\n",
    "\n",
    "\n",
    "##Catálogo del SDSS con 10.000 galaxias (data2)\n",
    "\n",
    "Contiene una lista 10.000 galaxias que fueron observadas en el SDSS. Algunas de estas galaxias son cercanas y otras son muy lejanas. Contiene las mismas columnas que el catalogo data1, y solo aparecen estas nuevas columnas\n",
    "\n",
    "- **l_gal**: Longitud galactica medida en unidades de grados\n",
    "- **b_gal**: Latitud galactica medida en unidades de grados\n",
    "\n",
    "\n",
    "##Ideas para desarrollar el taller\n",
    "\n",
    "###1. Diseñar un sistema de clasificacion de tipos de galaxias usando imagenes\n",
    "**Usar data1**\n",
    "\n",
    "Desplegar imágenes JPG o FITS de las galaxias del catálogo data1. Inspeccionar cada uno de las imagens y definir que caracterísitcas diferencian unas de otras. Definir un criterio de clasificacón de galaxias basado solamente en el uso de imágenes y formas de las galaxias.\n",
    "Ver taller 4 y 9.\n",
    "\n",
    "###2. Diseñar un sistema de clasificacion de tipos de galaxias usando espectros \n",
    "**Usar data1**\n",
    "\n",
    "Desplegar espectros de las galaxias del catálogo data1. Inspeccionar cada uno de los espectros y definir que caracterísitcas diferencian unos de otros. Definir un sistema de clasificación de galaxias basado solamente en el uso de espectros y formas de los espectros.\n",
    "Ver taller 9\n",
    "\n",
    "###3. Diseñar un sistema de clasificacion usando de manera conjunta imagenes y espectros\n",
    "**Usar data1**\n",
    "\n",
    "Desplegar tanto imágenes como espectros de las galaxias del catálogo data1. Definir un sistema de clasificación que este basado tanto en la morfología de las galaxias como la forma de sus espectros.\n",
    "Ver taller 9\n",
    "\n",
    "###4. Analizar propiedades físicas de las galaxias y definir una clasificación cuantitativa\n",
    "**Usar data1**\n",
    "\n",
    "Hacer gráficos del tipo scatter e histogramas 2D usando la información como la magnitud y color de las galaxias. Deberá usar los valores disponibles en el catalogo data1 y calcular colores en base a las columnas de magnitud. Deberá ser capaz de distinguir diferentes secuencias de galaxias usando gráficos de puntos e histogramas.\n",
    "Ver taller 4\n",
    "\n",
    "###5. Aplicar el criterio cuantitativo derivado en la pregunta 4 y clasificar galaxias de manera automatizada\n",
    "**Usar data2**\n",
    "\n",
    "En base al sistema de clasificacón desarrollado entre las partes 1 a la 4, definir los tipos de galaxias de sus sistema de clasificación y los rangos de valores en magnitud y color para cada tipo de galaxia. A esto último le llamaremos criterios. Use estos criterios para clasificar de manera automatizada las 10.000 galaxias del catalogo data2."
   ]
  },
  {
   "cell_type": "code",
   "execution_count": null,
   "metadata": {
    "collapsed": true
   },
   "outputs": [],
   "source": [
    "integrante1 = ''\n",
    "integrante2 = ''\n",
    "integrante3 = ''"
   ]
  },
  {
   "cell_type": "code",
   "execution_count": null,
   "metadata": {
    "collapsed": false
   },
   "outputs": [],
   "source": [
    "import numpy as np\n",
    "import pandas as pd\n",
    "import matplotlib.pyplot as plt\n",
    "from matplotlib import rc\n",
    "%matplotlib inline\n",
    "\n",
    "from sdss_tools import sdss_jpg, sdss_fits, sdss_spectra, sdss_template\n",
    "\n",
    "from astropy import units as u\n",
    "from astropy.coordinates import SkyCoord, Angle\n",
    "from astroquery.sdss import SDSS\n",
    "\n",
    "rc('font', size=14)\n",
    "rc('axes', labelsize=22)"
   ]
  },
  {
   "cell_type": "code",
   "execution_count": null,
   "metadata": {
    "collapsed": false
   },
   "outputs": [],
   "source": [
    "# Catalogo que contiene una muestra pequeña galaxias observadas en el SDSS y que fueron clasificadas en Galaxy Zoo\n",
    "\n",
    "url='https://raw.githubusercontent.com/rpmunoz/PentaUC/master/Astronomia%20era%20informacion/data/SDSS_galaxyzoo_sample_n40.csv'\n",
    "data1=pd.read_csv(url, sep=',', comment='#', header=0)\n",
    "data1.head()"
   ]
  },
  {
   "cell_type": "code",
   "execution_count": null,
   "metadata": {
    "collapsed": false
   },
   "outputs": [],
   "source": [
    "# Catalogo que contiene una muestra grande de galaxias observadas en el SDSS\n",
    "\n",
    "url='https://raw.githubusercontent.com/rpmunoz/PentaUC/master/Astronomia%20era%20informacion/data/SDSS_galaxias_colores.csv'\n",
    "data2=pd.read_csv(url, sep=',', comment='#', header=0)\n",
    "data2.head()"
   ]
  },
  {
   "cell_type": "markdown",
   "metadata": {},
   "source": [
    "### Parte 1"
   ]
  },
  {
   "cell_type": "code",
   "execution_count": null,
   "metadata": {
    "collapsed": true
   },
   "outputs": [],
   "source": []
  },
  {
   "cell_type": "code",
   "execution_count": null,
   "metadata": {
    "collapsed": true
   },
   "outputs": [],
   "source": []
  },
  {
   "cell_type": "markdown",
   "metadata": {},
   "source": [
    "### Parte 2"
   ]
  },
  {
   "cell_type": "code",
   "execution_count": null,
   "metadata": {
    "collapsed": true
   },
   "outputs": [],
   "source": []
  },
  {
   "cell_type": "code",
   "execution_count": null,
   "metadata": {
    "collapsed": true
   },
   "outputs": [],
   "source": []
  },
  {
   "cell_type": "markdown",
   "metadata": {},
   "source": [
    "### Parte 3"
   ]
  },
  {
   "cell_type": "code",
   "execution_count": null,
   "metadata": {
    "collapsed": true
   },
   "outputs": [],
   "source": []
  },
  {
   "cell_type": "code",
   "execution_count": null,
   "metadata": {
    "collapsed": true
   },
   "outputs": [],
   "source": []
  },
  {
   "cell_type": "markdown",
   "metadata": {},
   "source": [
    "### Parte 4"
   ]
  },
  {
   "cell_type": "code",
   "execution_count": null,
   "metadata": {
    "collapsed": true
   },
   "outputs": [],
   "source": []
  },
  {
   "cell_type": "code",
   "execution_count": null,
   "metadata": {
    "collapsed": true
   },
   "outputs": [],
   "source": []
  },
  {
   "cell_type": "markdown",
   "metadata": {},
   "source": [
    "### Parte 5"
   ]
  },
  {
   "cell_type": "code",
   "execution_count": null,
   "metadata": {
    "collapsed": true
   },
   "outputs": [],
   "source": []
  },
  {
   "cell_type": "code",
   "execution_count": null,
   "metadata": {
    "collapsed": true
   },
   "outputs": [],
   "source": []
  },
  {
   "cell_type": "markdown",
   "metadata": {},
   "source": [
    "# Una vez terminada la sesion del taller, debera ejecutar las siguientes dos celdas para subir su trabajo al servidor donde quedara almacenada"
   ]
  },
  {
   "cell_type": "code",
   "execution_count": null,
   "metadata": {
    "collapsed": false
   },
   "outputs": [],
   "source": [
    "%%javascript\n",
    "var kernel = IPython.notebook.kernel;\n",
    "var thename = window.document.getElementById(\"notebook_name\").innerHTML;\n",
    "var command = \"notebook_file = \" + \"'\"+thename+\"'\";\n",
    "kernel.execute(command);"
   ]
  },
  {
   "cell_type": "code",
   "execution_count": null,
   "metadata": {
    "collapsed": true
   },
   "outputs": [],
   "source": [
    "from IPython.display import display,Javascript,HTML\n",
    "import dropbox\n",
    "import socket\n",
    "import string\n",
    "\n",
    "# Get the hostname\n",
    "hostname=string.split(socket.gethostname(),'.')[0]\n",
    "\n",
    "# Save the notebook\n",
    "display(Javascript('IPython.notebook.save_checkpoint();'))\n",
    "\n",
    "try:\n",
    "    integrante_exist= (integrante1 != '' and integrante2!= '')\n",
    "except NameError:\n",
    "    display(HTML(\"<big><b><br>Los nombres de los integrantes no estan definidos. Revise la primera celda y escriba los nombres.</b></big>\"))\n",
    "else:\n",
    "    if integrante_exist:\n",
    "        output_file='/'+notebook_file+'_'+hostname+'_'+integrante1+'_'+integrante2+'_'+integrante3+'.ipynb'\n",
    "        \n",
    "        display(HTML(\"<big><b><br>Nombres de los integrantes:</b></big>\"))\n",
    "        display(HTML(\"<big>{}<br>{}</big>\".format(integrante1,integrante2,integrante3)))\n",
    "        display(HTML(\"<big><b><br>Nombre del archivo:</b></big>\"))\n",
    "        display(HTML(\"<big>{}</big>\".format(output_file)))\n",
    "\n",
    "        client=dropbox.client.DropboxClient('q96bL4l9oyAAAAAAAAAACEK7gCFwoO-PtZu5jJ6gynNwriiBjzTLsN0eV51YQhNe')\n",
    "\n",
    "        f = open(notebook_file+'.ipynb', 'rb')\n",
    "        response = client.put_file(output_file,f)\n",
    "        f.close()\n",
    "        display(HTML(\"<big><b><br>Registro del servidor de Dropbox:</b></big>\"))\n",
    "        print response\n",
    "    else:\n",
    "        display(HTML(\"<big><b><br>Los nombres de los integrantes no estan definidos. Revise la primera celda y escriba los nombres.</b></big>\"))"
   ]
  }
 ],
 "metadata": {
  "kernelspec": {
   "display_name": "Python 2",
   "language": "python",
   "name": "python2"
  },
  "language_info": {
   "codemirror_mode": {
    "name": "ipython",
    "version": 2
   },
   "file_extension": ".py",
   "mimetype": "text/x-python",
   "name": "python",
   "nbconvert_exporter": "python",
   "pygments_lexer": "ipython2",
   "version": "2.7.10"
  }
 },
 "nbformat": 4,
 "nbformat_minor": 0
}
