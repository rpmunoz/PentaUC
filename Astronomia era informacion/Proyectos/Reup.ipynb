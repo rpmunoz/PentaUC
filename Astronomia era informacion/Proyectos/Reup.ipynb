{
 "cells": [
  {
   "cell_type": "markdown",
   "metadata": {},
   "source": [
    "# Proyecto muestra aprendizaje 3: Distribución y caracterización de asteroides\n",
    "---\n",
    "\n",
    "En este taller vamos a trabajar con un catálogo de objetos en el cinturón de asteroides. Este catálogo contiene las siguientes columnas:\n",
    "\n",
    "- **Nombre**: Nombre o denominación del asteroide.\n",
    "- **a**: Semi-eje mayor, es decir, la mayor distancia medida desde el centro de la órbita, en Unidades Astronómicas. Esta distancia es aproximadamente igual a la distancia al Sol si es que la órbita es (casi) circular.\n",
    "- **col_a, mag_i, mag_z**: Magnitudes (brillo) en distintos filtros. Con estos vamos a construir colores y con ellos se pueden clasificar asteroides según su composición.\n",
    "- **X, Y, Z**: Posición del asteroide en coordenadas cartesianas con origen en el Sol. Las cantidades se encuentran en Unidades Astronómicas (UA).\n",
    "\n",
    "---\n",
    "\n",
    "### Clasificación\n",
    "Si bien existen muchas clases y subclases, nos enfocaremos en estas tres, pues utilizando los colores de los asteroides nos es posible realizar una primera (y simple) aproximación al tipo de asteroide del que se trata.\n",
    "\n",
    "- **Clase C**: Objetos con carbono como principal componente. Hygiea y Mathilde son dos ejemplos.\n",
    "- **Clase S**: Formados principalmente por silicatos (roca). A esta clase pertenecen Eros y Gaspra.\n",
    "- **Clase V**: Un tipo más raro, relativamente similar al tipo S, pero con mayor presencia de piroxeno. Se le llaman tipo \"V\" por el ejemplo clásico de esta clase, el asteroide Vesta.\n",
    "\n",
    "Para clasificar haremos uso de un diagrama color-color, donde en el eje $x$ tenemos al color **col_a**, definido por la siguiente combinación de filtros g, r, i:\n",
    "\n",
    "Mientras que en el eje $y$ tendremos el color **i-z**, el cual debemos confeccionar.\n",
    "\n",
    "Una vez observada la distribución de los puntos, podemos proceder a la clasificación utilizando las condiciones"
   ]
  },
  {
   "cell_type": "code",
   "execution_count": null,
   "metadata": {
    "collapsed": true
   },
   "outputs": [],
   "source": [
    "import pandas as pd\n",
    "import numpy as np\n",
    "import matplotlib.pyplot as plt\n",
    "from matplotlib import rc\n",
    "%matplotlib inline\n",
    "\n",
    "rc('font', size=14)\n",
    "rc('axes', labelsize=22)"
   ]
  },
  {
   "cell_type": "markdown",
   "metadata": {},
   "source": [
    "Este es el catálogo que contiene todos los datos a usar"
   ]
  },
  {
   "cell_type": "code",
   "execution_count": null,
   "metadata": {
    "collapsed": true
   },
   "outputs": [],
   "source": [
    "data = pd.read_csv('asteroides.csv', sep=',', comment='#', header=0)\n",
    "data.head()"
   ]
  },
  {
   "cell_type": "markdown",
   "metadata": {},
   "source": [
    "# Ideas para el taller\n",
    "---\n",
    "\n",
    "## Examinar la distribución espacial\n",
    "Sería interesante añadir un catálogo de los planetas del Sistema Solar (y dibujar sus órbitas), de modo que al menos puedan visualizar Marte y Júpiter, además de la posición de este último en comparación con los Troyanos.\n",
    "\n",
    "Opciones a los graficos: Añadir alpha (transparencia) o graficar las clases por separado en vez de superpuestas."
   ]
  },
  {
   "cell_type": "markdown",
   "metadata": {},
   "source": [
    "## Encontrar correlaciones con otros parametros\n",
    "Las más destacable es semi eje mayor vs seno de la inclinación. Haciendo el histograma del semi eje mayor se obtiene un resultado similar.\n",
    "\n",
    "En este gráfico se aprecian los huecos de Kirkwood, que se encuentran a determinadas distancias, cuyo período (Kepler) se encuentra en resonancia con Júpiter. Explorando diversas combinaciones se encuentran los diferentes bordes (huecos) o familias de asteroides. Un caso notable es el de los troyanos utilizando el período de Júpiter.\n",
    "\n",
    "Una vez encontrado estas familias, se pueden volver a hacer los gráficos de posición para ver dónde se ubican. Por ejemplo los Hildas (ver figuras de https://en.wikipedia.org/wiki/Hilda_family). Creo que hay muy pocos en este catálogo pero se puede usar eventualmente el catálogo completo del SDSS.\n",
    "\n",
    "Se puede también separar familias y comparar el promedio (y sacar desviación estándar) con el resultado obtenido por resonancia."
   ]
  },
  {
   "cell_type": "markdown",
   "metadata": {},
   "source": [
    "## Más ideas para realizar\n",
    "\n",
    "- Tomar el catalogo completo (muchos más datos), con excentricidad, sin(i) obtenido desde SDSS, etc. En particular el gráfico de e vs sin(i) da bastante bueno y se ven agrupaciones de familias\n",
    "\n",
    "- Del mismo catálogo se puede utlizar la magnitud absoluta (H) y el albedo (A) para estimar los diámetros y la masa (asumiendo la densidad y forma esférica). Con ello deberían obtener algo como https://upload.wikimedia.org/wikipedia/commons/thumb/4/48/Masses_of_asteroids_vs_main_belt.png/1024px-Masses_of_asteroids_vs_main_belt.png y pueden realizar comparaciones con la Tierra o la Luna, por ejemplo.\n",
    "\n",
    "- Como bonus y a modo más lúdico podrían averiguar de dónde reciben los nombres los asteroides o familias y ver si encuentran también algún tipo de correlación con algún parámetro.\n",
    "\n",
    "- Relacionado con lo último también se podrían obtener imágenes del SDSS si es que es posible."
   ]
  }
 ],
 "metadata": {
  "kernelspec": {
   "display_name": "Python 3",
   "language": "python",
   "name": "python3"
  },
  "language_info": {
   "codemirror_mode": {
    "name": "ipython",
    "version": 3
   },
   "file_extension": ".py",
   "mimetype": "text/x-python",
   "name": "python",
   "nbconvert_exporter": "python",
   "pygments_lexer": "ipython3",
   "version": "3.5.1"
  }
 },
 "nbformat": 4,
 "nbformat_minor": 0
}
