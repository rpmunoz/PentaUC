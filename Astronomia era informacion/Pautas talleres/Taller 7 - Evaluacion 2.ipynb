{
 "cells": [
  {
   "cell_type": "markdown",
   "metadata": {},
   "source": [
    "# Taller 7\n",
    "\n",
    "Bienvenidos al taller 7 del curso Astronomía en la Era de la Información, el segundo taller evaluado. Por favor, ingrese los nombres de los integrantes abajo"
   ]
  },
  {
   "cell_type": "code",
   "execution_count": 1,
   "metadata": {
    "collapsed": true
   },
   "outputs": [],
   "source": [
    "integrante1 = 'Simón'\n",
    "integrante2 = 'Ángel'"
   ]
  },
  {
   "cell_type": "markdown",
   "metadata": {},
   "source": [
    "El taller cuenta con 3 ejercicios breves. Léalos primero y desarróllelos en el orden que le parezca conveniente. Celdas en las que haya que completar código dicen \"# Complete el código\"; celdas donde tenga que escribir todo desde cero dicen \"# Aquí va su código\"; celdas que no dicen nada no tienen que ser modificadas.\n",
    "\n",
    "Partamos cargando los paquetes de Python que usaremos. **Ejecute el siguiente bloque.**"
   ]
  },
  {
   "cell_type": "code",
   "execution_count": 2,
   "metadata": {
    "collapsed": true
   },
   "outputs": [],
   "source": [
    "import numpy as np\n",
    "import matplotlib.pyplot as plt\n",
    "import pandas as pd\n",
    "%matplotlib inline"
   ]
  },
  {
   "cell_type": "markdown",
   "metadata": {
    "collapsed": false,
    "scrolled": true
   },
   "source": [
    "----\n",
    "## Ejercicio 1\n",
    "----\n",
    "\n",
    "En este ejercicio usaremos el catalogo de galaxias del grupo local que utilizamos el taller anterior. Tiene pequeñas diferencias, como más detalles en el tipo de galaxias. Partiremos leyendo el catalogo del grupo local usando pandas y luego haremos una serie de graficos. Ejecute el siguiente bloque de codigo para cargar el catalogo."
   ]
  },
  {
   "cell_type": "code",
   "execution_count": 3,
   "metadata": {
    "collapsed": false,
    "scrolled": true
   },
   "outputs": [
    {
     "data": {
      "text/html": [
       "<div>\n",
       "<table border=\"1\" class=\"dataframe\">\n",
       "  <thead>\n",
       "    <tr style=\"text-align: right;\">\n",
       "      <th></th>\n",
       "      <th>nombre</th>\n",
       "      <th>l</th>\n",
       "      <th>b</th>\n",
       "      <th>distancia</th>\n",
       "      <th>diametro</th>\n",
       "      <th>tipo</th>\n",
       "      <th>desc</th>\n",
       "    </tr>\n",
       "  </thead>\n",
       "  <tbody>\n",
       "    <tr>\n",
       "      <th>0</th>\n",
       "      <td>Via Lactea</td>\n",
       "      <td>0.0</td>\n",
       "      <td>0.0</td>\n",
       "      <td>0.00</td>\n",
       "      <td>27.59</td>\n",
       "      <td>SBbc</td>\n",
       "      <td>0</td>\n",
       "    </tr>\n",
       "    <tr>\n",
       "      <th>1</th>\n",
       "      <td>Sagittarius Dwarf</td>\n",
       "      <td>5.6</td>\n",
       "      <td>-14.1</td>\n",
       "      <td>23.91</td>\n",
       "      <td>6.13</td>\n",
       "      <td>dSph</td>\n",
       "      <td>1994</td>\n",
       "    </tr>\n",
       "    <tr>\n",
       "      <th>2</th>\n",
       "      <td>Ursa Major II</td>\n",
       "      <td>152.5</td>\n",
       "      <td>37.4</td>\n",
       "      <td>30.66</td>\n",
       "      <td>0.31</td>\n",
       "      <td>dSph</td>\n",
       "      <td>2006</td>\n",
       "    </tr>\n",
       "    <tr>\n",
       "      <th>3</th>\n",
       "      <td>Coma Berenices Dwarf</td>\n",
       "      <td>241.9</td>\n",
       "      <td>83.6</td>\n",
       "      <td>44.15</td>\n",
       "      <td>0.31</td>\n",
       "      <td>dSph</td>\n",
       "      <td>2006</td>\n",
       "    </tr>\n",
       "    <tr>\n",
       "      <th>4</th>\n",
       "      <td>Gran nube de Magallanes</td>\n",
       "      <td>280.5</td>\n",
       "      <td>-32.9</td>\n",
       "      <td>50.59</td>\n",
       "      <td>7.67</td>\n",
       "      <td>SBm</td>\n",
       "      <td>0</td>\n",
       "    </tr>\n",
       "  </tbody>\n",
       "</table>\n",
       "</div>"
      ],
      "text/plain": [
       "                    nombre      l     b  distancia  diametro       tipo  desc\n",
       "0               Via Lactea    0.0   0.0       0.00     27.59  SBbc          0\n",
       "1   Sagittarius Dwarf         5.6 -14.1      23.91      6.13       dSph  1994\n",
       "2          Ursa Major II    152.5  37.4      30.66      0.31       dSph  2006\n",
       "3   Coma Berenices Dwarf    241.9  83.6      44.15      0.31       dSph  2006\n",
       "4  Gran nube de Magallanes  280.5 -32.9      50.59      7.67        SBm     0"
      ]
     },
     "execution_count": 3,
     "metadata": {},
     "output_type": "execute_result"
    }
   ],
   "source": [
    "cat_url='https://raw.githubusercontent.com/rpmunoz/PentaUC/master/Astronomia%20era%20informacion/data/catalogo_grupo_local.csv'\n",
    "grupolocal=pd.read_csv(cat_url,header=0,sep=',')\n",
    "grupolocal.head()"
   ]
  },
  {
   "cell_type": "markdown",
   "metadata": {},
   "source": [
    "**Parte 1**\n",
    "\n",
    "En el siguiente bloque debera hacer un histograma del año de descubrimiento de la galaxia. Use la columna 'desc' del catalogo grupolocal. **Usted deberá definir el numero de bines que le parezca óptimo, escribir su código en el siguiente bloque y responder la pregunta A.**"
   ]
  },
  {
   "cell_type": "code",
   "execution_count": 5,
   "metadata": {
    "collapsed": false
   },
   "outputs": [
    {
     "data": {
      "text/plain": [
       "<matplotlib.axes._subplots.AxesSubplot at 0x7f5786c83d90>"
      ]
     },
     "execution_count": 5,
     "metadata": {},
     "output_type": "execute_result"
    },
    {
     "data": {
      "image/png": "[encoded data removed]",
      "text/plain": [
       "<matplotlib.figure.Figure at 0x7f5786cf5810>"
      ]
     },
     "metadata": {},
     "output_type": "display_data"
    }
   ],
   "source": [
    "grupolocal['desc'].hist(bins=20)"
   ]
  },
  {
   "cell_type": "markdown",
   "metadata": {
    "collapsed": true
   },
   "source": [
    "**A)** Explique por qué la distribución tiene esta forma\n",
    "\n",
    "**Respuesta:** Esto se debe a que hay varias galaxias que han sido observadas siempre por la humanidad, por lo que se les asigna año de descubrimiento en cero, como fue explicado en el taller seis. Luego vino el descubrimiento de Andrómeda cerca del año 1000, y luego las nuevas tecnologías permiten encontrar cada vez más galaxias en nuestro grupo."
   ]
  },
  {
   "cell_type": "markdown",
   "metadata": {},
   "source": [
    "**Parte 2**\n",
    "\n",
    "En el siguiente bloque debera hacer un histograma de la distancia a la cual se encuentran las galaxias. Use la columna 'distancia' del catalogo grupolocal. **Usted deberá definir el numero de bines óptimo, escribir su código en el siguiente bloque y responder la pregunta B.**"
   ]
  },
  {
   "cell_type": "code",
   "execution_count": 10,
   "metadata": {
    "collapsed": false
   },
   "outputs": [
    {
     "data": {
      "text/plain": [
       "<matplotlib.axes._subplots.AxesSubplot at 0x7f57868907d0>"
      ]
     },
     "execution_count": 10,
     "metadata": {},
     "output_type": "execute_result"
    },
    {
     "data": {
      "image/png": "[encoded data removed]",
      "text/plain": [
       "<matplotlib.figure.Figure at 0x7f57866a7d10>"
      ]
     },
     "metadata": {},
     "output_type": "display_data"
    }
   ],
   "source": [
    "grupolocal['distancia'].hist(bins=20)"
   ]
  },
  {
   "cell_type": "markdown",
   "metadata": {},
   "source": [
    "**B)** Explique por qué la distribución tiene esa forma, en particular a qué se deben los *peaks* (valores altos) de esta. Recuerde la materia vista la clase pasada sobre el grupo local\n",
    "\n",
    "**Respuesta:** Muchas galaxias se encuentran cerca de nuestra galaxia (por eso se agrupan alrededor de distancia = 0) y cerca de Andrómeda, la otra galaxia \"gigante\" de nuestro grupo local (cerca de 800 mil años luz), por lo que la otra gran agrupación está alrededor de ésta."
   ]
  },
  {
   "cell_type": "markdown",
   "metadata": {
    "collapsed": true
   },
   "source": [
    "**Parte 3**\n",
    "\n",
    "En el siguiente bloque debera hacer un grafico con las posiciones en el cielo de las galaxias enanas esferoidales (el \"nombre clave\" de este tipo de galaxias es *dSph*) descubiertas antes del año 2000. Use las columnas 'l' y 'b' para graficar la posicion (coordenadas correspondientes a la longitud y latitud galactica), y las columnas 'tipo' y 'desc' para filtrar los elementos relevantes del catalogo. **Complete el siguiente código en los espacios donde aparecen los tres puntos (...) y responda la pregunta C.**"
   ]
  },
  {
   "cell_type": "code",
   "execution_count": 15,
   "metadata": {
    "collapsed": false
   },
   "outputs": [
    {
     "data": {
      "text/plain": [
       "<matplotlib.text.Text at 0x7f57861116d0>"
      ]
     },
     "execution_count": 15,
     "metadata": {},
     "output_type": "execute_result"
    },
    {
     "data": {
      "image/png": "[encoded data removed]",
      "text/plain": [
       "<matplotlib.figure.Figure at 0x7f57868a8750>"
      ]
     },
     "metadata": {},
     "output_type": "display_data"
    }
   ],
   "source": [
    "# Complete el código\n",
    "\n",
    "for i in range(len(grupolocal)):\n",
    "    if (grupolocal.iloc[i]['tipo'] == 'dSph') and (grupolocal.iloc[i]['desc']<2000) :\n",
    "        plt.plot(grupolocal.iloc[i]['l'],grupolocal.iloc[i]['b'],'ro')\n",
    "        \n",
    "plt.xlabel('Longitud galactica (grados)')\n",
    "plt.ylabel('Latitud galactica (grados)')"
   ]
  },
  {
   "cell_type": "markdown",
   "metadata": {},
   "source": [
    "**C)** ¿Las galaxias están distribuidas uniformemente o existen acumulaciones en alguna región del gráfico? ¿Por qué? Relacione esto con el histograma de distancias de más arriba y la materia vista en clase. ¿Hay diferencia alguna si cambia el límite del año de descubrimiento?\n",
    "\n",
    "**Respuesta:** Existe una aglomeración ligera en longitud = 120 y latitud = -25, que corresponde a la ubicación de Andrómeda. Más galaxias aparecen si cambiamos el límite del año de descubrimiento."
   ]
  },
  {
   "cell_type": "markdown",
   "metadata": {},
   "source": [
    "----\n",
    "\n",
    "## Ejercicio 2\n",
    "---\n"
   ]
  },
  {
   "cell_type": "markdown",
   "metadata": {},
   "source": [
    "En este ejercicio usaremos un catálogo de galaxias y estrellas en la direccion del Cúmulo de galaxias de Coma. Deberemos leer el catalogo, luego identificar los objetos que son galaxias, para hacer un histograma de las velocidades radiales. y finalmente calcularemos algunas cantidades.\n",
    "\n",
    "Partamos leyendo el catálogo del cúmulo de Coma usando *pandas*. Ejecute el siguiente bloque de código para cargar el catálogo."
   ]
  },
  {
   "cell_type": "code",
   "execution_count": 16,
   "metadata": {
    "collapsed": false
   },
   "outputs": [
    {
     "data": {
      "text/html": [
       "<div>\n",
       "<table border=\"1\" class=\"dataframe\">\n",
       "  <thead>\n",
       "    <tr style=\"text-align: right;\">\n",
       "      <th></th>\n",
       "      <th>ra</th>\n",
       "      <th>dec</th>\n",
       "      <th>u</th>\n",
       "      <th>g</th>\n",
       "      <th>r</th>\n",
       "      <th>i</th>\n",
       "      <th>z</th>\n",
       "      <th>redshift</th>\n",
       "      <th>velocidad</th>\n",
       "      <th>distancia_arcmin</th>\n",
       "      <th>tipo</th>\n",
       "    </tr>\n",
       "  </thead>\n",
       "  <tbody>\n",
       "    <tr>\n",
       "      <th>0</th>\n",
       "      <td>194.572522</td>\n",
       "      <td>28.040079</td>\n",
       "      <td>19.563</td>\n",
       "      <td>17.513</td>\n",
       "      <td>16.804</td>\n",
       "      <td>16.450</td>\n",
       "      <td>16.170</td>\n",
       "      <td>0.02065</td>\n",
       "      <td>6195.0</td>\n",
       "      <td>20.4642</td>\n",
       "      <td>galaxia</td>\n",
       "    </tr>\n",
       "    <tr>\n",
       "      <th>1</th>\n",
       "      <td>194.575458</td>\n",
       "      <td>28.070532</td>\n",
       "      <td>21.431</td>\n",
       "      <td>18.459</td>\n",
       "      <td>17.351</td>\n",
       "      <td>16.886</td>\n",
       "      <td>16.544</td>\n",
       "      <td>0.15735</td>\n",
       "      <td>47205.0</td>\n",
       "      <td>20.7079</td>\n",
       "      <td>galaxia</td>\n",
       "    </tr>\n",
       "    <tr>\n",
       "      <th>2</th>\n",
       "      <td>194.582202</td>\n",
       "      <td>28.094842</td>\n",
       "      <td>24.929</td>\n",
       "      <td>17.628</td>\n",
       "      <td>17.224</td>\n",
       "      <td>17.146</td>\n",
       "      <td>17.737</td>\n",
       "      <td>0.02392</td>\n",
       "      <td>7176.0</td>\n",
       "      <td>20.7955</td>\n",
       "      <td>galaxia</td>\n",
       "    </tr>\n",
       "    <tr>\n",
       "      <th>3</th>\n",
       "      <td>194.586585</td>\n",
       "      <td>27.998776</td>\n",
       "      <td>18.394</td>\n",
       "      <td>17.300</td>\n",
       "      <td>16.931</td>\n",
       "      <td>16.819</td>\n",
       "      <td>16.789</td>\n",
       "      <td>NaN</td>\n",
       "      <td>NaN</td>\n",
       "      <td>19.4397</td>\n",
       "      <td>estrella</td>\n",
       "    </tr>\n",
       "    <tr>\n",
       "      <th>4</th>\n",
       "      <td>194.590439</td>\n",
       "      <td>28.148753</td>\n",
       "      <td>17.485</td>\n",
       "      <td>15.466</td>\n",
       "      <td>14.668</td>\n",
       "      <td>14.287</td>\n",
       "      <td>14.065</td>\n",
       "      <td>0.02628</td>\n",
       "      <td>7884.0</td>\n",
       "      <td>21.6830</td>\n",
       "      <td>galaxia</td>\n",
       "    </tr>\n",
       "  </tbody>\n",
       "</table>\n",
       "</div>"
      ],
      "text/plain": [
       "           ra        dec       u       g       r       i       z  redshift  \\\n",
       "0  194.572522  28.040079  19.563  17.513  16.804  16.450  16.170   0.02065   \n",
       "1  194.575458  28.070532  21.431  18.459  17.351  16.886  16.544   0.15735   \n",
       "2  194.582202  28.094842  24.929  17.628  17.224  17.146  17.737   0.02392   \n",
       "3  194.586585  27.998776  18.394  17.300  16.931  16.819  16.789       NaN   \n",
       "4  194.590439  28.148753  17.485  15.466  14.668  14.287  14.065   0.02628   \n",
       "\n",
       "   velocidad  distancia_arcmin      tipo  \n",
       "0     6195.0           20.4642   galaxia  \n",
       "1    47205.0           20.7079   galaxia  \n",
       "2     7176.0           20.7955   galaxia  \n",
       "3        NaN           19.4397  estrella  \n",
       "4     7884.0           21.6830   galaxia  "
      ]
     },
     "execution_count": 16,
     "metadata": {},
     "output_type": "execute_result"
    }
   ],
   "source": [
    "cat_url='https://raw.githubusercontent.com/rpmunoz/PentaUC/master/Astronomia%20era%20informacion/data/catalogo_SDSS_cumulo_de_coma.csv'\n",
    "cat_coma=pd.read_csv(cat_url,header=0,sep=',')\n",
    "cat_coma.head()"
   ]
  },
  {
   "cell_type": "markdown",
   "metadata": {},
   "source": [
    "**Parte 1**\n",
    "\n",
    "En el siguiente bloque debera graficar la posición en el cielo de todos los objetos del catálogo. Usaremos las columnas 'ra' y 'dec' del catálogo cat_coma para graficar las posiciones. **Su respuesta será completar donde aparecen los tres puntos ...**"
   ]
  },
  {
   "cell_type": "code",
   "execution_count": 17,
   "metadata": {
    "collapsed": false
   },
   "outputs": [
    {
     "data": {
      "text/plain": [
       "<matplotlib.text.Text at 0x7f5785fcc090>"
      ]
     },
     "execution_count": 17,
     "metadata": {},
     "output_type": "execute_result"
    },
    {
     "data": {
      "image/png": "[encoded data removed]",
      "text/plain": [
       "<matplotlib.figure.Figure at 0x7f57864a1b90>"
      ]
     },
     "metadata": {},
     "output_type": "display_data"
    }
   ],
   "source": [
    "# Complete el código\n",
    "\n",
    "fig = plt.figure(figsize=(8,8))\n",
    "plt.scatter(cat_coma['ra'],cat_coma['dec'], marker='.', s=20, color='b' )\n",
    "plt.xlabel('Ascencion recta (grados)')\n",
    "plt.ylabel('Declinacion (grados)')"
   ]
  },
  {
   "cell_type": "markdown",
   "metadata": {},
   "source": [
    "**Parte 2**\n",
    "\n",
    "El gráfico anterior corresponde a todos los objetos en la direccion del Cúmulo de Coma e incluye tanto a estrellas de nuestra galaxia como galaxias más lejanas que el cúmulo. Usaremos la columna 'tipo' del catalogo y buscaremos objetos cuyo valor sea igual a 'galaxia' para identificar a éstas. Luego haremos el mismo gráfico que hicimos en el bloque anterior. **Su respuesta será completar donde aparecen los tres puntos ...**"
   ]
  },
  {
   "cell_type": "code",
   "execution_count": 18,
   "metadata": {
    "collapsed": false
   },
   "outputs": [
    {
     "data": {
      "text/plain": [
       "<matplotlib.text.Text at 0x7f5785d7a090>"
      ]
     },
     "execution_count": 18,
     "metadata": {},
     "output_type": "execute_result"
    },
    {
     "data": {
      "image/png": "[encoded data removed]",
      "text/plain": [
       "<matplotlib.figure.Figure at 0x7f5785fe0ed0>"
      ]
     },
     "metadata": {},
     "output_type": "display_data"
    }
   ],
   "source": [
    "# Complete el código\n",
    "\n",
    "cat_galaxias=cat_coma[cat_coma['tipo']==\"galaxia\"]\n",
    "fig = plt.figure(figsize=(8,8))\n",
    "plt.scatter(cat_coma['ra'],cat_coma['dec'], marker='.', s=20, color='b' )\n",
    "plt.xlabel('Ascencion recta (grados)')\n",
    "plt.ylabel('Declinacion (grados)')"
   ]
  },
  {
   "cell_type": "markdown",
   "metadata": {},
   "source": [
    "**Parte 3**\n",
    "\n",
    "Una vez ya identificadas las galaxias, ahora procederemos a estudiar la distribucion de velocidades de las galaxias en el cumulo de galaxias de Coma. Lo primero es hacer un histograma de la columna 'velocidad' de las galaxias en el catalogo. Ejecute el primer bloque y responda la pregunta **A)** que aparece en el segundo bloque"
   ]
  },
  {
   "cell_type": "code",
   "execution_count": 19,
   "metadata": {
    "collapsed": false
   },
   "outputs": [
    {
     "ename": "ValueError",
     "evalue": "max must be larger than min in range parameter.",
     "output_type": "error",
     "traceback": [
      "\u001b[1;31m---------------------------------------------------------------------------\u001b[0m",
      "\u001b[1;31mValueError\u001b[0m                                Traceback (most recent call last)",
      "\u001b[1;32m<ipython-input-19-c1668d97e933>\u001b[0m in \u001b[0;36m<module>\u001b[1;34m()\u001b[0m\n\u001b[0;32m      1\u001b[0m \u001b[0mfig\u001b[0m \u001b[1;33m=\u001b[0m \u001b[0mplt\u001b[0m\u001b[1;33m.\u001b[0m\u001b[0mfigure\u001b[0m\u001b[1;33m(\u001b[0m\u001b[0mfigsize\u001b[0m\u001b[1;33m=\u001b[0m\u001b[1;33m(\u001b[0m\u001b[1;36m8\u001b[0m\u001b[1;33m,\u001b[0m\u001b[1;36m6\u001b[0m\u001b[1;33m)\u001b[0m\u001b[1;33m)\u001b[0m\u001b[1;33m\u001b[0m\u001b[0m\n\u001b[1;32m----> 2\u001b[1;33m \u001b[0mplt\u001b[0m\u001b[1;33m.\u001b[0m\u001b[0mhist\u001b[0m\u001b[1;33m(\u001b[0m\u001b[0mcat_galaxias\u001b[0m\u001b[1;33m[\u001b[0m\u001b[1;34m'velocidad'\u001b[0m\u001b[1;33m]\u001b[0m\u001b[1;33m,\u001b[0m \u001b[0mbins\u001b[0m\u001b[1;33m=\u001b[0m\u001b[1;36m40\u001b[0m\u001b[1;33m)\u001b[0m\u001b[1;33m\u001b[0m\u001b[0m\n\u001b[0m",
      "\u001b[1;32m/home/simon/.local/lib/python2.7/site-packages/matplotlib/pyplot.pyc\u001b[0m in \u001b[0;36mhist\u001b[1;34m(x, bins, range, normed, weights, cumulative, bottom, histtype, align, orientation, rwidth, log, color, label, stacked, hold, data, **kwargs)\u001b[0m\n\u001b[0;32m   2956\u001b[0m                       \u001b[0mhisttype\u001b[0m\u001b[1;33m=\u001b[0m\u001b[0mhisttype\u001b[0m\u001b[1;33m,\u001b[0m \u001b[0malign\u001b[0m\u001b[1;33m=\u001b[0m\u001b[0malign\u001b[0m\u001b[1;33m,\u001b[0m \u001b[0morientation\u001b[0m\u001b[1;33m=\u001b[0m\u001b[0morientation\u001b[0m\u001b[1;33m,\u001b[0m\u001b[1;33m\u001b[0m\u001b[0m\n\u001b[0;32m   2957\u001b[0m                       \u001b[0mrwidth\u001b[0m\u001b[1;33m=\u001b[0m\u001b[0mrwidth\u001b[0m\u001b[1;33m,\u001b[0m \u001b[0mlog\u001b[0m\u001b[1;33m=\u001b[0m\u001b[0mlog\u001b[0m\u001b[1;33m,\u001b[0m \u001b[0mcolor\u001b[0m\u001b[1;33m=\u001b[0m\u001b[0mcolor\u001b[0m\u001b[1;33m,\u001b[0m \u001b[0mlabel\u001b[0m\u001b[1;33m=\u001b[0m\u001b[0mlabel\u001b[0m\u001b[1;33m,\u001b[0m\u001b[1;33m\u001b[0m\u001b[0m\n\u001b[1;32m-> 2958\u001b[1;33m                       stacked=stacked, data=data, **kwargs)\n\u001b[0m\u001b[0;32m   2959\u001b[0m     \u001b[1;32mfinally\u001b[0m\u001b[1;33m:\u001b[0m\u001b[1;33m\u001b[0m\u001b[0m\n\u001b[0;32m   2960\u001b[0m         \u001b[0max\u001b[0m\u001b[1;33m.\u001b[0m\u001b[0mhold\u001b[0m\u001b[1;33m(\u001b[0m\u001b[0mwashold\u001b[0m\u001b[1;33m)\u001b[0m\u001b[1;33m\u001b[0m\u001b[0m\n",
      "\u001b[1;32m/home/simon/.local/lib/python2.7/site-packages/matplotlib/__init__.pyc\u001b[0m in \u001b[0;36minner\u001b[1;34m(ax, *args, **kwargs)\u001b[0m\n\u001b[0;32m   1810\u001b[0m                     warnings.warn(msg % (label_namer, func.__name__),\n\u001b[0;32m   1811\u001b[0m                                   RuntimeWarning, stacklevel=2)\n\u001b[1;32m-> 1812\u001b[1;33m             \u001b[1;32mreturn\u001b[0m \u001b[0mfunc\u001b[0m\u001b[1;33m(\u001b[0m\u001b[0max\u001b[0m\u001b[1;33m,\u001b[0m \u001b[1;33m*\u001b[0m\u001b[0margs\u001b[0m\u001b[1;33m,\u001b[0m \u001b[1;33m**\u001b[0m\u001b[0mkwargs\u001b[0m\u001b[1;33m)\u001b[0m\u001b[1;33m\u001b[0m\u001b[0m\n\u001b[0m\u001b[0;32m   1813\u001b[0m         \u001b[0mpre_doc\u001b[0m \u001b[1;33m=\u001b[0m \u001b[0minner\u001b[0m\u001b[1;33m.\u001b[0m\u001b[0m__doc__\u001b[0m\u001b[1;33m\u001b[0m\u001b[0m\n\u001b[0;32m   1814\u001b[0m         \u001b[1;32mif\u001b[0m \u001b[0mpre_doc\u001b[0m \u001b[1;32mis\u001b[0m \u001b[0mNone\u001b[0m\u001b[1;33m:\u001b[0m\u001b[1;33m\u001b[0m\u001b[0m\n",
      "\u001b[1;32m/home/simon/.local/lib/python2.7/site-packages/matplotlib/axes/_axes.pyc\u001b[0m in \u001b[0;36mhist\u001b[1;34m(self, x, bins, range, normed, weights, cumulative, bottom, histtype, align, orientation, rwidth, log, color, label, stacked, **kwargs)\u001b[0m\n\u001b[0;32m   6008\u001b[0m             \u001b[1;31m# this will automatically overwrite bins,\u001b[0m\u001b[1;33m\u001b[0m\u001b[1;33m\u001b[0m\u001b[0m\n\u001b[0;32m   6009\u001b[0m             \u001b[1;31m# so that each histogram uses the same bins\u001b[0m\u001b[1;33m\u001b[0m\u001b[1;33m\u001b[0m\u001b[0m\n\u001b[1;32m-> 6010\u001b[1;33m             \u001b[0mm\u001b[0m\u001b[1;33m,\u001b[0m \u001b[0mbins\u001b[0m \u001b[1;33m=\u001b[0m \u001b[0mnp\u001b[0m\u001b[1;33m.\u001b[0m\u001b[0mhistogram\u001b[0m\u001b[1;33m(\u001b[0m\u001b[0mx\u001b[0m\u001b[1;33m[\u001b[0m\u001b[0mi\u001b[0m\u001b[1;33m]\u001b[0m\u001b[1;33m,\u001b[0m \u001b[0mbins\u001b[0m\u001b[1;33m,\u001b[0m \u001b[0mweights\u001b[0m\u001b[1;33m=\u001b[0m\u001b[0mw\u001b[0m\u001b[1;33m[\u001b[0m\u001b[0mi\u001b[0m\u001b[1;33m]\u001b[0m\u001b[1;33m,\u001b[0m \u001b[1;33m**\u001b[0m\u001b[0mhist_kwargs\u001b[0m\u001b[1;33m)\u001b[0m\u001b[1;33m\u001b[0m\u001b[0m\n\u001b[0m\u001b[0;32m   6011\u001b[0m             \u001b[0mm\u001b[0m \u001b[1;33m=\u001b[0m \u001b[0mm\u001b[0m\u001b[1;33m.\u001b[0m\u001b[0mastype\u001b[0m\u001b[1;33m(\u001b[0m\u001b[0mfloat\u001b[0m\u001b[1;33m)\u001b[0m  \u001b[1;31m# causes problems later if it's an int\u001b[0m\u001b[1;33m\u001b[0m\u001b[0m\n\u001b[0;32m   6012\u001b[0m             \u001b[1;32mif\u001b[0m \u001b[0mmlast\u001b[0m \u001b[1;32mis\u001b[0m \u001b[0mNone\u001b[0m\u001b[1;33m:\u001b[0m\u001b[1;33m\u001b[0m\u001b[0m\n",
      "\u001b[1;32m/home/simon/.local/lib/python2.7/site-packages/numpy/lib/function_base.pyc\u001b[0m in \u001b[0;36mhistogram\u001b[1;34m(a, bins, range, normed, weights, density)\u001b[0m\n\u001b[0;32m    500\u001b[0m     \u001b[1;32mif\u001b[0m \u001b[0mmn\u001b[0m \u001b[1;33m>\u001b[0m \u001b[0mmx\u001b[0m\u001b[1;33m:\u001b[0m\u001b[1;33m\u001b[0m\u001b[0m\n\u001b[0;32m    501\u001b[0m         raise ValueError(\n\u001b[1;32m--> 502\u001b[1;33m             'max must be larger than min in range parameter.')\n\u001b[0m\u001b[0;32m    503\u001b[0m     \u001b[1;32mif\u001b[0m \u001b[1;32mnot\u001b[0m \u001b[0mnp\u001b[0m\u001b[1;33m.\u001b[0m\u001b[0mall\u001b[0m\u001b[1;33m(\u001b[0m\u001b[0mnp\u001b[0m\u001b[1;33m.\u001b[0m\u001b[0misfinite\u001b[0m\u001b[1;33m(\u001b[0m\u001b[1;33m[\u001b[0m\u001b[0mmn\u001b[0m\u001b[1;33m,\u001b[0m \u001b[0mmx\u001b[0m\u001b[1;33m]\u001b[0m\u001b[1;33m)\u001b[0m\u001b[1;33m)\u001b[0m\u001b[1;33m:\u001b[0m\u001b[1;33m\u001b[0m\u001b[0m\n\u001b[0;32m    504\u001b[0m         raise ValueError(\n",
      "\u001b[1;31mValueError\u001b[0m: max must be larger than min in range parameter."
     ]
    },
    {
     "data": {
      "image/png": "[encoded data removed]",
      "text/plain": [
       "<matplotlib.figure.Figure at 0x7f5785f6b0d0>"
      ]
     },
     "metadata": {},
     "output_type": "display_data"
    }
   ],
   "source": [
    "fig = plt.figure(figsize=(8,6))\n",
    "plt.hist(cat_galaxias['velocidad'], bins=40)"
   ]
  },
  {
   "cell_type": "markdown",
   "metadata": {},
   "source": [
    "**A)** ¿Pudieron hacer el grafico con el histograma de las velocidades o hubo algun error segun Python?\n",
    "\n",
    "En caso que haya fallado la creacion del histograma de velocidades ¿Cual cree que fue la razon?. Ejecute el siguiente comando para ver los primeros 50 valores de 'velocidad'"
   ]
  },
  {
   "cell_type": "code",
   "execution_count": 22,
   "metadata": {
    "collapsed": false
   },
   "outputs": [
    {
     "name": "stdout",
     "output_type": "stream",
     "text": [
      "[  6195.  47205.   7176.   7884.   6015.   6681.   8208.   7152.   7287.\n",
      "   5709.   6810.   8049.   8877.   7086.  45675.   6705.   6078.   7470.\n",
      "  49953.   6072.   7014.   7089.   8325.     nan   8025.   9423.   7935.\n",
      "   8067.   7671.     nan     nan     nan     nan     nan   7215.     nan\n",
      "   8601.   6897.     nan     nan     nan     nan   7815.   7440.     nan\n",
      "   4824.  47520.  47850.     nan   7239.]\n"
     ]
    }
   ],
   "source": [
    "print np.array(cat_galaxias['velocidad'])[0:50]"
   ]
  },
  {
   "cell_type": "markdown",
   "metadata": {},
   "source": [
    "**Respuesta:** Existen valores que no son números: *nan*, del inglés *not a number* (no es un número)"
   ]
  },
  {
   "cell_type": "markdown",
   "metadata": {},
   "source": [
    "**Parte 4**\n",
    "\n",
    "Una manera de verificar que solo tenemos numeros en la comuna 'velocidad' de la tabla es usar la funcion *isfinite* de *numpy* para verificar que los valores son numeros finitos. El siguiente codigo revisa una por una la velocidad de las galaxias en el catalogo e indica *True* si la velocidad es finita y *False* si no esta definida."
   ]
  },
  {
   "cell_type": "code",
   "execution_count": 24,
   "metadata": {
    "collapsed": false
   },
   "outputs": [
    {
     "data": {
      "text/plain": [
       "0        True\n",
       "1        True\n",
       "2        True\n",
       "4        True\n",
       "5        True\n",
       "6        True\n",
       "7        True\n",
       "10       True\n",
       "11       True\n",
       "12       True\n",
       "15       True\n",
       "18       True\n",
       "19       True\n",
       "22       True\n",
       "23       True\n",
       "25       True\n",
       "26       True\n",
       "27       True\n",
       "28       True\n",
       "32       True\n",
       "35       True\n",
       "36       True\n",
       "41       True\n",
       "42      False\n",
       "44       True\n",
       "45       True\n",
       "46       True\n",
       "48       True\n",
       "50       True\n",
       "52      False\n",
       "        ...  \n",
       "1237     True\n",
       "1239     True\n",
       "1255     True\n",
       "1257     True\n",
       "1266     True\n",
       "1268     True\n",
       "1270     True\n",
       "1271     True\n",
       "1272     True\n",
       "1273    False\n",
       "1274     True\n",
       "1276     True\n",
       "1277     True\n",
       "1279     True\n",
       "1280     True\n",
       "1282     True\n",
       "1286     True\n",
       "1287     True\n",
       "1289    False\n",
       "1291    False\n",
       "1292     True\n",
       "1293     True\n",
       "1295     True\n",
       "1297     True\n",
       "1298    False\n",
       "1300     True\n",
       "1301     True\n",
       "1305     True\n",
       "1309     True\n",
       "1312     True\n",
       "Name: velocidad, dtype: bool"
      ]
     },
     "execution_count": 24,
     "metadata": {},
     "output_type": "execute_result"
    }
   ],
   "source": [
    "np.isfinite(cat_galaxias['velocidad'])"
   ]
  },
  {
   "cell_type": "markdown",
   "metadata": {},
   "source": [
    "Una manera de resolver este problema es usar solamente las galaxias que tengan velocidades finitas y con valores mayores a 0 km/s. Ademas, usaremos solamente galaxias con velocidad inferior a 20.0000 km/s pues no queremos analizar galaxias que se alejan a gran velocidad. Ejecute el siguiente codigo para definir la variable galaxias_velocidad para identificar los objetos que son galaxias y que tienen velocidades mayores a 0. Imprimiremos las velocidades de las galaxias que cumplen la condicion *galaxias_velocidad* y deberiamos obtener *True* para todas"
   ]
  },
  {
   "cell_type": "code",
   "execution_count": 25,
   "metadata": {
    "collapsed": false
   },
   "outputs": [
    {
     "data": {
      "text/plain": [
       "0       True\n",
       "2       True\n",
       "4       True\n",
       "5       True\n",
       "6       True\n",
       "7       True\n",
       "10      True\n",
       "11      True\n",
       "12      True\n",
       "15      True\n",
       "18      True\n",
       "19      True\n",
       "22      True\n",
       "25      True\n",
       "26      True\n",
       "27      True\n",
       "32      True\n",
       "35      True\n",
       "36      True\n",
       "41      True\n",
       "44      True\n",
       "45      True\n",
       "46      True\n",
       "48      True\n",
       "50      True\n",
       "58      True\n",
       "61      True\n",
       "62      True\n",
       "70      True\n",
       "71      True\n",
       "        ... \n",
       "1147    True\n",
       "1163    True\n",
       "1167    True\n",
       "1168    True\n",
       "1173    True\n",
       "1177    True\n",
       "1179    True\n",
       "1181    True\n",
       "1192    True\n",
       "1198    True\n",
       "1200    True\n",
       "1209    True\n",
       "1215    True\n",
       "1226    True\n",
       "1257    True\n",
       "1266    True\n",
       "1270    True\n",
       "1271    True\n",
       "1272    True\n",
       "1274    True\n",
       "1282    True\n",
       "1286    True\n",
       "1287    True\n",
       "1292    True\n",
       "1295    True\n",
       "1297    True\n",
       "1300    True\n",
       "1305    True\n",
       "1309    True\n",
       "1312    True\n",
       "Name: velocidad, dtype: bool"
      ]
     },
     "execution_count": 25,
     "metadata": {},
     "output_type": "execute_result"
    }
   ],
   "source": [
    "galaxias_velocidad=cat_coma[((cat_coma['tipo']=='galaxia') & (cat_coma['velocidad']>0.) & (cat_coma['velocidad']<20000.))]\n",
    "np.isfinite(galaxias_velocidad['velocidad'])"
   ]
  },
  {
   "cell_type": "markdown",
   "metadata": {},
   "source": [
    "**B)** En el siguiente bloque debera hacer un histograma de las velocidades de galaxias que cumplen el criterio *galaxias_velocidad*. **Su respuesta será completar donde aparecen los tres puntos ...**"
   ]
  },
  {
   "cell_type": "code",
   "execution_count": 26,
   "metadata": {
    "collapsed": false
   },
   "outputs": [
    {
     "data": {
      "text/plain": [
       "(array([  2.,   2.,   8.,  13.,  23.,  43.,  38.,  44.,  63.,  52.,  38.,\n",
       "         27.,  14.,   3.,   5.,   4.,   1.,   1.,   1.,   0.,   0.,   0.,\n",
       "          0.,   1.,   0.,   0.,   0.,   0.,   0.,   0.,   0.,   0.,   0.,\n",
       "          0.,   0.,   0.,   2.,   1.,   0.,   1.]),\n",
       " array([  3723.  ,   4121.55,   4520.1 ,   4918.65,   5317.2 ,   5715.75,\n",
       "          6114.3 ,   6512.85,   6911.4 ,   7309.95,   7708.5 ,   8107.05,\n",
       "          8505.6 ,   8904.15,   9302.7 ,   9701.25,  10099.8 ,  10498.35,\n",
       "         10896.9 ,  11295.45,  11694.  ,  12092.55,  12491.1 ,  12889.65,\n",
       "         13288.2 ,  13686.75,  14085.3 ,  14483.85,  14882.4 ,  15280.95,\n",
       "         15679.5 ,  16078.05,  16476.6 ,  16875.15,  17273.7 ,  17672.25,\n",
       "         18070.8 ,  18469.35,  18867.9 ,  19266.45,  19665.  ]),\n",
       " <a list of 40 Patch objects>)"
      ]
     },
     "execution_count": 26,
     "metadata": {},
     "output_type": "execute_result"
    },
    {
     "data": {
      "image/png": "[encoded data removed]",
      "text/plain": [
       "<matplotlib.figure.Figure at 0x7f5785d7af10>"
      ]
     },
     "metadata": {},
     "output_type": "display_data"
    }
   ],
   "source": [
    "# Complete el código\n",
    "\n",
    "plt.hist(galaxias_velocidad['velocidad'], bins=40)"
   ]
  },
  {
   "cell_type": "markdown",
   "metadata": {},
   "source": [
    "**Parte 5**"
   ]
  },
  {
   "cell_type": "markdown",
   "metadata": {},
   "source": [
    "En base al histograma de las velocidades de galaxias que cumplen el criterio *galaxias_velocidad* (pregunta 4), responda\n",
    "\n",
    "**C)** ¿En torno a qué valor de velocidad se concentran las galaxias? ¿En qué rango de valores de velocidad usted diria que se encuentran las galaxias del cumulo de Coma? Escriba su respuesta a continuación,\n",
    "\n",
    "**Respuesta:** Vemos que las velocidades están mayormente entre 4000 y 11000 km/s, todo alrededor de cerca de 7000 km/s."
   ]
  },
  {
   "cell_type": "markdown",
   "metadata": {},
   "source": [
    "\n",
    "**D)** Calcule la velocidad promedio de las galaxias que cumplen la condicion galaxias_velocidad. Puede usar la funcion mean de *numpy* o los ciclos FOR que vieron en el taller con Simon. "
   ]
  },
  {
   "cell_type": "code",
   "execution_count": 30,
   "metadata": {
    "collapsed": false
   },
   "outputs": [
    {
     "name": "stdout",
     "output_type": "stream",
     "text": [
      "7124.9379845\n"
     ]
    }
   ],
   "source": [
    "mean = np.mean(galaxias_velocidad['velocidad'])\n",
    "print mean"
   ]
  },
  {
   "cell_type": "markdown",
   "metadata": {},
   "source": [
    "¿Cual es el valor del promedio? ¿Como se compara con el valor que pusieron en la parte A?  Escriba su respuesta a continuacion,\n",
    "\n",
    "**Respuesta:** 7124.9 km/s, muy cercano al valor \"al ojo\" 8-)"
   ]
  },
  {
   "cell_type": "markdown",
   "metadata": {},
   "source": [
    "**E)** Calcule la desviación estándar de la velocidad de las galaxias que cumplen la condicion *galaxias_velocidad*. Puede usar la funcion std de *numpy* o los ciclos FOR que vieron en el taller con Simon."
   ]
  },
  {
   "cell_type": "code",
   "execution_count": 33,
   "metadata": {
    "collapsed": false
   },
   "outputs": [
    {
     "name": "stdout",
     "output_type": "stream",
     "text": [
      "1671.27414028\n",
      "3782.38970394 10467.4862651\n"
     ]
    }
   ],
   "source": [
    "std = np.std(galaxias_velocidad['velocidad'])\n",
    "print std\n",
    "print mean-2*std, mean+2*std"
   ]
  },
  {
   "cell_type": "markdown",
   "metadata": {},
   "source": [
    "**F)** ¿Cual es el valor de la desviación estándar de la velocidad? ¿Como se compara con el rango de valores que escribieron en la parte A? Escriba su respuesta a continuacion,\n",
    "\n",
    "**Respuesta:** El valor de la desviación estándar es 1671.3 km/s aproximadamente, y vemos que los valores \"al ojo\" de arriba corresponden más o menos al promedio más (o menos) 2 veces la desviación estándar. A ver si les suena a algo que vieron (o verán) en el colegio"
   ]
  },
  {
   "cell_type": "markdown",
   "metadata": {},
   "source": [
    "---\n",
    "## Ejercicio 3\n",
    "---"
   ]
  },
  {
   "cell_type": "markdown",
   "metadata": {},
   "source": [
    "En este ejercicio usted deberá identificar al menos 4 galaxias falsas que nosotros introdujimos a mano en el catálogo del grupo local. Para esto, haga histogramas, gráficos 2D, y gráficos con escala de color de las cantidades relevantes, y compárelos con los análogos a estos del catálogo original. Cargaremos ambos catálogos en la siguiente celda."
   ]
  },
  {
   "cell_type": "code",
   "execution_count": 42,
   "metadata": {
    "collapsed": false
   },
   "outputs": [
    {
     "data": {
      "text/html": [
       "<div>\n",
       "<table border=\"1\" class=\"dataframe\">\n",
       "  <thead>\n",
       "    <tr style=\"text-align: right;\">\n",
       "      <th></th>\n",
       "      <th>nombre</th>\n",
       "      <th>l</th>\n",
       "      <th>b</th>\n",
       "      <th>distancia</th>\n",
       "      <th>diametro</th>\n",
       "      <th>tipo</th>\n",
       "      <th>desc</th>\n",
       "    </tr>\n",
       "  </thead>\n",
       "  <tbody>\n",
       "    <tr>\n",
       "      <th>0</th>\n",
       "      <td>Via Lactea</td>\n",
       "      <td>0.0</td>\n",
       "      <td>0.0</td>\n",
       "      <td>0.00</td>\n",
       "      <td>27.59</td>\n",
       "      <td>SBbc</td>\n",
       "      <td>0</td>\n",
       "    </tr>\n",
       "    <tr>\n",
       "      <th>1</th>\n",
       "      <td>Sagittarius Dwarf</td>\n",
       "      <td>5.6</td>\n",
       "      <td>-14.1</td>\n",
       "      <td>23.91</td>\n",
       "      <td>6.13</td>\n",
       "      <td>dSph</td>\n",
       "      <td>1994</td>\n",
       "    </tr>\n",
       "    <tr>\n",
       "      <th>2</th>\n",
       "      <td>Ursa Major II</td>\n",
       "      <td>152.5</td>\n",
       "      <td>37.4</td>\n",
       "      <td>30.66</td>\n",
       "      <td>0.31</td>\n",
       "      <td>dSph</td>\n",
       "      <td>2006</td>\n",
       "    </tr>\n",
       "    <tr>\n",
       "      <th>3</th>\n",
       "      <td>Coma Berenices Dwarf</td>\n",
       "      <td>241.9</td>\n",
       "      <td>83.6</td>\n",
       "      <td>44.15</td>\n",
       "      <td>0.31</td>\n",
       "      <td>dSph</td>\n",
       "      <td>2006</td>\n",
       "    </tr>\n",
       "    <tr>\n",
       "      <th>4</th>\n",
       "      <td>Gran nube de Magallanes</td>\n",
       "      <td>280.5</td>\n",
       "      <td>-32.9</td>\n",
       "      <td>50.59</td>\n",
       "      <td>7.67</td>\n",
       "      <td>SBm</td>\n",
       "      <td>0</td>\n",
       "    </tr>\n",
       "  </tbody>\n",
       "</table>\n",
       "</div>"
      ],
      "text/plain": [
       "                    nombre      l     b  distancia  diametro       tipo  desc\n",
       "0               Via Lactea    0.0   0.0       0.00     27.59  SBbc          0\n",
       "1   Sagittarius Dwarf         5.6 -14.1      23.91      6.13       dSph  1994\n",
       "2          Ursa Major II    152.5  37.4      30.66      0.31       dSph  2006\n",
       "3   Coma Berenices Dwarf    241.9  83.6      44.15      0.31       dSph  2006\n",
       "4  Gran nube de Magallanes  280.5 -32.9      50.59      7.67        SBm     0"
      ]
     },
     "execution_count": 42,
     "metadata": {},
     "output_type": "execute_result"
    }
   ],
   "source": [
    "cat_url='https://raw.githubusercontent.com/rpmunoz/PentaUC/master/Astronomia%20era%20informacion/data/catalogo_grupo_local.csv'\n",
    "grupolocal=pd.read_csv(cat_url,header=0,sep=',')\n",
    "\n",
    "cat_url_fake='https://raw.githubusercontent.com/rpmunoz/PentaUC/master/Astronomia%20era%20informacion/data/catalogo_grupo_local_fake.csv'\n",
    "grupolocal_fake=pd.read_csv(cat_url_fake,header=0,sep=',')\n",
    "grupolocal_fake.head()"
   ]
  },
  {
   "cell_type": "markdown",
   "metadata": {},
   "source": []
  },
  {
   "cell_type": "markdown",
   "metadata": {
    "collapsed": true
   },
   "source": [
    "Debajo hay espacio para que ud. desarrolle sus propios códigos y muestre los gráficos con los que encontró a las galaxias entrometidas. En cada gráfico tendrá que incluir un comentario (recuerde: con \"#\") donde nos diga cómo encontró al intruso"
   ]
  },
  {
   "cell_type": "code",
   "execution_count": 39,
   "metadata": {
    "collapsed": false
   },
   "outputs": [
    {
     "data": {
      "text/plain": [
       "<matplotlib.axes._subplots.AxesSubplot at 0x7f57855ecfd0>"
      ]
     },
     "execution_count": 39,
     "metadata": {},
     "output_type": "execute_result"
    },
    {
     "data": {
      "image/png": "[encoded data removed]",
      "text/plain": [
       "<matplotlib.figure.Figure at 0x7f5785653fd0>"
      ]
     },
     "metadata": {},
     "output_type": "display_data"
    }
   ],
   "source": [
    "grupolocal_fake['distancia'].hist(bins=100)\n",
    "#distancia MUY grande"
   ]
  },
  {
   "cell_type": "code",
   "execution_count": 40,
   "metadata": {
    "collapsed": false
   },
   "outputs": [
    {
     "data": {
      "text/plain": [
       "<matplotlib.axes._subplots.AxesSubplot at 0x7f578563aed0>"
      ]
     },
     "execution_count": 40,
     "metadata": {},
     "output_type": "execute_result"
    },
    {
     "data": {
      "image/png": "[encoded data removed]",
      "text/plain": [
       "<matplotlib.figure.Figure at 0x7f57853265d0>"
      ]
     },
     "metadata": {},
     "output_type": "display_data"
    }
   ],
   "source": [
    "grupolocal_fake['desc'].hist(bins=100)\n",
    "#año de descubrimiento mayor al año actual"
   ]
  },
  {
   "cell_type": "code",
   "execution_count": 43,
   "metadata": {
    "collapsed": false
   },
   "outputs": [
    {
     "data": {
      "text/plain": [
       "<matplotlib.axes._subplots.AxesSubplot at 0x7f57850d5110>"
      ]
     },
     "execution_count": 43,
     "metadata": {},
     "output_type": "execute_result"
    },
    {
     "data": {
      "image/png": "[encoded data removed]",
      "text/plain": [
       "<matplotlib.figure.Figure at 0x7f578502c910>"
      ]
     },
     "metadata": {},
     "output_type": "display_data"
    }
   ],
   "source": [
    "grupolocal_fake['diametro'].hist(bins=100)\n",
    "#galaxia enorme"
   ]
  },
  {
   "cell_type": "code",
   "execution_count": 48,
   "metadata": {
    "collapsed": false
   },
   "outputs": [
    {
     "name": "stdout",
     "output_type": "stream",
     "text": [
      "27.59\n",
      "6.13\n",
      "0.31\n",
      "0.31\n",
      "7.67\n",
      "6.0\n",
      "4.6\n",
      "0.61\n",
      "0.61\n",
      "0.92\n",
      "0.61\n",
      "0.92\n",
      "0.92\n",
      "0.61\n",
      "1.53\n",
      "1.23\n",
      "27.59\n",
      "0.61\n",
      "0.61\n",
      "0.92\n",
      "1.84\n",
      "0.92\n",
      "0.61\n",
      "0.61\n",
      "2.45\n",
      "0.89\n",
      "2.45\n",
      "0.92\n",
      "1.23\n",
      "3.07\n",
      "1.53\n",
      "3.07\n",
      "0.92\n",
      "0.61\n",
      "0.92\n",
      "1.23\n",
      "0.61\n",
      "0.61\n",
      "0.61\n",
      "420.0\n",
      "42.92\n",
      "0.61\n",
      "0.62\n",
      "0.61\n",
      "0.61\n",
      "0.92\n",
      "2.45\n",
      "4.6\n",
      "2.45\n",
      "16.86\n",
      "0.61\n",
      "1.84\n",
      "3.07\n",
      "-3.0\n",
      "0.92\n",
      "0.92\n",
      "0.92\n",
      "7.67\n",
      "3.07\n",
      "42.92\n",
      "2.45\n"
     ]
    }
   ],
   "source": [
    "for d in grupolocal_fake['diametro']:\n",
    "    print d\n",
    "# diámetro negativo"
   ]
  },
  {
   "cell_type": "code",
   "execution_count": null,
   "metadata": {
    "collapsed": true
   },
   "outputs": [],
   "source": [
    "# Aquí va su codigo"
   ]
  },
  {
   "cell_type": "markdown",
   "metadata": {},
   "source": [
    "Responda las siguientes preguntas\n",
    "\n",
    "**A)** Una vez que sepa las condiciones que hace que una galaxia sea un intruso, modifique el código de abajo para obtener su \n",
    "nombre."
   ]
  },
  {
   "cell_type": "code",
   "execution_count": 50,
   "metadata": {
    "collapsed": false
   },
   "outputs": [
    {
     "name": "stdout",
     "output_type": "stream",
     "text": [
      "Mediana nube de Magallanes\n",
      "New Via Lactea\n",
      "The biggest  Andromeda ever\n",
      "Andromeda XIV\n",
      "Taurus Dwarf\n"
     ]
    }
   ],
   "source": [
    "# Complete el código\n",
    "for i in range(len(grupolocal_fake)):\n",
    "    if (grupolocal_fake.iloc[i]['diametro'] < 0) | (grupolocal_fake.iloc[i]['diametro'] > 400) | (grupolocal_fake.iloc[i]['desc'] > 2010) | (grupolocal_fake.iloc[i]['distancia'] < 0) | (grupolocal_fake.iloc[i]['distancia']  > 2000) :\n",
    "        print grupolocal_fake.iloc[i]['nombre']"
   ]
  },
  {
   "cell_type": "markdown",
   "metadata": {},
   "source": [
    "**B)** ¿Cuáles son los nombres de las galaxias ficticias?\n",
    "\n",
    "**Respuesta** OJO, estas no son todas ;-)\n",
    "   - Mediana nube de Magallanes\n",
    "   - New Via Lactea\n",
    "   - The biggest  Andromeda ever\n",
    "   - Andromeda XIV\n",
    "   - Taurus Dwarf"
   ]
  },
  {
   "cell_type": "markdown",
   "metadata": {},
   "source": [
    "# Una vez terminada la sesion del taller, debera ejecutar las siguientes dos celdas para subir su trabajo al servidor donde quedara almacenada"
   ]
  },
  {
   "cell_type": "code",
   "execution_count": null,
   "metadata": {
    "collapsed": true
   },
   "outputs": [],
   "source": [
    "%%javascript\n",
    "var kernel = IPython.notebook.kernel;\n",
    "var thename = window.document.getElementById(\"notebook_name\").innerHTML;\n",
    "var command = \"notebook_file = \" + \"'\"+thename+\"'\";\n",
    "kernel.execute(command);"
   ]
  },
  {
   "cell_type": "code",
   "execution_count": null,
   "metadata": {
    "collapsed": false
   },
   "outputs": [],
   "source": [
    "from IPython.display import display,Javascript,HTML\n",
    "import dropbox\n",
    "import socket\n",
    "import string\n",
    "\n",
    "# Get the hostname\n",
    "hostname=string.split(socket.gethostname(),'.')[0]\n",
    "\n",
    "# Save the notebook\n",
    "display(Javascript('IPython.notebook.save_checkpoint();'))\n",
    "\n",
    "try:\n",
    "    integrante_exist= (integrante1 != '' and integrante2!= '')\n",
    "except NameError:\n",
    "    display(HTML(\"<big><b><br>Los nombres de los integrantes no estan definidos. Revise la primera celda y escriba los nombres.</b></big>\"))\n",
    "else:\n",
    "    if integrante_exist:\n",
    "        output_file='/'+notebook_file+'_'+hostname+'_'+integrante1+'_'+integrante2+'.ipynb'\n",
    "        \n",
    "        display(HTML(\"<big><b><br>Nombres de los integrantes:</b></big>\"))\n",
    "        display(HTML(\"<big>{}<br>{}</big>\".format(integrante1,integrante2)))\n",
    "        display(HTML(\"<big><b><br>Nombre del archivo:</b></big>\"))\n",
    "        display(HTML(\"<big>{}</big>\".format(output_file)))\n",
    "\n",
    "        client=dropbox.client.DropboxClient('q96bL4l9oyAAAAAAAAAACEK7gCFwoO-PtZu5jJ6gynNwriiBjzTLsN0eV51YQhNe')\n",
    "\n",
    "        f = open(notebook_file+'.ipynb', 'rb')\n",
    "        response = client.put_file(output_file,f)\n",
    "        f.close()\n",
    "        display(HTML(\"<big><b><br>Registro del servidor de Dropbox:</b></big>\"))\n",
    "        print response\n",
    "    else:\n",
    "        display(HTML(\"<big><b><br>Los nombres de los integrantes no estan definidos. Revise la primera celda y escriba los nombres.</b></big>\"))"
   ]
  }
 ],
 "metadata": {
  "kernelspec": {
   "display_name": "Python 2",
   "language": "python",
   "name": "python2"
  },
  "language_info": {
   "codemirror_mode": {
    "name": "ipython",
    "version": 2
   },
   "file_extension": ".py",
   "mimetype": "text/x-python",
   "name": "python",
   "nbconvert_exporter": "python",
   "pygments_lexer": "ipython2",
   "version": "2.7.6"
  }
 },
 "nbformat": 4,
 "nbformat_minor": 0
}
