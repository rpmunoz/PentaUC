{
 "cells": [
  {
   "cell_type": "markdown",
   "metadata": {},
   "source": [
    "# Taller 7\n",
    "\n",
    "Bienvenidos al taller 7 del curso Astronomía en la Era de la Información, el segundo taller evaluado. Por favor, ingrese los nombres de los integrantes abajo"
   ]
  },
  {
   "cell_type": "code",
   "execution_count": 1,
   "metadata": {
    "collapsed": true
   },
   "outputs": [],
   "source": [
    "integrante1 = ''\n",
    "integrante2 = ''"
   ]
  },
  {
   "cell_type": "markdown",
   "metadata": {},
   "source": [
    "El taller cuenta con 3 ejercicios breves. Léalos primero y desarróllelos en el orden que le parezca conveniente. Celdas en las que haya que completar código dicen \"# Complete el código\"; celdas donde tenga que escribir todo desde cero dicen \"# Aquí va su código\"; celdas que no dicen nada no tienen que ser modificadas.\n",
    "\n",
    "Partamos cargando los paquetes de Python que usaremos. **Ejecute el siguiente bloque.**"
   ]
  },
  {
   "cell_type": "code",
   "execution_count": null,
   "metadata": {
    "collapsed": true
   },
   "outputs": [],
   "source": [
    "import numpy as np\n",
    "import matplotlib.pyplot as plt\n",
    "import pandas as pd\n",
    "%matplotlib inline"
   ]
  },
  {
   "cell_type": "markdown",
   "metadata": {
    "collapsed": false,
    "scrolled": true
   },
   "source": [
    "----\n",
    "## Ejercicio 1\n",
    "----\n",
    "\n",
    "En este ejercicio usaremos el catalogo de galaxias del grupo local que utilizamos el taller anterior. Tiene pequeñas diferencias, como más detalles en el tipo de galaxias. Partiremos leyendo el catalogo del grupo local usando pandas y luego haremos una serie de graficos. Ejecute el siguiente bloque de codigo para cargar el catalogo."
   ]
  },
  {
   "cell_type": "code",
   "execution_count": null,
   "metadata": {
    "collapsed": false,
    "scrolled": true
   },
   "outputs": [],
   "source": [
    "cat_url='https://raw.githubusercontent.com/rpmunoz/PentaUC/master/Astronomia%20era%20informacion/data/catalogo_grupo_local.csv'\n",
    "grupolocal=pd.read_csv(cat_url,header=0,sep=',')\n",
    "grupolocal.head()"
   ]
  },
  {
   "cell_type": "markdown",
   "metadata": {},
   "source": [
    "**Parte 1**\n",
    "\n",
    "En el siguiente bloque debera hacer un histograma del año de descubrimiento de la galaxia. Use la columna 'desc' del catalogo grupolocal. **Usted deberá definir el numero de bines que le parezca óptimo, escribir su código en el siguiente bloque y responder la pregunta A.**"
   ]
  },
  {
   "cell_type": "code",
   "execution_count": null,
   "metadata": {
    "collapsed": false
   },
   "outputs": [],
   "source": [
    "# Aquí va su codigo"
   ]
  },
  {
   "cell_type": "markdown",
   "metadata": {
    "collapsed": true
   },
   "source": [
    "**A)** Explique por qué la distribución tiene esta forma\n",
    "\n",
    "**Respuesta:** "
   ]
  },
  {
   "cell_type": "markdown",
   "metadata": {},
   "source": [
    "**Parte 2**\n",
    "\n",
    "En el siguiente bloque debera hacer un histograma de la distancia a la cual se encuentran las galaxias. Use la columna 'distancia' del catalogo grupolocal. **Usted deberá definir el numero de bines óptimo, escribir su código en el siguiente bloque y responder la pregunta B.**"
   ]
  },
  {
   "cell_type": "code",
   "execution_count": null,
   "metadata": {
    "collapsed": false
   },
   "outputs": [],
   "source": [
    "# Aquí va su codigo"
   ]
  },
  {
   "cell_type": "markdown",
   "metadata": {},
   "source": [
    "**B)** Explique por qué la distribución tiene esa forma, en particular a qué se deben los *peaks* (valores altos) de esta. Recuerde la materia vista la clase pasada sobre el grupo local\n",
    "\n",
    "**Respuesta:** "
   ]
  },
  {
   "cell_type": "markdown",
   "metadata": {
    "collapsed": true
   },
   "source": [
    "**Parte 3**\n",
    "\n",
    "En el siguiente bloque debera hacer un grafico con las posiciones en el cielo de las galaxias enanas esferoidales (el \"nombre clave\" de este tipo de galaxias es *dSph*) descubiertas antes del año 2000. Use las columnas 'l' y 'b' para graficar la posicion (coordenadas correspondientes a la longitud y latitud galactica), y las columnas 'tipo' y 'desc' para filtrar los elementos relevantes del catalogo. **Complete el siguiente código en los espacios donde aparecen los tres puntos (...) y responda la pregunta C.**"
   ]
  },
  {
   "cell_type": "code",
   "execution_count": null,
   "metadata": {
    "collapsed": false
   },
   "outputs": [],
   "source": [
    "# Complete el código\n",
    "\n",
    "for i in range(len(grupolocal)):\n",
    "    if grupolocal.iloc[i][...] == ... and ... :\n",
    "        ...\n",
    "        \n",
    "plt.xlabel('Longitud galactica (grados)')\n",
    "plt.ylabel('Latitud galactica (grados)')"
   ]
  },
  {
   "cell_type": "markdown",
   "metadata": {},
   "source": [
    "**C)** ¿Las galaxias están distribuidas uniformemente o existen acumulaciones en alguna región del gráfico? ¿Por qué? Relacione esto con el histograma de distancias de más arriba y la materia vista en clase. ¿Hay diferencia alguna si cambia el límite del año de descubrimiento?\n",
    "\n",
    "**Respuesta:** "
   ]
  },
  {
   "cell_type": "markdown",
   "metadata": {},
   "source": [
    "----\n",
    "\n",
    "## Ejercicio 2\n",
    "---\n"
   ]
  },
  {
   "cell_type": "markdown",
   "metadata": {},
   "source": [
    "En este ejercicio usaremos un catálogo de galaxias y estrellas en la direccion del Cúmulo de galaxias de Coma. Deberemos leer el catalogo, luego identificar los objetos que son galaxias, para hacer un histograma de las velocidades radiales. y finalmente calcularemos algunas cantidades.\n",
    "\n",
    "Partamos leyendo el catálogo del cúmulo de Coma usando *pandas*. Ejecute el siguiente bloque de código para cargar el catálogo."
   ]
  },
  {
   "cell_type": "code",
   "execution_count": null,
   "metadata": {
    "collapsed": false
   },
   "outputs": [],
   "source": [
    "cat_url='https://raw.githubusercontent.com/rpmunoz/PentaUC/master/Astronomia%20era%20informacion/data/catalogo_SDSS_cumulo_de_coma.csv'\n",
    "cat_coma=pd.read_csv(cat_url,header=0,sep=',')\n",
    "cat_coma.head()"
   ]
  },
  {
   "cell_type": "markdown",
   "metadata": {},
   "source": [
    "**Parte 1**\n",
    "\n",
    "En el siguiente bloque debera graficar la posición en el cielo de todos los objetos del catálogo. Usaremos las columnas 'ra' y 'dec' del catálogo cat_coma para graficar las posiciones. **Su respuesta será completar donde aparecen los tres puntos ...**"
   ]
  },
  {
   "cell_type": "code",
   "execution_count": null,
   "metadata": {
    "collapsed": true
   },
   "outputs": [],
   "source": [
    "# Complete el código\n",
    "\n",
    "fig = plt.figure(figsize=(8,8))\n",
    "plt.scatter(..., marker='.', s=20, color='b' )\n",
    "plt.xlabel('Ascencion recta (grados)')\n",
    "plt.ylabel('Declinacion (grados)')"
   ]
  },
  {
   "cell_type": "markdown",
   "metadata": {},
   "source": [
    "**Parte 2**\n",
    "\n",
    "El gráfico anterior corresponde a todos los objetos en la direccion del Cúmulo de Coma e incluye tanto a estrellas de nuestra galaxia como galaxias más lejanas que el cúmulo. Usaremos la columna 'tipo' del catalogo y buscaremos objetos cuyo valor sea igual a 'galaxia' para identificar a éstas. Luego haremos el mismo gráfico que hicimos en el bloque anterior. **Su respuesta será completar donde aparecen los tres puntos ...**"
   ]
  },
  {
   "cell_type": "code",
   "execution_count": null,
   "metadata": {
    "collapsed": true
   },
   "outputs": [],
   "source": [
    "# Complete el código\n",
    "\n",
    "cat_galaxias=cat_coma[cat_coma['tipo']==\"galaxia\"]\n",
    "fig = plt.figure(figsize=(8,8))\n",
    "plt.scatter(..., marker='.', s=20, color='b' )\n",
    "plt.xlabel('Ascencion recta (grados)')\n",
    "plt.ylabel('Declinacion (grados)')"
   ]
  },
  {
   "cell_type": "markdown",
   "metadata": {},
   "source": [
    "**Parte 3**\n",
    "\n",
    "Una vez ya identificadas las galaxias, ahora procederemos a estudiar la distribucion de velocidades de las galaxias en el cumulo de galaxias de Coma. Lo primero es hacer un histograma de la columna 'velocidad' de las galaxias en el catalogo. Ejecute el primer bloque y responda la pregunta **A)** que aparece en el segundo bloque"
   ]
  },
  {
   "cell_type": "code",
   "execution_count": null,
   "metadata": {
    "collapsed": false
   },
   "outputs": [],
   "source": [
    "fig = plt.figure(figsize=(8,6))\n",
    "plt.hist(cat_galaxias['velocidad'], bins=40)"
   ]
  },
  {
   "cell_type": "markdown",
   "metadata": {},
   "source": [
    "**A)** ¿Pudieron hacer el grafico con el histograma de las velocidades o hubo algun error segun Python?\n",
    "\n",
    "En caso que haya fallado la creacion del histograma de velocidades ¿Cual cree que fue la razon?. Ejecute el siguiente comando para ver los primeros 50 valores de 'velocidad'"
   ]
  },
  {
   "cell_type": "code",
   "execution_count": null,
   "metadata": {
    "collapsed": false
   },
   "outputs": [],
   "source": [
    "print np.array(cat_coma['velocidad'][galaxias])[0:50]"
   ]
  },
  {
   "cell_type": "markdown",
   "metadata": {},
   "source": [
    "**Respuesta:** "
   ]
  },
  {
   "cell_type": "markdown",
   "metadata": {},
   "source": [
    "**Parte 4**\n",
    "\n",
    "Una manera de verificar que solo tenemos numeros en la comuna 'velocidad' de la tabla es usar la funcion *isfinite* de *numpy* para verificar que los valores son numeros finitos. El siguiente codigo revisa una por una la velocidad de las galaxias en el catalogo e indica *True* si la velocidad es finita y *False* si no esta definida."
   ]
  },
  {
   "cell_type": "code",
   "execution_count": null,
   "metadata": {
    "collapsed": false
   },
   "outputs": [],
   "source": [
    "np.isfinite(cat_coma['velocidad'][galaxias])"
   ]
  },
  {
   "cell_type": "markdown",
   "metadata": {},
   "source": [
    "Una manera de resolver este problema es usar solamente las galaxias que tengan velocidades finitas y con valores mayores a 0 km/s. Ademas, usaremos solamente galaxias con velocidad inferior a 20.0000 km/s pues no queremos analizar galaxias que se alejan a gran velocidad. Ejecute el siguiente codigo para definir la variable galaxias_velocidad para identificar los objetos que son galaxias y que tienen velocidades mayores a 0. Imprimiremos las velocidades de las galaxias que cumplen la condicion *galaxias_velocidad* y deberiamos obtener *True* para todas"
   ]
  },
  {
   "cell_type": "code",
   "execution_count": null,
   "metadata": {
    "collapsed": false
   },
   "outputs": [],
   "source": [
    "galaxias_velocidad=cat_coma[((cat_coma['tipo']=='galaxia') & (cat_coma['velocidad']>0.) & (cat_coma['velocidad']<20000.))]\n",
    "np.isfinite(galaxias_velocidad['velocidad'])"
   ]
  },
  {
   "cell_type": "markdown",
   "metadata": {},
   "source": [
    "**A)** En el siguiente bloque debera hacer un histograma de las velocidades de galaxias que cumplen el criterio *galaxias_velocidad*. **Su respuesta será completar donde aparecen los tres puntos ...**"
   ]
  },
  {
   "cell_type": "code",
   "execution_count": null,
   "metadata": {
    "collapsed": false
   },
   "outputs": [],
   "source": [
    "# Complete el código\n",
    "\n",
    "plt.hist(..., bins=40)"
   ]
  },
  {
   "cell_type": "markdown",
   "metadata": {},
   "source": [
    "**Parte 5**"
   ]
  },
  {
   "cell_type": "markdown",
   "metadata": {},
   "source": [
    "En base al histograma de las velocidades de galaxias que cumplen el criterio *galaxias_velocidad* (pregunta 4), responda\n",
    "\n",
    "**A)** ¿En torno a qué valor de velocidad se concentran las galaxias? ¿En qué rango de valores de velocidad usted diria que se encuentran las galaxias del cumulo de Coma? Escriba su respuesta a continuación,\n",
    "\n",
    "**Respuesta:** "
   ]
  },
  {
   "cell_type": "markdown",
   "metadata": {},
   "source": [
    "**B)** Calcule la velocidad promedio de las galaxias que cumplen la condicion galaxias_velocidad. Puede usar la funcion mean de *numpy* o los ciclos FOR que vieron en el taller con Simon. "
   ]
  },
  {
   "cell_type": "code",
   "execution_count": null,
   "metadata": {
    "collapsed": true
   },
   "outputs": [],
   "source": [
    "# Aquí va su codigo"
   ]
  },
  {
   "cell_type": "markdown",
   "metadata": {},
   "source": [
    "¿Cual es el valor del promedio? ¿Como se compara con el valor que pusieron en la parte A?  Escriba su respuesta a continuacion,\n",
    "\n",
    "**Respuesta:** "
   ]
  },
  {
   "cell_type": "markdown",
   "metadata": {},
   "source": [
    "**C)** Calcule la desviación estándar de la velocidad de las galaxias que cumplen la condicion *galaxias_velocidad*. Puede usar la funcion std de *numpy* o los ciclos FOR que vieron en el taller con Simon."
   ]
  },
  {
   "cell_type": "code",
   "execution_count": null,
   "metadata": {
    "collapsed": true
   },
   "outputs": [],
   "source": [
    "# Aquí va su codigo"
   ]
  },
  {
   "cell_type": "markdown",
   "metadata": {},
   "source": [
    "¿Cual es el valor de la desviación estándar de la velocidad? ¿Como se compara con el rango de valores que escribieron en la parte A? Escriba su respuesta a continuacion,\n",
    "\n",
    "**Respuesta:** "
   ]
  },
  {
   "cell_type": "markdown",
   "metadata": {},
   "source": [
    "---\n",
    "## Ejercicio 3\n",
    "---"
   ]
  },
  {
   "cell_type": "markdown",
   "metadata": {},
   "source": [
    "En este ejercicio usted deberá identificar al menos 4 galaxias falsas que nosotros introdujimos a mano en el catálogo del grupo local. Para esto, haga histogramas, gráficos 2D, y gráficos con escala de color de las cantidades relevantes, y compárelos con los análogos a estos del catálogo original. Cargaremos ambos catálogos en la siguiente celda."
   ]
  },
  {
   "cell_type": "code",
   "execution_count": null,
   "metadata": {
    "collapsed": true
   },
   "outputs": [],
   "source": [
    "cat_url='https://raw.githubusercontent.com/rpmunoz/PentaUC/master/Astronomia%20era%20informacion/data/catalogo_grupo_local.csv'\n",
    "grupolocal=pd.read_csv(cat_url,header=0,sep=',')\n",
    "cat_url_fake='https://raw.githubusercontent.com/rpmunoz/PentaUC/master/Astronomia%20era%20informacion/data/catalogo_grupo_local_fake.csv'\n",
    "grupolocal_fake=pd.read_csv(cat_url_fake,header=0,sep=',')"
   ]
  },
  {
   "cell_type": "markdown",
   "metadata": {
    "collapsed": true
   },
   "source": [
    "Debajo hay espacio para que ud. desarrolle sus propios códigos y muestre los gráficos con los que encontró a las galaxias entrometidas. En cada gráfico tendrá que incluir un comentario (recuerde: con \"#\") donde nos diga cómo encontró al intruso"
   ]
  },
  {
   "cell_type": "code",
   "execution_count": null,
   "metadata": {
    "collapsed": true
   },
   "outputs": [],
   "source": [
    "# Aquí va su codigo"
   ]
  },
  {
   "cell_type": "code",
   "execution_count": null,
   "metadata": {
    "collapsed": true
   },
   "outputs": [],
   "source": [
    "# Aquí va su codigo"
   ]
  },
  {
   "cell_type": "code",
   "execution_count": null,
   "metadata": {
    "collapsed": true
   },
   "outputs": [],
   "source": [
    "# Aquí va su codigo"
   ]
  },
  {
   "cell_type": "code",
   "execution_count": null,
   "metadata": {
    "collapsed": true
   },
   "outputs": [],
   "source": [
    "# Aquí va su codigo"
   ]
  },
  {
   "cell_type": "code",
   "execution_count": null,
   "metadata": {
    "collapsed": true
   },
   "outputs": [],
   "source": [
    "# Aquí va su codigo"
   ]
  },
  {
   "cell_type": "markdown",
   "metadata": {},
   "source": [
    "Una vez que sepa las condiciones que hace que una galaxia sea un intruso, modifique el código de abajo para obtener su \n",
    "nombre."
   ]
  },
  {
   "cell_type": "code",
   "execution_count": null,
   "metadata": {
    "collapsed": true
   },
   "outputs": [],
   "source": [
    "# Complete el código\n",
    "for i in range(len(grupolocal_fake)):\n",
    "    if grupolocal_fake.iloc[i][...] ... :\n",
    "        print grupolocal_fake.iloc[i]['nombre']"
   ]
  },
  {
   "cell_type": "markdown",
   "metadata": {},
   "source": [
    "¿Cuáles son los nombres de las galaxias ficticias?\n",
    "\n",
    "**Respuesta**"
   ]
  },
  {
   "cell_type": "markdown",
   "metadata": {},
   "source": [
    "# Una vez terminada la sesion del taller, debera ejecutar las siguientes dos celdas para subir su trabajo al servidor donde quedara almacenada"
   ]
  },
  {
   "cell_type": "code",
   "execution_count": null,
   "metadata": {
    "collapsed": true
   },
   "outputs": [],
   "source": [
    "%%javascript\n",
    "var kernel = IPython.notebook.kernel;\n",
    "var thename = window.document.getElementById(\"notebook_name\").innerHTML;\n",
    "var command = \"notebook_file = \" + \"'\"+thename+\"'\";\n",
    "kernel.execute(command);"
   ]
  },
  {
   "cell_type": "code",
   "execution_count": null,
   "metadata": {
    "collapsed": false
   },
   "outputs": [],
   "source": [
    "from IPython.display import display,Javascript,HTML\n",
    "import dropbox\n",
    "import socket\n",
    "import string\n",
    "\n",
    "# Get the hostname\n",
    "hostname=string.split(socket.gethostname(),'.')[0]\n",
    "\n",
    "# Save the notebook\n",
    "display(Javascript('IPython.notebook.save_checkpoint();'))\n",
    "\n",
    "try:\n",
    "    integrante_exist= (integrante1 != '' and integrante2!= '')\n",
    "except NameError:\n",
    "    display(HTML(\"<big><b><br>Los nombres de los integrantes no estan definidos. Revise la primera celda y escriba los nombres.</b></big>\"))\n",
    "else:\n",
    "    if integrante_exist:\n",
    "        output_file='/'+notebook_file+'_'+hostname+'_'+integrante1+'_'+integrante2+'.ipynb'\n",
    "        \n",
    "        display(HTML(\"<big><b><br>Nombres de los integrantes:</b></big>\"))\n",
    "        display(HTML(\"<big>{}<br>{}</big>\".format(integrante1,integrante2)))\n",
    "        display(HTML(\"<big><b><br>Nombre del archivo:</b></big>\"))\n",
    "        display(HTML(\"<big>{}</big>\".format(output_file)))\n",
    "\n",
    "        client=dropbox.client.DropboxClient('q96bL4l9oyAAAAAAAAAACEK7gCFwoO-PtZu5jJ6gynNwriiBjzTLsN0eV51YQhNe')\n",
    "\n",
    "        f = open(notebook_file+'.ipynb', 'rb')\n",
    "        response = client.put_file(output_file,f)\n",
    "        f.close()\n",
    "        display(HTML(\"<big><b><br>Registro del servidor de Dropbox:</b></big>\"))\n",
    "        print response\n",
    "    else:\n",
    "        display(HTML(\"<big><b><br>Los nombres de los integrantes no estan definidos. Revise la primera celda y escriba los nombres.</b></big>\"))"
   ]
  }
 ],
 "metadata": {
  "kernelspec": {
   "display_name": "Python 2",
   "language": "python",
   "name": "python2"
  },
  "language_info": {
   "codemirror_mode": {
    "name": "ipython",
    "version": 2.0
   },
   "file_extension": ".py",
   "mimetype": "text/x-python",
   "name": "python",
   "nbconvert_exporter": "python",
   "pygments_lexer": "ipython2",
   "version": "2.7.6"
  }
 },
 "nbformat": 4,
 "nbformat_minor": 0
}