{
 "cells": [
  {
   "cell_type": "code",
   "execution_count": 1,
   "metadata": {
    "collapsed": false
   },
   "outputs": [
    {
     "name": "stderr",
     "output_type": "stream",
     "text": [
      "C:\\Anaconda2\\lib\\site-packages\\astroquery\\sdss\\__init__.py:28: UserWarning: Experimental: SDSS has not yet been refactored to have its API match the rest of astroquery (but it's nearly there).\n",
      "  warnings.warn(\"Experimental: SDSS has not yet been refactored to have its API \"\n"
     ]
    }
   ],
   "source": [
    "import numpy as np\n",
    "import pandas as pd\n",
    "import matplotlib.pyplot as plt\n",
    "\n",
    "from sdss_tools import sdss_jpg, sdss_fits, sdss_spectra, sdss_template\n",
    "\n",
    "from astropy import units as u\n",
    "from astropy.coordinates import SkyCoord, Angle\n",
    "from astroquery.sdss import SDSS\n",
    "\n",
    "%matplotlib inline"
   ]
  },
  {
   "cell_type": "markdown",
   "metadata": {},
   "source": [
    "##Introduccion\n",
    "\n",
    "En este tallere aprenderemos a descargar catalogos, imagenes y espectros del Sloan Digital Sky Survey (SDSS). El SDSS es un survey astronómico que cubre gran parte del cielo y que ha producido una gran cantidad de datos de las estrellas y galaxias que habitan en el Universo.\n",
    "\n",
    "Más info en el link http://www.sdss.org/surveys/\n",
    "Video del SDSS en https://www.youtube.com/watch?v=UD6cOMpJlZU\n",
    "\n",
    "El SDSS survey ha permitido que cualquier persona interesada en la Astronomia pueda visitar el sitio web y explorar las imagenes y catalogos del survey. Un ejemplo muy exitoso del uso de los datos del SDSS es el sitio web llamado Galaxy Zoo (https://www.galaxyzoo.org/?lang=es), el cual invitó a la gente de todo el mundo a revisar las galaxias detectadas por el SDSS y clasificarlas morfologicamente"
   ]
  },
  {
   "cell_type": "markdown",
   "metadata": {},
   "source": [
    "##Parte 1\n",
    "\n",
    "Partiremos descargando un catalogo de galaxias elipticas de Galaxy Zoo y analizando los datos. Ejecute el siguiente codigo para descargar los datos"
   ]
  },
  {
   "cell_type": "code",
   "execution_count": 2,
   "metadata": {
    "collapsed": false
   },
   "outputs": [
    {
     "data": {
      "text/html": [
       "<div>\n",
       "<table border=\"1\" class=\"dataframe\">\n",
       "  <thead>\n",
       "    <tr style=\"text-align: right;\">\n",
       "      <th></th>\n",
       "      <th>ID</th>\n",
       "      <th>ra</th>\n",
       "      <th>dec</th>\n",
       "      <th>votos</th>\n",
       "    </tr>\n",
       "  </thead>\n",
       "  <tbody>\n",
       "    <tr>\n",
       "      <th>0</th>\n",
       "      <td>587736584965390473</td>\n",
       "      <td>217.002375</td>\n",
       "      <td>37.400917</td>\n",
       "      <td>36</td>\n",
       "    </tr>\n",
       "    <tr>\n",
       "      <th>1</th>\n",
       "      <td>588015508213727352</td>\n",
       "      <td>41.307375</td>\n",
       "      <td>-0.746111</td>\n",
       "      <td>32</td>\n",
       "    </tr>\n",
       "    <tr>\n",
       "      <th>2</th>\n",
       "      <td>587734949668257807</td>\n",
       "      <td>158.403875</td>\n",
       "      <td>11.702222</td>\n",
       "      <td>30</td>\n",
       "    </tr>\n",
       "    <tr>\n",
       "      <th>3</th>\n",
       "      <td>587738948284514416</td>\n",
       "      <td>156.077625</td>\n",
       "      <td>37.087222</td>\n",
       "      <td>17</td>\n",
       "    </tr>\n",
       "    <tr>\n",
       "      <th>4</th>\n",
       "      <td>587729653425897913</td>\n",
       "      <td>254.959417</td>\n",
       "      <td>33.830361</td>\n",
       "      <td>24</td>\n",
       "    </tr>\n",
       "  </tbody>\n",
       "</table>\n",
       "</div>"
      ],
      "text/plain": [
       "                   ID          ra        dec  votos\n",
       "0  587736584965390473  217.002375  37.400917     36\n",
       "1  588015508213727352   41.307375  -0.746111     32\n",
       "2  587734949668257807  158.403875  11.702222     30\n",
       "3  587738948284514416  156.077625  37.087222     17\n",
       "4  587729653425897913  254.959417  33.830361     24"
      ]
     },
     "execution_count": 2,
     "metadata": {},
     "output_type": "execute_result"
    }
   ],
   "source": [
    "# Ejecute\n",
    "cat_url='https://raw.githubusercontent.com/rpmunoz/PentaUC/master/Astronomia%20era%20informacion/data/SDSS_galaxyzoo_elipticas.csv'\n",
    "cat_galaxyzoo=pd.read_csv(cat_url,header=0,sep=',')\n",
    "cat_galaxyzoo.head()"
   ]
  },
  {
   "cell_type": "markdown",
   "metadata": {},
   "source": [
    "**Ejercicio**\n",
    "\n",
    "El catalogo de galaxy zoo contiene el ID y las coordenadas de las galaxias clasificadas como elipticas. Además, contiene el número de personas que votaron y clasificaron estas galaxias como elipticas. Haga un histograma que muestre la distribucion del numero de votos y use al menos 10 bines.\n",
    "\n",
    "¿En torno a que valor se concentra el numero de votaciones?"
   ]
  },
  {
   "cell_type": "code",
   "execution_count": null,
   "metadata": {
    "collapsed": false
   },
   "outputs": [],
   "source": [
    "# Su codigo y respuesta aqui\n"
   ]
  },
  {
   "cell_type": "markdown",
   "metadata": {},
   "source": [
    "Como pueden apreciar, la tabla de galaxy zoo solo contiene coordenadas y votos de las galaxias. ¿Qué sucede con la informacion fotométrica y espectroscópica de estas galaxias? Esta información no se encuentra en el catalogo y es por ello que debemos usar query_region.\n",
    "\n",
    "Para hacer consultas, lo primero es definir en que coordenadas del cielo estamos buscando un objeto. Para ello se usa la funcion SkyCoord."
   ]
  },
  {
   "cell_type": "code",
   "execution_count": 3,
   "metadata": {
    "collapsed": false
   },
   "outputs": [
    {
     "name": "stdout",
     "output_type": "stream",
     "text": [
      "<SkyCoord (ICRS): (ra, dec) in deg\n",
      "    (180.0, 0.0)>\n"
     ]
    }
   ],
   "source": [
    "# Ejecute aqui\n",
    "ra=180.\n",
    "dec=0.\n",
    "coo=SkyCoord(ra, dec, unit=(u.deg,u.deg))\n",
    "print coo"
   ]
  },
  {
   "cell_type": "markdown",
   "metadata": {},
   "source": [
    "Para hacer una consulta si existe o no un objeto en esa posicion se usa la funcion query_region de astroquery\n",
    "Ejecute el siguiente codigo"
   ]
  },
  {
   "cell_type": "code",
   "execution_count": 4,
   "metadata": {
    "collapsed": false
   },
   "outputs": [
    {
     "name": "stdout",
     "output_type": "stream",
     "text": [
      "None\n"
     ]
    }
   ],
   "source": [
    "# Ejecute aqui\n",
    "result = SDSS.query_region(coo, spectro=True, photoobj_fields=['ra','dec','u','g','r','i','z'], specobj_fields=['z'], radius=2*u.arcsec)\n",
    "print result"
   ]
  },
  {
   "cell_type": "markdown",
   "metadata": {},
   "source": [
    "**Pregunta**\n",
    "¿Cual fue el resultado? ¿Encontramos alguna galaxia en esa posicion?"
   ]
  },
  {
   "cell_type": "markdown",
   "metadata": {},
   "source": [
    "**Ejercicio**\n",
    "\n",
    "Complete el siguiente codigo para consultar los datos del primer objeto de nuestra tabla de galaxyzoo. ¿Aparece algun valor en la tabla al hacer print result?"
   ]
  },
  {
   "cell_type": "code",
   "execution_count": 5,
   "metadata": {
    "collapsed": false
   },
   "outputs": [
    {
     "name": "stdout",
     "output_type": "stream",
     "text": [
      "      ra          dec         u        g        r       i       z         z1    \n",
      "------------- ------------ -------- -------- -------- ------ -------- ----------\n",
      "217.002389618 37.400913452 17.58736 15.60366 14.69556 14.289 13.96379 0.08000372\n"
     ]
    }
   ],
   "source": [
    "# Complete donde aparecen ...\n",
    "coo=SkyCoord(cat_galaxyzoo['ra'][0], cat_galaxyzoo['dec'][0], unit=(u.deg,u.deg))\n",
    "result = SDSS.query_region(coo, spectro=True, photoobj_fields=['ra','dec','u','g','r','i','z'], specobj_fields=['z'], radius=2*u.arcsec)\n",
    "print result"
   ]
  },
  {
   "cell_type": "markdown",
   "metadata": {},
   "source": [
    "** Ejercicio **\n",
    "\n",
    "Ahora haremos la consulta de todos los objetos que estan en nuestro catalogo cat_galaxyzoo. Complete el siguiente codigo. ¿Aparecen los resultados para todas las galaxias? "
   ]
  },
  {
   "cell_type": "code",
   "execution_count": 6,
   "metadata": {
    "collapsed": false
   },
   "outputs": [
    {
     "name": "stdout",
     "output_type": "stream",
     "text": [
      "<SkyCoord (ICRS): (ra, dec) in deg\n",
      "    [(217.002375, 37.40091667), (41.307375, -0.74611111),\n",
      "     (158.403875, 11.70222222), (156.077625, 37.08722222),\n",
      "     (254.95941667, 33.83036111), (168.35254167, 36.17266667),\n",
      "     (217.250625, 25.36588889), (28.04566667, 13.71805556),\n",
      "     (189.603125, 1.27877778), (41.36254167, -0.75075),\n",
      "     (238.97320833, 31.49277778), (224.55125, 18.56447222),\n",
      "     (189.60320833, 30.43116667), (181.02516667, 20.32377778),\n",
      "     (227.45879167, 36.69955556), (178.12766667, 57.64822222),\n",
      "     (223.39983333, 23.37061111), (225.60245833, 34.21141667),\n",
      "     (41.30529167, -8.34838889), (317.413125, 0.24569444),\n",
      "     (139.4645, 11.15855556), (41.19045833, -9.02619444),\n",
      "     (147.81320833, 34.62730556), (160.311875, 23.79697222),\n",
      "     (171.34304167, 4.26816667), (195.78816667, 54.61655556),\n",
      "     (226.00325, 22.76941667), (139.48433333, 53.81605556),\n",
      "     (176.42566667, -2.03111111), (240.141375, 26.07719444),\n",
      "     (131.02691667, 1.89641667), (136.22316667, 62.70652778),\n",
      "     (199.172875, 48.27319444), (317.534, -0.773),\n",
      "     (199.177125, 34.92991667), (176.41925, 4.71269444),\n",
      "     (121.38054167, 25.80344444), (14.47195833, 0.43041667),\n",
      "     (242.83616667, 22.24616667), (224.567, 22.37116667),\n",
      "     (233.30441667, 33.71225), (152.25670833, 0.05030556),\n",
      "     (127.288375, 39.05116667), (233.30454167, 13.98861111),\n",
      "     (210.09904167, 8.48305556), (195.69170833, 9.69180556),\n",
      "     (205.86608333, 19.30408333), (127.27858333, 56.23219444),\n",
      "     (181.01254167, 52.18447222), (181.01175, 11.47563889),\n",
      "     (189.64741667, 1.314), (182.775, 64.31913889),\n",
      "     (185.97158333, 45.15244444), (199.24095833, 26.84833333),\n",
      "     (229.98220833, 2.04444444), (121.40704167, 24.86841667),\n",
      "     (185.98175, 21.10705556), (178.133, 4.37794444),\n",
      "     (160.30483333, 56.80872222), (221.73245833, 26.48119444),\n",
      "     (251.36291667, 42.07936111), (116.68270833, 35.89872222),\n",
      "     (14.4855, -9.52525), (172.926, 3.60919444),\n",
      "     (195.70295833, 47.91966667), (166.659625, 37.07197222),\n",
      "     (139.439375, 19.90661111), (176.39258333, 15.53241667),\n",
      "     (159.00229167, 43.93311111), (218.88616667, 63.52994444),\n",
      "     (238.313875, 25.37386111), (235.092375, 17.90930556),\n",
      "     (229.09895833, -1.86313889), (217.234125, 46.41583333),\n",
      "     (150.44391667, 61.83194444), (189.56529167, 41.65838889),\n",
      "     (189.56375, 21.14888889), (195.87333333, 16.4245),\n",
      "     (231.723125, 25.82430556), (251.46475, 23.34913889),\n",
      "     (195.85675, 7.88430556), (230.56841667, 8.04844444),\n",
      "     (160.32075, 33.89925), (217.3025, 7.44502778),\n",
      "     (158.01145833, 5.52511111), (227.094375, 1.31430556),\n",
      "     (176.44058333, 47.17469444), (153.40083333, 19.68169444),\n",
      "     (166.63258333, 38.50302778), (203.63495833, 54.64058333),\n",
      "     (214.3675, 27.99580556), (227.77345833, 4.50197222),\n",
      "     (166.63575, 23.32430556), (218.841375, 7.96366667),\n",
      "     (251.47833333, 27.30191667), (199.15358333, 7.01519444),\n",
      "     (163.219125, 43.42838889), (226.71316667, 40.74316667),\n",
      "     (178.05279167, -0.23538889), (239.27904167, 28.62630556)]>\n",
      "Processing galaxy  1\n",
      "Processing galaxy  2\n",
      "Processing galaxy  3\n",
      "Processing galaxy  4\n",
      "Processing galaxy  5\n",
      "Processing galaxy  6\n",
      "Processing galaxy  7\n",
      "Processing galaxy  8\n",
      "Processing galaxy  9\n",
      "Processing galaxy  10\n",
      "Processing galaxy  11\n",
      "Processing galaxy  12\n",
      "Processing galaxy  13\n",
      "Processing galaxy  14\n",
      "Processing galaxy  15\n",
      "Processing galaxy  16\n",
      "Processing galaxy  17\n",
      "Processing galaxy  18\n",
      "Processing galaxy  19\n",
      "Processing galaxy  20\n",
      "Processing galaxy  21\n",
      "Processing galaxy  22\n",
      "Processing galaxy  23\n",
      "Processing galaxy  24\n",
      "Processing galaxy  25\n",
      "Processing galaxy  26\n",
      "Processing galaxy  27\n",
      "Processing galaxy  28\n",
      "Processing galaxy  29\n",
      "Processing galaxy  30\n",
      "Processing galaxy  31\n",
      "Processing galaxy  32\n",
      "Processing galaxy  33\n",
      "Processing galaxy  34\n",
      "Processing galaxy  35\n",
      "Processing galaxy  36\n",
      "Processing galaxy  37\n",
      "Processing galaxy  38\n",
      "Processing galaxy  39\n",
      "Processing galaxy  40\n",
      "Processing galaxy  41\n",
      "Processing galaxy  42\n",
      "Processing galaxy  43\n",
      "Processing galaxy  44\n",
      "Processing galaxy  45\n",
      "Processing galaxy  46\n",
      "Processing galaxy  47\n",
      "Processing galaxy  48\n",
      "Processing galaxy  49\n",
      "Processing galaxy  50\n",
      "Processing galaxy  51\n",
      "Processing galaxy  52\n",
      "Processing galaxy  53\n",
      "Processing galaxy  54\n",
      "Processing galaxy  55\n",
      "Processing galaxy  56\n",
      "Processing galaxy  57\n",
      "Processing galaxy  58\n",
      "Processing galaxy  59\n",
      "Processing galaxy  60\n",
      "Processing galaxy  61\n",
      "Processing galaxy  62\n",
      "Processing galaxy  63\n",
      "Processing galaxy  64\n",
      "Processing galaxy  65\n",
      "Processing galaxy  66\n",
      "Processing galaxy  67\n",
      "Processing galaxy  68\n",
      "Processing galaxy  69\n",
      "Processing galaxy  70\n",
      "Processing galaxy  71\n",
      "Processing galaxy  72\n",
      "Processing galaxy  73\n",
      "Processing galaxy  74\n",
      "Processing galaxy  75\n",
      "Processing galaxy  76\n",
      "Processing galaxy  77\n",
      "Processing galaxy  78\n",
      "Processing galaxy  79\n",
      "Processing galaxy  80\n",
      "Processing galaxy  81\n",
      "Processing galaxy  82\n",
      "Processing galaxy  83\n",
      "Processing galaxy  84\n",
      "Processing galaxy  85\n",
      "Processing galaxy  86\n",
      "Processing galaxy  87\n",
      "Processing galaxy  88\n",
      "Processing galaxy  89\n",
      "Processing galaxy  90\n",
      "Processing galaxy  91\n",
      "Processing galaxy  92\n",
      "Processing galaxy  93\n",
      "Processing galaxy  94\n",
      "Processing galaxy  95\n",
      "Processing galaxy  96\n",
      "Processing galaxy  97\n",
      "Processing galaxy  98\n",
      "Processing galaxy  99\n",
      "Processing galaxy  100\n",
      "      ra            dec          u        g     ...    i        z         z1    \n",
      "------------- --------------- -------- -------- ... -------- -------- ----------\n",
      "217.002389618    37.400913452 17.58736 15.60366 ...   14.289 13.96379 0.08000372\n",
      "41.3073848368 -0.746130995322 17.76154 15.75966 ... 14.40375 14.02473 0.05394223\n",
      "158.403888231   11.7022022564 18.09399 16.24945 ... 15.04739 14.78136 0.03284365\n",
      "156.077624736   37.0872125101 19.08807 17.07669 ... 15.64609  15.2982  0.1070929\n",
      "254.959432393   33.8303559642 20.29933 18.34799 ... 16.69359 16.35683  0.1631178\n",
      "168.352529786   36.1726569074 19.70474 17.82497 ...  16.2493  15.9357  0.1577232\n",
      "217.250638721   25.3658651135 18.97654 17.11012 ... 15.65098 15.27199 0.09219774\n",
      "28.0456293641   13.7180428164 19.60862 17.64393 ... 16.13182 15.76712  0.1073048\n",
      "189.603128074   1.27877369583 19.68569 17.56323 ...  15.8988 15.57225  0.1659202\n",
      "41.3625475376 -0.750787281619 20.60588 18.25218 ... 16.50179 16.09216  0.1814917\n",
      "          ...             ...      ...      ... ...      ...      ...        ...\n",
      "203.634978515   54.6406184525 20.04132 18.33555 ... 17.13781 16.83779  0.1083057\n",
      " 214.36747895   27.9957944063 20.27001 18.10041 ... 16.45972 16.12726    0.15674\n",
      "227.773465149   4.50197808618  18.0484 16.22216 ... 14.80911 14.42328 0.03365683\n",
      " 166.63572495   23.3242943592 18.88983  16.8836 ... 15.39383 15.05438  0.1233712\n",
      " 218.84136526   7.96367282446 18.52584 16.64399 ... 15.22702 14.86568  0.0876502\n",
      "251.478366988    27.301921224 19.91005  17.5925 ... 15.98983 15.59239  0.1016912\n",
      "199.153580181   7.01519817141 17.65555 15.77941 ... 14.52043 14.23816 0.04745416\n",
      "163.219113075   43.4283947417 17.15207 15.84461 ... 14.86355 14.63073 0.02423712\n",
      "226.713153842   40.7431404964 21.34068 19.13304 ... 17.13267 16.76666  0.2513104\n",
      "178.052797065 -0.235388702781 21.11509 19.27505 ... 17.32479 16.96891  0.2261851\n",
      "239.279048699   28.6263013785  19.3788 17.37979 ... 16.02183 15.69692 0.07638177\n",
      "Length = 100 rows\n"
     ]
    }
   ],
   "source": [
    "# Complete donde aparecen ...\n",
    "coo=SkyCoord(cat_galaxyzoo['ra'], cat_galaxyzoo['dec'], unit=(u.deg,u.deg))\n",
    "print coo\n",
    "\n",
    "for i in range(len(coo)):\n",
    "    print 'Processing galaxy ', i+1\n",
    "    result = SDSS.query_region(coo[i], spectro=True, photoobj_fields=['ra','dec','u','g','r','i','z'], specobj_fields=['z'], radius=2*u.arcsec)\n",
    "    if i==0:\n",
    "        sdss_data=result\n",
    "    else:\n",
    "        sdss_data.add_row(np.array(result)[0])\n",
    "\n",
    "print sdss_data"
   ]
  },
  {
   "cell_type": "markdown",
   "metadata": {},
   "source": [
    "Nuestro nuevo catalogo ya no se muestra de forma tan bonita y aparece como una matriz con muchos numeros. Para arreglarla, usamos la funcion DataFrame de pandas. Ejcute el sigiuiente codigo"
   ]
  },
  {
   "cell_type": "code",
   "execution_count": 7,
   "metadata": {
    "collapsed": false
   },
   "outputs": [
    {
     "data": {
      "text/html": [
       "<div>\n",
       "<table border=\"1\" class=\"dataframe\">\n",
       "  <thead>\n",
       "    <tr style=\"text-align: right;\">\n",
       "      <th></th>\n",
       "      <th>ra</th>\n",
       "      <th>dec</th>\n",
       "      <th>u</th>\n",
       "      <th>g</th>\n",
       "      <th>r</th>\n",
       "      <th>i</th>\n",
       "      <th>z</th>\n",
       "      <th>z1</th>\n",
       "    </tr>\n",
       "  </thead>\n",
       "  <tbody>\n",
       "    <tr>\n",
       "      <th>0</th>\n",
       "      <td>217.002390</td>\n",
       "      <td>37.400913</td>\n",
       "      <td>17.58736</td>\n",
       "      <td>15.60366</td>\n",
       "      <td>14.69556</td>\n",
       "      <td>14.28900</td>\n",
       "      <td>13.96379</td>\n",
       "      <td>0.080004</td>\n",
       "    </tr>\n",
       "    <tr>\n",
       "      <th>1</th>\n",
       "      <td>41.307385</td>\n",
       "      <td>-0.746131</td>\n",
       "      <td>17.76154</td>\n",
       "      <td>15.75966</td>\n",
       "      <td>14.81796</td>\n",
       "      <td>14.40375</td>\n",
       "      <td>14.02473</td>\n",
       "      <td>0.053942</td>\n",
       "    </tr>\n",
       "    <tr>\n",
       "      <th>2</th>\n",
       "      <td>158.403888</td>\n",
       "      <td>11.702202</td>\n",
       "      <td>18.09399</td>\n",
       "      <td>16.24945</td>\n",
       "      <td>15.43164</td>\n",
       "      <td>15.04739</td>\n",
       "      <td>14.78136</td>\n",
       "      <td>0.032844</td>\n",
       "    </tr>\n",
       "    <tr>\n",
       "      <th>3</th>\n",
       "      <td>156.077625</td>\n",
       "      <td>37.087213</td>\n",
       "      <td>19.08807</td>\n",
       "      <td>17.07669</td>\n",
       "      <td>16.07527</td>\n",
       "      <td>15.64609</td>\n",
       "      <td>15.29820</td>\n",
       "      <td>0.107093</td>\n",
       "    </tr>\n",
       "    <tr>\n",
       "      <th>4</th>\n",
       "      <td>254.959432</td>\n",
       "      <td>33.830356</td>\n",
       "      <td>20.29933</td>\n",
       "      <td>18.34799</td>\n",
       "      <td>17.17107</td>\n",
       "      <td>16.69359</td>\n",
       "      <td>16.35683</td>\n",
       "      <td>0.163118</td>\n",
       "    </tr>\n",
       "  </tbody>\n",
       "</table>\n",
       "</div>"
      ],
      "text/plain": [
       "           ra        dec         u         g         r         i         z  \\\n",
       "0  217.002390  37.400913  17.58736  15.60366  14.69556  14.28900  13.96379   \n",
       "1   41.307385  -0.746131  17.76154  15.75966  14.81796  14.40375  14.02473   \n",
       "2  158.403888  11.702202  18.09399  16.24945  15.43164  15.04739  14.78136   \n",
       "3  156.077625  37.087213  19.08807  17.07669  16.07527  15.64609  15.29820   \n",
       "4  254.959432  33.830356  20.29933  18.34799  17.17107  16.69359  16.35683   \n",
       "\n",
       "         z1  \n",
       "0  0.080004  \n",
       "1  0.053942  \n",
       "2  0.032844  \n",
       "3  0.107093  \n",
       "4  0.163118  "
      ]
     },
     "execution_count": 7,
     "metadata": {},
     "output_type": "execute_result"
    }
   ],
   "source": [
    "# Ejecute aqui\n",
    "cat_sdss_elipticas=pd.DataFrame(np.array(sdss_data))\n",
    "cat_sdss_elipticas.head()"
   ]
  },
  {
   "cell_type": "markdown",
   "metadata": {},
   "source": [
    "##Parte 2\n",
    "\n",
    "Ahor comenzaremos a descargar imagenes jpeg de nuestras galaxias de galaxy zoo. Para ello nos conectaremos al servidor de SDSS y usaremos la funcion sdss_jpg.\n",
    "\n",
    "El siguiente codigo descargamos la imagen de las priemras dos galaxias"
   ]
  },
  {
   "cell_type": "code",
   "execution_count": null,
   "metadata": {
    "collapsed": false
   },
   "outputs": [],
   "source": [
    "coo=SkyCoord(cat_galaxyzoo['ra'], cat_galaxyzoo['dec'], unit=(u.deg,u.deg))\n",
    "print coo"
   ]
  },
  {
   "cell_type": "code",
   "execution_count": null,
   "metadata": {
    "collapsed": false,
    "scrolled": false
   },
   "outputs": [],
   "source": [
    "# Ejecute\n",
    "print coo[0:2]\n",
    "sdss_jpg(coo[0:2])"
   ]
  },
  {
   "cell_type": "code",
   "execution_count": null,
   "metadata": {
    "collapsed": false
   },
   "outputs": [],
   "source": [
    "plt.show()"
   ]
  },
  {
   "cell_type": "markdown",
   "metadata": {},
   "source": [
    "**Ejercicio**\n",
    "\n",
    "Descague las images jpeg para las primeras 10 imagenes de la lista. ¿Que tipo morfologico son las galaxias?"
   ]
  },
  {
   "cell_type": "code",
   "execution_count": null,
   "metadata": {
    "collapsed": false
   },
   "outputs": [],
   "source": [
    "# Complete su codigo aqui\n",
    "sdss_jpg(...)"
   ]
  },
  {
   "cell_type": "markdown",
   "metadata": {},
   "source": [
    "Los astronomos en la vida real no toman imagenes a colores y mas bien toman imagenes en blanco y negro. El tipo de archivo que usamos se llama fits.\n",
    "\n",
    "Usaremos la funcion sdss_fits para descargar las imagenes de las priemras dos galaxias"
   ]
  },
  {
   "cell_type": "code",
   "execution_count": null,
   "metadata": {
    "collapsed": false
   },
   "outputs": [],
   "source": [
    "#Ejecute aqui\n",
    "sdss_fits(coo[0:2])"
   ]
  },
  {
   "cell_type": "markdown",
   "metadata": {},
   "source": [
    "**Ejercicio**\n",
    "\n",
    "Descague las images fits para las primeras 10 imagenes de la lista. ¿Son iguales o distitnas las imagenes fits y jpeg?"
   ]
  },
  {
   "cell_type": "code",
   "execution_count": null,
   "metadata": {
    "collapsed": false
   },
   "outputs": [],
   "source": [
    "# Complete el codigo aqui\n",
    "sdss_fits(...)"
   ]
  },
  {
   "cell_type": "markdown",
   "metadata": {},
   "source": [
    "##Parte 3\n",
    "\n",
    "Ahora comenzaremos a descargar espectros de nuestras galaxias de galaxyzoo. El espectro es la firma que poseen las galaxias.\n",
    "\n",
    "El siguiente codigo descargamos el espectro de una tipica galaxia eliptica"
   ]
  },
  {
   "cell_type": "code",
   "execution_count": null,
   "metadata": {
    "collapsed": false
   },
   "outputs": [],
   "source": [
    "sdss_template(tipo='eliptica')\n",
    "plt.show()"
   ]
  },
  {
   "cell_type": "markdown",
   "metadata": {},
   "source": [
    "Ahora descargaremos el espectro de las primeras dos galaxias"
   ]
  },
  {
   "cell_type": "code",
   "execution_count": null,
   "metadata": {
    "collapsed": false
   },
   "outputs": [],
   "source": [
    "#Ejecute aqui\n",
    "sdss_spectra(coo[0:2], redshift=[0.,0.])"
   ]
  },
  {
   "cell_type": "markdown",
   "metadata": {},
   "source": [
    "**Ejercicio**\n",
    "\n",
    "Comience a cambiar los valores de la variable redshift y trate de recuperar el grafico de sdss_template."
   ]
  },
  {
   "cell_type": "code",
   "execution_count": null,
   "metadata": {
    "collapsed": true
   },
   "outputs": [],
   "source": [
    "#Complete aqui donde aparecen los ...\n",
    "sdss_spectra(coo[0:2], redshift=[...,...])"
   ]
  },
  {
   "cell_type": "markdown",
   "metadata": {},
   "source": [
    "**Ejercicio**\n",
    "\n",
    "Ahora descagaremos los espectros para las priemras 10 galaxias. Complete el codigo y determine el redshift de cada una"
   ]
  },
  {
   "cell_type": "code",
   "execution_count": null,
   "metadata": {
    "collapsed": false
   },
   "outputs": [],
   "source": [
    "#Complete aqui donde aparecen los ...\n",
    "sdss_spectra(..., redshift=[...])"
   ]
  },
  {
   "cell_type": "markdown",
   "metadata": {},
   "source": [
    "##Parte 4\n",
    "\n",
    "\n",
    "### Repita el mismo procedimiento anterior, pero esta vez usando las galaxias espirales"
   ]
  },
  {
   "cell_type": "code",
   "execution_count": 8,
   "metadata": {
    "collapsed": false
   },
   "outputs": [
    {
     "data": {
      "text/html": [
       "<div>\n",
       "<table border=\"1\" class=\"dataframe\">\n",
       "  <thead>\n",
       "    <tr style=\"text-align: right;\">\n",
       "      <th></th>\n",
       "      <th>ID</th>\n",
       "      <th>ra</th>\n",
       "      <th>dec</th>\n",
       "      <th>votos</th>\n",
       "    </tr>\n",
       "  </thead>\n",
       "  <tbody>\n",
       "    <tr>\n",
       "      <th>0</th>\n",
       "      <td>587724233176449214</td>\n",
       "      <td>14.559458</td>\n",
       "      <td>15.200250</td>\n",
       "      <td>27</td>\n",
       "    </tr>\n",
       "    <tr>\n",
       "      <th>1</th>\n",
       "      <td>588017991768277198</td>\n",
       "      <td>215.539000</td>\n",
       "      <td>9.045556</td>\n",
       "      <td>25</td>\n",
       "    </tr>\n",
       "    <tr>\n",
       "      <th>2</th>\n",
       "      <td>588297863121207359</td>\n",
       "      <td>182.168500</td>\n",
       "      <td>46.474806</td>\n",
       "      <td>40</td>\n",
       "    </tr>\n",
       "    <tr>\n",
       "      <th>3</th>\n",
       "      <td>587731185652072643</td>\n",
       "      <td>325.864792</td>\n",
       "      <td>-0.480194</td>\n",
       "      <td>27</td>\n",
       "    </tr>\n",
       "    <tr>\n",
       "      <th>4</th>\n",
       "      <td>587729386603282615</td>\n",
       "      <td>136.707833</td>\n",
       "      <td>48.772472</td>\n",
       "      <td>43</td>\n",
       "    </tr>\n",
       "  </tbody>\n",
       "</table>\n",
       "</div>"
      ],
      "text/plain": [
       "                   ID          ra        dec  votos\n",
       "0  587724233176449214   14.559458  15.200250     27\n",
       "1  588017991768277198  215.539000   9.045556     25\n",
       "2  588297863121207359  182.168500  46.474806     40\n",
       "3  587731185652072643  325.864792  -0.480194     27\n",
       "4  587729386603282615  136.707833  48.772472     43"
      ]
     },
     "execution_count": 8,
     "metadata": {},
     "output_type": "execute_result"
    }
   ],
   "source": [
    "cat_url='https://raw.githubusercontent.com/rpmunoz/PentaUC/master/Astronomia%20era%20informacion/data/SDSS_galaxyzoo_espirales.csv'\n",
    "cat_galaxyzoo=pd.read_csv(cat_url,header=0,sep=',')\n",
    "cat_galaxyzoo.head()"
   ]
  },
  {
   "cell_type": "code",
   "execution_count": 9,
   "metadata": {
    "collapsed": false
   },
   "outputs": [
    {
     "name": "stdout",
     "output_type": "stream",
     "text": [
      "Processing galaxy  0\n",
      "Processing galaxy  1\n",
      "Processing galaxy  2\n",
      "Processing galaxy  3\n",
      "Processing galaxy  4\n",
      "Processing galaxy  5\n",
      "Processing galaxy  6\n",
      "Processing galaxy  7\n",
      "Processing galaxy  8\n",
      "Processing galaxy  9\n",
      "Processing galaxy  10\n",
      "Processing galaxy  11\n",
      "Processing galaxy  12\n",
      "Processing galaxy  13\n",
      "Processing galaxy  14\n",
      "Processing galaxy  15\n",
      "Processing galaxy  16\n",
      "Processing galaxy  17\n",
      "Processing galaxy  18\n",
      "Processing galaxy  19\n",
      "Processing galaxy  20\n",
      "Processing galaxy  21\n",
      "Processing galaxy  22\n",
      "Processing galaxy  23\n",
      "Processing galaxy  24\n",
      "Processing galaxy  25\n",
      "Processing galaxy  26\n",
      "Processing galaxy  27\n",
      "Processing galaxy  28\n",
      "Processing galaxy  29\n",
      "Processing galaxy  30\n",
      "Processing galaxy  31\n",
      "Processing galaxy  32\n",
      "Processing galaxy  33\n",
      "Processing galaxy  34\n",
      "Processing galaxy  35\n",
      "Processing galaxy  36\n",
      "Processing galaxy  37\n",
      "Processing galaxy  38\n",
      "Processing galaxy  39\n",
      "Processing galaxy  40\n",
      "Processing galaxy  41\n",
      "Processing galaxy  42\n",
      "Processing galaxy  43\n",
      "Processing galaxy  44\n",
      "Processing galaxy  45\n",
      "Processing galaxy  46\n",
      "Processing galaxy  47\n"
     ]
    },
    {
     "ename": "IndexError",
     "evalue": "too many indices for array",
     "output_type": "error",
     "traceback": [
      "\u001b[1;31m---------------------------------------------------------------------------\u001b[0m",
      "\u001b[1;31mIndexError\u001b[0m                                Traceback (most recent call last)",
      "\u001b[1;32m<ipython-input-9-5b0bca50a538>\u001b[0m in \u001b[0;36m<module>\u001b[1;34m()\u001b[0m\n\u001b[0;32m      6\u001b[0m         \u001b[0msdss_data\u001b[0m\u001b[1;33m=\u001b[0m\u001b[0mresult\u001b[0m\u001b[1;33m\u001b[0m\u001b[0m\n\u001b[0;32m      7\u001b[0m     \u001b[1;32melse\u001b[0m\u001b[1;33m:\u001b[0m\u001b[1;33m\u001b[0m\u001b[0m\n\u001b[1;32m----> 8\u001b[1;33m         \u001b[0msdss_data\u001b[0m\u001b[1;33m.\u001b[0m\u001b[0madd_row\u001b[0m\u001b[1;33m(\u001b[0m\u001b[0mnp\u001b[0m\u001b[1;33m.\u001b[0m\u001b[0marray\u001b[0m\u001b[1;33m(\u001b[0m\u001b[0mresult\u001b[0m\u001b[1;33m)\u001b[0m\u001b[1;33m[\u001b[0m\u001b[1;36m0\u001b[0m\u001b[1;33m]\u001b[0m\u001b[1;33m)\u001b[0m\u001b[1;33m\u001b[0m\u001b[0m\n\u001b[0m\u001b[0;32m      9\u001b[0m \u001b[1;33m\u001b[0m\u001b[0m\n\u001b[0;32m     10\u001b[0m \u001b[0mcat_sdss_espirales\u001b[0m\u001b[1;33m=\u001b[0m\u001b[0mpd\u001b[0m\u001b[1;33m.\u001b[0m\u001b[0mDataFrame\u001b[0m\u001b[1;33m(\u001b[0m\u001b[0mnp\u001b[0m\u001b[1;33m.\u001b[0m\u001b[0marray\u001b[0m\u001b[1;33m(\u001b[0m\u001b[0msdss_data\u001b[0m\u001b[1;33m)\u001b[0m\u001b[1;33m)\u001b[0m\u001b[1;33m\u001b[0m\u001b[0m\n",
      "\u001b[1;31mIndexError\u001b[0m: too many indices for array"
     ]
    }
   ],
   "source": [
    "coo=SkyCoord(cat_galaxyzoo['ra'], cat_galaxyzoo['dec'], unit=(u.deg,u.deg))\n",
    "for i in range(len(coo)):\n",
    "    print 'Processing galaxy ', i\n",
    "    result = SDSS.query_region(coo[i], spectro=True, photoobj_fields=['ra','dec','u','g','r','i','z'], radius=2*u.arcsec)\n",
    "    if i==0:\n",
    "        sdss_data=result\n",
    "    else:\n",
    "        sdss_data.add_row(np.array(result)[0])\n",
    "\n",
    "cat_sdss_espirales=pd.DataFrame(np.array(sdss_data))\n",
    "cat_sdss_espirales"
   ]
  },
  {
   "cell_type": "code",
   "execution_count": 10,
   "metadata": {
    "collapsed": false
   },
   "outputs": [
    {
     "name": "stdout",
     "output_type": "stream",
     "text": [
      "      ra            dec          u        g        r        i        z    \n",
      "------------- --------------- -------- -------- -------- -------- --------\n",
      "14.5594861412   15.2002534257 19.02797 17.08535  16.0903  15.5504 15.12846\n",
      "215.539011888   9.04556393197 17.65031 16.11648 15.31245 14.85882 14.55835\n",
      "182.168492332   46.4748078549 18.46054 16.63925 15.74723 15.33657 15.00189\n",
      "325.864800148 -0.480187831615 19.38846 17.52939 16.56024  16.1482 15.79481\n",
      " 136.70784584   48.7724546934 16.92475 15.15623 14.36435 13.96674 13.66021\n",
      "173.339083278   33.4334822263 19.05486 17.74569 17.23697 16.86767 16.64917\n",
      "221.236163602   23.1491994844 19.24344 17.89257 16.84118   16.349 16.01662\n",
      "215.712842676    29.873190643  17.8331 16.64831 16.28137 16.07171  15.9017\n",
      "162.517167264   15.4503482706 17.86082 16.42469 15.71606 15.33343 15.04047\n",
      "178.483562451   32.6438852494 18.91358 17.41645 16.73685 16.40557 16.12891\n",
      "          ...             ...      ...      ...      ...      ...      ...\n",
      "217.995728087   47.2307788914 19.23999 17.75446 16.95256 16.51303  16.1966\n",
      "125.720173295   38.3883616994 19.43325 17.67718 16.70689 16.17093 15.75148\n",
      "168.516467737   67.3695192338 17.28004 15.78601 15.12008 14.75918 14.46713\n",
      "240.151942008   25.2745121563 18.11147 16.49184 15.73835 15.30446 15.02189\n",
      "223.223923742   53.5747120206 18.19476 16.98895 16.40776  16.0891 15.86782\n",
      "210.122298666    63.645061871  17.0897 16.09068 15.75376 15.54459 15.42145\n",
      "147.829989925   40.7012647282 19.45498 17.61583 16.61666 16.18123 15.85054\n",
      " 168.15628083   15.2172291596 16.58466 15.52189 15.02881 14.73787 14.58289\n",
      "178.459653615   19.7504779141 17.11847 15.25915 14.42333 14.04132  13.7121\n",
      "253.070087431   27.3658163552 17.58918 16.19175 15.48361 15.07937  14.7698\n",
      " 148.73294358   52.6889764841 18.84399    17.07 16.20271 15.79928 15.50631\n",
      "Length = 47 rows\n"
     ]
    }
   ],
   "source": [
    "print sdss_data"
   ]
  },
  {
   "cell_type": "markdown",
   "metadata": {},
   "source": [
    "## Apendices\n",
    "\n",
    "Descargar el catalogo completo de Galaxy zoo"
   ]
  },
  {
   "cell_type": "code",
   "execution_count": null,
   "metadata": {
    "collapsed": false
   },
   "outputs": [],
   "source": [
    "import requests, zipfile, StringIO"
   ]
  },
  {
   "cell_type": "code",
   "execution_count": null,
   "metadata": {
    "collapsed": false
   },
   "outputs": [],
   "source": [
    "cat_url='http://galaxy-zoo-1.s3.amazonaws.com/GalaxyZoo1_DR_table2.csv.zip'\n",
    "\n",
    "r = requests.get(cat_url)\n",
    "z = zipfile.ZipFile(StringIO.StringIO(r.content))\n",
    "\n",
    "cat_file='GalaxyZoo1_DR_table2.csv'\n",
    "cat_data=pd.read_csv(z.open(cat_file))\n",
    "cat_data.head()"
   ]
  },
  {
   "cell_type": "code",
   "execution_count": null,
   "metadata": {
    "collapsed": false
   },
   "outputs": [],
   "source": [
    "cat_data=cat_data.sort_values('P_EL_DEBIASED',ascending=0)\n",
    "cat_elliptical=cat_data[cat_data['ELLIPTICAL']==1][0:100]\n",
    "cat_elliptical['ra']=Angle(cat_elliptical['RA'], unit=u.hourangle).degree\n",
    "cat_elliptical['dec']=Angle(cat_elliptical['DEC'], unit=u.degree).degree\n",
    "cat_elliptical=cat_elliptical.rename(columns = {'OBJID':'ID','NVOTE':'votos'})\n",
    "cat_elliptical=cat_elliptical[['ID','ra','dec','votos']].reset_index(drop=True)\n",
    "\n",
    "cat_elliptical.to_csv('../data/SDSS_galaxyzoo_elipticas.csv',index=False)"
   ]
  },
  {
   "cell_type": "code",
   "execution_count": null,
   "metadata": {
    "collapsed": true
   },
   "outputs": [],
   "source": [
    "cat_data=cat_data.sort_values('P_CS_DEBIASED',ascending=0)\n",
    "cat_spiral=cat_data[cat_data['SPIRAL']==1][0:100]\n",
    "cat_spiral['ra']=Angle(cat_spiral['RA'], unit=u.hourangle).degree\n",
    "cat_spiral['dec']=Angle(cat_spiral['DEC'], unit=u.degree).degree\n",
    "cat_spiral=cat_spiral.rename(columns = {'OBJID':'ID','NVOTE':'votos'})\n",
    "cat_spiral=cat_spiral[['ID','ra','dec','votos']].reset_index(drop=True)\n",
    "\n",
    "cat_spiral.to_csv('../data/SDSS_galaxyzoo_espirales.csv',index=False)"
   ]
  },
  {
   "cell_type": "code",
   "execution_count": null,
   "metadata": {
    "collapsed": true
   },
   "outputs": [],
   "source": []
  }
 ],
 "metadata": {
  "kernelspec": {
   "display_name": "Python 2",
   "language": "python",
   "name": "python2"
  },
  "language_info": {
   "codemirror_mode": {
    "name": "ipython",
    "version": 2
   },
   "file_extension": ".py",
   "mimetype": "text/x-python",
   "name": "python",
   "nbconvert_exporter": "python",
   "pygments_lexer": "ipython2",
   "version": "2.7.11"
  }
 },
 "nbformat": 4,
 "nbformat_minor": 0
}
