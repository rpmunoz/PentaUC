{
 "cells": [
  {
   "cell_type": "markdown",
   "metadata": {},
   "source": [
    "Bienvenidos al taller 6 del curso Astronomía en la Era de la Información.\n",
    "\n",
    "Hoy aprenderemos otra herramienta imprescindible a la hora de programar: **control de flujo/condicionalidad**. Esto nos permite controlar lo que queremos qué haga el código asumiendo que tenemos algunos datos con los que queremos trabajar y otros no.\n",
    "\n",
    "Como utilizaremos ciclos, vistos en la clase pasada, partiremos con un ejemplo de estos"
   ]
  },
  {
   "cell_type": "code",
   "execution_count": 1,
   "metadata": {
    "collapsed": true
   },
   "outputs": [],
   "source": [
    "import numpy as np\n",
    "import matplotlib.pyplot as plt\n",
    "import pandas as pd\n",
    "%matplotlib inline"
   ]
  },
  {
   "cell_type": "code",
   "execution_count": 2,
   "metadata": {
    "collapsed": false,
    "scrolled": true
   },
   "outputs": [
    {
     "name": "stdout",
     "output_type": "stream",
     "text": [
      "elemento es  1.1\n",
      "elemento al cuadrado es  1.21\n",
      "elemento es  1.6\n",
      "elemento al cuadrado es  2.56\n",
      "elemento es  2.1\n",
      "elemento al cuadrado es  4.41\n",
      "elemento es  2.6\n",
      "elemento al cuadrado es  6.76\n",
      "elemento es  3.1\n",
      "elemento al cuadrado es  9.61\n",
      "elemento es  3.6\n",
      "elemento al cuadrado es  12.96\n",
      "elemento es  4.1\n",
      "elemento al cuadrado es  16.81\n",
      "elemento es  4.6\n",
      "elemento al cuadrado es  21.16\n",
      "elemento es  5.1\n",
      "elemento al cuadrado es  26.01\n",
      "elemento es  5.6\n",
      "elemento al cuadrado es  31.36\n",
      "elemento es  6.1\n",
      "elemento al cuadrado es  37.21\n",
      "elemento es  6.6\n",
      "elemento al cuadrado es  43.56\n",
      "elemento es  7.1\n",
      "elemento al cuadrado es  50.41\n",
      "elemento es  7.6\n",
      "elemento al cuadrado es  57.76\n",
      "elemento es  8.1\n",
      "elemento al cuadrado es  65.61\n",
      "elemento es  8.6\n",
      "elemento al cuadrado es  73.96\n",
      "elemento es  9.1\n",
      "elemento al cuadrado es  82.81\n",
      "elemento es  9.6\n",
      "elemento al cuadrado es  92.16\n",
      "elemento es  10.1\n",
      "elemento al cuadrado es  102.01\n",
      "elemento es  10.6\n",
      "elemento al cuadrado es  112.36\n",
      "elemento es  11.1\n",
      "elemento al cuadrado es  123.21\n",
      "elemento es  11.6\n",
      "elemento al cuadrado es  134.56\n",
      "elemento es  12.1\n",
      "elemento al cuadrado es  146.41\n",
      "elemento es  12.6\n",
      "elemento al cuadrado es  158.76\n",
      "elemento es  13.1\n",
      "elemento al cuadrado es  171.61\n",
      "elemento es  13.6\n",
      "elemento al cuadrado es  184.96\n",
      "elemento es  14.1\n",
      "elemento al cuadrado es  198.81\n",
      "elemento es  14.6\n",
      "elemento al cuadrado es  213.16\n",
      "elemento es  15.1\n",
      "elemento al cuadrado es  228.01\n",
      "elemento es  15.6\n",
      "elemento al cuadrado es  243.36\n",
      "elemento es  16.1\n",
      "elemento al cuadrado es  259.21\n",
      "elemento es  16.6\n",
      "elemento al cuadrado es  275.56\n",
      "elemento es  17.1\n",
      "elemento al cuadrado es  292.41\n",
      "elemento es  17.6\n",
      "elemento al cuadrado es  309.76\n",
      "elemento es  18.1\n",
      "elemento al cuadrado es  327.61\n",
      "elemento es  18.6\n",
      "elemento al cuadrado es  345.96\n",
      "elemento es  19.1\n",
      "elemento al cuadrado es  364.81\n",
      "elemento es  19.6\n",
      "elemento al cuadrado es  384.16\n"
     ]
    }
   ],
   "source": [
    "arreglo = np.arange(1.1,20,0.5)\n",
    "for elemento in arreglo:\n",
    "    print \"elemento es \",elemento\n",
    "    print \"elemento al cuadrado es \",elemento**2"
   ]
  },
  {
   "cell_type": "markdown",
   "metadata": {},
   "source": [
    "Para entender cómo funciona la condicionalidad, generamos otro arreglo con números del 0 al 99 y agregamos dentro del ciclo _for_ una condición que hace que se impriman sólo los pares."
   ]
  },
  {
   "cell_type": "code",
   "execution_count": 3,
   "metadata": {
    "collapsed": false,
    "scrolled": true
   },
   "outputs": [
    {
     "name": "stdout",
     "output_type": "stream",
     "text": [
      "0\n",
      "2\n",
      "4\n",
      "6\n",
      "8\n",
      "10\n",
      "12\n",
      "14\n",
      "16\n",
      "18\n",
      "20\n",
      "22\n",
      "24\n",
      "26\n",
      "28\n",
      "30\n",
      "32\n",
      "34\n",
      "36\n",
      "38\n",
      "40\n",
      "42\n",
      "44\n",
      "46\n",
      "48\n",
      "50\n",
      "52\n",
      "54\n",
      "56\n",
      "58\n",
      "60\n",
      "62\n",
      "64\n",
      "66\n",
      "68\n",
      "70\n",
      "72\n",
      "74\n",
      "76\n",
      "78\n",
      "80\n",
      "82\n",
      "84\n",
      "86\n",
      "88\n",
      "90\n",
      "92\n",
      "94\n",
      "96\n",
      "98\n"
     ]
    }
   ],
   "source": [
    "arreglo=np.arange(100)\n",
    "for numero in arreglo:\n",
    "    if numero%2 == 0: # ojo con qué hace %!! el resultado es el \"resto\" de la división\n",
    "        print numero"
   ]
  },
  {
   "cell_type": "markdown",
   "metadata": {},
   "source": [
    "¿Cómo funciona el _if_? Simplemente es _si se cumple la condición, se hace lo de dentro del ciclo_. Pruebe cambiando el código para que imprima sólo los números divisibles por 7. Importante: recuerde qué significa _if_ en inglés. Si no sabe, ¡busque o pregúntele a un compañero! Así es mucho más fácil entender. Note también que se define similarmente a un *for*: con dos puntos y sangría.\n",
    "\n",
    "Una condición puede ser compuesta por dos o más condiciones. En el siguiente código se muestra cómo imprimir los números divisibles por 2 **y** por 7, y luego los divisibles por 2 **o** por 7. Nuevamente usamos palabras en inglés."
   ]
  },
  {
   "cell_type": "code",
   "execution_count": 4,
   "metadata": {
    "collapsed": false,
    "scrolled": true
   },
   "outputs": [
    {
     "name": "stdout",
     "output_type": "stream",
     "text": [
      "Divisibles por 2 y por 7\n",
      "0\n",
      "14\n",
      "28\n",
      "42\n",
      "56\n",
      "70\n",
      "84\n",
      "98\n",
      "Divisibles por 2 o por 7\n",
      "0\n",
      "2\n",
      "4\n",
      "6\n",
      "7\n",
      "8\n",
      "10\n",
      "12\n",
      "14\n",
      "16\n",
      "18\n",
      "20\n",
      "21\n",
      "22\n",
      "24\n",
      "26\n",
      "28\n",
      "30\n",
      "32\n",
      "34\n",
      "35\n",
      "36\n",
      "38\n",
      "40\n",
      "42\n",
      "44\n",
      "46\n",
      "48\n",
      "49\n",
      "50\n",
      "52\n",
      "54\n",
      "56\n",
      "58\n",
      "60\n",
      "62\n",
      "63\n",
      "64\n",
      "66\n",
      "68\n",
      "70\n",
      "72\n",
      "74\n",
      "76\n",
      "77\n",
      "78\n",
      "80\n",
      "82\n",
      "84\n",
      "86\n",
      "88\n",
      "90\n",
      "91\n",
      "92\n",
      "94\n",
      "96\n",
      "98\n"
     ]
    }
   ],
   "source": [
    "print \"Divisibles por 2 y por 7\"\n",
    "for numero in arreglo:\n",
    "    if numero%2 == 0 and numero%7 == 0: \n",
    "        print numero\n",
    "print \"Divisibles por 2 o por 7\"\n",
    "for numero in arreglo:\n",
    "    if numero%2 == 0 or numero%7 == 0: \n",
    "        print numero"
   ]
  },
  {
   "cell_type": "markdown",
   "metadata": {},
   "source": [
    "## Ejercicio 1\n",
    "Genere un arreglo de 1000 números, y muestre sólo los números divisibles por 3, 5, y 7."
   ]
  },
  {
   "cell_type": "code",
   "execution_count": 5,
   "metadata": {
    "collapsed": false
   },
   "outputs": [
    {
     "name": "stdout",
     "output_type": "stream",
     "text": [
      "0\n",
      "105\n",
      "210\n",
      "315\n",
      "420\n",
      "525\n",
      "630\n",
      "735\n",
      "840\n",
      "945\n"
     ]
    }
   ],
   "source": [
    "arreglo = range(1000)\n",
    "for numero in arreglo:\n",
    "    if numero%3 == 0 and numero%5 == 0 and numero%7==0:\n",
    "        print numero"
   ]
  },
  {
   "cell_type": "markdown",
   "metadata": {
    "collapsed": true
   },
   "source": [
    "Los condicionales también los puede definir como que **no** se cumpla cierta condición. Acá un ejemplo, que imprime los números pares **no** divisibles por 7."
   ]
  },
  {
   "cell_type": "code",
   "execution_count": 6,
   "metadata": {
    "collapsed": false,
    "scrolled": true
   },
   "outputs": [
    {
     "name": "stdout",
     "output_type": "stream",
     "text": [
      "2\n",
      "4\n",
      "6\n",
      "8\n",
      "10\n",
      "12\n",
      "16\n",
      "18\n",
      "20\n",
      "22\n",
      "24\n",
      "26\n",
      "30\n",
      "32\n",
      "34\n",
      "36\n",
      "38\n",
      "40\n",
      "44\n",
      "46\n",
      "48\n",
      "50\n",
      "52\n",
      "54\n",
      "58\n",
      "60\n",
      "62\n",
      "64\n",
      "66\n",
      "68\n",
      "72\n",
      "74\n",
      "76\n",
      "78\n",
      "80\n",
      "82\n",
      "86\n",
      "88\n",
      "90\n",
      "92\n",
      "94\n",
      "96\n"
     ]
    }
   ],
   "source": [
    "arreglo = np.arange(100)\n",
    "for numero in arreglo:\n",
    "    if numero%2 == 0 and not numero%7 == 0:\n",
    "        print numero"
   ]
  },
  {
   "cell_type": "markdown",
   "metadata": {},
   "source": [
    "La condicionalidad también puede usar mayor, menor, mayor igual, y menor igual"
   ]
  },
  {
   "cell_type": "code",
   "execution_count": 7,
   "metadata": {
    "collapsed": false,
    "scrolled": false
   },
   "outputs": [
    {
     "name": "stdout",
     "output_type": "stream",
     "text": [
      "0\n",
      "13\n",
      "26\n",
      "39\n",
      "52\n",
      "65\n"
     ]
    }
   ],
   "source": [
    "arreglo = np.arange(100)\n",
    "for numero in arreglo:\n",
    "    if numero%13 == 0 and numero <= 70:\n",
    "        print numero"
   ]
  },
  {
   "cell_type": "markdown",
   "metadata": {
    "collapsed": true
   },
   "source": [
    "## Ejercicio 2\n",
    "Genere un arreglo de 1000 números, y muestre sólo los números divisibles por 4, 5, pero no por 6."
   ]
  },
  {
   "cell_type": "code",
   "execution_count": 8,
   "metadata": {
    "collapsed": false
   },
   "outputs": [
    {
     "name": "stdout",
     "output_type": "stream",
     "text": [
      "20\n",
      "40\n",
      "80\n",
      "100\n",
      "140\n",
      "160\n",
      "200\n",
      "220\n",
      "260\n",
      "280\n",
      "320\n",
      "340\n",
      "380\n",
      "400\n",
      "440\n",
      "460\n",
      "500\n",
      "520\n",
      "560\n",
      "580\n",
      "620\n",
      "640\n",
      "680\n",
      "700\n",
      "740\n",
      "760\n",
      "800\n",
      "820\n",
      "860\n",
      "880\n",
      "920\n",
      "940\n",
      "980\n"
     ]
    }
   ],
   "source": [
    "arreglo = range(1000)\n",
    "for numero in arreglo:\n",
    "    if numero%4==0 and numero%5==0 and numero%6!=0:\n",
    "        print numero"
   ]
  },
  {
   "cell_type": "markdown",
   "metadata": {
    "collapsed": true
   },
   "source": [
    "A continuación, trabajaremos con datos astronómicos reales, del grupo local de galaxias. Partiremos cargándolo, como es usual, con *pandas*. Las columnas del catálogo son:\n",
    "* Nombre: nombre de la galaxia\n",
    "* l, b: coordenadas en el cielo de las galaxias\n",
    "* dist, derr: distancia a la galaxia y error de medición de esta, en miles de años luz\n",
    "* diam: diámetro de la galaxia, en miles de años luz\n",
    "* tipo: tipo morfológico de la galaxia. Acá sólo hacemos diferencia entre galaxia gigante (\"Gig\") o satélite (\"Sat\")\n",
    "* desc: año de descubrimiento de la galaxia. Un valor cero indica que se conoce desde la prehistoria o que no se tiene seguridad del año\n",
    "\n",
    "Usaremos algunas de estas columnas en lo que sigue."
   ]
  },
  {
   "cell_type": "code",
   "execution_count": 9,
   "metadata": {
    "collapsed": false,
    "scrolled": false
   },
   "outputs": [
    {
     "data": {
      "text/html": [
       "<div>\n",
       "<table border=\"1\" class=\"dataframe\">\n",
       "  <thead>\n",
       "    <tr style=\"text-align: right;\">\n",
       "      <th></th>\n",
       "      <th>nombre</th>\n",
       "      <th>l</th>\n",
       "      <th>b</th>\n",
       "      <th>dist</th>\n",
       "      <th>derr</th>\n",
       "      <th>diam</th>\n",
       "      <th>tipo</th>\n",
       "      <th>desc</th>\n",
       "    </tr>\n",
       "  </thead>\n",
       "  <tbody>\n",
       "    <tr>\n",
       "      <th>0</th>\n",
       "      <td>Milky Way</td>\n",
       "      <td>0.0</td>\n",
       "      <td>0.0</td>\n",
       "      <td>0</td>\n",
       "      <td>0</td>\n",
       "      <td>90</td>\n",
       "      <td>Gig</td>\n",
       "      <td>0</td>\n",
       "    </tr>\n",
       "    <tr>\n",
       "      <th>1</th>\n",
       "      <td>Sagittarius Dwarf</td>\n",
       "      <td>5.6</td>\n",
       "      <td>-14.1</td>\n",
       "      <td>78</td>\n",
       "      <td>7</td>\n",
       "      <td>20</td>\n",
       "      <td>Sat</td>\n",
       "      <td>1994</td>\n",
       "    </tr>\n",
       "    <tr>\n",
       "      <th>2</th>\n",
       "      <td>Ursa Major II</td>\n",
       "      <td>152.5</td>\n",
       "      <td>37.4</td>\n",
       "      <td>100</td>\n",
       "      <td>15</td>\n",
       "      <td>1</td>\n",
       "      <td>Sat</td>\n",
       "      <td>2006</td>\n",
       "    </tr>\n",
       "    <tr>\n",
       "      <th>3</th>\n",
       "      <td>Coma Berenices Dwarf</td>\n",
       "      <td>241.9</td>\n",
       "      <td>83.6</td>\n",
       "      <td>144</td>\n",
       "      <td>13</td>\n",
       "      <td>1</td>\n",
       "      <td>Sat</td>\n",
       "      <td>2006</td>\n",
       "    </tr>\n",
       "    <tr>\n",
       "      <th>4</th>\n",
       "      <td>Large Magellanic Cloud</td>\n",
       "      <td>280.5</td>\n",
       "      <td>-32.9</td>\n",
       "      <td>165</td>\n",
       "      <td>5</td>\n",
       "      <td>25</td>\n",
       "      <td>Sat</td>\n",
       "      <td>0</td>\n",
       "    </tr>\n",
       "  </tbody>\n",
       "</table>\n",
       "</div>"
      ],
      "text/plain": [
       "                   nombre      l     b  dist  derr  diam tipo  desc\n",
       "0               Milky Way    0.0   0.0     0     0    90  Gig     0\n",
       "1       Sagittarius Dwarf    5.6 -14.1    78     7    20  Sat  1994\n",
       "2           Ursa Major II  152.5  37.4   100    15     1  Sat  2006\n",
       "3    Coma Berenices Dwarf  241.9  83.6   144    13     1  Sat  2006\n",
       "4  Large Magellanic Cloud  280.5 -32.9   165     5    25  Sat     0"
      ]
     },
     "execution_count": 9,
     "metadata": {},
     "output_type": "execute_result"
    }
   ],
   "source": [
    "cat_url='https://github.com/rpmunoz/PentaUC/raw/e67af6ea859b99f371b63eebc231f677c7dd91fb/Astronomia%20era%20informacion/data/localgroup.csv'\n",
    "grupolocal=pd.read_csv(cat_url,header=0,sep=',')\n",
    "grupolocal.head()"
   ]
  },
  {
   "cell_type": "markdown",
   "metadata": {},
   "source": [
    "El siguiente es un código que recorre toda la tabla, y, si la galaxia es de tipo \"Sat\", imprime el nombre. Para recorrer la tabla, se debe hacer fila por fila, lo que logramos con las funciones *range* y *len* que hemos aprendido a usar (no podemos hacer *for elemento in tabla* con las tablas de *pandas*). Note también que para acceder al elemento de la posición *i*, es necesario usar *grupolocal.iloc[i]* (como en el taller evaluado, cuando tuvo que definir los catálogos de galaxias elípticas y espirales), y al elegir una fila, el atributo de esa fila (en este caso, el tipo y el nombre) se debe indicar dentro de corchetes y comillas (simples o dobles, a Python no le importa)"
   ]
  },
  {
   "cell_type": "code",
   "execution_count": 10,
   "metadata": {
    "collapsed": false,
    "scrolled": true
   },
   "outputs": [
    {
     "name": "stdout",
     "output_type": "stream",
     "text": [
      "Sagittarius Dwarf\n",
      "Ursa Major II\n",
      "Coma Berenices Dwarf\n",
      "Large Magellanic Cloud\n",
      "Small Magellanic Cloud\n",
      "Bootes Dwarf\n",
      "Ursa Minor Dwarf\n",
      "Sculptor Dwarf\n",
      "Draco Dwarf\n",
      "Sextans Dwarf\n",
      "Ursa Major I\n",
      "Carina Dwarf\n",
      "Fornax Dwarf\n",
      "Hercules Dwarf\n",
      "Canes Venatici II\n",
      "Leo IV\n",
      "Leo II\n",
      "Canes Venatici I\n",
      "Leo I\n",
      "Leo T\n",
      "Phoenix Dwarf\n",
      "NGC 6822\n",
      "NGC 185\n",
      "Andromeda II\n",
      "Leo A\n",
      "IC 1613\n",
      "Andromeda X\n",
      "NGC 147\n",
      "Andromeda III\n",
      "Andromeda VII\n",
      "Cetus Dwarf\n",
      "Andromeda IX\n",
      "Andromeda I\n",
      "LGS 3\n",
      "Andromeda V\n",
      "Andromeda XI\n",
      "Andromeda XII\n",
      "Andromeda XIII\n",
      "Andromeda VI\n",
      "M32\n",
      "M110\n",
      "IC 10\n",
      "Tucana Dwarf\n",
      "Pegasus Dwarf\n",
      "WLM\n",
      "Aquarius Dwarf\n",
      "SagDIG\n",
      "Antlia Dwarf\n",
      "NGC 3109\n",
      "Sextans A\n",
      "Sextans B\n"
     ]
    }
   ],
   "source": [
    "for i in range(len(grupolocal)): \n",
    "    if grupolocal.iloc[i]['tipo'] == \"Sat\":\n",
    "        print grupolocal.iloc[i]['nombre']"
   ]
  },
  {
   "cell_type": "markdown",
   "metadata": {},
   "source": [
    "# Ejercicio 3\n",
    "Modifique el código de abajo para que muestre el nombre y el tamaño de todas las **galaxias satélites** que estén a **más de 2 millones** de años luz"
   ]
  },
  {
   "cell_type": "code",
   "execution_count": 12,
   "metadata": {
    "collapsed": false
   },
   "outputs": [
    {
     "name": "stdout",
     "output_type": "stream",
     "text": [
      "NGC 185\n",
      "Andromeda II\n",
      "Leo A\n",
      "IC 1613\n",
      "Andromeda X\n",
      "NGC 147\n",
      "Andromeda III\n",
      "Andromeda VII\n",
      "Cetus Dwarf\n",
      "Andromeda IX\n",
      "Andromeda I\n",
      "LGS 3\n",
      "Andromeda V\n",
      "Andromeda XI\n",
      "Andromeda XII\n",
      "Andromeda XIII\n",
      "Andromeda VI\n",
      "M32\n",
      "M110\n",
      "IC 10\n",
      "Tucana Dwarf\n",
      "Pegasus Dwarf\n",
      "WLM\n",
      "Aquarius Dwarf\n",
      "SagDIG\n",
      "Antlia Dwarf\n",
      "NGC 3109\n",
      "Sextans A\n",
      "Sextans B\n"
     ]
    }
   ],
   "source": [
    "for i in range(len(grupolocal)):\n",
    "    if grupolocal.iloc[i]['tipo'] == \"Sat\" and grupolocal.iloc[i]['dist']>2000:\n",
    "        print grupolocal.iloc[i]['nombre']"
   ]
  },
  {
   "cell_type": "markdown",
   "metadata": {},
   "source": [
    "Vamos ahora a graficar las galaxias con sus coordenadas en el cielo (si va muy rápido, al final podemos repetir este proceso con la proyección Mollweide). Para eso usaremos la función *scatter* de *matplotlib*, y le agregaremos en el eje de color la distancia a la que está la galaxia."
   ]
  },
  {
   "cell_type": "code",
   "execution_count": 13,
   "metadata": {
    "collapsed": false
   },
   "outputs": [
    {
     "data": {
      "text/plain": [
       "<matplotlib.text.Text at 0x7f87ad7224d0>"
      ]
     },
     "execution_count": 13,
     "metadata": {},
     "output_type": "execute_result"
    },
    {
     "data": {
      "image/png": "[encoded data removed]",
      "text/plain": [
       "<matplotlib.figure.Figure at 0x7f87ad7b1290>"
      ]
     },
     "metadata": {},
     "output_type": "display_data"
    }
   ],
   "source": [
    "plt.scatter(grupolocal['l'],grupolocal['b'],c=grupolocal['dist'],cmap='jet',edgecolors='none')\n",
    "cbar=plt.colorbar(label='Distancia (kly)')\n",
    "plt.xlabel('l')\n",
    "plt.ylabel('b')"
   ]
  },
  {
   "cell_type": "markdown",
   "metadata": {},
   "source": [
    "Piense un momento en las estructuras que se forman en este gráfico y el color asociado a estas. ¿Algo le llama la atención? En el siguiente ejercicio estudiaremos cuál es el motivo por el que las observamos."
   ]
  },
  {
   "cell_type": "markdown",
   "metadata": {},
   "source": [
    "# Ejercicio 4\n",
    "El siguiente código debería graficar, una por una, todas las galaxias en un gráfico similar al de arriba, sin colores, con la diferencia de que si es una galaxia gigante, la marca con una estrella negra e imprime su nombre. El gráfico debería verse así:\n",
    "![PlotT6](https://github.com/rpmunoz/PentaUC/raw/master/Astronomia%20era%20informacion/data/plotT6.png)\n",
    "Lamentablemente, el código pasó por etapas muy agitadas de su vida y se le anduvieron cruzando las instrucciones, por lo que es su deber arreglarlo, cambiando pocos elementos del código que se presenta abajo. Esto le entregará respuestas a las interrogantes originadas en lo de más arriba."
   ]
  },
  {
   "cell_type": "code",
   "execution_count": 15,
   "metadata": {
    "collapsed": false
   },
   "outputs": [
    {
     "data": {
      "text/plain": [
       "<matplotlib.legend.Legend at 0x7f87ad69b9d0>"
      ]
     },
     "execution_count": 15,
     "metadata": {},
     "output_type": "execute_result"
    },
    {
     "data": {
      "image/png": "[encoded data removed]",
      "text/plain": [
       "<matplotlib.figure.Figure at 0x7f87ad6a5490>"
      ]
     },
     "metadata": {},
     "output_type": "display_data"
    }
   ],
   "source": [
    "# mutatis mutandis\n",
    "for i in range(len(grupolocal)):\n",
    "    if grupolocal.iloc[i]['tipo'] == \"Sat\":\n",
    "        plt.scatter(grupolocal.iloc[i]['l'],grupolocal.iloc[i]['b'],edgecolors='none')\n",
    "    if grupolocal.iloc[i]['tipo'] != \"Sat\" :\n",
    "        plt.scatter(grupolocal.iloc[i]['l'],grupolocal.iloc[i]['b'],c='black',marker='*',s=200, label=grupolocal.iloc[i]['nombre'])\n",
    "plt.xlabel('l')\n",
    "plt.ylabel('b')\n",
    "plt.legend(loc='best')"
   ]
  },
  {
   "cell_type": "markdown",
   "metadata": {},
   "source": [
    "# Ejercicio propuesto\n",
    "Repetir los últimos gráficos con la proyección Mollweide que se ha visto en talleres anteriores."
   ]
  },
  {
   "cell_type": "code",
   "execution_count": null,
   "metadata": {
    "collapsed": true
   },
   "outputs": [],
   "source": []
  }
 ],
 "metadata": {
  "kernelspec": {
   "display_name": "Python 2",
   "language": "python",
   "name": "python2"
  },
  "language_info": {
   "codemirror_mode": {
    "name": "ipython",
    "version": 2
   },
   "file_extension": ".py",
   "mimetype": "text/x-python",
   "name": "python",
   "nbconvert_exporter": "python",
   "pygments_lexer": "ipython2",
   "version": "2.7.6"
  }
 },
 "nbformat": 4,
 "nbformat_minor": 0
}
