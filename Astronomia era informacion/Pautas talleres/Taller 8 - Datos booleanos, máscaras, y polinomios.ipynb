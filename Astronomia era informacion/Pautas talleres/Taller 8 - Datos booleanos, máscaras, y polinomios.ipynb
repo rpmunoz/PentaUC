{
 "cells": [
  {
   "cell_type": "markdown",
   "metadata": {},
   "source": [
    "Bienvenidos al taller 8 del curso Astronomía en la Era de la Información.\n",
    "\n",
    "Hoy aprenderemos *otra* herramienta imprescindible a la hora de programar: **datos lógicos o booleanos**. Esto nos permite trabajar con elementos que cumplan o no una condición. Ya hemos visto varios de estos al ver la instrucción *if*, y ahora nos encargaremos de darles más sentido.\n",
    "\n",
    "Utilizaremos brevemente ciclos para partir, pero primero, recuerden cargar los paquetes necesarios. "
   ]
  },
  {
   "cell_type": "code",
   "execution_count": null,
   "metadata": {
    "collapsed": true
   },
   "outputs": [],
   "source": [
    "import numpy as np\n",
    "import matplotlib.pyplot as plt\n",
    "import pandas as pd\n",
    "%matplotlib inline"
   ]
  },
  {
   "cell_type": "markdown",
   "metadata": {},
   "source": [
    "Definimos un arreglo de 25 números y ahora, en vez de imprimir cada elemento, imprimiremos una **condición**: si el elemento menor 5 es mayor a diez. Esto es lo mismo que uno pondría como condición en un *if*. Antes de correr la celda, pregúntese qué valores posibles puede tener esa condición."
   ]
  },
  {
   "cell_type": "code",
   "execution_count": null,
   "metadata": {
    "collapsed": false
   },
   "outputs": [],
   "source": [
    "arreglo = np.arange(25)\n",
    "for elemento in arreglo:\n",
    "    print elemento - 5 > 10"
   ]
  },
  {
   "cell_type": "markdown",
   "metadata": {},
   "source": [
    "Aquí tenemos, entonces, algo nuevo: vemos que se ha imprimido valores *True* o *False*, que significan cierto o falso, respectivamente. Esto porque, hasta cierta iteración, el valor de *elemento - 5* es menor a 10. Antes de eso, la condición es falsa y se imprime *False*, mientras que después, la condición es verdadera y se imprime *True*. \n",
    "\n",
    "### Ejercicio \n",
    "Completemos el código para que también muestre cuál es el valor de *elemento - 5* y entendamos explícitamente lo que está pasando"
   ]
  },
  {
   "cell_type": "code",
   "execution_count": null,
   "metadata": {
    "collapsed": false,
    "scrolled": true
   },
   "outputs": [],
   "source": [
    "# Complete el codigo\n",
    "for elemento in arreglo:\n",
    "    ...\n",
    "    print elemento - 5 > 10"
   ]
  },
  {
   "cell_type": "markdown",
   "metadata": {},
   "source": [
    "Los datos *booleanos* nos permiten seleccionar rápidamente cierta parte de un arreglo, sin *for* e *if*, que se traduce a código más ordenado y menos tiempo de procesamiento de computador. Veamos el siguiente código y tomémonos un momento para entenderlo."
   ]
  },
  {
   "cell_type": "code",
   "execution_count": null,
   "metadata": {
    "collapsed": false,
    "scrolled": true
   },
   "outputs": [],
   "source": [
    "arreglo = np.arange(100)\n",
    "print arreglo\n",
    "par = arreglo%2 == 0\n",
    "print \"Es par? :\", par\n",
    "pares = arreglo[par]\n",
    "print \"Números pares del arreglo:\", pares"
   ]
  },
  {
   "cell_type": "markdown",
   "metadata": {},
   "source": [
    "El arreglo *par* del ejemplo de arriba está compuesto sólo por valores *True* o *False*, y es conocido como una *máscara*, que nos permite mostrar ciertos valores de un arreglo que cumplan una condición que nosotros impusimos. Así, en vez de ir mostrando los valores de un arreglo uno por uno que cumplan esa condición (con *for* e *if*), lo hacemos con una máscara. Es posible también escribir menos código, como se ve abajo, pero puede que no sea tan claro. Fíjese que los dos códigos hacen lo mismo, sólo que nos saltamos el paso de definir el arreglo *par*, que es el que usamos como máscara."
   ]
  },
  {
   "cell_type": "code",
   "execution_count": null,
   "metadata": {
    "collapsed": false
   },
   "outputs": [],
   "source": [
    "pares = arreglo[arreglo%2 == 0]\n",
    "print pares"
   ]
  },
  {
   "cell_type": "markdown",
   "metadata": {
    "collapsed": true
   },
   "source": [
    "Las condiciones que uno impone sobre estos arreglos siguen las mismas reglas básicas que aprendimos hace dos talleres, cuando aprendimos a usar *if*. Veamos si las recuerda! \n",
    "### Ejercicio \n",
    "Complete el código de abajo para generar dos nuevos arreglos:\n",
    "\n",
    "   * Uno de los números del 0 al 200, impares y divisibles por 7,\n",
    "   * Uno de los números menores de 20 o mayores que 180\n",
    "\n",
    "Imprima ambos arreglos que generó. Note que ahora usamos *&* en vez de *and*, y las condiciones deben ir entre paréntesis, al estar comparando condiciones aplicadas a **todo el arreglo** y no a cada elemento."
   ]
  },
  {
   "cell_type": "code",
   "execution_count": null,
   "metadata": {
    "collapsed": false,
    "scrolled": true
   },
   "outputs": [],
   "source": [
    "# Complete el codigo\n",
    "arreglo = np.arange(0,200)\n",
    "condicion_1 = (arreglo%2 != 0) & (...)\n",
    "nuevo_arreglo_1 = arreglo[...]\n",
    "print nuevo_arreglo_1\n",
    "..."
   ]
  },
  {
   "cell_type": "markdown",
   "metadata": {},
   "source": [
    "Ahora, entonces, revisaremos parte del ejercicio 2 del taller pasado. Vamos a partir cargando el catálogo del cúmulo de Coma:"
   ]
  },
  {
   "cell_type": "code",
   "execution_count": null,
   "metadata": {
    "collapsed": false,
    "scrolled": false
   },
   "outputs": [],
   "source": [
    "cat_url='https://raw.githubusercontent.com/rpmunoz/PentaUC/master/Astronomia%20era%20informacion/data/catalogo_SDSS_cumulo_de_coma.csv'\n",
    "cat_coma=pd.read_csv(cat_url,header=0,sep=',')\n",
    "cat_coma.head()"
   ]
  },
  {
   "cell_type": "markdown",
   "metadata": {},
   "source": [
    "### Ejercicio \n",
    "Vamos a completar el código de abajo para seleccionar de este catálogo todas las __galaxias__ con velocidades __bien medidas__, __menores a 20000 km/s__, mismas condiciones del taller pasado. "
   ]
  },
  {
   "cell_type": "code",
   "execution_count": null,
   "metadata": {
    "collapsed": true
   },
   "outputs": [],
   "source": [
    "# Complete el código\n",
    "condicion_galaxias = (...) & (cat_coma['velocidad']>0.) & (cat_coma['velocidad'] ...)\n",
    "galaxias = cat_coma[condicion_galaxias]\n",
    "galaxias.head()"
   ]
  },
  {
   "cell_type": "markdown",
   "metadata": {
    "collapsed": true
   },
   "source": [
    "Con este nuevo catálogo es más fácil trabajar al hacer gráficos, por ejemplo. Anteriormente (taller 6) trabajamos haciendo gráficos de catálogos, sólo con los miembros que cumplían cierta condición, con *for* e *if*, y era imposible hacer un histograma así. Ahora todo es mucho más fácil de hacer, sólo imponiendo la condición de más arriba."
   ]
  },
  {
   "cell_type": "code",
   "execution_count": null,
   "metadata": {
    "collapsed": false
   },
   "outputs": [],
   "source": [
    "galaxias.plot.scatter(x='u',y='g')"
   ]
  },
  {
   "cell_type": "code",
   "execution_count": null,
   "metadata": {
    "collapsed": false
   },
   "outputs": [],
   "source": [
    "galaxias['velocidad'].hist(bins=40)\n",
    "plt.xlabel('velocidad (km/s)')"
   ]
  },
  {
   "cell_type": "markdown",
   "metadata": {},
   "source": [
    "### Ejercicio \n",
    "Compare el histograma de las velocidades en la línea de visión de estas galaxias con el histograma del redshift. Constrúyalo ud. en la celda de abajo. ¿Qué le llama la atención? ¿Qué similitudes y diferencias hay?"
   ]
  },
  {
   "cell_type": "code",
   "execution_count": null,
   "metadata": {
    "collapsed": true
   },
   "outputs": [],
   "source": [
    "# Escriba acá su código"
   ]
  },
  {
   "cell_type": "markdown",
   "metadata": {},
   "source": [
    "Estos histogramas muestran que hay una relación entre las dos cantidades: una correlación, como las que habíamos estudiado antes. Uniremos este concepto con otro que revisamos muy a la rápida en el primer taller: relaciones matemáticas entre dos variables, ya que nuestra misión será encontrar esa relación matemática. Para esto, utilizaremos el código de abajo:"
   ]
  },
  {
   "cell_type": "code",
   "execution_count": null,
   "metadata": {
    "collapsed": false
   },
   "outputs": [],
   "source": [
    "p_arreglo=np.polyfit(galaxias['redshift'],galaxias['velocidad'],1)\n",
    "p=np.poly1d(p_arreglo)\n",
    "plt.scatter(galaxias['redshift'],galaxias['velocidad'],s=30,c='blue',edgecolors='none')\n",
    "plt.plot(galaxias['redshift'],p(galaxias['redshift']),'k-')\n",
    "plt.xlabel('redshift')\n",
    "plt.ylabel('velocidad (km/s)')"
   ]
  },
  {
   "cell_type": "markdown",
   "metadata": {},
   "source": [
    "Acá hay dos cosas nuevas, en las dos primeras líneas. La primera, *np.polyfit(x,y,n)* intenta ajustar un polinomio de grado *n* en función de *x* para obtener *y*. Esto entrega un arreglo, como el nombre lo dice (pruebe imprimiendo *p_arreglo* y *p* para que note la diferencia), que transformamos a un polinomio propamiente tal con la segunda línea. Así, podemos usarlo como una función y hacer *p(x)*, como se ve en la cuarta línea, donde actúa sobre un arreglo que genera los valores posibles para la variable *redshift*.\n",
    "\n",
    "Entendamos un poco de la física que hay detrás de la relación redshift - velocidad. ¿Qué información le entrega el polinomio que se ajusta a esta relación?\n",
    "### Ejercicio \n",
    "Complete el siguiente código para graficar la relación entre los colores g-r y r-i de las estrellas (seleccionadas con *condicion_estrellas*) presentes en el catálogo del cúmulo de Coma, y el polinomio que mejor represente (**a su criterio**) dicha relación. Note que ahora, para graficar la relación matemática, usamos puntos en vez de líneas. ¿Por qué?"
   ]
  },
  {
   "cell_type": "code",
   "execution_count": null,
   "metadata": {
    "collapsed": false
   },
   "outputs": [],
   "source": [
    "condicion_estrellas = (cat_coma['tipo']=='estrella') & (cat_coma['g']-cat_coma['r']<1.8) & (cat_coma['g']-cat_coma['r'] >0.5) & (cat_coma['r']-cat_coma['i']>-0.2)\n",
    "estrellas = cat_coma[condicion_estrellas]\n",
    "estrellas.head()"
   ]
  },
  {
   "cell_type": "code",
   "execution_count": null,
   "metadata": {
    "collapsed": false
   },
   "outputs": [],
   "source": [
    "# Complete el código\n",
    "gr=estrellas['g']-estrellas['r']\n",
    "ri=estrellas['r']-estrellas['i']\n",
    "p_array=np.polyfit(...,...,...)\n",
    "p=np.poly1d(p_array)\n",
    "plt.scatter(gr,ri,edgecolors='none')\n",
    "plt.plot(...,...,'k.')\n",
    "plt.xlabel('g-r')\n",
    "plt.ylabel('r-i')"
   ]
  },
  {
   "cell_type": "markdown",
   "metadata": {
    "collapsed": true
   },
   "source": [
    "Pasaremos ahora a usar un ejemplo que vimos hoy: el gran catálogo de galaxias construido con observaciones del Sloan Digital Sky Survey. Cargar el catálogo y hacer estos gráficos puede que tome algo de tiempo, dado el tamaño de este (~70 MB, ~660000 datos).\n",
    "Descargue el catálogo con el siguiente link: https://www.dropbox.com/s/gddck3gzswsslf6/SDSSspecgalsDR8.csv?dl=1&pv=1\n",
    "y ubíquelo en la misma carpeta donde tiene sus talleres."
   ]
  },
  {
   "cell_type": "code",
   "execution_count": null,
   "metadata": {
    "collapsed": false
   },
   "outputs": [],
   "source": [
    "cat_SDSS=pd.read_csv('SDSSspecgalsDR8.fits',header=0,sep=',')\n",
    "cat_SDSS.head()"
   ]
  },
  {
   "cell_type": "markdown",
   "metadata": {
    "collapsed": false
   },
   "source": [
    "### Ejercicio \n",
    "Construya un histograma de las **velocidades** de estas galaxias. Usted ya sabe cómo transformar redshift a velocidad ;-)"
   ]
  },
  {
   "cell_type": "code",
   "execution_count": null,
   "metadata": {
    "collapsed": true
   },
   "outputs": [],
   "source": [
    "# Complete el código\n",
    "velocidades_SDSS = ...\n",
    "plt.hist(...,bins=...)\n",
    "plt.xlabel('velocidad (km/s)')"
   ]
  },
  {
   "cell_type": "markdown",
   "metadata": {
    "collapsed": true
   },
   "source": [
    "Veamos cómo se ven graficadas en el cielo las galaxias:"
   ]
  },
  {
   "cell_type": "code",
   "execution_count": null,
   "metadata": {
    "collapsed": false
   },
   "outputs": [],
   "source": [
    "cat_SDSS.plot.scatter(x='ra',y='dec',s=1,lw=0,alpha=.05)"
   ]
  },
  {
   "cell_type": "markdown",
   "metadata": {},
   "source": [
    "### Ejercicio\n",
    "Incluso utilizando puntos semi-transparentes (*alpha=.05*), tenemos demasiados objetos como para entender claramente su distribución en el cielo. Intentaremos hacer varias veces este gráfico utilizando distintos rangos de redshift (puede hacerlo con rangos de velocidad si así lo desea). Para esto, siga los siguientes pasos completando el código de abajo:\n",
    "   * Haga un histograma del redshift de todas las galaxias del catálogo y decida cuáles son los intervalos de redshift relevantes para trabajar,\n",
    "   * Defina \"sub-catálogos\" que se desprendan de *cat_SDSS*, que cumplan con los intervalos de redshift que decidió en el paso anterior,\n",
    "   * Repita el gráfico *ra-dec* para cada uno de esos \"sub-catálogos\" y vea si varía la distribución.\n",
    "\n",
    "El objetivo de este ejercicio es que usted sea capaz de observar los \"filamentos\" en la estructura a gran escala que forman las galaxias en nuestro Universo."
   ]
  },
  {
   "cell_type": "code",
   "execution_count": null,
   "metadata": {
    "collapsed": false
   },
   "outputs": [],
   "source": [
    "# Complete el código\n",
    "cat_SDSS[...].hist(bins=...)\n",
    "condicion_redshift_1= (cat_SDSS[...]<...) & (...)\n",
    "subcat_SDSS_1 = ...\n",
    "subcat_SDSS_1.plot.scatter(...)"
   ]
  },
  {
   "cell_type": "code",
   "execution_count": null,
   "metadata": {
    "collapsed": true
   },
   "outputs": [],
   "source": [
    "# escriba acá su código"
   ]
  },
  {
   "cell_type": "code",
   "execution_count": null,
   "metadata": {
    "collapsed": false
   },
   "outputs": [],
   "source": [
    "# escriba acá su código"
   ]
  },
  {
   "cell_type": "code",
   "execution_count": null,
   "metadata": {
    "collapsed": true
   },
   "outputs": [],
   "source": [
    "# escriba acá su código"
   ]
  },
  {
   "cell_type": "markdown",
   "metadata": {},
   "source": [
    "### Ejercicio avanzado\n",
    "Desarrolle el ejercicio anterior utilizando un ciclo *for*."
   ]
  },
  {
   "cell_type": "code",
   "execution_count": null,
   "metadata": {
    "collapsed": true
   },
   "outputs": [],
   "source": [
    "# escriba acá su código "
   ]
  }
 ],
 "metadata": {
  "kernelspec": {
   "display_name": "Python 2",
   "language": "python",
   "name": "python2"
  },
  "language_info": {
   "codemirror_mode": {
    "name": "ipython",
    "version": 2
   },
   "file_extension": ".py",
   "mimetype": "text/x-python",
   "name": "python",
   "nbconvert_exporter": "python",
   "pygments_lexer": "ipython2",
   "version": "2.7.6"
  }
 },
 "nbformat": 4,
 "nbformat_minor": 0
}
